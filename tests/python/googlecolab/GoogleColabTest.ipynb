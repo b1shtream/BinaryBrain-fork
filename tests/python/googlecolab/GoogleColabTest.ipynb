{
 "cells": [
  {
   "cell_type": "markdown",
   "metadata": {
    "id": "tEqZp8fhz6NC"
   },
   "source": [
    "# Google Colab での使い方\r\n"
   ]
  },
  {
   "cell_type": "markdown",
   "metadata": {
    "id": "Lrm4OkDG0G-R"
   },
   "source": [
    "## ランタイムでGPUを選択\r\n",
    "\r\n",
    "まず、「ランタイム」→ 「ランタイムのタイプを変更」のハードウェアアクセラレーターで「GPU」を選びます"
   ]
  },
  {
   "cell_type": "code",
   "execution_count": null,
   "metadata": {
    "id": "Ed27VQsz0jOx"
   },
   "outputs": [],
   "source": [
    "# GoogleColab かどうか判定\r\n",
    "try:\r\n",
    "  from google.colab import drive\r\n",
    "  GoogleColab = True\r\n",
    "except ModuleNotFoundError:\r\n",
    "  GoogleColab = False"
   ]
  },
  {
   "cell_type": "markdown",
   "metadata": {
    "id": "zY3IrRUX0Kig"
   },
   "source": [
    "## 推奨の追加コマンド"
   ]
  },
  {
   "cell_type": "code",
   "execution_count": null,
   "metadata": {
    "id": "Mq6bltwoz141"
   },
   "outputs": [],
   "source": [
    "try:\r\n",
    "  import binarybrain as bb\r\n",
    "except ModuleNotFoundError:\r\n",
    "  from google.colab import drive\r\n",
    "  !pip install pybind11\r\n",
    "  !pip install binarybrain\r\n",
    "  import binarybrain as bb\r\n",
    "  import os\r\n",
    "  drive.mount('/content/drive')\r\n",
    "  work_directory = '/content/drive/My Drive/BinaryBrain'\r\n",
    "  os.makedirs(work_directory, exist_ok=True)\r\n",
    "  os.chdir(work_directory)"
   ]
  },
  {
   "cell_type": "markdown",
   "metadata": {
    "id": "8rMWAtC82LZJ"
   },
   "source": [
    "# 以降メンテナンス用コマンド"
   ]
  },
  {
   "cell_type": "markdown",
   "metadata": {
    "id": "ZN8X3PWt2FXa"
   },
   "source": [
    "## TestPyPIからのインストール"
   ]
  },
  {
   "cell_type": "code",
   "execution_count": null,
   "metadata": {
    "colab": {
     "base_uri": "https://localhost:8080/"
    },
    "id": "aeBt8Bjt12Bx",
    "outputId": "72a44a2d-2ae7-46ec-f733-ed0c270c6ff3"
   },
   "outputs": [],
   "source": [
    "!pip install pybind11\r\n",
    "!pip install --index-url https://test.pypi.org/simple/ binarybrain"
   ]
  },
  {
   "cell_type": "markdown",
   "metadata": {
    "id": "5Q7wPKS92SHh"
   },
   "source": [
    "## PyPIからのインストール"
   ]
  },
  {
   "cell_type": "code",
   "execution_count": null,
   "metadata": {
    "colab": {
     "base_uri": "https://localhost:8080/"
    },
    "id": "sR9Sklk52XHp",
    "outputId": "e44b609d-d3a0-4103-de63-5b9c29d438d8"
   },
   "outputs": [],
   "source": [
    "!pip install pybind11\r\n",
    "!pip install --index-url https://test.pypi.org/simple/ binarybrain"
   ]
  },
  {
   "cell_type": "markdown",
   "metadata": {
    "id": "MBETQjzI0PYw"
   },
   "source": [
    "## pip のアンインスール"
   ]
  },
  {
   "cell_type": "code",
   "execution_count": null,
   "metadata": {
    "colab": {
     "base_uri": "https://localhost:8080/"
    },
    "id": "aPvFXgpW0J4J",
    "outputId": "015a3fa8-0f5f-4c39-d5bd-f9f876915a37"
   },
   "outputs": [],
   "source": [
    "!pip uninstall -y binarybrain"
   ]
  },
  {
   "cell_type": "markdown",
   "metadata": {
    "id": "w4cNU8Ea0djw"
   },
   "source": [
    "## setup.py での  インストール\r\n",
    "\r\n",
    "下記の実行でインストール可能<br>\r\n",
    "インストール後に、一度「ランタイム」→「ランタイムの再起動」を選んで再起動が必要"
   ]
  },
  {
   "cell_type": "code",
   "execution_count": null,
   "metadata": {
    "id": "uigFkvnI0ePg"
   },
   "outputs": [],
   "source": [
    "try:\r\n",
    "  import binarybrain\r\n",
    "except ModuleNotFoundError:\r\n",
    "  !pip install pybind11\r\n",
    "  !git clone -b ver4_release  https://github.com/ryuz/BinaryBrain.git\r\n",
    "  %cd BinaryBrain\r\n",
    "  !python3 setup.py install --user\r\n",
    "  sys.exit()  # please reboot runtime"
   ]
  },
  {
   "cell_type": "markdown",
   "metadata": {
    "id": "arkdBaoL36Wx"
   },
   "source": [
    "developインストールの場合"
   ]
  },
  {
   "cell_type": "code",
   "execution_count": null,
   "metadata": {
    "id": "oJdBNMHZ34ZS"
   },
   "outputs": [],
   "source": [
    "try:\r\n",
    "  import binarybrain\r\n",
    "except ModuleNotFoundError:\r\n",
    "  %cd /content\r\n",
    "  !rm -fr BinaryBrain\r\n",
    "  !pip install pybind11\r\n",
    "  !git clone -b ver4_release  https://github.com/ryuz/BinaryBrain.git\r\n",
    "  %cd BinaryBrain\r\n",
    "  !python3 setup.py develop\r\n",
    "  sys.exit()  # please reboot runtime"
   ]
  },
  {
   "cell_type": "markdown",
   "metadata": {
    "id": "USvMlvZR2oe7"
   },
   "source": [
    "## GoogleDrive のマウント"
   ]
  },
  {
   "cell_type": "code",
   "execution_count": null,
   "metadata": {
    "id": "ZkZmhYNQ2p50"
   },
   "outputs": [],
   "source": [
    "import os\r\n",
    "from google.colab import drive\r\n",
    "drive.mount('/content/drive')\r\n",
    "work_directory = '/content/drive/My Drive/BinaryBrain'\r\n",
    "os.makedirs(work_directory, exist_ok=True)\r\n",
    "os.chdir(work_directory)"
   ]
  },
  {
   "cell_type": "markdown",
   "metadata": {
    "id": "ATKbaLD225QB"
   },
   "source": [
    "## バージョン確認"
   ]
  },
  {
   "cell_type": "code",
   "execution_count": null,
   "metadata": {
    "colab": {
     "base_uri": "https://localhost:8080/"
    },
    "id": "nJpR14nO24Qq",
    "outputId": "55757a97-e296-4c72-98b9-1826811135ea"
   },
   "outputs": [],
   "source": [
    "# import\r\n",
    "import binarybrain as bb\r\n",
    "\r\n",
    "# バージョン表示\r\n",
    "bb_version = bb.get_version_string()\r\n",
    "print('BinaryBrain ver : %s'%bb_version)\r\n",
    "\r\n",
    "# 利用可能なGPUの個数\r\n",
    "device_count = bb.get_device_count()\r\n",
    "print('GPU count : %d\\n' % device_count)\r\n",
    "\r\n",
    "# GPU情報の表示\r\n",
    "for i in range(device_count):\r\n",
    "  print('[GPU<%d> Properties]'%i)\r\n",
    "  print(bb.get_device_properties_string(i))"
   ]
  },
  {
   "cell_type": "markdown",
   "metadata": {
    "id": "ZFK4s3dk3dFS"
   },
   "source": [
    "## 簡単な学習確認"
   ]
  },
  {
   "cell_type": "code",
   "execution_count": null,
   "metadata": {
    "colab": {
     "base_uri": "https://localhost:8080/",
     "height": 284,
     "referenced_widgets": [
      "1668365ad7254f3ca6f1ec4e9d73c96c",
      "744656b7f05d40c4b97820ca08658a23",
      "bdf96f2b642e4624afd2b64aa0e838a4",
      "0b7989e8b0d44abaaa233f620a2b89d8",
      "9a7e4589cc744abfab7c8fe619223506",
      "3d5613b07c9f41ada7ef47d706b0bf32",
      "07f67bcfecdd41d2b6c305b0bc628ec4",
      "0b4b0ee0120342bdaf38bc72e560a36d",
      "68f43082576a44dab1938383c4575fe6",
      "c72adc7150434a9e80ecba17c244b510",
      "72a2bc5a909546fd9eaed342abcc404c",
      "387e18b7ccb74b0a8c870c1c720b5e90",
      "7675eb4476824483a2208c25fd4af6c3",
      "4590147263274282ab3951df119baa78",
      "71e3fdc01cee49e3a34be439583db700",
      "1f041b98ce904a67a020ff8369661ef5",
      "cc11b6352e014fb2b0cf7f4c75dbd83f",
      "f8db9383bf5544208a2ae381fca0b9d7",
      "3e3db009ee5949bfb1ac78e073ea88e2",
      "d16458192b1a49aca070272afa917272",
      "bad30287b80e44938601fa9a8359f0de",
      "67c62d710d434ed596767680fdfa8377",
      "ea50a47938e44aa88ba54c54455986e9",
      "49e0ea9f20af4327a78805f6e66889df",
      "e2a700022f39464da542f9ebafbf8e10",
      "76806f599efb41649d56825d3e2ee517",
      "afbc5d13091f47eebfc41c155b0eed1d",
      "e5de084474be452ca499edb04cb8012c",
      "3dc1ad59506f4be7bce4a17e2dc79913",
      "6a96d12b49af46f1a3e4e6dc246957f4",
      "bba2dcf33cfa4810839dd56f66f32e83",
      "36f1690e288a4317ba14edf7402f46c2"
     ]
    },
    "id": "JI2h3FPW24sd",
    "outputId": "35f74140-a222-4d97-9f95-2a4e7bab7f62"
   },
   "outputs": [],
   "source": [
    "import os\r\n",
    "import shutil\r\n",
    "import numpy as np\r\n",
    "from tqdm.notebook import tqdm\r\n",
    "\r\n",
    "import torch\r\n",
    "import torchvision\r\n",
    "import torchvision.transforms as transforms\r\n",
    "\r\n",
    "import binarybrain as bb\r\n",
    "\r\n",
    "# configuration\r\n",
    "data_path             = './data/'\r\n",
    "net_name              = 'MnistDifferentiableLutSimple'\r\n",
    "data_path             = os.path.join('./data/', net_name)\r\n",
    "rtl_sim_path          = '../../verilog/mnist'\r\n",
    "rtl_module_name       = 'MnistLutSimple'\r\n",
    "output_velilog_file   = os.path.join(data_path, net_name + '.v')\r\n",
    "sim_velilog_file      = os.path.join(rtl_sim_path, rtl_module_name + '.v')\r\n",
    "\r\n",
    "epochs                = 4\r\n",
    "mini_batch_size       = 64\r\n",
    "frame_modulation_size = 15\r\n",
    "\r\n",
    "# dataset\r\n",
    "dataset_path = './data/'\r\n",
    "dataset_train = torchvision.datasets.MNIST(root=dataset_path, train=True, transform=transforms.ToTensor(), download=True)\r\n",
    "dataset_test  = torchvision.datasets.MNIST(root=dataset_path, train=False, transform=transforms.ToTensor(), download=True)\r\n",
    "loader_train = torch.utils.data.DataLoader(dataset=dataset_train, batch_size=mini_batch_size, shuffle=True, num_workers=2)\r\n",
    "loader_test  = torch.utils.data.DataLoader(dataset=dataset_test,  batch_size=mini_batch_size, shuffle=False, num_workers=2)\r\n",
    "\r\n",
    "# define network\r\n",
    "net = bb.Sequential([\r\n",
    "            bb.RealToBinary(frame_modulation_size=frame_modulation_size),\r\n",
    "            bb.DifferentiableLut([1024]),\r\n",
    "            bb.DifferentiableLut([420]),\r\n",
    "            bb.DifferentiableLut([70]),\r\n",
    "            bb.Reduce([10]),\r\n",
    "            bb.BinaryToReal(frame_integration_size=frame_modulation_size)\r\n",
    "        ])\r\n",
    "net.set_input_shape([1, 28, 28])\r\n",
    "\r\n",
    "net.send_command(\"binary true\")\r\n",
    "\r\n",
    "loss      = bb.LossSoftmaxCrossEntropy()\r\n",
    "metrics   = bb.MetricsCategoricalAccuracy()\r\n",
    "optimizer = bb.OptimizerAdam()\r\n",
    "\r\n",
    "optimizer.set_variables(net.get_parameters(), net.get_gradients())\r\n",
    "\r\n",
    "# load\r\n",
    "bb.load_networks(data_path, net)\r\n",
    "\r\n",
    "# learning\r\n",
    "for epoch in range(epochs):\r\n",
    "    # learning\r\n",
    "    loss.clear()\r\n",
    "    metrics.clear()\r\n",
    "    with tqdm(loader_train) as t:\r\n",
    "        for images, labels in t:\r\n",
    "            x_buf = bb.FrameBuffer.from_numpy(np.array(images).astype(np.float32))\r\n",
    "            t_buf = bb.FrameBuffer.from_numpy(np.identity(10)[np.array(labels)].astype(np.float32))\r\n",
    "\r\n",
    "            y_buf = net.forward(x_buf, train=True)\r\n",
    "            \r\n",
    "            dy_buf = loss.calculate(y_buf, t_buf)\r\n",
    "            metrics.calculate(y_buf, t_buf)\r\n",
    "            \r\n",
    "            net.backward(dy_buf)\r\n",
    "\r\n",
    "            optimizer.update()\r\n",
    "            \r\n",
    "            t.set_postfix(loss=loss.get(), acc=metrics.get())\r\n",
    "\r\n",
    "    # test\r\n",
    "    loss.clear()\r\n",
    "    metrics.clear()\r\n",
    "    for images, labels in loader_test:\r\n",
    "        x_buf = bb.FrameBuffer.from_numpy(np.array(images).astype(np.float32))\r\n",
    "        t_buf = bb.FrameBuffer.from_numpy(np.identity(10)[np.array(labels)].astype(np.float32))\r\n",
    "\r\n",
    "        y_buf = net.forward(x_buf, train=False)\r\n",
    "\r\n",
    "        loss.calculate(y_buf, t_buf)\r\n",
    "        metrics.calculate(y_buf, t_buf)\r\n",
    "\r\n",
    "    print('epoch[%d] : loss=%f accuracy=%f' % (epoch, loss.get(), metrics.get()))\r\n",
    "\r\n",
    "    bb.save_networks(data_path, net, backups=3)"
   ]
  },
  {
   "cell_type": "code",
   "execution_count": null,
   "metadata": {
    "id": "AqAW5_-E3a9_"
   },
   "outputs": [],
   "source": []
  }
 ],
 "metadata": {
  "accelerator": "GPU",
  "colab": {
   "collapsed_sections": [],
   "name": "GoogleColabTest.ipynb",
   "provenance": []
  },
  "kernelspec": {
   "display_name": "Python 3",
   "name": "python3"
  }
 },
 "nbformat": 4,
 "nbformat_minor": 0
}
