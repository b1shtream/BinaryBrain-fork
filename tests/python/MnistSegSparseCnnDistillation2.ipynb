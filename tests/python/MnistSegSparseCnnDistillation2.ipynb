{
 "cells": [
  {
   "cell_type": "code",
   "execution_count": 1,
   "metadata": {},
   "outputs": [],
   "source": [
    "google_colab = False"
   ]
  },
  {
   "cell_type": "markdown",
   "metadata": {
    "colab_type": "text",
    "id": "atEZew4ESgqb"
   },
   "source": [
    "# Google Colab用事前準備"
   ]
  },
  {
   "cell_type": "code",
   "execution_count": 2,
   "metadata": {},
   "outputs": [],
   "source": [
    "# install\n",
    "try:\n",
    "    import binarybrain as bb\n",
    "except:\n",
    "    if google_colab and False:\n",
    "        !pip install pybind11\n",
    "        %cd /content\n",
    "        !nvcc -V\n",
    "        !sudo rm -fr BinaryBrain\n",
    "        !rm -fr BinaryBrain\n",
    "        !git clone --recursive -b ver3_develop https://github.com/ryuz/BinaryBrain.git\n",
    "        %cd /content/BinaryBrain/python\n",
    "        !sh copy_src.sh\n",
    "        !python3 setup.py build\n",
    "        !python3 setup.py develop\n",
    "\n",
    "        import binarybrain as bb"
   ]
  },
  {
   "cell_type": "code",
   "execution_count": 3,
   "metadata": {},
   "outputs": [],
   "source": [
    "# mount\n",
    "if google_colab:\n",
    "  from google.colab import drive \n",
    "  drive.mount('/content/drive')\n",
    "  %cd /content/drive/My Drive/git-work/BinaryBrain_ver3_develop/tests/python"
   ]
  },
  {
   "cell_type": "code",
   "execution_count": 4,
   "metadata": {},
   "outputs": [],
   "source": [
    "device = 0\n",
    "\n",
    "import binarybrain as bb\n",
    "\n",
    "import importlib\n",
    "importlib.reload(bb)\n",
    "\n",
    "bb.set_device(device)\n",
    "#prop = bb.get_device_properties(device)\n",
    "#print(prop)"
   ]
  },
  {
   "cell_type": "markdown",
   "metadata": {
    "colab_type": "text",
    "id": "0L3nSwtTUK_z"
   },
   "source": [
    "# メインコード"
   ]
  },
  {
   "cell_type": "code",
   "execution_count": 5,
   "metadata": {},
   "outputs": [],
   "source": [
    "import binarybrain as bb\n",
    "import numpy as np\n",
    "import os\n",
    "import sys\n",
    "import matplotlib.pyplot as plt\n",
    "from tqdm import tqdm\n",
    "from collections import OrderedDict"
   ]
  },
  {
   "cell_type": "code",
   "execution_count": 6,
   "metadata": {},
   "outputs": [],
   "source": [
    "def make_test_image(src_x, src_t):\n",
    "    dst_x = np.ndarray((len(src_x),  1, 28, 28), dtype=np.float32)\n",
    "    dst_t = np.ndarray((len(src_x), 11, 28, 28), dtype=np.float32)\n",
    "    for i in range(len(src_x)):\n",
    "        x_img = src_x[i].copy()\n",
    "        t_img = np.zeros((11, 28*28), dtype=np.float32)\n",
    "        mask0 = x_img <= 0.5\n",
    "        mask1 = x_img > 0.5\n",
    "        for j in range(10):\n",
    "          t_img[j,mask1] = src_t[i][j]\n",
    "        t_img[10,mask0] = 1.0\n",
    "        dst_x[i] = x_img.reshape(1, 28, 28)\n",
    "        dst_t[i] = t_img.reshape(11, 28, 28)\n",
    "    return dst_x, dst_t"
   ]
  },
  {
   "cell_type": "code",
   "execution_count": 7,
   "metadata": {},
   "outputs": [],
   "source": [
    "def make_test_data(src_x, src_t):\n",
    "    x, t = make_test_image(src_x, src_t)\n",
    "\n",
    "    dst_x = np.ndarray((len(src_x) // 4,  1*56*56), dtype=np.float32)\n",
    "    dst_t = np.ndarray((len(src_x) // 4, 11*56*56), dtype=np.float32)\n",
    "    for i in range(len(x) // 4):\n",
    "        x_img = np.hstack((np.dstack((x[i*4+0], x[i*4+1])), np.dstack((x[i*4+2], x[i*4+3]))))\n",
    "        t_img = np.hstack((np.dstack((t[i*4+0], t[i*4+1])), np.dstack((t[i*4+2], t[i*4+3]))))\n",
    "        dst_x[i] = x_img.reshape(-1)\n",
    "        dst_t[i] = t_img.reshape(-1)\n",
    "    return dst_x, dst_t"
   ]
  },
  {
   "cell_type": "code",
   "execution_count": 8,
   "metadata": {},
   "outputs": [],
   "source": [
    "# load MNIST data\n",
    "td = bb.load_mnist()\n",
    "\n",
    "td['x_train'], td['t_train'] = make_test_data(td['x_train'], td['t_train'])\n",
    "td['x_test'],  td['t_test']  = make_test_data(td['x_test'], td['t_test'])\n",
    "td['x_shape'] = [56, 56, 1]\n",
    "td['t_shape'] = [56, 56, 11]"
   ]
  },
  {
   "cell_type": "code",
   "execution_count": 9,
   "metadata": {},
   "outputs": [
    {
     "data": {
      "text/plain": [
       "<matplotlib.image.AxesImage at 0x1ff5b285248>"
      ]
     },
     "execution_count": 9,
     "metadata": {},
     "output_type": "execute_result"
    },
    {
     "data": {
      "image/png": "[encoded data removed]",
      "text/plain": [
       "<Figure size 432x288 with 6 Axes>"
      ]
     },
     "metadata": {
      "needs_background": "light"
     },
     "output_type": "display_data"
    }
   ],
   "source": [
    "plt.subplot(161)\n",
    "plt.imshow(td['x_train'][0].reshape(56, 56), 'gray')\n",
    "plt.subplot(162)\n",
    "plt.imshow(td['t_train'][0].reshape(11, 56, 56)[5], 'gray')\n",
    "plt.subplot(163)\n",
    "plt.imshow(td['t_train'][0].reshape(11, 56, 56)[0], 'gray')\n",
    "plt.subplot(164)\n",
    "plt.imshow(td['t_train'][0].reshape(11, 56, 56)[4], 'gray')\n",
    "plt.subplot(165)\n",
    "plt.imshow(td['t_train'][0].reshape(11, 56, 56)[1], 'gray')\n",
    "plt.subplot(166)\n",
    "plt.imshow(td['t_train'][0].reshape(11, 56, 56)[10], 'gray')"
   ]
  },
  {
   "cell_type": "code",
   "execution_count": 10,
   "metadata": {},
   "outputs": [],
   "source": [
    "color_table = [\n",
    "    [0xe6, 0x00, 0x12],  # 0\n",
    "    [0x92, 0x07, 0x83],  # 1\n",
    "    [0x1d, 0x20, 0x88],  # 2\n",
    "    [0x00, 0x68, 0xb7],  # 3\n",
    "    [0x00, 0xa0, 0xe9],  # 4\n",
    "    [0x00, 0x9e, 0x96],  # 5\n",
    "    [0x00, 0x99, 0x44],  # 6\n",
    "    [0x8f, 0xc3, 0x1f],  # 7\n",
    "    [0xff, 0xf1, 0x00],  # 8\n",
    "    [0xf3, 0x98, 0x00],  # 9\n",
    "    [0x00, 0x00, 0x00],  # BGC\n",
    "]\n",
    "\n",
    "def frame_to_image(frame):\n",
    "    idx_img = np.argmax(frame, axis=0)\n",
    "    rgb_img = np.ndarray((idx_img.shape[0], idx_img.shape[1], 3), dtype=np.uint8)\n",
    "    for y in range(idx_img.shape[1]):\n",
    "        for x in range(idx_img.shape[0]):\n",
    "            rgb_img[y][x] = color_table[idx_img[y][x]]\n",
    "    return rgb_img"
   ]
  },
  {
   "cell_type": "code",
   "execution_count": 11,
   "metadata": {},
   "outputs": [
    {
     "data": {
      "text/plain": [
       "<matplotlib.image.AxesImage at 0x1ff5b3ffbc8>"
      ]
     },
     "execution_count": 11,
     "metadata": {},
     "output_type": "execute_result"
    },
    {
     "data": {
      "image/png": "[encoded data removed]",
      "text/plain": [
       "<Figure size 432x288 with 1 Axes>"
      ]
     },
     "metadata": {
      "needs_background": "light"
     },
     "output_type": "display_data"
    }
   ],
   "source": [
    "plt.imshow(frame_to_image(td['t_train'][0].reshape(11, 56, 56)))"
   ]
  },
  {
   "cell_type": "markdown",
   "metadata": {
    "colab_type": "text",
    "id": "4QwnWXYWJjlv"
   },
   "source": [
    "# ネットワーク構築"
   ]
  },
  {
   "cell_type": "code",
   "execution_count": 12,
   "metadata": {},
   "outputs": [],
   "source": [
    "data_path = 'MnistSegSparseCnnDistillation2'\n",
    "os.makedirs(data_path, exist_ok=True)\n",
    "network_name = 'mnist-seg-sparse-cnn-distillation2'\n",
    "\n",
    "ref_affine_list = []\n",
    "ref_norm_list   = []\n",
    "target_lut_list = []\n",
    "\n",
    "def clear_list():\n",
    "    ref_affine_list.clear()\n",
    "    ref_norm_list.clear()\n",
    "    target_lut_list.clear()\n",
    "\n",
    "def save_model_list(model_list, name, path='.'):\n",
    "    os.makedirs(os.path.join(data_path, path), exist_ok=True)\n",
    "    for i, model in enumerate(model_list):\n",
    "        model.save_json(os.path.join(data_path, path, '%s_%d.json' % (name, i)))\n",
    "\n",
    "def load_model_list(model_list, name, path='.'):\n",
    "    for i, model in enumerate(model_list):\n",
    "        filename = os.path.join(data_path, path, '%s_%d.json' % (name, i))\n",
    "        if not os.path.exists(filename):\n",
    "            return False\n",
    "        model.load_json(filename)\n",
    "    return True\n",
    "\n",
    "def save_all_model(path='.'):\n",
    "    save_model_list(ref_affine_list, 'ref_affine',    path)\n",
    "    save_model_list(ref_norm_list,   'ref_norm_list', path)\n",
    "    save_model_list(target_lut_list, 'target_lut',    path)\n",
    "    \n",
    "def load_all_model(path='.'):\n",
    "    if not load_model_list(ref_affine_list, 'ref_affine',    path): return False\n",
    "    if not load_model_list(ref_norm_list,   'ref_norm_list', path): return False\n",
    "    if not load_model_list(target_lut_list, 'target_lut',    path): return False\n",
    "    return True\n",
    "\n",
    "def make_common_layer(model):\n",
    "    layer = {}\n",
    "    layer['type']   = 'common'\n",
    "    layer['select'] = 'common'\n",
    "    layer['common'] = model\n",
    "    return layer    \n",
    "\n",
    "def make_cnv_layer(ch_size, w=3, h=3, lut_size=2, connection='random', padding='same'):\n",
    "    # setup infomation\n",
    "    layer = {}\n",
    "    layer['type']            = 'convolution'\n",
    "    layer['select']          = 'ref'\n",
    "    layer['connection']      = connection\n",
    "    layer['target_lut_size'] = 2\n",
    "    \n",
    "    layer['ref_affine'] = bb.DenseAffine.create([ch_size])\n",
    "    layer['ref_norm']   = bb.BatchNormalization.create()\n",
    "    layer['ref_act']    = bb.ReLU.create()\n",
    "    \n",
    "    layer['lut_size'] = lut_size\n",
    "    for i in range(lut_size):\n",
    "        layer['target_lut%d' % i] = bb.SparseLut6.create([ch_size*(6**i)])\n",
    "    \n",
    "    # save\n",
    "    ref_affine_list.append(layer['ref_affine'])\n",
    "    ref_norm_list.append(layer['ref_norm'])\n",
    "    for i in range(lut_size-1, -1, -1):\n",
    "        target_lut_list.append(layer['target_lut%d' % i])\n",
    "    \n",
    "    # make network\n",
    "    ref_subnet =  bb.Sequential.create()\n",
    "    ref_subnet.add(layer['ref_affine'])\n",
    "    ref_subnet.add(layer['ref_norm'])\n",
    "    ref_subnet.add(layer['ref_act'])\n",
    "    layer['ref'] = bb.LoweringConvolution.create(ref_subnet, w, h, 1, 1, padding=padding)\n",
    "    \n",
    "    target_subnet = bb.Sequential.create()\n",
    "    for i in range(lut_size-1, -1, -1):\n",
    "        target_subnet.add(layer['target_lut%d' % i])\n",
    "    layer['target'] = bb.LoweringConvolution.create(target_subnet, w, h, 1, 1, padding=padding)\n",
    "    \n",
    "    return layer\n",
    "\n",
    "def build_net(layer_list):\n",
    "    net = bb.Sequential.create()\n",
    "    for layer in layer_list:\n",
    "        net.add(layer[layer['select']])\n",
    "    return net"
   ]
  },
  {
   "cell_type": "code",
   "execution_count": 13,
   "metadata": {},
   "outputs": [],
   "source": [
    "# build network\n",
    "modulation_size = 3\n",
    "layer_rel2bin = bb.RealToBinary.create(modulation_size, framewise=True)\n",
    "layer_bin2rel = bb.BinaryToReal.create(modulation_size)\n",
    "\n",
    "clear_list()\n",
    "layer_list = []\n",
    "layer_list.append(make_common_layer(layer_rel2bin))\n",
    "for _ in range(27):\n",
    "    layer_list.append(make_cnv_layer(32, 3, 3))\n",
    "layer_list.append(make_cnv_layer(11, 1, 1))\n",
    "layer_list.append(make_common_layer(layer_bin2rel))"
   ]
  },
  {
   "cell_type": "code",
   "execution_count": 14,
   "metadata": {},
   "outputs": [],
   "source": [
    "main_net = build_net(layer_list)\n",
    "main_net.set_input_shape(td['x_shape'])\n",
    "main_net.send_command('binary true')"
   ]
  },
  {
   "cell_type": "code",
   "execution_count": 15,
   "metadata": {},
   "outputs": [],
   "source": [
    "for layer in layer_list:\n",
    "    if layer['type'] != 'common':\n",
    "        layer['target'].set_input_shape(layer['ref'].get_input_shape())"
   ]
  },
  {
   "cell_type": "code",
   "execution_count": 16,
   "metadata": {},
   "outputs": [],
   "source": [
    "def plot_image(net, td):\n",
    "    x_buf = bb.FrameBuffer()\n",
    "    x_buf.resize(16, td['x_shape'])\n",
    "    x_buf.set_data(td['x_test'][0:16])\n",
    "    y_buf = net.forward(x_buf, False)\n",
    "\n",
    "    data = y_buf.get_data(0)\n",
    "\n",
    "    frame = np.array(data[0]).reshape(56, 56, -1)\n",
    "    plt.imshow(frame_to_image(frame.reshape(11, 56, 56)))\n",
    "    plt.show()"
   ]
  },
  {
   "cell_type": "code",
   "execution_count": 17,
   "metadata": {},
   "outputs": [
    {
     "name": "stdout",
     "output_type": "stream",
     "text": [
      "OK\n"
     ]
    }
   ],
   "source": [
    "loaded = load_all_model('base')\n",
    "if not loaded:\n",
    "#if True:\n",
    "    print(main_net.get_info())\n",
    "\n",
    "    # train\n",
    "    loss      = bb.LossSoftmaxCrossEntropy.create()\n",
    "    metrics   = bb.MetricsCategoricalAccuracy.create()\n",
    "    optimizer = bb.OptimizerAdam.create()\n",
    "    optimizer.set_variables(main_net.get_parameters(), main_net.get_gradients())\n",
    "    \n",
    "    runner = bb.Runner(main_net, network_name, loss, metrics, optimizer)\n",
    "    runner.fitting(td, epoch_size=8, mini_batch_size=32, file_write=False, file_read=False)\n",
    "\n",
    "    save_all_model('base')\n",
    "    plot_image(main_net, td)\n",
    "    \n",
    "else:\n",
    "    print('OK')"
   ]
  },
  {
   "cell_type": "code",
   "execution_count": 18,
   "metadata": {},
   "outputs": [],
   "source": [
    "for layer in layer_list:\n",
    "    if layer['type'] != 'common':\n",
    "        layer['target'].set_input_shape(layer['ref'].get_input_shape())"
   ]
  },
  {
   "cell_type": "code",
   "execution_count": 19,
   "metadata": {},
   "outputs": [],
   "source": [
    "#save_all_model('base')"
   ]
  },
  {
   "cell_type": "code",
   "execution_count": 20,
   "metadata": {},
   "outputs": [
    {
     "data": {
      "image/png": "[encoded data removed]",
      "text/plain": [
       "<Figure size 432x288 with 1 Axes>"
      ]
     },
     "metadata": {
      "needs_background": "light"
     },
     "output_type": "display_data"
    }
   ],
   "source": [
    "plot_image(main_net, td)"
   ]
  },
  {
   "cell_type": "code",
   "execution_count": 21,
   "metadata": {},
   "outputs": [],
   "source": [
    "def distillation_layer(layer):\n",
    "    if layer['type'] != 'convolution':\n",
    "        return False\n",
    "    \n",
    "    if layer['lut_size'] == 2:\n",
    "        ref_affine  = layer['ref_affine']\n",
    "        target_lut0 = layer['target_lut0']\n",
    "        target_lut1 = layer['target_lut1']\n",
    "\n",
    "        tensorW = layer['ref_affine'].W()\n",
    "        W = np.array(tensorW.get_data()).reshape(tensorW.get_shape()[::-1])\n",
    "        idx = np.argsort(-np.abs(W), axis=1)\n",
    "        \n",
    "        print(idx.shape)\n",
    "        \n",
    "        # Weight順で接続\n",
    "        lut0_input_node_size  = target_lut0.get_input_node_size()\n",
    "        lut0_output_node_size = target_lut0.get_output_node_size()\n",
    "        for i in range(lut0_output_node_size):\n",
    "            for j in range(6):\n",
    "                target_lut0.set_connection_index([i], j, (i*6+j) % lut0_input_node_size)\n",
    "\n",
    "        lut1_input_node_size  = target_lut1.get_input_node_size()\n",
    "        lut1_output_node_size = target_lut1.get_output_node_size()\n",
    "        for i in range(lut0_output_node_size):\n",
    "            for j in range(6):\n",
    "                for k in range(6):\n",
    "                    target_lut1.set_connection_index([i*6+j], k, idx[i][(j*6+k) % lut1_input_node_size])\n",
    "    \n",
    "    layer['select'] = 'target'\n",
    "    return True"
   ]
  },
  {
   "cell_type": "code",
   "execution_count": 22,
   "metadata": {},
   "outputs": [
    {
     "name": "stdout",
     "output_type": "stream",
     "text": [
      "0\n",
      "1\n",
      "(32, 9)\n",
      "2\n",
      "(32, 288)\n",
      "3\n",
      "(32, 288)\n",
      "4\n",
      "(32, 288)\n",
      "5\n",
      "(32, 288)\n",
      "6\n",
      "(32, 288)\n",
      "7\n",
      "(32, 288)\n",
      "8\n",
      "(32, 288)\n",
      "9\n",
      "(32, 288)\n",
      "10\n",
      "(32, 288)\n",
      "11\n",
      "(32, 288)\n",
      "12\n",
      "(32, 288)\n",
      "13\n",
      "(32, 288)\n",
      "14\n",
      "(32, 288)\n",
      "15\n",
      "(32, 288)\n",
      "16\n",
      "(32, 288)\n",
      "17\n",
      "(32, 288)\n",
      "18\n",
      "(32, 288)\n",
      "19\n",
      "(32, 288)\n",
      "20\n",
      "(32, 288)\n",
      "21\n",
      "(32, 288)\n",
      "22\n",
      "(32, 288)\n",
      "23\n",
      "(32, 288)\n",
      "24\n",
      "(32, 288)\n",
      "25\n",
      "(32, 288)\n",
      "26\n",
      "(32, 288)\n",
      "27\n",
      "(32, 288)\n",
      "28\n",
      "(11, 32)\n",
      "29\n"
     ]
    }
   ],
   "source": [
    "# train\n",
    "if True:\n",
    "    for i in range(len(layer_list)):\n",
    "        print(i)\n",
    "        if distillation_layer(layer_list[i]):\n",
    "            loaded = load_all_model('%03d' % i)\n",
    "            if not loaded: \n",
    "#           if True:\n",
    "                # 追加分\n",
    "                main_net = build_net(layer_list)\n",
    "                main_net.set_input_shape(td['x_shape'])\n",
    "                main_net.send_command('binary true')\n",
    "                \n",
    "                main_net.send_command('parameter_lock true')\n",
    "                layer_list[i]['target'].send_command('parameter_lock false')\n",
    "                \n",
    "                print(main_net.get_info())\n",
    "\n",
    "                loss      = bb.LossSoftmaxCrossEntropy.create()\n",
    "                metrics   = bb.MetricsCategoricalAccuracy.create()\n",
    "                optimizer = bb.OptimizerAdam.create()\n",
    "                optimizer.set_variables(main_net.get_parameters(), main_net.get_gradients())\n",
    "\n",
    "                runner = bb.Runner(main_net, network_name, loss, metrics, optimizer)\n",
    "                runner.fitting(td, epoch_size=2, mini_batch_size=24, file_write=False, file_read=False)\n",
    "\n",
    "                save_all_model('%03d' % i)\n",
    "\n",
    "                plot_image(main_net, td)\n",
    "                \n",
    "                # all\n",
    "                if False:\n",
    "                    main_net.send_command('parameter_lock false')\n",
    "\n",
    "                    loss      = bb.LossSoftmaxCrossEntropy.create()\n",
    "                    metrics   = bb.MetricsCategoricalAccuracy.create()\n",
    "                    optimizer = bb.OptimizerAdam.create()\n",
    "                    optimizer.set_variables(main_net.get_parameters(), main_net.get_gradients())\n",
    "\n",
    "                    runner = bb.Runner(main_net, network_name, loss, metrics, optimizer)\n",
    "                    runner.fitting(td, epoch_size=2, mini_batch_size=32, file_write=False, file_read=False)\n",
    "\n",
    "                    save_all_model('%03d' % i)\n",
    "\n",
    "                    plot_image(main_net, td)\n"
   ]
  },
  {
   "cell_type": "code",
   "execution_count": 23,
   "metadata": {},
   "outputs": [],
   "source": [
    "save_all_model()"
   ]
  },
  {
   "cell_type": "code",
   "execution_count": 24,
   "metadata": {},
   "outputs": [
    {
     "name": "stderr",
     "output_type": "stream",
     "text": [
      "                                                                                                                       \r"
     ]
    },
    {
     "name": "stdout",
     "output_type": "stream",
     "text": [
      "epoch=1 test_accuracy=0.808233 test_loss=5408.195260 train_accuracy=0.809263 train_loss=5409.304788\n"
     ]
    },
    {
     "name": "stderr",
     "output_type": "stream",
     "text": [
      "                                                                                                                       \r"
     ]
    },
    {
     "name": "stdout",
     "output_type": "stream",
     "text": [
      "epoch=2 test_accuracy=0.808888 test_loss=5377.874343 train_accuracy=0.809111 train_loss=5382.240108\n"
     ]
    }
   ],
   "source": [
    "main_net = build_net(layer_list)\n",
    "main_net.set_input_shape(td['x_shape'])\n",
    "main_net.send_command('binary true')\n",
    "main_net.send_command('parameter_lock false')\n",
    "                \n",
    "loss      = bb.LossSoftmaxCrossEntropy.create()\n",
    "metrics   = bb.MetricsCategoricalAccuracy.create()\n",
    "optimizer = bb.OptimizerAdam.create()\n",
    "optimizer.set_variables(main_net.get_parameters(), main_net.get_gradients())\n",
    "\n",
    "runner = bb.Runner(main_net, network_name, loss, metrics, optimizer)\n",
    "runner.fitting(td, epoch_size=2, mini_batch_size=8, file_write=False, file_read=False)\n"
   ]
  },
  {
   "cell_type": "code",
   "execution_count": 25,
   "metadata": {},
   "outputs": [],
   "source": [
    "save_all_model('refine1')"
   ]
  },
  {
   "cell_type": "code",
   "execution_count": 26,
   "metadata": {},
   "outputs": [
    {
     "data": {
      "image/png": "[encoded data removed]",
      "text/plain": [
       "<Figure size 432x288 with 1 Axes>"
      ]
     },
     "metadata": {
      "needs_background": "light"
     },
     "output_type": "display_data"
    }
   ],
   "source": [
    "plot_image(main_net, td)"
   ]
  },
  {
   "cell_type": "code",
   "execution_count": null,
   "metadata": {},
   "outputs": [],
   "source": []
  }
 ],
 "metadata": {
  "accelerator": "GPU",
  "colab": {
   "collapsed_sections": [
    "4QwnWXYWJjlv",
    "Up4x62b_QeBb",
    "v6jCPBVkQ35e"
   ],
   "name": "MnistDenseCnnBinaryDistillation_3.ipynb のコピー",
   "provenance": [
    {
     "file_id": "1dHu4WWzQncOg4n-Ry5_WdbXu_Op_OnEw",
     "timestamp": 1578184614562
    },
    {
     "file_id": "1paWRkK21-4cW_63XPXERz81_mYT-Jlhq",
     "timestamp": 1577861549996
    },
    {
     "file_id": "1ZAjEkX4ri4NzwoZdszTl5JgKGGUouulH",
     "timestamp": 1577843841402
    }
   ]
  },
  "file_extension": ".py",
  "kernelspec": {
   "display_name": "Python 3",
   "language": "python",
   "name": "python3"
  },
  "language_info": {
   "codemirror_mode": {
    "name": "ipython",
    "version": 3
   },
   "file_extension": ".py",
   "mimetype": "text/x-python",
   "name": "python",
   "nbconvert_exporter": "python",
   "pygments_lexer": "ipython3",
   "version": "3.7.4"
  },
  "mimetype": "text/x-python",
  "name": "python",
  "npconvert_exporter": "python",
  "pygments_lexer": "ipython3",
  "version": 3
 },
 "nbformat": 4,
 "nbformat_minor": 1
}
