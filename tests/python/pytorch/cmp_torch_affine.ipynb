{
 "cells": [
  {
   "cell_type": "code",
   "execution_count": null,
   "id": "6b0ed3ee-0c03-4fc2-8cb8-3bdd356fce6b",
   "metadata": {},
   "outputs": [],
   "source": [
    "import os\n",
    "import shutil\n",
    "import random\n",
    "import pickle\n",
    "import numpy as np\n",
    "import matplotlib.pyplot as plt\n",
    "import copy\n",
    "\n",
    "import torch\n",
    "import torch.nn as nn\n",
    "import torch.nn.functional as F\n",
    "import torch.optim as optim\n",
    "import torchvision\n",
    "import torchvision.transforms as transforms\n",
    "\n",
    "import binarybrain as bb"
   ]
  },
  {
   "cell_type": "code",
   "execution_count": null,
   "id": "1c4f5803-9bdd-4e01-9f69-5df3d12884ab",
   "metadata": {},
   "outputs": [],
   "source": [
    "n = 123\n",
    "c = 77\n",
    "\n",
    "# 入力/教師\n",
    "torch.manual_seed(1)\n",
    "x_torch = torch.normal(0.5,  1., size=(n, c), requires_grad=True)\n",
    "t_torch = torch.normal(-0.1, 1., size=(n, c), requires_grad=True)\n",
    "x_bb = bb.FrameBuffer.from_numpy(x_torch.detach().numpy())\n",
    "t_bb = bb.FrameBuffer.from_numpy(t_torch.detach().numpy())\n",
    "\n",
    "# Affine\n",
    "A_torch = nn.Linear(c, c)\n",
    "A_bb    = bb.DenseAffine([c], input_shape=[c])\n",
    "\n",
    "weight = A_torch.weight.detach().numpy()\n",
    "bias   = A_torch.bias.detach().numpy()\n",
    "A_bb.W().set_numpy(weight)\n",
    "A_bb.b().set_numpy(bias)\n",
    "\n",
    "loss_torch = nn.MSELoss(reduction='mean')\n",
    "loss_bb    = bb.LossMeanSquaredError(reduction=\"mean\")\n",
    "\n",
    "opt_torch = optim.Adam(A_torch.parameters(), lr=0.001)\n",
    "#opt_torch = optim.SGD(A_torch.parameters(), lr=0.001)\n",
    "opt_torch.zero_grad()\n",
    "\n",
    "opt_bb    = bb.OptimizerAdam(learning_rate=0.001)\n",
    "#opt_bb    = bb.OptimizerSgd(learning_rate=0.001)\n",
    "opt_bb.set_variables(A_bb.get_parameters(), A_bb.get_gradients())\n",
    "\n",
    "criterion_torch = nn.MSELoss()\n",
    "criterion_bb = bb.LossMeanSquaredError()\n",
    "\n",
    "y_torch = A_torch(x_torch)\n",
    "loss_torch = criterion_torch(y_torch, t_torch)\n",
    "loss_torch.backward()\n",
    "\n",
    "y_bb = A_bb.forward(x_bb)\n",
    "dy_bb = criterion_bb.calculate(y_bb, t_bb)\n",
    "dx_bb = A_bb.backward(dy_bb)"
   ]
  },
  {
   "cell_type": "code",
   "execution_count": null,
   "id": "7d0bc976-7996-4e59-a709-16dafbc556ff",
   "metadata": {},
   "outputs": [],
   "source": [
    "print(np.std(y_torch.detach().numpy() - y_bb.numpy()))\n",
    "print(np.max(y_torch.detach().numpy() - y_bb.numpy()))\n",
    "print(np.min(y_torch.detach().numpy() - y_bb.numpy()))"
   ]
  },
  {
   "cell_type": "code",
   "execution_count": null,
   "id": "e515e3c6-6ca5-40b8-a51c-02153d850c9e",
   "metadata": {},
   "outputs": [],
   "source": [
    "print(np.std(A_torch.weight.grad.detach().numpy() - A_bb.dW().numpy()))\n",
    "print(np.max(A_torch.weight.grad.detach().numpy() - A_bb.dW().numpy()))\n",
    "print(np.min(A_torch.weight.grad.detach().numpy() - A_bb.dW().numpy()))\n",
    "print(np.std(A_torch.bias.grad.detach().numpy() - A_bb.db().numpy()))\n",
    "print(np.max(A_torch.bias.grad.detach().numpy() - A_bb.db().numpy()))\n",
    "print(np.min(A_torch.bias.grad.detach().numpy() - A_bb.db().numpy()))"
   ]
  },
  {
   "cell_type": "code",
   "execution_count": null,
   "id": "c32608c5-060e-4191-960a-600f3742213a",
   "metadata": {},
   "outputs": [],
   "source": [
    "A_torch.weight.grad.detach().numpy()"
   ]
  },
  {
   "cell_type": "code",
   "execution_count": null,
   "id": "39694c48-704d-48f2-86ef-3b591ffbae40",
   "metadata": {},
   "outputs": [],
   "source": [
    "A_bb.dW().numpy()"
   ]
  },
  {
   "cell_type": "code",
   "execution_count": null,
   "id": "42377361-3804-43e1-9ac9-a84eea575d2e",
   "metadata": {},
   "outputs": [],
   "source": []
  }
 ],
 "metadata": {
  "kernelspec": {
   "display_name": "Python 3",
   "language": "python",
   "name": "python3"
  },
  "language_info": {
   "codemirror_mode": {
    "name": "ipython",
    "version": 3
   },
   "file_extension": ".py",
   "mimetype": "text/x-python",
   "name": "python",
   "nbconvert_exporter": "python",
   "pygments_lexer": "ipython3",
   "version": "3.7.9"
  }
 },
 "nbformat": 4,
 "nbformat_minor": 5
}
