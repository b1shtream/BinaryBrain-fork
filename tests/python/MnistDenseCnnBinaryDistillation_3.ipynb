{
 "cells": [
  {
   "cell_type": "code",
   "execution_count": 1,
   "metadata": {
    "colab": {},
    "colab_type": "code",
    "id": "MW6OjiErSoLf"
   },
   "outputs": [],
   "source": [
    "#skip = True\n",
    "skip = False\n",
    "google_colab = False\n",
    "import binarybrain as bb"
   ]
  },
  {
   "cell_type": "markdown",
   "metadata": {
    "colab_type": "text",
    "id": "atEZew4ESgqb"
   },
   "source": [
    "# Google Colab用事前準備"
   ]
  },
  {
   "cell_type": "code",
   "execution_count": 2,
   "metadata": {
    "colab": {},
    "colab_type": "code",
    "id": "ngtL_LdxSIee"
   },
   "outputs": [],
   "source": [
    "# install\n",
    "try:\n",
    "    import binarybrain as bb\n",
    "except:\n",
    "    if google_colab and False:\n",
    "        !pip install pybind11\n",
    "        %cd /content\n",
    "        !nvcc -V\n",
    "        !sudo rm -fr BinaryBrain\n",
    "        !rm -fr BinaryBrain\n",
    "        !git clone --recursive -b ver3_develop https://github.com/ryuz/BinaryBrain.git\n",
    "        %cd /content/BinaryBrain/python\n",
    "        !sh copy_src.sh\n",
    "        !python3 setup.py build\n",
    "        !python3 setup.py develop\n",
    "\n",
    "        import binarybrain as bb"
   ]
  },
  {
   "cell_type": "code",
   "execution_count": 3,
   "metadata": {
    "colab": {
     "base_uri": "https://localhost:8080/",
     "height": 52
    },
    "colab_type": "code",
    "executionInfo": {
     "elapsed": 398,
     "status": "ok",
     "timestamp": 1577942274359,
     "user": {
      "displayName": "Ryuji Fuchikami",
      "photoUrl": "https://lh3.googleusercontent.com/a-/AAuE7mAPtXjBQtwUbhRHET1x_mcz7f1D-y_Z0oW5uE1j=s64",
      "userId": "03698805240163472906"
     },
     "user_tz": -540
    },
    "id": "mRUykJrZJoJf",
    "outputId": "305262d7-ece5-4f2e-a220-f41a5025dd7b"
   },
   "outputs": [],
   "source": [
    "# mount\n",
    "if google_colab:\n",
    "  from google.colab import drive \n",
    "  drive.mount('/content/drive')\n",
    "  %cd /content/drive/My Drive/git-work/BinaryBrain_ver3_develop/tests/python"
   ]
  },
  {
   "cell_type": "code",
   "execution_count": 4,
   "metadata": {
    "colab": {
     "base_uri": "https://localhost:8080/",
     "height": 486
    },
    "colab_type": "code",
    "executionInfo": {
     "elapsed": 514,
     "status": "ok",
     "timestamp": 1577942275926,
     "user": {
      "displayName": "Ryuji Fuchikami",
      "photoUrl": "https://lh3.googleusercontent.com/a-/AAuE7mAPtXjBQtwUbhRHET1x_mcz7f1D-y_Z0oW5uE1j=s64",
      "userId": "03698805240163472906"
     },
     "user_tz": -540
    },
    "id": "pn5A-rOaVbvz",
    "outputId": "79faf6cb-8f27-4ddc-96e1-9d810c8ead29"
   },
   "outputs": [
    {
     "name": "stdout",
     "output_type": "stream",
     "text": [
      "\n",
      "name                     : GeForce GT 1030\n",
      "totalGlobalMem           : 2147483648\n",
      "sharedMemPerBlock        : 49152\n",
      "regsPerBlock             : 65536\n",
      "warpSize                 : 32\n",
      "memPitch                 : 2147483647\n",
      "maxThreadsPerBlock       : 1024\n",
      "maxThreadsDim[0]         : 1024\n",
      "maxThreadsDim[1]         : 1024\n",
      "maxThreadsDim[2]         : 64\n",
      "maxGridSize[0]           : 2147483647\n",
      "maxGridSize[1]           : 65535\n",
      "maxGridSize[2]           : 65535\n",
      "clockRate                : 1468000\n",
      "totalConstMem            : 65536\n",
      "major                    : 6\n",
      "minor                    : 1\n",
      "textureAlignment         : 512\n",
      "deviceOverlap            : 1\n",
      "multiProcessorCount      : 3\n",
      "kernelExecTimeoutEnabled : 1\n",
      "integrated               : 0\n",
      "canMapHostMemory         : 1\n",
      "computeMode              : 0\n",
      "\n",
      "\n"
     ]
    }
   ],
   "source": [
    "import binarybrain as bb\n",
    "prop = bb.get_device_properties()\n",
    "print(prop)"
   ]
  },
  {
   "cell_type": "markdown",
   "metadata": {
    "colab_type": "text",
    "id": "0L3nSwtTUK_z"
   },
   "source": [
    "# メインコード"
   ]
  },
  {
   "cell_type": "code",
   "execution_count": 5,
   "metadata": {
    "colab": {},
    "colab_type": "code",
    "id": "_29UQGXhJjlE"
   },
   "outputs": [],
   "source": [
    "import binarybrain as bb\n",
    "import numpy as np\n",
    "import os\n",
    "import sys\n",
    "from tqdm import tqdm\n",
    "from collections import OrderedDict"
   ]
  },
  {
   "cell_type": "code",
   "execution_count": 6,
   "metadata": {
    "colab": {},
    "colab_type": "code",
    "id": "MllqIlMAJjlY"
   },
   "outputs": [],
   "source": [
    "# load MNIST data\n",
    "td = bb.load_mnist()"
   ]
  },
  {
   "cell_type": "markdown",
   "metadata": {
    "colab_type": "text",
    "id": "Sg9qRJaSJjlj"
   },
   "source": [
    "## 元レイヤー"
   ]
  },
  {
   "cell_type": "code",
   "execution_count": 7,
   "metadata": {
    "colab": {},
    "colab_type": "code",
    "id": "vZkF0KnzJjln"
   },
   "outputs": [],
   "source": [
    "modulation_size = 4\n",
    "layer_rel2bin = bb.RealToBinary.create(modulation_size, framewise=True)\n",
    "layer_bin2rel = bb.BinaryToReal.create(modulation_size)\n",
    "\n",
    "# create layer\n",
    "ref_layer0_affine  = bb.DenseAffine.create([32])\n",
    "ref_layer0_norm    = bb.BatchNormalization.create()\n",
    "ref_layer0_bin     = bb.Binarize.create()\n",
    "ref_layer1_affine  = bb.DenseAffine.create([32])\n",
    "ref_layer1_norm    = bb.BatchNormalization.create()\n",
    "ref_layer1_bin     = bb.Binarize.create()\n",
    "ref_layer2_affine  = bb.DenseAffine.create([64])\n",
    "ref_layer2_norm    = bb.BatchNormalization.create()\n",
    "ref_layer2_bin     = bb.Binarize.create()\n",
    "ref_layer3_affine  = bb.DenseAffine.create([64])\n",
    "ref_layer3_norm    = bb.BatchNormalization.create()\n",
    "ref_layer3_bin     = bb.Binarize.create()\n",
    "ref_layer4_affine  = bb.DenseAffine.create([512])\n",
    "ref_layer4_norm    = bb.BatchNormalization.create()\n",
    "ref_layer4_bin     = bb.Binarize.create()\n",
    "ref_layer5_affine  = bb.DenseAffine.create([10])\n",
    "ref_layer5_norm    = bb.BatchNormalization.create()\n",
    "ref_layer5_bin     = bb.Binarize.create()\n",
    "\n",
    "# main network\n",
    "ref_cnv0_sub = bb.Sequential.create()\n",
    "ref_cnv0_sub.add(ref_layer0_affine)\n",
    "ref_cnv0_sub.add(ref_layer0_norm)\n",
    "ref_cnv0_sub.add(ref_layer0_bin)\n",
    "ref_layer0_cnv = bb.LoweringConvolution.create(ref_cnv0_sub, 3, 3)\n",
    "\n",
    "ref_cnv1_sub = bb.Sequential.create()\n",
    "ref_cnv1_sub.add(ref_layer1_affine)\n",
    "ref_cnv1_sub.add(ref_layer1_norm)\n",
    "ref_cnv1_sub.add(ref_layer1_bin)\n",
    "ref_layer1_cnv = bb.LoweringConvolution.create(ref_cnv1_sub, 3, 3)\n",
    "\n",
    "ref_cnv2_sub = bb.Sequential.create()\n",
    "ref_cnv2_sub.add(ref_layer2_affine)\n",
    "ref_cnv2_sub.add(ref_layer2_norm)\n",
    "ref_cnv2_sub.add(ref_layer2_bin)\n",
    "ref_layer2_cnv = bb.LoweringConvolution.create(ref_cnv2_sub, 3, 3)\n",
    "\n",
    "ref_cnv3_sub = bb.Sequential.create()\n",
    "ref_cnv3_sub.add(ref_layer3_affine)\n",
    "ref_cnv3_sub.add(ref_layer3_norm)\n",
    "ref_cnv3_sub.add(ref_layer3_bin)\n",
    "ref_layer3_cnv = bb.LoweringConvolution.create(ref_cnv3_sub, 3, 3)\n",
    "\n",
    "ref_net = bb.Sequential.create()\n",
    "ref_net.add(ref_layer0_cnv)\n",
    "ref_net.add(ref_layer1_cnv)\n",
    "ref_net.add(bb.MaxPooling.create(2, 2))\n",
    "ref_net.add(ref_layer2_cnv)\n",
    "ref_net.add(ref_layer3_cnv)\n",
    "ref_net.add(bb.MaxPooling.create(2, 2))\n",
    "ref_net.add(ref_layer4_affine)\n",
    "ref_net.add(ref_layer4_norm)\n",
    "ref_net.add(ref_layer4_bin)\n",
    "ref_net.add(ref_layer5_affine)\n",
    "ref_net.add(ref_layer5_norm)\n",
    "ref_net.add(ref_layer5_bin)\n",
    "\n",
    "# wrapping with binary modulator\n",
    "ref_train_net = bb.Sequential.create()\n",
    "ref_train_net.add(layer_rel2bin)\n",
    "ref_train_net.add(ref_net)\n",
    "ref_train_net.add(layer_bin2rel)\n",
    "ref_train_net.set_input_shape(td['x_shape'])\n",
    "\n",
    "# Load\n",
    "net_path = 'mnist-dense-cnn-binary'\n",
    "\n",
    "if True:\n",
    "    ref_layer0_affine.load_json(os.path.join(net_path, 'ref_layer0_affine.json'))\n",
    "    ref_layer1_affine.load_json(os.path.join(net_path, 'ref_layer1_affine.json'))\n",
    "    ref_layer2_affine.load_json(os.path.join(net_path, 'ref_layer2_affine.json'))\n",
    "    ref_layer3_affine.load_json(os.path.join(net_path, 'ref_layer3_affine.json'))\n",
    "    ref_layer4_affine.load_json(os.path.join(net_path, 'ref_layer4_affine.json'))\n",
    "    ref_layer5_affine.load_json(os.path.join(net_path, 'ref_layer5_affine.json'))\n",
    "\n",
    "    ref_layer0_norm.load_json(os.path.join(net_path, 'ref_layer0_norm.json'))\n",
    "    ref_layer1_norm.load_json(os.path.join(net_path, 'ref_layer1_norm.json'))\n",
    "    ref_layer2_norm.load_json(os.path.join(net_path, 'ref_layer2_norm.json'))\n",
    "    ref_layer3_norm.load_json(os.path.join(net_path, 'ref_layer3_norm.json'))\n",
    "    ref_layer4_norm.load_json(os.path.join(net_path, 'ref_layer4_norm.json'))\n",
    "    ref_layer5_norm.load_json(os.path.join(net_path, 'ref_layer5_norm.json'))"
   ]
  },
  {
   "cell_type": "code",
   "execution_count": 8,
   "metadata": {
    "colab": {
     "base_uri": "https://localhost:8080/",
     "height": 34
    },
    "colab_type": "code",
    "executionInfo": {
     "elapsed": 105760,
     "status": "ok",
     "timestamp": 1577942388126,
     "user": {
      "displayName": "Ryuji Fuchikami",
      "photoUrl": "https://lh3.googleusercontent.com/a-/AAuE7mAPtXjBQtwUbhRHET1x_mcz7f1D-y_Z0oW5uE1j=s64",
      "userId": "03698805240163472906"
     },
     "user_tz": -540
    },
    "id": "P1Ef5bKC2J23",
    "outputId": "3ad7383e-b16e-4f52-875b-2a617f82a4ef"
   },
   "outputs": [
    {
     "name": "stderr",
     "output_type": "stream",
     "text": [
      "                                                                                                                       \r"
     ]
    },
    {
     "name": "stdout",
     "output_type": "stream",
     "text": [
      "epoch=1 test_accuracy=0.992200 test_loss=1.468792 train_accuracy=0.994433 train_loss=1.465936\n"
     ]
    }
   ],
   "source": [
    "loss      = bb.LossSoftmaxCrossEntropy.create()\n",
    "metrics   = bb.MetricsCategoricalAccuracy.create()\n",
    "optimizer = bb.OptimizerAdam.create()\n",
    "optimizer.set_variables(ref_train_net.get_parameters(), ref_train_net.get_gradients())\n",
    "\n",
    "if not skip:\n",
    "    runner = bb.Runner(ref_train_net, \"mnist-dense-cnn-binary\", loss, metrics, optimizer)\n",
    "    runner.fitting(td, epoch_size=1, mini_batch_size=32, file_write=False, file_read=False)"
   ]
  },
  {
   "cell_type": "code",
   "execution_count": 9,
   "metadata": {
    "colab": {},
    "colab_type": "code",
    "id": "R2VABMP32jkH"
   },
   "outputs": [],
   "source": [
    "if True:\n",
    "    ref_layer0_affine.save_json(os.path.join(net_path, 'ref_layer0_affine.json'))\n",
    "    ref_layer1_affine.save_json(os.path.join(net_path, 'ref_layer1_affine.json'))\n",
    "    ref_layer2_affine.save_json(os.path.join(net_path, 'ref_layer2_affine.json'))\n",
    "    ref_layer3_affine.save_json(os.path.join(net_path, 'ref_layer3_affine.json'))\n",
    "    ref_layer4_affine.save_json(os.path.join(net_path, 'ref_layer4_affine.json'))\n",
    "    ref_layer5_affine.save_json(os.path.join(net_path, 'ref_layer5_affine.json'))\n",
    "\n",
    "    ref_layer0_norm.save_json(os.path.join(net_path, 'ref_layer0_norm.json'))\n",
    "    ref_layer1_norm.save_json(os.path.join(net_path, 'ref_layer1_norm.json'))\n",
    "    ref_layer2_norm.save_json(os.path.join(net_path, 'ref_layer2_norm.json'))\n",
    "    ref_layer3_norm.save_json(os.path.join(net_path, 'ref_layer3_norm.json'))\n",
    "    ref_layer4_norm.save_json(os.path.join(net_path, 'ref_layer4_norm.json'))\n",
    "    ref_layer5_norm.save_json(os.path.join(net_path, 'ref_layer5_norm.json'))"
   ]
  },
  {
   "cell_type": "markdown",
   "metadata": {
    "colab_type": "text",
    "id": "4QwnWXYWJjlv"
   },
   "source": [
    "## 蒸留先"
   ]
  },
  {
   "cell_type": "code",
   "execution_count": 10,
   "metadata": {
    "colab": {},
    "colab_type": "code",
    "id": "o5jHmA0lJjly"
   },
   "outputs": [],
   "source": [
    "lut_layer0_sl0 = bb.SparseLut6.create([32])\n",
    "lut_layer0_sl1 = bb.SparseLut6.create([32*6])\n",
    "\n",
    "lut_layer1_sl0 = bb.SparseLut6.create([32])\n",
    "lut_layer1_sl1 = bb.SparseLut6.create([32*6])\n",
    "\n",
    "lut_layer2_sl0 = bb.SparseLut6.create([64])\n",
    "lut_layer2_sl1 = bb.SparseLut6.create([64*6])\n",
    "lut_layer2_sl2 = bb.SparseLut6.create([64*6*6])\n",
    "\n",
    "lut_layer3_sl0 = bb.SparseLut6.create([64])\n",
    "lut_layer3_sl1 = bb.SparseLut6.create([64*6])\n",
    "lut_layer3_sl2 = bb.SparseLut6.create([64*6*6])\n",
    "\n",
    "lut_layer4_sl0 = bb.SparseLut6.create([512])\n",
    "lut_layer4_sl1 = bb.SparseLut6.create([512*6])\n",
    "\n",
    "lut_layer5_sl0 = bb.SparseLut6.create([10])\n",
    "lut_layer5_sl1 = bb.SparseLut6.create([10*6])\n",
    "lut_layer5_sl2 = bb.SparseLut6.create([10*6*6])\n",
    "\n",
    "# main network\n",
    "lut_layer0_cnv_sub = bb.Sequential.create()\n",
    "lut_layer0_cnv_sub.add(lut_layer0_sl1)\n",
    "lut_layer0_cnv_sub.add(lut_layer0_sl0)\n",
    "lut_layer0_cnv = bb.LoweringConvolution.create(lut_layer0_cnv_sub, 3, 3)\n",
    "\n",
    "lut_layer1_cnv_sub = bb.Sequential.create()\n",
    "lut_layer1_cnv_sub.add(lut_layer1_sl1)\n",
    "lut_layer1_cnv_sub.add(lut_layer1_sl0)\n",
    "lut_layer1_cnv = bb.LoweringConvolution.create(lut_layer1_cnv_sub, 3, 3)\n",
    "\n",
    "lut_layer2_cnv_sub = bb.Sequential.create()\n",
    "lut_layer2_cnv_sub.add(lut_layer2_sl2)\n",
    "lut_layer2_cnv_sub.add(lut_layer2_sl1)\n",
    "lut_layer2_cnv_sub.add(lut_layer2_sl0)\n",
    "lut_layer2_cnv = bb.LoweringConvolution.create(lut_layer2_cnv_sub, 3, 3)\n",
    "\n",
    "lut_layer3_cnv_sub = bb.Sequential.create()\n",
    "lut_layer3_cnv_sub.add(lut_layer3_sl2)\n",
    "lut_layer3_cnv_sub.add(lut_layer3_sl1)\n",
    "lut_layer3_cnv_sub.add(lut_layer3_sl0)\n",
    "lut_layer3_cnv = bb.LoweringConvolution.create(lut_layer3_cnv_sub, 3, 3)\n",
    "\n",
    "lut_layer4 = bb.Sequential.create()\n",
    "lut_layer4.add(lut_layer4_sl1)\n",
    "lut_layer4.add(lut_layer4_sl0)\n",
    "\n",
    "lut_layer5 = bb.Sequential.create()\n",
    "lut_layer5.add(lut_layer5_sl2)\n",
    "lut_layer5.add(lut_layer5_sl1)\n",
    "lut_layer5.add(lut_layer5_sl0)\n",
    "\n",
    "lut_net = bb.Sequential.create()\n",
    "lut_net.add(layer_rel2bin)\n",
    "lut_net.add(lut_layer0_cnv)\n",
    "lut_net.add(lut_layer1_cnv)\n",
    "lut_net.add(bb.MaxPooling.create(2, 2))\n",
    "lut_net.add(lut_layer2_cnv)\n",
    "lut_net.add(lut_layer3_cnv)\n",
    "lut_net.add(bb.MaxPooling.create(2, 2))\n",
    "lut_net.add(lut_layer4)\n",
    "lut_net.add(lut_layer5)\n",
    "lut_net.add(layer_bin2rel)\n",
    "lut_net.set_input_shape(td['x_shape'])\n",
    "lut_net.send_command(\"binary true\")"
   ]
  },
  {
   "cell_type": "code",
   "execution_count": 11,
   "metadata": {},
   "outputs": [],
   "source": [
    "# wrapping with binary modulator\n",
    "#lut_train_net = bb.Sequential.create()\n",
    "#lut_train_net.add(layer_rel2bin)\n",
    "#lut_train_net.add(lut_net)\n",
    "#lut_train_net.add(layer_bin2rel)\n",
    "#lut_train_net.set_input_shape(td['x_shape'])\n",
    "\n",
    "#loss      = bb.LossSoftmaxCrossEntropy.create()\n",
    "#metrics   = bb.MetricsCategoricalAccuracy.create()\n",
    "#optimizer = bb.OptimizerAdam.create()\n",
    "#optimizer.set_variables(lut_net.get_parameters(), lut_net.get_gradients())\n",
    "\n",
    "#runner = bb.Runner(lut_net, \"mnist-lut-cnn-binary\", loss, metrics, optimizer)\n",
    "#runner.fitting(td, epoch_size=1, mini_batch_size=16, file_write=False, file_read=False)"
   ]
  },
  {
   "cell_type": "code",
   "execution_count": 12,
   "metadata": {
    "colab": {},
    "colab_type": "code",
    "id": "VGdF6QywJjmU"
   },
   "outputs": [],
   "source": [
    "# レイヤーの蒸留\n",
    "def layer_distillation(x, x_shape, target_net, ref_net, pre_net, post_net=None, epoch=8):\n",
    "    x_buf = bb.FrameBuffer()\n",
    "    t_buf = bb.FrameBuffer()\n",
    "\n",
    "#    target_net.set_input_shape(ref_net.get_input_shape())\n",
    "#    target_net.send_command(\"binary true\")\n",
    "#    pre_net.set_input_shape(x_shape)\n",
    "\n",
    "    batch_size = len(x)\n",
    "    max_batch_size = 32\n",
    "    leave = True\n",
    "\n",
    "    loss = bb.LossMeanSquaredError.create()\n",
    "    optimizer = bb.OptimizerAdam.create()\n",
    "    optimizer.set_variables(target_net.get_parameters(), target_net.get_gradients())\n",
    "    \n",
    "    for e in range(epoch):\n",
    "        loss.clear()\n",
    "        with tqdm(range(0, batch_size, max_batch_size), leave=leave) as pbar:\n",
    "            for index in pbar:\n",
    "                # calc mini_batch_size\n",
    "                mini_batch_size = min(max_batch_size, batch_size-index)\n",
    "                \n",
    "                # setup x\n",
    "                x_buf.resize(mini_batch_size, x_shape)\n",
    "                x_buf.set_data(x[index:index+mini_batch_size])\n",
    "                \n",
    "                # forward\n",
    "                x_buf = pre_net.forward(x_buf, False)\n",
    "                t_buf = ref_net.forward(x_buf, False)\n",
    "                if post_net is not None:\n",
    "                    t_buf = post_net.forward(t_buf, False)\n",
    "                \n",
    "                y_buf = target_net.forward(x_buf, True)\n",
    "                if post_net is not None:\n",
    "                    y_buf = post_net.forward(y_buf, True)\n",
    "                \n",
    "                # calc loss\n",
    "                dy_buf = loss.calculate_loss(y_buf, t_buf, mini_batch_size)\n",
    "\n",
    "                # backward\n",
    "                if post_net is not None:\n",
    "                    dy_buf = post_net.backward(dy_buf)\n",
    "                target_net.backward(dy_buf)\n",
    "                \n",
    "                # update\n",
    "                optimizer.update()\n",
    "                \n",
    "                # print progress\n",
    "                dict = OrderedDict()\n",
    "                dict['loss'] = loss.get_loss()\n",
    "                if len(dict) > 0:\n",
    "                    pbar.set_postfix(dict)\n",
    "\n",
    "        # shuffle\n",
    "        p = np.random.permutation(len(x))\n",
    "        x = x[p]"
   ]
  },
  {
   "cell_type": "code",
   "execution_count": 13,
   "metadata": {
    "colab": {},
    "colab_type": "code",
    "id": "27uN4Ryu47Vd"
   },
   "outputs": [],
   "source": [
    "# 事前ネット\n",
    "pre_net = bb.Sequential.create()\n",
    "pre_net.add(layer_rel2bin)\n",
    "pre_net.send_command(\"binary true\")"
   ]
  },
  {
   "cell_type": "markdown",
   "metadata": {
    "colab_type": "text",
    "id": "Up4x62b_QeBb"
   },
   "source": [
    "## Layer0"
   ]
  },
  {
   "cell_type": "code",
   "execution_count": 14,
   "metadata": {
    "colab": {},
    "colab_type": "code",
    "id": "HEosqtqC3QtV"
   },
   "outputs": [],
   "source": [
    "# Layer0\n",
    "tW = ref_layer0_affine.W()\n",
    "W = np.array(tW.get_data()).reshape(tW.get_shape()[::-1])\n",
    "idx = np.argsort(-np.abs(W), axis=1)\n",
    "\n",
    "# Weight順で接続\n",
    "if True:\n",
    "    for i in range(32):\n",
    "        for j in range(6):\n",
    "            lut_layer0_sl0.set_connection_index([i], j, i*6+j)\n",
    "\n",
    "    for i in range(32):\n",
    "        for j in range(6):\n",
    "            for k in range(6):\n",
    "                lut_layer0_sl1.set_connection_index([i*6+j], k, idx[i][(j*6+k) % (3*3)])\n",
    "\n",
    "if True:\n",
    "    try:\n",
    "        lut_layer0_sl0.load_json(os.path.join(net_path, 'lut_layer0_sl0.json'))\n",
    "        lut_layer0_sl1.load_json(os.path.join(net_path, 'lut_layer0_sl1.json'))\n",
    "    except:\n",
    "        pass"
   ]
  },
  {
   "cell_type": "code",
   "execution_count": 15,
   "metadata": {
    "colab": {
     "base_uri": "https://localhost:8080/",
     "height": 34
    },
    "colab_type": "code",
    "executionInfo": {
     "elapsed": 747667,
     "status": "ok",
     "timestamp": 1577943237130,
     "user": {
      "displayName": "Ryuji Fuchikami",
      "photoUrl": "https://lh3.googleusercontent.com/a-/AAuE7mAPtXjBQtwUbhRHET1x_mcz7f1D-y_Z0oW5uE1j=s64",
      "userId": "03698805240163472906"
     },
     "user_tz": -540
    },
    "id": "N77KisQwCEyh",
    "outputId": "49f46b00-252e-4d67-dd99-05ed75e736b1"
   },
   "outputs": [
    {
     "name": "stderr",
     "output_type": "stream",
     "text": [
      "100%|████████████████████████████████████████████████████████████████| 1875/1875 [07:59<00:00,  3.91it/s, loss=0.00227]\n"
     ]
    }
   ],
   "source": [
    "if not skip:\n",
    "    layer_distillation(td['x_train'], td['x_shape'], lut_layer0_cnv, ref_layer0_cnv, pre_net, epoch=1)"
   ]
  },
  {
   "cell_type": "code",
   "execution_count": 16,
   "metadata": {
    "colab": {},
    "colab_type": "code",
    "id": "Suq3lzcVBtH0"
   },
   "outputs": [],
   "source": [
    "if True:\n",
    "    lut_layer0_sl0.save_json(os.path.join(net_path, 'lut_layer0_sl0.json'))\n",
    "    lut_layer0_sl1.save_json(os.path.join(net_path, 'lut_layer0_sl1.json'))"
   ]
  },
  {
   "cell_type": "code",
   "execution_count": 17,
   "metadata": {
    "colab": {},
    "colab_type": "code",
    "id": "0jj6RxJ5o5cd"
   },
   "outputs": [],
   "source": [
    "# ファインチューニング\n",
    "def fine_tuning(x, x_shape, t, t_shape, pre_net, train_net, epoch=2):\n",
    "    x_buf = bb.FrameBuffer()\n",
    "    t_buf = bb.FrameBuffer()\n",
    "\n",
    "    batch_size = len(x)\n",
    "    max_batch_size = 32\n",
    "    leave = True\n",
    "\n",
    "    loss = bb.LossMeanSquaredError.create()\n",
    "    metrics = bb.MetricsCategoricalAccuracy.create()\n",
    "    optimizer = bb.OptimizerAdam.create()\n",
    "    optimizer.set_variables(train_net.get_parameters(), train_net.get_gradients())\n",
    "    \n",
    "    for e in range(epoch):\n",
    "        loss.clear()\n",
    "        with tqdm(range(0, batch_size, max_batch_size), leave=leave) as pbar:\n",
    "            for index in pbar:\n",
    "                # calc mini_batch_size\n",
    "                mini_batch_size = min(max_batch_size, batch_size-index)\n",
    "                \n",
    "                # setup x\n",
    "                x_buf.resize(mini_batch_size, x_shape)\n",
    "                x_buf.set_data(x[index:index+mini_batch_size])\n",
    "                \n",
    "                # forward\n",
    "                x_buf = pre_net.forward(x_buf, False)\n",
    "                y_buf = train_net.forward(x_buf)\n",
    "\n",
    "                # setup t\n",
    "                t_buf.resize(mini_batch_size, t_shape)\n",
    "                t_buf.set_data(t[index:index+mini_batch_size])\n",
    "\n",
    "                # calc loss\n",
    "                dy_buf = loss.calculate_loss(y_buf, t_buf, mini_batch_size)\n",
    "                metrics.calculate_metrics(y_buf, t_buf)\n",
    "                \n",
    "                # backward\n",
    "                train_net.backward(dy_buf)\n",
    "\n",
    "                # update\n",
    "                optimizer.update()\n",
    "                \n",
    "                # print progress\n",
    "                dict = OrderedDict()\n",
    "                dict['loss'] = loss.get_loss()\n",
    "                dict[metrics.get_metrics_string()] = metrics.get_metrics()\n",
    "                pbar.set_postfix(dict)\n",
    "\n",
    "                if len(dict) > 0:\n",
    "                    pbar.set_postfix(dict)\n",
    "        \n",
    "        # shuffle\n",
    "        p = np.random.permutation(len(x))\n",
    "        x = x[p]\n",
    "        t = t[p]"
   ]
  },
  {
   "cell_type": "code",
   "execution_count": 18,
   "metadata": {
    "colab": {
     "base_uri": "https://localhost:8080/",
     "height": 34
    },
    "colab_type": "code",
    "executionInfo": {
     "elapsed": 78201,
     "status": "ok",
     "timestamp": 1577943545661,
     "user": {
      "displayName": "Ryuji Fuchikami",
      "photoUrl": "https://lh3.googleusercontent.com/a-/AAuE7mAPtXjBQtwUbhRHET1x_mcz7f1D-y_Z0oW5uE1j=s64",
      "userId": "03698805240163472906"
     },
     "user_tz": -540
    },
    "id": "ljd8DF6DkBbb",
    "outputId": "49918974-500f-48cf-f773-e137385bb4cb"
   },
   "outputs": [
    {
     "name": "stderr",
     "output_type": "stream",
     "text": [
      "100%|████████████████████████████████████████████████| 1875/1875 [03:31<00:00,  8.88it/s, loss=0.00207, accuracy=0.992]\n"
     ]
    }
   ],
   "source": [
    "fine_pre_net = bb.Sequential.create()\n",
    "fine_pre_net.add(layer_rel2bin)\n",
    "fine_pre_net.add(lut_layer0_cnv)\n",
    "\n",
    "fine_net = bb.Sequential.create()\n",
    "fine_net.add(ref_layer1_cnv)\n",
    "fine_net.add(bb.MaxPooling.create(2, 2))\n",
    "fine_net.add(ref_layer2_cnv)\n",
    "fine_net.add(ref_layer3_cnv)\n",
    "fine_net.add(bb.MaxPooling.create(2, 2))\n",
    "fine_net.add(ref_layer4_affine)\n",
    "fine_net.add(ref_layer4_norm)\n",
    "fine_net.add(ref_layer4_bin)\n",
    "fine_net.add(ref_layer5_affine)\n",
    "fine_net.add(ref_layer5_norm)\n",
    "fine_net.add(ref_layer5_bin)\n",
    "fine_net.add(layer_bin2rel)\n",
    "\n",
    "if not skip:\n",
    "    fine_tuning(td['x_train'], td['x_shape'], td['t_train'], td['t_shape'], fine_pre_net, fine_net, epoch=1)"
   ]
  },
  {
   "cell_type": "code",
   "execution_count": 19,
   "metadata": {
    "colab": {},
    "colab_type": "code",
    "id": "udGyR0HznEOk"
   },
   "outputs": [],
   "source": [
    "if True:\n",
    "    ref_layer0_affine.save_json(os.path.join(net_path, 'fine_layer0_affine.json'))\n",
    "    ref_layer1_affine.save_json(os.path.join(net_path, 'fine_layer1_affine.json'))\n",
    "    ref_layer2_affine.save_json(os.path.join(net_path, 'fine_layer2_affine.json'))\n",
    "    ref_layer3_affine.save_json(os.path.join(net_path, 'fine_layer3_affine.json'))\n",
    "    ref_layer4_affine.save_json(os.path.join(net_path, 'fine_layer4_affine.json'))\n",
    "    ref_layer5_affine.save_json(os.path.join(net_path, 'fine_layer5_affine.json'))\n",
    "    \n",
    "    ref_layer0_norm.save_json(os.path.join(net_path, 'fine_layer0_norm.json'))\n",
    "    ref_layer1_norm.save_json(os.path.join(net_path, 'fine_layer1_norm.json'))\n",
    "    ref_layer2_norm.save_json(os.path.join(net_path, 'fine_layer2_norm.json'))\n",
    "    ref_layer3_norm.save_json(os.path.join(net_path, 'fine_layer3_norm.json'))\n",
    "    ref_layer4_norm.save_json(os.path.join(net_path, 'fine_layer4_norm.json'))\n",
    "    ref_layer5_norm.save_json(os.path.join(net_path, 'fine_layer5_norm.json'))"
   ]
  },
  {
   "cell_type": "markdown",
   "metadata": {
    "colab_type": "text",
    "id": "v6jCPBVkQ35e"
   },
   "source": [
    "## Layer1"
   ]
  },
  {
   "cell_type": "markdown",
   "metadata": {
    "colab_type": "text",
    "id": "J-yJvXzRQllY"
   },
   "source": []
  },
  {
   "cell_type": "code",
   "execution_count": 20,
   "metadata": {
    "colab": {},
    "colab_type": "code",
    "id": "hQrkmwaVJjl7"
   },
   "outputs": [],
   "source": [
    "# Layer1\n",
    "tW = ref_layer1_affine.W()\n",
    "W = np.array(tW.get_data()).reshape(tW.get_shape()[::-1])\n",
    "idx = np.argsort(-np.abs(W), axis=1)"
   ]
  },
  {
   "cell_type": "code",
   "execution_count": 21,
   "metadata": {
    "colab": {},
    "colab_type": "code",
    "id": "kUrBqsX0JjmA"
   },
   "outputs": [],
   "source": [
    "#if True:\n",
    "#    for i in range(32):\n",
    "#        for j in range(6):\n",
    "#            lut_layer1_sl0.set_connection_index([i], j, i*6+j)\n",
    "\n",
    "#    for i in range(32):\n",
    "#        for j in range(6*6):\n",
    "#            lut_layer1_sl1.set_connection_index([i], j, idx[i][j])\n",
    "\n",
    "# Weight順で接続\n",
    "if True:\n",
    "    for i in range(32):\n",
    "        for j in range(6):\n",
    "            lut_layer1_sl0.set_connection_index([i], j, i*6+j)\n",
    "\n",
    "    for i in range(32):\n",
    "        for j in range(6):\n",
    "            for k in range(6):\n",
    "                lut_layer1_sl1.set_connection_index([i*6+j], k, idx[i][(j*6+k) % (3*3*32)])"
   ]
  },
  {
   "cell_type": "code",
   "execution_count": 22,
   "metadata": {
    "colab": {},
    "colab_type": "code",
    "id": "xLCZ49X-JjmZ"
   },
   "outputs": [],
   "source": [
    "pre_net = bb.Sequential.create()\n",
    "pre_net.add(layer_rel2bin)\n",
    "pre_net.add(lut_layer0_cnv)\n",
    "pre_net.send_command(\"binary true\")\n",
    "\n",
    "if True:\n",
    "    try:\n",
    "        lut_layer1_sl0.load_json(os.path.join(net_path, 'lut_layer1_sl0.json'))\n",
    "        lut_layer1_sl1.load_json(os.path.join(net_path, 'lut_layer1_sl1.json'))\n",
    "    except:\n",
    "        pass"
   ]
  },
  {
   "cell_type": "code",
   "execution_count": 23,
   "metadata": {
    "colab": {
     "base_uri": "https://localhost:8080/",
     "height": 34
    },
    "colab_type": "code",
    "executionInfo": {
     "elapsed": 655748,
     "status": "ok",
     "timestamp": 1577944426365,
     "user": {
      "displayName": "Ryuji Fuchikami",
      "photoUrl": "https://lh3.googleusercontent.com/a-/AAuE7mAPtXjBQtwUbhRHET1x_mcz7f1D-y_Z0oW5uE1j=s64",
      "userId": "03698805240163472906"
     },
     "user_tz": -540
    },
    "id": "zt6OHKvpJjmi",
    "outputId": "97383832-d800-42bc-dd3e-5c0845795cdc"
   },
   "outputs": [
    {
     "name": "stderr",
     "output_type": "stream",
     "text": [
      "100%|█████████████████████████████████████████████████████████████████| 1875/1875 [09:30<00:00,  3.29it/s, loss=0.0518]\n"
     ]
    }
   ],
   "source": [
    "if not skip:\n",
    "    layer_distillation(td['x_train'], td['x_shape'], lut_layer1_cnv, ref_layer1_cnv, pre_net, epoch=1)"
   ]
  },
  {
   "cell_type": "code",
   "execution_count": 24,
   "metadata": {
    "colab": {},
    "colab_type": "code",
    "id": "c8Yxi_coJjml"
   },
   "outputs": [],
   "source": [
    "if True:\n",
    "    lut_layer1_sl0.save_json(os.path.join(net_path, 'lut_layer1_sl0.json'))\n",
    "    lut_layer1_sl1.save_json(os.path.join(net_path, 'lut_layer1_sl1.json'))"
   ]
  },
  {
   "cell_type": "code",
   "execution_count": 25,
   "metadata": {
    "colab": {
     "base_uri": "https://localhost:8080/",
     "height": 34
    },
    "colab_type": "code",
    "executionInfo": {
     "elapsed": 73593,
     "status": "ok",
     "timestamp": 1577945222972,
     "user": {
      "displayName": "Ryuji Fuchikami",
      "photoUrl": "https://lh3.googleusercontent.com/a-/AAuE7mAPtXjBQtwUbhRHET1x_mcz7f1D-y_Z0oW5uE1j=s64",
      "userId": "03698805240163472906"
     },
     "user_tz": -540
    },
    "id": "2nP1bAd9Jjmq",
    "outputId": "662610ce-1290-4a2d-a18b-e144ffee8e6c"
   },
   "outputs": [
    {
     "name": "stderr",
     "output_type": "stream",
     "text": [
      "100%|████████████████████████████████████████████████| 1875/1875 [02:32<00:00, 12.27it/s, loss=0.00172, accuracy=0.993]\n"
     ]
    }
   ],
   "source": [
    "fine_pre_net = bb.Sequential.create()\n",
    "fine_pre_net.add(layer_rel2bin)\n",
    "fine_pre_net.add(lut_layer0_cnv)\n",
    "fine_pre_net.add(lut_layer1_cnv)\n",
    "fine_pre_net.add(bb.MaxPooling.create(2, 2))\n",
    "\n",
    "fine_net = bb.Sequential.create()\n",
    "fine_net.add(ref_layer2_cnv)\n",
    "fine_net.add(ref_layer3_cnv)\n",
    "fine_net.add(bb.MaxPooling.create(2, 2))\n",
    "fine_net.add(ref_layer4_affine)\n",
    "fine_net.add(ref_layer4_norm)\n",
    "fine_net.add(ref_layer4_bin)\n",
    "fine_net.add(ref_layer5_affine)\n",
    "fine_net.add(ref_layer5_norm)\n",
    "fine_net.add(ref_layer5_bin)\n",
    "fine_net.add(layer_bin2rel)\n",
    "\n",
    "if not skip:\n",
    "    fine_tuning(td['x_train'], td['x_shape'], td['t_train'], td['t_shape'], fine_pre_net, fine_net, epoch=1)"
   ]
  },
  {
   "cell_type": "markdown",
   "metadata": {
    "colab_type": "text",
    "id": "wvbsJ7TDTWb9"
   },
   "source": [
    "## Layer2"
   ]
  },
  {
   "cell_type": "code",
   "execution_count": 26,
   "metadata": {
    "colab": {},
    "colab_type": "code",
    "id": "XaDD7gOgJjm3"
   },
   "outputs": [],
   "source": [
    "# Layer2\n",
    "tW = ref_layer2_affine.W()\n",
    "W = np.array(tW.get_data()).reshape(tW.get_shape()[::-1])\n",
    "idx = np.argsort(-np.abs(W), axis=1)"
   ]
  },
  {
   "cell_type": "code",
   "execution_count": 27,
   "metadata": {
    "colab": {},
    "colab_type": "code",
    "id": "wTfrOj1NJjnX"
   },
   "outputs": [],
   "source": [
    "# Weight順で接続\n",
    "if False:\n",
    "    for i in range(64):\n",
    "        for j in range(6):\n",
    "            lut_layer2_sl0.set_connection_index([i], j, i*6+j)\n",
    "\n",
    "    for i in range(64):\n",
    "        for j in range(6):\n",
    "            for k in range(6):\n",
    "                lut_layer2_sl1.set_connection_index([i*6+j], k, idx[i][(j*6+k) % (3*3*32)])\n",
    "\n",
    "if True:\n",
    "    for i in range(64):\n",
    "        for j in range(6):\n",
    "            lut_layer2_sl0.set_connection_index([i], j, i*6+j)\n",
    "    \n",
    "    for i in range(64*6):\n",
    "        for j in range(6):\n",
    "            lut_layer2_sl1.set_connection_index([i], j, i*6+j)\n",
    "    \n",
    "    for i in range(64):\n",
    "        for j in range(6*6):\n",
    "            for k in range(6):\n",
    "                lut_layer2_sl2.set_connection_index([i*6*6+j], k, idx[i][(j*6*6+k) % (3*3*32)])"
   ]
  },
  {
   "cell_type": "code",
   "execution_count": 28,
   "metadata": {
    "colab": {
     "base_uri": "https://localhost:8080/",
     "height": 104
    },
    "colab_type": "code",
    "executionInfo": {
     "elapsed": 12826,
     "status": "ok",
     "timestamp": 1577958159817,
     "user": {
      "displayName": "Ryuji Fuchikami",
      "photoUrl": "https://lh3.googleusercontent.com/a-/AAuE7mAPtXjBQtwUbhRHET1x_mcz7f1D-y_Z0oW5uE1j=s64",
      "userId": "03698805240163472906"
     },
     "user_tz": -540
    },
    "id": "VnsAB-P9Tff-",
    "outputId": "b97c590f-0196-40e8-fc96-9b93ae14cc87"
   },
   "outputs": [
    {
     "name": "stderr",
     "output_type": "stream",
     "text": [
      "100%|██████████████████████████████████████████████████████████████████| 1875/1875 [09:41<00:00,  3.22it/s, loss=0.176]\n"
     ]
    }
   ],
   "source": [
    "pre_net = bb.Sequential.create()\n",
    "pre_net.add(layer_rel2bin)\n",
    "pre_net.add(lut_layer0_cnv)\n",
    "pre_net.add(lut_layer1_cnv)\n",
    "pre_net.add(bb.MaxPooling.create(2, 2))\n",
    "pre_net.send_command(\"binary true\")\n",
    "\n",
    "if True:\n",
    "    lut_layer0_sl0.load_json(os.path.join(net_path, 'lut_layer0_sl0.json'))\n",
    "    lut_layer0_sl1.load_json(os.path.join(net_path, 'lut_layer0_sl1.json'))\n",
    "    lut_layer1_sl0.load_json(os.path.join(net_path, 'lut_layer1_sl0.json'))\n",
    "    lut_layer1_sl1.load_json(os.path.join(net_path, 'lut_layer1_sl1.json'))\n",
    "\n",
    "if True:\n",
    "    try:\n",
    "        lut_layer2_sl0.load_json(os.path.join(net_path, 'lut_layer2_sl0.json'))\n",
    "        lut_layer2_sl1.load_json(os.path.join(net_path, 'lut_layer2_sl1.json'))\n",
    "        lut_layer2_sl2.load_json(os.path.join(net_path, 'lut_layer2_sl2.json'))\n",
    "    except:\n",
    "        pass\n",
    "\n",
    "if not skip:\n",
    "    tmp_bin2rel = bb.BinaryToReal.create(modulation_size)\n",
    "    tmp_bin2rel.set_input_shape(lut_layer2_cnv.get_output_shape())\n",
    "#   layer_distillation(td['x_train'], td['x_shape'], lut_layer2_cnv, ref_layer2_cnv, pre_net, tmp_bin2rel, epoch=1)\n",
    "    layer_distillation(td['x_train'], td['x_shape'], lut_layer2_cnv, ref_layer2_cnv, pre_net, epoch=1)"
   ]
  },
  {
   "cell_type": "code",
   "execution_count": 29,
   "metadata": {
    "colab": {},
    "colab_type": "code",
    "id": "yniklRLITkrQ"
   },
   "outputs": [],
   "source": [
    "if True:\n",
    "    lut_layer2_sl0.save_json(os.path.join(net_path, 'lut_layer2_sl0.json'))\n",
    "    lut_layer2_sl1.save_json(os.path.join(net_path, 'lut_layer2_sl1.json'))\n",
    "    lut_layer2_sl2.save_json(os.path.join(net_path, 'lut_layer2_sl2.json'))"
   ]
  },
  {
   "cell_type": "code",
   "execution_count": 30,
   "metadata": {
    "colab": {
     "base_uri": "https://localhost:8080/",
     "height": 344
    },
    "colab_type": "code",
    "executionInfo": {
     "elapsed": 58974,
     "status": "error",
     "timestamp": 1577955916040,
     "user": {
      "displayName": "Ryuji Fuchikami",
      "photoUrl": "https://lh3.googleusercontent.com/a-/AAuE7mAPtXjBQtwUbhRHET1x_mcz7f1D-y_Z0oW5uE1j=s64",
      "userId": "03698805240163472906"
     },
     "user_tz": -540
    },
    "id": "EHEXJVHKUdue",
    "outputId": "c9d2ab97-8fbc-4ed0-b47d-1e0f58acec1d"
   },
   "outputs": [
    {
     "name": "stderr",
     "output_type": "stream",
     "text": [
      "100%|████████████████████████████████████████████████| 1875/1875 [02:58<00:00, 10.50it/s, loss=0.00331, accuracy=0.985]\n"
     ]
    }
   ],
   "source": [
    "fine_pre_net = bb.Sequential.create()\n",
    "fine_pre_net.add(layer_rel2bin)\n",
    "fine_pre_net.add(lut_layer0_cnv)\n",
    "fine_pre_net.add(lut_layer1_cnv)\n",
    "fine_pre_net.add(bb.MaxPooling.create(2, 2))\n",
    "fine_pre_net.add(lut_layer2_cnv)\n",
    "\n",
    "fine_net = bb.Sequential.create()\n",
    "fine_net.add(ref_layer3_cnv)\n",
    "fine_net.add(bb.MaxPooling.create(2, 2))\n",
    "fine_net.add(ref_layer4_affine)\n",
    "fine_net.add(ref_layer4_norm)\n",
    "fine_net.add(ref_layer4_bin)\n",
    "fine_net.add(ref_layer5_affine)\n",
    "fine_net.add(ref_layer5_norm)\n",
    "fine_net.add(ref_layer5_bin)\n",
    "fine_net.add(layer_bin2rel)\n",
    "\n",
    "if not skip:\n",
    "    fine_tuning(td['x_train'], td['x_shape'], td['t_train'], td['t_shape'], fine_pre_net, fine_net, epoch=1)"
   ]
  },
  {
   "cell_type": "markdown",
   "metadata": {},
   "source": [
    "## Layer3"
   ]
  },
  {
   "cell_type": "code",
   "execution_count": 31,
   "metadata": {
    "colab": {},
    "colab_type": "code",
    "id": "ypDFhTnAUxd_"
   },
   "outputs": [],
   "source": [
    "# Layer3\n",
    "tW = ref_layer3_affine.W()\n",
    "W = np.array(tW.get_data()).reshape(tW.get_shape()[::-1])\n",
    "idx = np.argsort(-np.abs(W), axis=1)"
   ]
  },
  {
   "cell_type": "code",
   "execution_count": 32,
   "metadata": {},
   "outputs": [],
   "source": [
    "if True:\n",
    "    for i in range(64):\n",
    "        for j in range(6):\n",
    "            lut_layer3_sl0.set_connection_index([i], j, i*6+j)\n",
    "    \n",
    "    for i in range(64*6):\n",
    "        for j in range(6):\n",
    "            lut_layer3_sl1.set_connection_index([i], j, i*6+j)\n",
    "    \n",
    "    for i in range(64):\n",
    "        for j in range(6*6):\n",
    "            for k in range(6):\n",
    "                lut_layer3_sl2.set_connection_index([i*6*6+j], k, idx[i][(j*6*6+k) % (3*3*64)])"
   ]
  },
  {
   "cell_type": "code",
   "execution_count": 36,
   "metadata": {},
   "outputs": [
    {
     "name": "stderr",
     "output_type": "stream",
     "text": [
      "100%|██████████████████████████████████████████████████████████████████| 1875/1875 [07:29<00:00,  4.17it/s, loss=0.334]\n"
     ]
    }
   ],
   "source": [
    "pre_net = bb.Sequential.create()\n",
    "pre_net.add(layer_rel2bin)\n",
    "pre_net.add(lut_layer0_cnv)\n",
    "pre_net.add(lut_layer1_cnv)\n",
    "pre_net.add(bb.MaxPooling.create(2, 2))\n",
    "pre_net.add(lut_layer2_cnv)\n",
    "pre_net.send_command(\"binary true\")\n",
    "\n",
    "if True:\n",
    "    lut_layer0_sl0.load_json(os.path.join(net_path, 'lut_layer0_sl0.json'))\n",
    "    lut_layer0_sl1.load_json(os.path.join(net_path, 'lut_layer0_sl1.json'))\n",
    "    lut_layer1_sl0.load_json(os.path.join(net_path, 'lut_layer1_sl0.json'))\n",
    "    lut_layer1_sl1.load_json(os.path.join(net_path, 'lut_layer1_sl1.json'))\n",
    "    lut_layer2_sl0.load_json(os.path.join(net_path, 'lut_layer2_sl0.json'))\n",
    "    lut_layer2_sl1.load_json(os.path.join(net_path, 'lut_layer2_sl1.json'))\n",
    "    lut_layer2_sl2.load_json(os.path.join(net_path, 'lut_layer2_sl2.json'))\n",
    "\n",
    "if True:\n",
    "    try:\n",
    "        lut_layer3_sl0.load_json(os.path.join(net_path, 'lut_layer3_sl0.json'))\n",
    "        lut_layer3_sl1.load_json(os.path.join(net_path, 'lut_layer3_sl1.json'))\n",
    "        lut_layer3_sl2.load_json(os.path.join(net_path, 'lut_layer3_sl2.json'))\n",
    "    except:\n",
    "        pass\n",
    "\n",
    "#if not skip:\n",
    "if True:\n",
    "    tmp_bin2rel = bb.BinaryToReal.create(modulation_size)\n",
    "    tmp_bin2rel.set_input_shape(lut_layer3_cnv.get_output_shape())\n",
    "    #layer_distillation(td['x_train'], td['x_shape'], lut_layer3_cnv, ref_layer3_cnv, pre_net, tmp_bin2rel, epoch=2)\n",
    "    layer_distillation(td['x_train'], td['x_shape'], lut_layer3_cnv, ref_layer3_cnv, pre_net, epoch=1)"
   ]
  },
  {
   "cell_type": "code",
   "execution_count": 34,
   "metadata": {},
   "outputs": [],
   "source": [
    "if True:\n",
    "    lut_layer3_sl0.save_json(os.path.join(net_path, 'lut_layer3_sl0.json'))\n",
    "    lut_layer3_sl1.save_json(os.path.join(net_path, 'lut_layer3_sl1.json'))\n",
    "    lut_layer3_sl2.save_json(os.path.join(net_path, 'lut_layer3_sl2.json'))"
   ]
  },
  {
   "cell_type": "code",
   "execution_count": 35,
   "metadata": {},
   "outputs": [
    {
     "name": "stderr",
     "output_type": "stream",
     "text": [
      "100%|██████████████████████████████████████████████████| 1875/1875 [03:05<00:00, 10.12it/s, loss=0.015, accuracy=0.924]\n"
     ]
    }
   ],
   "source": [
    "fine_pre_net = bb.Sequential.create()\n",
    "fine_pre_net.add(layer_rel2bin)\n",
    "fine_pre_net.add(lut_layer0_cnv)\n",
    "fine_pre_net.add(lut_layer1_cnv)\n",
    "fine_pre_net.add(bb.MaxPooling.create(2, 2))\n",
    "fine_pre_net.add(lut_layer2_cnv)\n",
    "fine_pre_net.add(lut_layer3_cnv)\n",
    "fine_pre_net.add(bb.MaxPooling.create(2, 2))\n",
    "\n",
    "fine_net = bb.Sequential.create()\n",
    "fine_net.add(ref_layer4_affine)\n",
    "fine_net.add(ref_layer4_norm)\n",
    "fine_net.add(ref_layer4_bin)\n",
    "fine_net.add(ref_layer5_affine)\n",
    "fine_net.add(ref_layer5_norm)\n",
    "fine_net.add(ref_layer5_bin)\n",
    "fine_net.add(layer_bin2rel)\n",
    "\n",
    "#if not skip:\n",
    "if True:\n",
    "    fine_tuning(td['x_train'], td['x_shape'], td['t_train'], td['t_shape'], fine_pre_net, fine_net, epoch=1)"
   ]
  },
  {
   "cell_type": "code",
   "execution_count": null,
   "metadata": {},
   "outputs": [],
   "source": []
  }
 ],
 "metadata": {
  "accelerator": "GPU",
  "colab": {
   "collapsed_sections": [
    "4QwnWXYWJjlv",
    "Up4x62b_QeBb",
    "v6jCPBVkQ35e"
   ],
   "name": "MnistDenseCnnBinaryDistillation_3.ipynb のコピー",
   "provenance": [
    {
     "file_id": "1dHu4WWzQncOg4n-Ry5_WdbXu_Op_OnEw",
     "timestamp": 1578184614562
    },
    {
     "file_id": "1paWRkK21-4cW_63XPXERz81_mYT-Jlhq",
     "timestamp": 1577861549996
    },
    {
     "file_id": "1ZAjEkX4ri4NzwoZdszTl5JgKGGUouulH",
     "timestamp": 1577843841402
    }
   ]
  },
  "file_extension": ".py",
  "kernelspec": {
   "display_name": "Python 3",
   "language": "python",
   "name": "python3"
  },
  "language_info": {
   "codemirror_mode": {
    "name": "ipython",
    "version": 3
   },
   "file_extension": ".py",
   "mimetype": "text/x-python",
   "name": "python",
   "nbconvert_exporter": "python",
   "pygments_lexer": "ipython3",
   "version": "3.7.4"
  },
  "mimetype": "text/x-python",
  "name": "python",
  "npconvert_exporter": "python",
  "pygments_lexer": "ipython3",
  "version": 3
 },
 "nbformat": 4,
 "nbformat_minor": 1
}
