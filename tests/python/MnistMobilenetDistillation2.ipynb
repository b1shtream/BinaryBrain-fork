{
 "cells": [
  {
   "cell_type": "code",
   "execution_count": 1,
   "metadata": {},
   "outputs": [],
   "source": [
    "google_colab = False"
   ]
  },
  {
   "cell_type": "markdown",
   "metadata": {
    "colab_type": "text",
    "id": "atEZew4ESgqb"
   },
   "source": [
    "# Google Colab用事前準備"
   ]
  },
  {
   "cell_type": "code",
   "execution_count": 2,
   "metadata": {},
   "outputs": [],
   "source": [
    "# install\n",
    "try:\n",
    "    import binarybrain as bb\n",
    "except:\n",
    "    if google_colab and False:\n",
    "        !pip install pybind11\n",
    "        %cd /content\n",
    "        !nvcc -V\n",
    "        !sudo rm -fr BinaryBrain\n",
    "        !rm -fr BinaryBrain\n",
    "        !git clone --recursive -b ver3_develop https://github.com/ryuz/BinaryBrain.git\n",
    "        %cd /content/BinaryBrain/python\n",
    "        !sh copy_src.sh\n",
    "        !python3 setup.py build\n",
    "        !python3 setup.py develop\n",
    "\n",
    "        import binarybrain as bb"
   ]
  },
  {
   "cell_type": "code",
   "execution_count": 3,
   "metadata": {},
   "outputs": [],
   "source": [
    "# mount\n",
    "if google_colab:\n",
    "  from google.colab import drive \n",
    "  drive.mount('/content/drive')\n",
    "  %cd /content/drive/My Drive/git-work/BinaryBrain_ver3_develop/tests/python"
   ]
  },
  {
   "cell_type": "code",
   "execution_count": 4,
   "metadata": {},
   "outputs": [
    {
     "name": "stdout",
     "output_type": "stream",
     "text": [
      "\n",
      "name                     : GeForce GTX 1660 SUPER\n",
      "totalGlobalMem           : 6442450944\n",
      "sharedMemPerBlock        : 49152\n",
      "regsPerBlock             : 65536\n",
      "warpSize                 : 32\n",
      "memPitch                 : 2147483647\n",
      "maxThreadsPerBlock       : 1024\n",
      "maxThreadsDim[0]         : 1024\n",
      "maxThreadsDim[1]         : 1024\n",
      "maxThreadsDim[2]         : 64\n",
      "maxGridSize[0]           : 2147483647\n",
      "maxGridSize[1]           : 65535\n",
      "maxGridSize[2]           : 65535\n",
      "clockRate                : 1800000\n",
      "totalConstMem            : 65536\n",
      "major                    : 7\n",
      "minor                    : 5\n",
      "textureAlignment         : 512\n",
      "deviceOverlap            : 1\n",
      "multiProcessorCount      : 22\n",
      "kernelExecTimeoutEnabled : 1\n",
      "integrated               : 0\n",
      "canMapHostMemory         : 1\n",
      "computeMode              : 0\n",
      "\n",
      "\n"
     ]
    }
   ],
   "source": [
    "device = 0\n",
    "\n",
    "import binarybrain as bb\n",
    "\n",
    "import importlib\n",
    "importlib.reload(bb)\n",
    "\n",
    "bb.set_device(device)\n",
    "prop = bb.get_device_properties(device)\n",
    "print(prop)"
   ]
  },
  {
   "cell_type": "markdown",
   "metadata": {
    "colab_type": "text",
    "id": "0L3nSwtTUK_z"
   },
   "source": [
    "# メインコード"
   ]
  },
  {
   "cell_type": "code",
   "execution_count": 5,
   "metadata": {},
   "outputs": [],
   "source": [
    "import binarybrain as bb\n",
    "import numpy as np\n",
    "import matplotlib.pyplot as plt\n",
    "import random\n",
    "import cv2\n",
    "import os\n",
    "import sys\n",
    "import matplotlib.pyplot as plt\n",
    "from tqdm import tqdm\n",
    "from collections import OrderedDict"
   ]
  },
  {
   "cell_type": "code",
   "execution_count": 6,
   "metadata": {},
   "outputs": [],
   "source": [
    "def make_test_image(src_x, src_t):\n",
    "    dst_x = np.ndarray((len(src_x),  1, 28, 28), dtype=np.float32)\n",
    "    dst_t = np.ndarray((len(src_x), 11, 28, 28), dtype=np.float32)\n",
    "    for i in range(len(src_x)):\n",
    "        x_img = src_x[i].copy()\n",
    "        t_img = np.zeros((11, 28*28), dtype=np.float32)\n",
    "        mask0 = x_img <= 0.5\n",
    "        mask1 = x_img > 0.5\n",
    "        for j in range(10):\n",
    "          t_img[j,mask1] = src_t[i][j]\n",
    "        t_img[10,mask0] = 0.15\n",
    "        dst_x[i] = x_img.reshape(1, 28, 28)\n",
    "        dst_t[i] = t_img.reshape(11, 28, 28)\n",
    "    return dst_x, dst_t"
   ]
  },
  {
   "cell_type": "code",
   "execution_count": 7,
   "metadata": {},
   "outputs": [],
   "source": [
    "def make_test_data(src_x, src_t):\n",
    "    x, t = make_test_image(src_x, src_t)\n",
    "\n",
    "    dst_x = np.ndarray((len(src_x) // 4,  1*56*56), dtype=np.float32)\n",
    "    dst_t = np.ndarray((len(src_x) // 4, 11*56*56), dtype=np.float32)\n",
    "    for i in range(len(x) // 4):\n",
    "        x_img = np.hstack((np.dstack((x[i*4+0], x[i*4+1])), np.dstack((x[i*4+2], x[i*4+3]))))\n",
    "        t_img = np.hstack((np.dstack((t[i*4+0], t[i*4+1])), np.dstack((t[i*4+2], t[i*4+3]))))\n",
    "        dst_x[i] = x_img.reshape(-1)\n",
    "        dst_t[i] = t_img.reshape(-1)\n",
    "    return dst_x, dst_t"
   ]
  },
  {
   "cell_type": "code",
   "execution_count": 8,
   "metadata": {},
   "outputs": [],
   "source": [
    "def image_transform(img):\n",
    "    angle = random.uniform(-10.0, +10.0)\n",
    "    scale = random.uniform(0.8, 1.1)\n",
    "    trans = cv2.getRotationMatrix2D((14, 14), angle , scale)\n",
    "    trans[0][2] += random.uniform(-2.0, 2.0)\n",
    "    trans[1][2] += random.uniform(-2.0, 2.0)\n",
    "    return cv2.warpAffine(img.reshape(28, 28), trans, (28, 28))\n",
    "\n",
    "def make_td_image(src_x, src_t, w=28, h=28, depth=27):\n",
    "    l = len(src_x)\n",
    "    mx = (28 + depth + w + depth + 27) // 28\n",
    "    my = (28 + depth + h + depth + 27) // 28\n",
    "    dst_x = np.zeros(( 1, 28*my, 28*mx), dtype=np.float32)\n",
    "    dst_t = np.zeros((11, 28*my, 28*mx), dtype=np.float32)\n",
    "    for y in range(my):\n",
    "        for x in range(mx):\n",
    "            i = random.randrange(0, l)\n",
    "            dst_x[0,y*28:y*28+28, x*28:x*28+28] = image_transform(src_x[i])\n",
    "            dst_t[0:10,y*28:y*28+28, x*28:x*28+28] = np.tile(src_t[i], (28,28)).reshape(28, 28, 10).transpose(2, 0, 1)\n",
    "    x_flag0 = dst_x[0] <= 0.5\n",
    "    x_flag1 = dst_x[0] >  0.5\n",
    "    for i in range(10):\n",
    "        dst_t[i][x_flag0] = 0\n",
    "    dst_t[10][x_flag0] = 0.15\n",
    "    \n",
    "    xs = random.randrange(0, 28)\n",
    "    ys = random.randrange(0, 28)\n",
    "    dst_x  = dst_x[:,ys:ys+2*depth+h,xs:xs+2*depth+w]\n",
    "    x_flag = x_flag1[ys:ys+2*depth+h,xs:xs+2*depth+w]\n",
    "    \n",
    "    dst_t  = dst_t[:,ys+depth:ys+depth+h,xs+depth:xs+depth+w]\n",
    "    t_flag = x_flag1[ys+depth:ys+depth+h,xs+depth:xs+depth+w]\n",
    "    \n",
    "    x_mask = np.zeros(x_flag.shape, dtype=np.float32)\n",
    "    x_mask[x_flag] = 1.0\n",
    "    t_mask = np.zeros(t_flag.shape, dtype=np.float32)\n",
    "    t_mask[t_flag] = 1.0\n",
    "    \n",
    "    if random.randint(0, 1) > 0:\n",
    "        dst_x = 1.0 - dst_x\n",
    "    \n",
    "    return dst_x.flatten(), dst_t.flatten(), x_mask.flatten(), t_mask.flatten()\n",
    "\n",
    "def generate_td(src_td, train_size=60000//4, test_size=10000//4, w=28, h=28, depth=27):\n",
    "    dst_td = {}\n",
    "    \n",
    "    dst_td['x_train']      = []\n",
    "    dst_td['t_train']      = []\n",
    "    dst_td['x_mask_train'] = []\n",
    "    dst_td['t_mask_train'] = []\n",
    "    for _ in tqdm(range(train_size)):\n",
    "        x, t, xm, tm = make_td_image(src_td['x_train'], src_td['t_train'], w=w, h=h, depth=depth)\n",
    "        dst_td['x_train'].append(x)\n",
    "        dst_td['t_train'].append(t)\n",
    "        dst_td['x_mask_train'].append(xm)\n",
    "        dst_td['t_mask_train'].append(tm)\n",
    "    dst_td['x_train']      = np.array(dst_td['x_train'])\n",
    "    dst_td['t_train']      = np.array(dst_td['t_train'])\n",
    "    dst_td['x_mask_train'] = np.array(dst_td['x_mask_train'])\n",
    "    dst_td['t_mask_train'] = np.array(dst_td['t_mask_train'])\n",
    "    \n",
    "    dst_td['x_test']      = []\n",
    "    dst_td['t_test']      = []\n",
    "    dst_td['x_mask_test'] = []\n",
    "    dst_td['t_mask_test'] = []\n",
    "    for _ in tqdm(range(test_size)):\n",
    "        x, t, xm, tm = make_td_image(src_td['x_test'], src_td['t_test'], w=w, h=h, depth=depth)\n",
    "        dst_td['x_test'].append(x)\n",
    "        dst_td['t_test'].append(t)\n",
    "        dst_td['x_mask_test'].append(xm)\n",
    "        dst_td['t_mask_test'].append(tm)\n",
    "    dst_td['x_test']      = np.array(dst_td['x_test'])\n",
    "    dst_td['t_test']      = np.array(dst_td['t_test'])\n",
    "    dst_td['x_mask_test'] = np.array(dst_td['x_mask_test'])\n",
    "    dst_td['t_mask_test'] = np.array(dst_td['t_mask_test'])\n",
    "    \n",
    "    dst_td['x_shape'] = [depth*2+w, depth*2+h, 1]\n",
    "    dst_td['t_shape'] = [w, h, 11]\n",
    "    \n",
    "    return dst_td"
   ]
  },
  {
   "cell_type": "code",
   "execution_count": 9,
   "metadata": {},
   "outputs": [],
   "source": [
    "# load MNIST data\n",
    "td = bb.load_mnist()"
   ]
  },
  {
   "cell_type": "markdown",
   "metadata": {
    "colab_type": "text",
    "id": "4QwnWXYWJjlv"
   },
   "source": [
    "# ネットワーク構築"
   ]
  },
  {
   "cell_type": "code",
   "execution_count": 10,
   "metadata": {},
   "outputs": [],
   "source": [
    "data_path = 'MnistMobileNetDistillation'\n",
    "os.makedirs(data_path, exist_ok=True)\n",
    "network_name = 'mnist-mobilenet-distillation-reverse'\n",
    "\n",
    "ref_affine_list = []\n",
    "ref_norm_list   = []\n",
    "target_lut_list = []\n",
    "\n",
    "def clear_list():\n",
    "    ref_affine_list.clear()\n",
    "    ref_norm_list.clear()\n",
    "    target_lut_list.clear()\n",
    "\n",
    "def save_model_list(model_list, name, path='.'):\n",
    "    os.makedirs(os.path.join(data_path, path), exist_ok=True)\n",
    "    for i, model in enumerate(model_list):\n",
    "        model.save_json(os.path.join(data_path, path, '%s_%d.json' % (name, i)))\n",
    "\n",
    "def load_model_list(model_list, name, path='.'):\n",
    "    for i, model in enumerate(model_list):\n",
    "        filename = os.path.join(data_path, path, '%s_%d.json' % (name, i))\n",
    "        if not os.path.exists(filename):\n",
    "            return False\n",
    "        model.load_json(filename)\n",
    "    return True\n",
    "\n",
    "def save_all_model(path='.'):\n",
    "    save_model_list(ref_affine_list, 'ref_affine',    path)\n",
    "    save_model_list(ref_norm_list,   'ref_norm_list', path)\n",
    "    save_model_list(target_lut_list, 'target_lut',    path)\n",
    "    \n",
    "def load_all_model(path='.'):\n",
    "    if not load_model_list(ref_affine_list, 'ref_affine',    path): return False\n",
    "    if not load_model_list(ref_norm_list,   'ref_norm_list', path): return False\n",
    "    if not load_model_list(target_lut_list, 'target_lut',    path): return False\n",
    "    return True\n",
    "\n",
    "def make_common_layer(model):\n",
    "    layer = {}\n",
    "    layer['type']   = 'common'\n",
    "    layer['select'] = 'common'\n",
    "    layer['common'] = model\n",
    "    return layer    \n",
    "\n",
    "def make_cnv_layer(ch_size, w=3, h=3, lut_size=2, bn=True, connection='random', padding='valid'):\n",
    "    # setup infomation\n",
    "    layer = {}\n",
    "    layer['type']            = 'convolution'\n",
    "    layer['select']          = 'ref'\n",
    "    layer['connection']      = connection\n",
    "    layer['target_lut_size'] = lut_size\n",
    "    \n",
    "    if connection=='deptwise':\n",
    "        layer['ref_affine'] = bb.DepthwiseDenseAffine.create([ch_size])\n",
    "    else:\n",
    "        layer['ref_affine'] = bb.DenseAffine.create([ch_size])        \n",
    "    layer['ref_norm']   = bb.BatchNormalization.create() # momentum=0.1)\n",
    "    layer['ref_act']    = bb.BinarizeBit.create()\n",
    "    \n",
    "    layer['lut_size'] = lut_size\n",
    "    for i in range(lut_size):\n",
    "        layer['target_lut%d' % i] = bb.SparseLut6Bit.create([ch_size*(6**i)], bn, connection)\n",
    "    \n",
    "    # save\n",
    "    ref_affine_list.append(layer['ref_affine'])\n",
    "    ref_norm_list.append(layer['ref_norm'])\n",
    "    for i in range(lut_size-1, -1, -1):\n",
    "        target_lut_list.append(layer['target_lut%d' % i])\n",
    "    \n",
    "    # make network\n",
    "    ref_subnet =  bb.Sequential.create()\n",
    "    ref_subnet.add(layer['ref_affine'])\n",
    "    ref_subnet.add(layer['ref_norm'])\n",
    "    ref_subnet.add(layer['ref_act'])\n",
    "    layer['ref'] = bb.LoweringConvolutionBit.create(ref_subnet, w, h, 1, 1, padding=padding)\n",
    "    \n",
    "    target_subnet = bb.Sequential.create()\n",
    "    for i in range(lut_size-1, -1, -1):\n",
    "        target_subnet.add(layer['target_lut%d' % i])\n",
    "    layer['target'] = bb.LoweringConvolutionBit.create(target_subnet, w, h, 1, 1, padding=padding)\n",
    "    \n",
    "    return layer\n",
    "\n",
    "def build_net(layer_list):\n",
    "    net = bb.Sequential.create()\n",
    "    for layer in layer_list:\n",
    "        net.add(layer[layer['select']])\n",
    "    return net"
   ]
  },
  {
   "cell_type": "code",
   "execution_count": 11,
   "metadata": {},
   "outputs": [],
   "source": [
    "# build network\n",
    "modulation_size = 8\n",
    "layer_rel2bin = bb.RealToBinaryBit.create(modulation_size, framewise=True)\n",
    "layer_bin2rel = bb.BinaryToRealBit.create(modulation_size)\n",
    "\n",
    "clear_list()\n",
    "layer_list = []\n",
    "layer_list.append(make_common_layer(layer_rel2bin))\n",
    "layer_list.append(make_cnv_layer(36, 3, 3))                           # 26x26\n",
    "\n",
    "layer_list.append(make_cnv_layer(36, 1, 1))\n",
    "layer_list.append(make_cnv_layer(36, 3, 3,  connection='depthwise'))  # 24x24\n",
    "layer_list.append(make_cnv_layer(36, 1, 1))\n",
    "\n",
    "layer_list.append(make_common_layer(bb.MaxPoolingBit.create(2, 2)))   # 12x12\n",
    "\n",
    "layer_list.append(make_cnv_layer(36*2, 1, 1))\n",
    "layer_list.append(make_cnv_layer(36*2, 3, 3,  connection='depthwise'))  # 10x10\n",
    "layer_list.append(make_cnv_layer(36, 1, 1))\n",
    "\n",
    "layer_list.append(make_cnv_layer(36*2, 1, 1))\n",
    "layer_list.append(make_cnv_layer(36*2, 3, 3,  connection='depthwise'))  # 8x8\n",
    "layer_list.append(make_cnv_layer(36, 1, 1))\n",
    "\n",
    "layer_list.append(make_common_layer(bb.MaxPoolingBit.create(2, 2)))      # 4x4\n",
    "\n",
    "layer_list.append(make_cnv_layer(36*3, 1, 1))\n",
    "layer_list.append(make_cnv_layer(36*3, 2, 2,  connection='depthwise'))  # 3x3\n",
    "layer_list.append(make_cnv_layer(36, 1, 1))\n",
    "\n",
    "layer_list.append(make_cnv_layer(36*3, 1, 1))\n",
    "layer_list.append(make_cnv_layer(36*3, 3, 3,  connection='depthwise'))  # 1x1\n",
    "layer_list.append(make_cnv_layer(10, 1, 1))\n",
    "\n",
    "layer_list.append(make_common_layer(layer_bin2rel))"
   ]
  },
  {
   "cell_type": "code",
   "execution_count": 12,
   "metadata": {},
   "outputs": [
    {
     "name": "stdout",
     "output_type": "stream",
     "text": [
      "----------------------------------------------------------------------\n",
      "[Sequential] \n",
      "  --------------------------------------------------------------------\n",
      "  [RealToBinary] \n",
      "   input  shape : {28, 28, 1}   output shape : {28, 28, 1}\n",
      "  --------------------------------------------------------------------\n",
      "  [LoweringConvolution] \n",
      "   filter size : (3, 3)\n",
      "   input  shape : {28, 28, 1}   output shape : {26, 26, 36}\n",
      "    ------------------------------------------------------------------\n",
      "    [ConvolutionIm2Col] \n",
      "     input  shape : {28, 28, 1}     output shape : {3, 3, 1}\n",
      "    ------------------------------------------------------------------\n",
      "    [Sequential] \n",
      "      ----------------------------------------------------------------\n",
      "      [DenseAffine] \n",
      "       input  shape : {3, 3, 1}       output shape : {36}\n",
      "      ----------------------------------------------------------------\n",
      "      [BatchNormalization] \n",
      "       input  shape : {36}       output shape : {36}\n",
      "      ----------------------------------------------------------------\n",
      "      [Binarize] \n",
      "       input  shape : {36}       output shape : {36}\n",
      "    ------------------------------------------------------------------\n",
      "    [ConvolutionCol2Im] \n",
      "     input  shape : {36}     output shape : {26, 26, 36}\n",
      "  --------------------------------------------------------------------\n",
      "  [LoweringConvolution] \n",
      "   filter size : (1, 1)\n",
      "   input  shape : {26, 26, 36}   output shape : {26, 26, 36}\n",
      "    ------------------------------------------------------------------\n",
      "    [ConvolutionIm2Col] \n",
      "     input  shape : {26, 26, 36}     output shape : {1, 1, 36}\n",
      "    ------------------------------------------------------------------\n",
      "    [Sequential] \n",
      "      ----------------------------------------------------------------\n",
      "      [DenseAffine] \n",
      "       input  shape : {1, 1, 36}       output shape : {36}\n",
      "      ----------------------------------------------------------------\n",
      "      [BatchNormalization] \n",
      "       input  shape : {36}       output shape : {36}\n",
      "      ----------------------------------------------------------------\n",
      "      [Binarize] \n",
      "       input  shape : {36}       output shape : {36}\n",
      "    ------------------------------------------------------------------\n",
      "    [ConvolutionCol2Im] \n",
      "     input  shape : {36}     output shape : {26, 26, 36}\n",
      "  --------------------------------------------------------------------\n",
      "  [LoweringConvolution] \n",
      "   filter size : (3, 3)\n",
      "   input  shape : {26, 26, 36}   output shape : {24, 24, 36}\n",
      "    ------------------------------------------------------------------\n",
      "    [ConvolutionIm2Col] \n",
      "     input  shape : {26, 26, 36}     output shape : {3, 3, 36}\n",
      "    ------------------------------------------------------------------\n",
      "    [Sequential] \n",
      "      ----------------------------------------------------------------\n",
      "      [DenseAffine] \n",
      "       input  shape : {3, 3, 36}       output shape : {36}\n",
      "      ----------------------------------------------------------------\n",
      "      [BatchNormalization] \n",
      "       input  shape : {36}       output shape : {36}\n",
      "      ----------------------------------------------------------------\n",
      "      [Binarize] \n",
      "       input  shape : {36}       output shape : {36}\n",
      "    ------------------------------------------------------------------\n",
      "    [ConvolutionCol2Im] \n",
      "     input  shape : {36}     output shape : {24, 24, 36}\n",
      "  --------------------------------------------------------------------\n",
      "  [LoweringConvolution] \n",
      "   filter size : (1, 1)\n",
      "   input  shape : {24, 24, 36}   output shape : {24, 24, 36}\n",
      "    ------------------------------------------------------------------\n",
      "    [ConvolutionIm2Col] \n",
      "     input  shape : {24, 24, 36}     output shape : {1, 1, 36}\n",
      "    ------------------------------------------------------------------\n",
      "    [Sequential] \n",
      "      ----------------------------------------------------------------\n",
      "      [DenseAffine] \n",
      "       input  shape : {1, 1, 36}       output shape : {36}\n",
      "      ----------------------------------------------------------------\n",
      "      [BatchNormalization] \n",
      "       input  shape : {36}       output shape : {36}\n",
      "      ----------------------------------------------------------------\n",
      "      [Binarize] \n",
      "       input  shape : {36}       output shape : {36}\n",
      "    ------------------------------------------------------------------\n",
      "    [ConvolutionCol2Im] \n",
      "     input  shape : {36}     output shape : {24, 24, 36}\n",
      "  --------------------------------------------------------------------\n",
      "  [MaxPooling] \n",
      "   filter size : (2, 2)\n",
      "   input  shape : {24, 24, 36}   output shape : {12, 12, 36}\n",
      "  --------------------------------------------------------------------\n",
      "  [LoweringConvolution] \n",
      "   filter size : (1, 1)\n",
      "   input  shape : {12, 12, 36}   output shape : {12, 12, 72}\n",
      "    ------------------------------------------------------------------\n",
      "    [ConvolutionIm2Col] \n",
      "     input  shape : {12, 12, 36}     output shape : {1, 1, 36}\n",
      "    ------------------------------------------------------------------\n",
      "    [Sequential] \n",
      "      ----------------------------------------------------------------\n",
      "      [DenseAffine] \n",
      "       input  shape : {1, 1, 36}       output shape : {72}\n",
      "      ----------------------------------------------------------------\n",
      "      [BatchNormalization] \n",
      "       input  shape : {72}       output shape : {72}\n",
      "      ----------------------------------------------------------------\n",
      "      [Binarize] \n",
      "       input  shape : {72}       output shape : {72}\n",
      "    ------------------------------------------------------------------\n",
      "    [ConvolutionCol2Im] \n",
      "     input  shape : {72}     output shape : {12, 12, 72}\n",
      "  --------------------------------------------------------------------\n",
      "  [LoweringConvolution] \n",
      "   filter size : (3, 3)\n",
      "   input  shape : {12, 12, 72}   output shape : {10, 10, 72}\n",
      "    ------------------------------------------------------------------\n",
      "    [ConvolutionIm2Col] \n",
      "     input  shape : {12, 12, 72}     output shape : {3, 3, 72}\n",
      "    ------------------------------------------------------------------\n",
      "    [Sequential] \n",
      "      ----------------------------------------------------------------\n",
      "      [DenseAffine] \n",
      "       input  shape : {3, 3, 72}       output shape : {72}\n",
      "      ----------------------------------------------------------------\n",
      "      [BatchNormalization] \n",
      "       input  shape : {72}       output shape : {72}\n",
      "      ----------------------------------------------------------------\n",
      "      [Binarize] \n",
      "       input  shape : {72}       output shape : {72}\n",
      "    ------------------------------------------------------------------\n",
      "    [ConvolutionCol2Im] \n",
      "     input  shape : {72}     output shape : {10, 10, 72}\n",
      "  --------------------------------------------------------------------\n",
      "  [LoweringConvolution] \n",
      "   filter size : (1, 1)\n",
      "   input  shape : {10, 10, 72}   output shape : {10, 10, 36}\n",
      "    ------------------------------------------------------------------\n",
      "    [ConvolutionIm2Col] \n",
      "     input  shape : {10, 10, 72}     output shape : {1, 1, 72}\n",
      "    ------------------------------------------------------------------\n",
      "    [Sequential] \n",
      "      ----------------------------------------------------------------\n",
      "      [DenseAffine] \n",
      "       input  shape : {1, 1, 72}       output shape : {36}\n",
      "      ----------------------------------------------------------------\n",
      "      [BatchNormalization] \n",
      "       input  shape : {36}       output shape : {36}\n",
      "      ----------------------------------------------------------------\n",
      "      [Binarize] \n",
      "       input  shape : {36}       output shape : {36}\n",
      "    ------------------------------------------------------------------\n",
      "    [ConvolutionCol2Im] \n",
      "     input  shape : {36}     output shape : {10, 10, 36}\n",
      "  --------------------------------------------------------------------\n",
      "  [LoweringConvolution] \n",
      "   filter size : (1, 1)\n",
      "   input  shape : {10, 10, 36}   output shape : {10, 10, 72}\n",
      "    ------------------------------------------------------------------\n",
      "    [ConvolutionIm2Col] \n",
      "     input  shape : {10, 10, 36}     output shape : {1, 1, 36}\n",
      "    ------------------------------------------------------------------\n",
      "    [Sequential] \n",
      "      ----------------------------------------------------------------\n",
      "      [DenseAffine] \n",
      "       input  shape : {1, 1, 36}       output shape : {72}\n",
      "      ----------------------------------------------------------------\n",
      "      [BatchNormalization] \n",
      "       input  shape : {72}       output shape : {72}\n",
      "      ----------------------------------------------------------------\n",
      "      [Binarize] \n",
      "       input  shape : {72}       output shape : {72}\n",
      "    ------------------------------------------------------------------\n",
      "    [ConvolutionCol2Im] \n",
      "     input  shape : {72}     output shape : {10, 10, 72}\n",
      "  --------------------------------------------------------------------\n",
      "  [LoweringConvolution] \n",
      "   filter size : (3, 3)\n",
      "   input  shape : {10, 10, 72}   output shape : {8, 8, 72}\n",
      "    ------------------------------------------------------------------\n",
      "    [ConvolutionIm2Col] \n",
      "     input  shape : {10, 10, 72}     output shape : {3, 3, 72}\n",
      "    ------------------------------------------------------------------\n",
      "    [Sequential] \n",
      "      ----------------------------------------------------------------\n",
      "      [DenseAffine] \n",
      "       input  shape : {3, 3, 72}       output shape : {72}\n",
      "      ----------------------------------------------------------------\n",
      "      [BatchNormalization] \n",
      "       input  shape : {72}       output shape : {72}\n",
      "      ----------------------------------------------------------------\n",
      "      [Binarize] \n",
      "       input  shape : {72}       output shape : {72}\n",
      "    ------------------------------------------------------------------\n",
      "    [ConvolutionCol2Im] \n",
      "     input  shape : {72}     output shape : {8, 8, 72}\n",
      "  --------------------------------------------------------------------\n",
      "  [LoweringConvolution] \n",
      "   filter size : (1, 1)\n",
      "   input  shape : {8, 8, 72}   output shape : {8, 8, 36}\n",
      "    ------------------------------------------------------------------\n",
      "    [ConvolutionIm2Col] \n",
      "     input  shape : {8, 8, 72}     output shape : {1, 1, 72}\n",
      "    ------------------------------------------------------------------\n",
      "    [Sequential] \n",
      "      ----------------------------------------------------------------\n",
      "      [DenseAffine] \n",
      "       input  shape : {1, 1, 72}       output shape : {36}\n",
      "      ----------------------------------------------------------------\n",
      "      [BatchNormalization] \n",
      "       input  shape : {36}       output shape : {36}\n",
      "      ----------------------------------------------------------------\n",
      "      [Binarize] \n",
      "       input  shape : {36}       output shape : {36}\n",
      "    ------------------------------------------------------------------\n",
      "    [ConvolutionCol2Im] \n",
      "     input  shape : {36}     output shape : {8, 8, 36}\n",
      "  --------------------------------------------------------------------\n",
      "  [MaxPooling] \n",
      "   filter size : (2, 2)\n",
      "   input  shape : {8, 8, 36}   output shape : {4, 4, 36}\n",
      "  --------------------------------------------------------------------\n",
      "  [LoweringConvolution] \n",
      "   filter size : (1, 1)\n",
      "   input  shape : {4, 4, 36}   output shape : {4, 4, 108}\n",
      "    ------------------------------------------------------------------\n",
      "    [ConvolutionIm2Col] \n",
      "     input  shape : {4, 4, 36}     output shape : {1, 1, 36}\n",
      "    ------------------------------------------------------------------\n",
      "    [Sequential] \n",
      "      ----------------------------------------------------------------\n",
      "      [DenseAffine] \n",
      "       input  shape : {1, 1, 36}       output shape : {108}\n",
      "      ----------------------------------------------------------------\n",
      "      [BatchNormalization] \n",
      "       input  shape : {108}       output shape : {108}\n",
      "      ----------------------------------------------------------------\n",
      "      [Binarize] \n",
      "       input  shape : {108}       output shape : {108}\n",
      "    ------------------------------------------------------------------\n",
      "    [ConvolutionCol2Im] \n",
      "     input  shape : {108}     output shape : {4, 4, 108}\n",
      "  --------------------------------------------------------------------\n",
      "  [LoweringConvolution] \n",
      "   filter size : (2, 2)\n",
      "   input  shape : {4, 4, 108}   output shape : {3, 3, 108}\n",
      "    ------------------------------------------------------------------\n",
      "    [ConvolutionIm2Col] \n",
      "     input  shape : {4, 4, 108}     output shape : {2, 2, 108}\n",
      "    ------------------------------------------------------------------\n",
      "    [Sequential] \n",
      "      ----------------------------------------------------------------\n",
      "      [DenseAffine] \n",
      "       input  shape : {2, 2, 108}       output shape : {108}\n",
      "      ----------------------------------------------------------------\n",
      "      [BatchNormalization] \n",
      "       input  shape : {108}       output shape : {108}\n",
      "      ----------------------------------------------------------------\n",
      "      [Binarize] \n",
      "       input  shape : {108}       output shape : {108}\n",
      "    ------------------------------------------------------------------\n",
      "    [ConvolutionCol2Im] \n",
      "     input  shape : {108}     output shape : {3, 3, 108}\n",
      "  --------------------------------------------------------------------\n",
      "  [LoweringConvolution] \n",
      "   filter size : (1, 1)\n",
      "   input  shape : {3, 3, 108}   output shape : {3, 3, 36}\n",
      "    ------------------------------------------------------------------\n",
      "    [ConvolutionIm2Col] \n",
      "     input  shape : {3, 3, 108}     output shape : {1, 1, 108}\n",
      "    ------------------------------------------------------------------\n",
      "    [Sequential] \n",
      "      ----------------------------------------------------------------\n",
      "      [DenseAffine] \n",
      "       input  shape : {1, 1, 108}       output shape : {36}\n",
      "      ----------------------------------------------------------------\n",
      "      [BatchNormalization] \n",
      "       input  shape : {36}       output shape : {36}\n",
      "      ----------------------------------------------------------------\n",
      "      [Binarize] \n",
      "       input  shape : {36}       output shape : {36}\n",
      "    ------------------------------------------------------------------\n",
      "    [ConvolutionCol2Im] \n",
      "     input  shape : {36}     output shape : {3, 3, 36}\n",
      "  --------------------------------------------------------------------\n",
      "  [LoweringConvolution] \n",
      "   filter size : (1, 1)\n",
      "   input  shape : {3, 3, 36}   output shape : {3, 3, 108}\n",
      "    ------------------------------------------------------------------\n",
      "    [ConvolutionIm2Col] \n",
      "     input  shape : {3, 3, 36}     output shape : {1, 1, 36}\n",
      "    ------------------------------------------------------------------\n",
      "    [Sequential] \n",
      "      ----------------------------------------------------------------\n",
      "      [DenseAffine] \n",
      "       input  shape : {1, 1, 36}       output shape : {108}\n",
      "      ----------------------------------------------------------------\n",
      "      [BatchNormalization] \n",
      "       input  shape : {108}       output shape : {108}\n",
      "      ----------------------------------------------------------------\n",
      "      [Binarize] \n",
      "       input  shape : {108}       output shape : {108}\n",
      "    ------------------------------------------------------------------\n",
      "    [ConvolutionCol2Im] \n",
      "     input  shape : {108}     output shape : {3, 3, 108}\n",
      "  --------------------------------------------------------------------\n",
      "  [LoweringConvolution] \n",
      "   filter size : (3, 3)\n",
      "   input  shape : {3, 3, 108}   output shape : {1, 1, 108}\n",
      "    ------------------------------------------------------------------\n",
      "    [ConvolutionIm2Col] \n",
      "     input  shape : {3, 3, 108}     output shape : {3, 3, 108}\n",
      "    ------------------------------------------------------------------\n",
      "    [Sequential] \n",
      "      ----------------------------------------------------------------\n",
      "      [DenseAffine] \n",
      "       input  shape : {3, 3, 108}       output shape : {108}\n",
      "      ----------------------------------------------------------------\n",
      "      [BatchNormalization] \n",
      "       input  shape : {108}       output shape : {108}\n",
      "      ----------------------------------------------------------------\n",
      "      [Binarize] \n",
      "       input  shape : {108}       output shape : {108}\n",
      "    ------------------------------------------------------------------\n",
      "    [ConvolutionCol2Im] \n",
      "     input  shape : {108}     output shape : {1, 1, 108}\n",
      "  --------------------------------------------------------------------\n",
      "  [LoweringConvolution] \n",
      "   filter size : (1, 1)\n",
      "   input  shape : {1, 1, 108}   output shape : {1, 1, 10}\n",
      "    ------------------------------------------------------------------\n",
      "    [ConvolutionIm2Col] \n",
      "     input  shape : {1, 1, 108}     output shape : {1, 1, 108}\n",
      "    ------------------------------------------------------------------\n",
      "    [Sequential] \n",
      "      ----------------------------------------------------------------\n",
      "      [DenseAffine] \n",
      "       input  shape : {1, 1, 108}       output shape : {10}\n",
      "      ----------------------------------------------------------------\n",
      "      [BatchNormalization] \n",
      "       input  shape : {10}       output shape : {10}\n",
      "      ----------------------------------------------------------------\n",
      "      [Binarize] \n",
      "       input  shape : {10}       output shape : {10}\n",
      "    ------------------------------------------------------------------\n",
      "    [ConvolutionCol2Im] \n",
      "     input  shape : {10}     output shape : {1, 1, 10}\n",
      "  --------------------------------------------------------------------\n",
      "  [BinaryToReal] \n",
      "   input  shape : {1, 1, 10}   output shape : {1, 1, 10}\n",
      "----------------------------------------------------------------------\n",
      "\n"
     ]
    }
   ],
   "source": [
    "main_net = build_net(layer_list)\n",
    "main_net.set_input_shape(td['x_shape'])\n",
    "main_net.send_command('binary true')\n",
    "\n",
    "print(main_net.get_info())"
   ]
  },
  {
   "cell_type": "code",
   "execution_count": 13,
   "metadata": {},
   "outputs": [
    {
     "name": "stderr",
     "output_type": "stream",
     "text": [
      "  0%|                                                                  | 0/1875 [00:00<?, ?it/s, loss=1.48, accuracy=1]"
     ]
    },
    {
     "name": "stdout",
     "output_type": "stream",
     "text": [
      "epoch=1 test_accuracy=0.933800 test_loss=1.533198 train_accuracy=0.927983 train_loss=1.539858\n"
     ]
    },
    {
     "name": "stderr",
     "output_type": "stream",
     "text": [
      "  0%|                                                              | 0/1875 [00:00<?, ?it/s, loss=1.53, accuracy=0.906]"
     ]
    },
    {
     "name": "stdout",
     "output_type": "stream",
     "text": [
      "epoch=2 test_accuracy=0.981500 test_loss=1.480170 train_accuracy=0.980100 train_loss=1.482367\n"
     ]
    },
    {
     "name": "stderr",
     "output_type": "stream",
     "text": [
      "  0%|                                                              | 0/1875 [00:00<?, ?it/s, loss=1.48, accuracy=0.969]"
     ]
    },
    {
     "name": "stdout",
     "output_type": "stream",
     "text": [
      "epoch=3 test_accuracy=0.984500 test_loss=1.477892 train_accuracy=0.984550 train_loss=1.478139\n"
     ]
    },
    {
     "name": "stderr",
     "output_type": "stream",
     "text": [
      "  0%|                                                                                         | 0/1875 [00:00<?, ?it/s]"
     ]
    },
    {
     "name": "stdout",
     "output_type": "stream",
     "text": [
      "epoch=4 test_accuracy=0.987100 test_loss=1.475835 train_accuracy=0.986000 train_loss=1.476892\n"
     ]
    },
    {
     "name": "stderr",
     "output_type": "stream",
     "text": [
      "  0%|                                                                  | 0/1875 [00:00<?, ?it/s, loss=1.47, accuracy=1]"
     ]
    },
    {
     "name": "stdout",
     "output_type": "stream",
     "text": [
      "epoch=5 test_accuracy=0.593700 test_loss=1.835865 train_accuracy=0.586317 train_loss=1.841793\n"
     ]
    },
    {
     "name": "stderr",
     "output_type": "stream",
     "text": [
      "  0%|                                                                                         | 0/1875 [00:00<?, ?it/s]"
     ]
    },
    {
     "name": "stdout",
     "output_type": "stream",
     "text": [
      "epoch=6 test_accuracy=0.988900 test_loss=1.472953 train_accuracy=0.990250 train_loss=1.472403\n"
     ]
    },
    {
     "name": "stderr",
     "output_type": "stream",
     "text": [
      "  0%|                                                                                         | 0/1875 [00:00<?, ?it/s]"
     ]
    },
    {
     "name": "stdout",
     "output_type": "stream",
     "text": [
      "epoch=7 test_accuracy=0.991100 test_loss=1.471702 train_accuracy=0.990750 train_loss=1.471846\n"
     ]
    },
    {
     "name": "stderr",
     "output_type": "stream",
     "text": [
      "  0%|                                                              | 0/1875 [00:00<?, ?it/s, loss=1.48, accuracy=0.969]"
     ]
    },
    {
     "name": "stdout",
     "output_type": "stream",
     "text": [
      "epoch=8 test_accuracy=0.990900 test_loss=1.471995 train_accuracy=0.991017 train_loss=1.471568\n"
     ]
    },
    {
     "name": "stderr",
     "output_type": "stream",
     "text": [
      "  0%|                                                                                         | 0/1875 [00:00<?, ?it/s]"
     ]
    },
    {
     "name": "stdout",
     "output_type": "stream",
     "text": [
      "epoch=9 test_accuracy=0.687400 test_loss=1.757574 train_accuracy=0.683133 train_loss=1.763926\n"
     ]
    },
    {
     "name": "stderr",
     "output_type": "stream",
     "text": [
      "  0%|                                                                                         | 0/1875 [00:00<?, ?it/s]"
     ]
    },
    {
     "name": "stdout",
     "output_type": "stream",
     "text": [
      "epoch=10 test_accuracy=0.991600 test_loss=1.472492 train_accuracy=0.991333 train_loss=1.472339\n"
     ]
    },
    {
     "name": "stderr",
     "output_type": "stream",
     "text": [
      "  0%|                                                                  | 0/1875 [00:00<?, ?it/s, loss=1.46, accuracy=1]"
     ]
    },
    {
     "name": "stdout",
     "output_type": "stream",
     "text": [
      "epoch=11 test_accuracy=0.991000 test_loss=1.471598 train_accuracy=0.992183 train_loss=1.470754\n"
     ]
    },
    {
     "name": "stderr",
     "output_type": "stream",
     "text": [
      "  0%|                                                                                         | 0/1875 [00:00<?, ?it/s]"
     ]
    },
    {
     "name": "stdout",
     "output_type": "stream",
     "text": [
      "epoch=12 test_accuracy=0.992400 test_loss=1.470524 train_accuracy=0.992783 train_loss=1.469881\n"
     ]
    },
    {
     "name": "stderr",
     "output_type": "stream",
     "text": [
      "  0%|                                                                  | 0/1875 [00:00<?, ?it/s, loss=1.47, accuracy=1]"
     ]
    },
    {
     "name": "stdout",
     "output_type": "stream",
     "text": [
      "epoch=13 test_accuracy=0.981500 test_loss=1.490945 train_accuracy=0.980033 train_loss=1.492651\n"
     ]
    },
    {
     "name": "stderr",
     "output_type": "stream",
     "text": [
      "  0%|                                                                  | 0/1875 [00:00<?, ?it/s, loss=1.46, accuracy=1]"
     ]
    },
    {
     "name": "stdout",
     "output_type": "stream",
     "text": [
      "epoch=14 test_accuracy=0.992100 test_loss=1.470178 train_accuracy=0.993217 train_loss=1.469602\n"
     ]
    },
    {
     "name": "stderr",
     "output_type": "stream",
     "text": [
      "  0%|                                                                                         | 0/1875 [00:00<?, ?it/s]"
     ]
    },
    {
     "name": "stdout",
     "output_type": "stream",
     "text": [
      "epoch=15 test_accuracy=0.992100 test_loss=1.469796 train_accuracy=0.993317 train_loss=1.469150\n"
     ]
    },
    {
     "name": "stderr",
     "output_type": "stream",
     "text": [
      "  0%|                                                               | 0/1875 [00:00<?, ?it/s, loss=1.5, accuracy=0.969]"
     ]
    },
    {
     "name": "stdout",
     "output_type": "stream",
     "text": [
      "epoch=16 test_accuracy=0.992300 test_loss=1.470587 train_accuracy=0.992883 train_loss=1.470245\n"
     ]
    },
    {
     "name": "stderr",
     "output_type": "stream",
     "text": [
      "  0%|                                                                  | 0/1875 [00:00<?, ?it/s, loss=1.47, accuracy=1]"
     ]
    },
    {
     "name": "stdout",
     "output_type": "stream",
     "text": [
      "epoch=17 test_accuracy=0.992600 test_loss=1.470425 train_accuracy=0.994200 train_loss=1.469153\n"
     ]
    },
    {
     "name": "stderr",
     "output_type": "stream",
     "text": [
      "  0%|                                                                  | 0/1875 [00:00<?, ?it/s, loss=1.47, accuracy=1]"
     ]
    },
    {
     "name": "stdout",
     "output_type": "stream",
     "text": [
      "epoch=18 test_accuracy=0.992300 test_loss=1.470556 train_accuracy=0.992517 train_loss=1.469899\n"
     ]
    },
    {
     "name": "stderr",
     "output_type": "stream",
     "text": [
      "  0%|                                                                  | 0/1875 [00:00<?, ?it/s, loss=1.47, accuracy=1]"
     ]
    },
    {
     "name": "stdout",
     "output_type": "stream",
     "text": [
      "epoch=19 test_accuracy=0.919400 test_loss=1.573935 train_accuracy=0.908850 train_loss=1.579997\n"
     ]
    },
    {
     "name": "stderr",
     "output_type": "stream",
     "text": [
      "  0%|                                                                  | 0/1875 [00:00<?, ?it/s, loss=1.48, accuracy=1]"
     ]
    },
    {
     "name": "stdout",
     "output_type": "stream",
     "text": [
      "epoch=20 test_accuracy=0.992700 test_loss=1.470332 train_accuracy=0.994050 train_loss=1.469178\n"
     ]
    },
    {
     "name": "stderr",
     "output_type": "stream",
     "text": [
      "  0%|                                                                  | 0/1875 [00:00<?, ?it/s, loss=1.47, accuracy=1]"
     ]
    },
    {
     "name": "stdout",
     "output_type": "stream",
     "text": [
      "epoch=21 test_accuracy=0.915500 test_loss=1.562860 train_accuracy=0.911867 train_loss=1.567182\n"
     ]
    },
    {
     "name": "stderr",
     "output_type": "stream",
     "text": [
      "  0%|                                                                  | 0/1875 [00:00<?, ?it/s, loss=1.46, accuracy=1]"
     ]
    },
    {
     "name": "stdout",
     "output_type": "stream",
     "text": [
      "epoch=22 test_accuracy=0.986300 test_loss=1.477005 train_accuracy=0.987400 train_loss=1.477479\n"
     ]
    },
    {
     "name": "stderr",
     "output_type": "stream",
     "text": [
      "  0%|                                                                                         | 0/1875 [00:00<?, ?it/s]"
     ]
    },
    {
     "name": "stdout",
     "output_type": "stream",
     "text": [
      "epoch=23 test_accuracy=0.993000 test_loss=1.470549 train_accuracy=0.993367 train_loss=1.469969\n"
     ]
    },
    {
     "name": "stderr",
     "output_type": "stream",
     "text": [
      "  0%|                                                                                         | 0/1875 [00:00<?, ?it/s]"
     ]
    },
    {
     "name": "stdout",
     "output_type": "stream",
     "text": [
      "epoch=24 test_accuracy=0.984100 test_loss=1.483549 train_accuracy=0.982233 train_loss=1.485368\n"
     ]
    },
    {
     "name": "stderr",
     "output_type": "stream",
     "text": [
      "  0%|                                                                                         | 0/1875 [00:00<?, ?it/s]"
     ]
    },
    {
     "name": "stdout",
     "output_type": "stream",
     "text": [
      "epoch=25 test_accuracy=0.993600 test_loss=1.469621 train_accuracy=0.994400 train_loss=1.468531\n"
     ]
    },
    {
     "name": "stderr",
     "output_type": "stream",
     "text": [
      "  0%|                                                          | 1/1875 [00:00<04:08,  7.55it/s, loss=1.48, accuracy=1]"
     ]
    },
    {
     "name": "stdout",
     "output_type": "stream",
     "text": [
      "epoch=26 test_accuracy=0.992800 test_loss=1.471700 train_accuracy=0.992833 train_loss=1.471375\n"
     ]
    },
    {
     "name": "stderr",
     "output_type": "stream",
     "text": [
      "  0%|                                                                  | 0/1875 [00:00<?, ?it/s, loss=1.47, accuracy=1]"
     ]
    },
    {
     "name": "stdout",
     "output_type": "stream",
     "text": [
      "epoch=27 test_accuracy=0.993100 test_loss=1.470926 train_accuracy=0.994217 train_loss=1.469481\n"
     ]
    },
    {
     "name": "stderr",
     "output_type": "stream",
     "text": [
      "  0%|                                                                  | 0/1875 [00:00<?, ?it/s, loss=1.47, accuracy=1]"
     ]
    },
    {
     "name": "stdout",
     "output_type": "stream",
     "text": [
      "epoch=28 test_accuracy=0.992800 test_loss=1.470241 train_accuracy=0.994233 train_loss=1.469087\n"
     ]
    },
    {
     "name": "stderr",
     "output_type": "stream",
     "text": [
      "  0%|                                                                                         | 0/1875 [00:00<?, ?it/s]"
     ]
    },
    {
     "name": "stdout",
     "output_type": "stream",
     "text": [
      "epoch=29 test_accuracy=0.993000 test_loss=1.470905 train_accuracy=0.992683 train_loss=1.470691\n"
     ]
    },
    {
     "name": "stderr",
     "output_type": "stream",
     "text": [
      "  0%|                                                                                         | 0/1875 [00:00<?, ?it/s]"
     ]
    },
    {
     "name": "stdout",
     "output_type": "stream",
     "text": [
      "epoch=30 test_accuracy=0.991800 test_loss=1.470922 train_accuracy=0.992533 train_loss=1.470640\n"
     ]
    },
    {
     "name": "stderr",
     "output_type": "stream",
     "text": [
      "  0%|                                                                  | 0/1875 [00:00<?, ?it/s, loss=1.46, accuracy=1]"
     ]
    },
    {
     "name": "stdout",
     "output_type": "stream",
     "text": [
      "epoch=31 test_accuracy=0.992500 test_loss=1.470699 train_accuracy=0.994217 train_loss=1.469018\n"
     ]
    },
    {
     "name": "stderr",
     "output_type": "stream",
     "text": [
      "  0%|                                                                                         | 0/1875 [00:00<?, ?it/s]"
     ]
    },
    {
     "name": "stdout",
     "output_type": "stream",
     "text": [
      "epoch=32 test_accuracy=0.992900 test_loss=1.470293 train_accuracy=0.995017 train_loss=1.469184\n"
     ]
    },
    {
     "name": "stderr",
     "output_type": "stream",
     "text": [
      "  0%|                                                                  | 0/1875 [00:00<?, ?it/s, loss=1.48, accuracy=1]"
     ]
    },
    {
     "name": "stdout",
     "output_type": "stream",
     "text": [
      "epoch=33 test_accuracy=0.924100 test_loss=1.543026 train_accuracy=0.923133 train_loss=1.545758\n"
     ]
    },
    {
     "name": "stderr",
     "output_type": "stream",
     "text": [
      "  0%|                                                                  | 0/1875 [00:00<?, ?it/s, loss=1.47, accuracy=1]"
     ]
    },
    {
     "name": "stdout",
     "output_type": "stream",
     "text": [
      "epoch=34 test_accuracy=0.982400 test_loss=1.487940 train_accuracy=0.981300 train_loss=1.488694\n"
     ]
    },
    {
     "name": "stderr",
     "output_type": "stream",
     "text": [
      "  0%|                                                                  | 0/1875 [00:00<?, ?it/s, loss=1.47, accuracy=1]"
     ]
    },
    {
     "name": "stdout",
     "output_type": "stream",
     "text": [
      "epoch=35 test_accuracy=0.992600 test_loss=1.470100 train_accuracy=0.994433 train_loss=1.469092\n"
     ]
    },
    {
     "name": "stderr",
     "output_type": "stream",
     "text": [
      "  0%|                                                                                         | 0/1875 [00:00<?, ?it/s]"
     ]
    },
    {
     "name": "stdout",
     "output_type": "stream",
     "text": [
      "epoch=36 test_accuracy=0.887700 test_loss=1.603756 train_accuracy=0.884333 train_loss=1.608033\n"
     ]
    },
    {
     "name": "stderr",
     "output_type": "stream",
     "text": [
      "  0%|                                                                                         | 0/1875 [00:00<?, ?it/s]"
     ]
    },
    {
     "name": "stdout",
     "output_type": "stream",
     "text": [
      "epoch=37 test_accuracy=0.991500 test_loss=1.473066 train_accuracy=0.992200 train_loss=1.472449\n"
     ]
    },
    {
     "name": "stderr",
     "output_type": "stream",
     "text": [
      "  0%|                                                                  | 0/1875 [00:00<?, ?it/s, loss=1.48, accuracy=1]"
     ]
    },
    {
     "name": "stdout",
     "output_type": "stream",
     "text": [
      "epoch=38 test_accuracy=0.981800 test_loss=1.486896 train_accuracy=0.980217 train_loss=1.488124\n"
     ]
    },
    {
     "name": "stderr",
     "output_type": "stream",
     "text": [
      "  0%|                                                                                         | 0/1875 [00:00<?, ?it/s]"
     ]
    },
    {
     "name": "stdout",
     "output_type": "stream",
     "text": [
      "epoch=39 test_accuracy=0.963000 test_loss=1.515554 train_accuracy=0.958867 train_loss=1.518846\n"
     ]
    },
    {
     "name": "stderr",
     "output_type": "stream",
     "text": [
      "  0%|                                                                                         | 0/1875 [00:00<?, ?it/s]"
     ]
    },
    {
     "name": "stdout",
     "output_type": "stream",
     "text": [
      "epoch=40 test_accuracy=0.993100 test_loss=1.469937 train_accuracy=0.994567 train_loss=1.469194\n"
     ]
    },
    {
     "name": "stderr",
     "output_type": "stream",
     "text": [
      "  0%|                                                                  | 0/1875 [00:00<?, ?it/s, loss=1.47, accuracy=1]"
     ]
    },
    {
     "name": "stdout",
     "output_type": "stream",
     "text": [
      "epoch=41 test_accuracy=0.993300 test_loss=1.470345 train_accuracy=0.994600 train_loss=1.468935\n"
     ]
    },
    {
     "name": "stderr",
     "output_type": "stream",
     "text": [
      "  0%|                                                              | 0/1875 [00:00<?, ?it/s, loss=1.49, accuracy=0.969]"
     ]
    },
    {
     "name": "stdout",
     "output_type": "stream",
     "text": [
      "epoch=42 test_accuracy=0.994200 test_loss=1.470857 train_accuracy=0.994733 train_loss=1.469613\n"
     ]
    },
    {
     "name": "stderr",
     "output_type": "stream",
     "text": [
      "  0%|                                                                  | 0/1875 [00:00<?, ?it/s, loss=1.47, accuracy=1]"
     ]
    },
    {
     "name": "stdout",
     "output_type": "stream",
     "text": [
      "epoch=43 test_accuracy=0.991500 test_loss=1.471682 train_accuracy=0.993317 train_loss=1.470717\n"
     ]
    },
    {
     "name": "stderr",
     "output_type": "stream",
     "text": [
      "  0%|                                                               | 0/1875 [00:00<?, ?it/s, loss=1.5, accuracy=0.969]"
     ]
    },
    {
     "name": "stdout",
     "output_type": "stream",
     "text": [
      "epoch=44 test_accuracy=0.989800 test_loss=1.476602 train_accuracy=0.992083 train_loss=1.475681\n"
     ]
    },
    {
     "name": "stderr",
     "output_type": "stream",
     "text": [
      "  0%|                                                                  | 0/1875 [00:00<?, ?it/s, loss=1.47, accuracy=1]"
     ]
    },
    {
     "name": "stdout",
     "output_type": "stream",
     "text": [
      "epoch=45 test_accuracy=0.990700 test_loss=1.477780 train_accuracy=0.992183 train_loss=1.476391\n"
     ]
    },
    {
     "name": "stderr",
     "output_type": "stream",
     "text": [
      "  0%|                                                              | 0/1875 [00:00<?, ?it/s, loss=1.48, accuracy=0.969]"
     ]
    },
    {
     "name": "stdout",
     "output_type": "stream",
     "text": [
      "epoch=46 test_accuracy=0.993600 test_loss=1.469713 train_accuracy=0.995233 train_loss=1.467974\n"
     ]
    },
    {
     "name": "stderr",
     "output_type": "stream",
     "text": [
      "  0%|                                                                  | 0/1875 [00:00<?, ?it/s, loss=1.46, accuracy=1]"
     ]
    },
    {
     "name": "stdout",
     "output_type": "stream",
     "text": [
      "epoch=47 test_accuracy=0.994000 test_loss=1.469672 train_accuracy=0.995700 train_loss=1.468328\n"
     ]
    },
    {
     "name": "stderr",
     "output_type": "stream",
     "text": [
      "  0%|                                                                                         | 0/1875 [00:00<?, ?it/s]"
     ]
    },
    {
     "name": "stdout",
     "output_type": "stream",
     "text": [
      "epoch=48 test_accuracy=0.994300 test_loss=1.469372 train_accuracy=0.995600 train_loss=1.467994\n"
     ]
    },
    {
     "name": "stderr",
     "output_type": "stream",
     "text": [
      "  0%|                                                               | 0/1875 [00:00<?, ?it/s, loss=1.5, accuracy=0.969]"
     ]
    },
    {
     "name": "stdout",
     "output_type": "stream",
     "text": [
      "epoch=49 test_accuracy=0.994000 test_loss=1.469405 train_accuracy=0.995500 train_loss=1.468138\n"
     ]
    },
    {
     "name": "stderr",
     "output_type": "stream",
     "text": [
      "  0%|                                                                                         | 0/1875 [00:00<?, ?it/s]"
     ]
    },
    {
     "name": "stdout",
     "output_type": "stream",
     "text": [
      "epoch=50 test_accuracy=0.993400 test_loss=1.469636 train_accuracy=0.994733 train_loss=1.468157\n"
     ]
    },
    {
     "name": "stderr",
     "output_type": "stream",
     "text": [
      "  0%|                                                                  | 0/1875 [00:00<?, ?it/s, loss=1.47, accuracy=1]"
     ]
    },
    {
     "name": "stdout",
     "output_type": "stream",
     "text": [
      "epoch=51 test_accuracy=0.970600 test_loss=1.504411 train_accuracy=0.972217 train_loss=1.506097\n"
     ]
    },
    {
     "name": "stderr",
     "output_type": "stream",
     "text": [
      "  0%|                                                                                         | 0/1875 [00:00<?, ?it/s]"
     ]
    },
    {
     "name": "stdout",
     "output_type": "stream",
     "text": [
      "epoch=52 test_accuracy=0.889600 test_loss=1.615806 train_accuracy=0.879367 train_loss=1.625528\n"
     ]
    },
    {
     "name": "stderr",
     "output_type": "stream",
     "text": [
      "  0%|                                                                                         | 0/1875 [00:00<?, ?it/s]"
     ]
    },
    {
     "name": "stdout",
     "output_type": "stream",
     "text": [
      "epoch=53 test_accuracy=0.992900 test_loss=1.470678 train_accuracy=0.994133 train_loss=1.469551\n"
     ]
    },
    {
     "name": "stderr",
     "output_type": "stream",
     "text": [
      "  0%|                                                                                         | 0/1875 [00:00<?, ?it/s]"
     ]
    },
    {
     "name": "stdout",
     "output_type": "stream",
     "text": [
      "epoch=54 test_accuracy=0.992000 test_loss=1.470314 train_accuracy=0.995300 train_loss=1.468477\n"
     ]
    },
    {
     "name": "stderr",
     "output_type": "stream",
     "text": [
      "  0%|                                                                  | 0/1875 [00:00<?, ?it/s, loss=1.47, accuracy=1]"
     ]
    },
    {
     "name": "stdout",
     "output_type": "stream",
     "text": [
      "epoch=55 test_accuracy=0.994500 test_loss=1.469436 train_accuracy=0.995433 train_loss=1.468559\n"
     ]
    },
    {
     "name": "stderr",
     "output_type": "stream",
     "text": [
      "  0%|                                                                                         | 0/1875 [00:00<?, ?it/s]"
     ]
    },
    {
     "name": "stdout",
     "output_type": "stream",
     "text": [
      "epoch=56 test_accuracy=0.993700 test_loss=1.470310 train_accuracy=0.995617 train_loss=1.468485\n"
     ]
    },
    {
     "name": "stderr",
     "output_type": "stream",
     "text": [
      "  0%|                                                                                         | 0/1875 [00:00<?, ?it/s]"
     ]
    },
    {
     "name": "stdout",
     "output_type": "stream",
     "text": [
      "epoch=57 test_accuracy=0.991600 test_loss=1.474060 train_accuracy=0.992133 train_loss=1.473881\n"
     ]
    },
    {
     "name": "stderr",
     "output_type": "stream",
     "text": [
      "  0%|                                                                  | 0/1875 [00:00<?, ?it/s, loss=1.47, accuracy=1]"
     ]
    },
    {
     "name": "stdout",
     "output_type": "stream",
     "text": [
      "epoch=58 test_accuracy=0.992400 test_loss=1.470280 train_accuracy=0.994983 train_loss=1.468607\n"
     ]
    },
    {
     "name": "stderr",
     "output_type": "stream",
     "text": [
      "  0%|                                                                                         | 0/1875 [00:00<?, ?it/s]"
     ]
    },
    {
     "name": "stdout",
     "output_type": "stream",
     "text": [
      "epoch=59 test_accuracy=0.992400 test_loss=1.471621 train_accuracy=0.994083 train_loss=1.469747\n"
     ]
    },
    {
     "name": "stderr",
     "output_type": "stream",
     "text": [
      "  0%|                                                                  | 0/1875 [00:00<?, ?it/s, loss=1.47, accuracy=1]"
     ]
    },
    {
     "name": "stdout",
     "output_type": "stream",
     "text": [
      "epoch=60 test_accuracy=0.992300 test_loss=1.470970 train_accuracy=0.995417 train_loss=1.468823\n"
     ]
    },
    {
     "name": "stderr",
     "output_type": "stream",
     "text": [
      "  0%|                                                                                         | 0/1875 [00:00<?, ?it/s]"
     ]
    },
    {
     "name": "stdout",
     "output_type": "stream",
     "text": [
      "epoch=61 test_accuracy=0.992400 test_loss=1.471027 train_accuracy=0.994367 train_loss=1.469255\n"
     ]
    },
    {
     "name": "stderr",
     "output_type": "stream",
     "text": [
      "  0%|                                                                  | 0/1875 [00:00<?, ?it/s, loss=1.47, accuracy=1]"
     ]
    },
    {
     "name": "stdout",
     "output_type": "stream",
     "text": [
      "epoch=62 test_accuracy=0.994000 test_loss=1.469570 train_accuracy=0.995717 train_loss=1.468031\n"
     ]
    },
    {
     "name": "stderr",
     "output_type": "stream",
     "text": [
      "  0%|                                                                                         | 0/1875 [00:00<?, ?it/s]"
     ]
    },
    {
     "name": "stdout",
     "output_type": "stream",
     "text": [
      "epoch=63 test_accuracy=0.993600 test_loss=1.469591 train_accuracy=0.995300 train_loss=1.468460\n"
     ]
    },
    {
     "name": "stderr",
     "output_type": "stream",
     "text": [
      "                                                                                                                       \r"
     ]
    },
    {
     "name": "stdout",
     "output_type": "stream",
     "text": [
      "epoch=64 test_accuracy=0.992900 test_loss=1.471016 train_accuracy=0.994617 train_loss=1.469567\n"
     ]
    }
   ],
   "source": [
    "# train\n",
    "loss      = bb.LossSoftmaxCrossEntropy.create()\n",
    "metrics   = bb.MetricsCategoricalAccuracy.create()\n",
    "optimizer = bb.OptimizerAdam.create()\n",
    "optimizer.set_variables(main_net.get_parameters(), main_net.get_gradients())\n",
    "\n",
    "runner = bb.Runner(main_net, network_name, loss, metrics, optimizer)\n",
    "runner.fitting(td, epoch_size=64, mini_batch_size=32, file_write=False, file_read=False)"
   ]
  }
 ],
 "metadata": {
  "accelerator": "GPU",
  "colab": {
   "collapsed_sections": [
    "4QwnWXYWJjlv",
    "Up4x62b_QeBb",
    "v6jCPBVkQ35e"
   ],
   "name": "MnistDenseCnnBinaryDistillation_3.ipynb のコピー",
   "provenance": [
    {
     "file_id": "1dHu4WWzQncOg4n-Ry5_WdbXu_Op_OnEw",
     "timestamp": 1578184614562
    },
    {
     "file_id": "1paWRkK21-4cW_63XPXERz81_mYT-Jlhq",
     "timestamp": 1577861549996
    },
    {
     "file_id": "1ZAjEkX4ri4NzwoZdszTl5JgKGGUouulH",
     "timestamp": 1577843841402
    }
   ]
  },
  "file_extension": ".py",
  "kernelspec": {
   "display_name": "Python 3",
   "language": "python",
   "name": "python3"
  },
  "language_info": {
   "codemirror_mode": {
    "name": "ipython",
    "version": 3
   },
   "file_extension": ".py",
   "mimetype": "text/x-python",
   "name": "python",
   "nbconvert_exporter": "python",
   "pygments_lexer": "ipython3",
   "version": "3.7.4"
  },
  "mimetype": "text/x-python",
  "name": "python",
  "npconvert_exporter": "python",
  "pygments_lexer": "ipython3",
  "version": 3
 },
 "nbformat": 4,
 "nbformat_minor": 1
}
