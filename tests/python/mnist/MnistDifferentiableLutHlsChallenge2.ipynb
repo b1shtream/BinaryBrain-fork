{
 "cells": [
  {
   "cell_type": "markdown",
   "metadata": {},
   "source": [
    "# 微分可能LUTモデルによるMNIST学習\n",
    "\n",
    "Stochasticモデルに BatchNormalization や Binarize(backward時はHard-Tanh)を加えることで、より一般的なデータに対してLUT回路学習を行います。 "
   ]
  },
  {
   "cell_type": "markdown",
   "metadata": {},
   "source": [
    "## 事前準備"
   ]
  },
  {
   "cell_type": "code",
   "execution_count": 1,
   "metadata": {},
   "outputs": [],
   "source": [
    "import os\n",
    "import shutil\n",
    "import numpy as np\n",
    "from tqdm.notebook import tqdm\n",
    "#from tqdm import tqdm\n",
    "\n",
    "import torch\n",
    "import torchvision\n",
    "import torchvision.transforms as transforms\n",
    "\n",
    "import binarybrain as bb"
   ]
  },
  {
   "cell_type": "code",
   "execution_count": 2,
   "metadata": {},
   "outputs": [
    {
     "name": "stdout",
     "output_type": "stream",
     "text": [
      "NVIDIA GeForce GTX 1660 SUPER\n"
     ]
    }
   ],
   "source": [
    "#bb.set_host_only(True)\n",
    "print(bb.get_device_name(0))\n",
    "bb.set_device(0)"
   ]
  },
  {
   "cell_type": "markdown",
   "metadata": {},
   "source": [
    "異なる閾値で2値化した画像でフレーム数を水増ししながら学習させます。この水増しをバイナリ変調と呼んでいます。\n",
    "\n",
    "ここではフレーム方向の水増し量を frame_modulation_size で指定しています。"
   ]
  },
  {
   "cell_type": "code",
   "execution_count": 3,
   "metadata": {},
   "outputs": [],
   "source": [
    "# configuration\n",
    "data_path             = './data/'\n",
    "net_name              = 'MnistDifferentiableLutHlsChallenge2'\n",
    "data_path             = os.path.join('./data/', net_name)\n",
    "rtl_sim_path          = '../../verilog/mnist/tb_mnist_lut_hlsc2'\n",
    "rtl_module_name       = 'MnistLutSimple'\n",
    "output_velilog_file   = os.path.join(data_path, net_name + '.v')\n",
    "sim_velilog_file      = os.path.join(rtl_sim_path, rtl_module_name + '.v')\n",
    "\n",
    "epochs                = 32\n",
    "mini_batch_size       = 32"
   ]
  },
  {
   "cell_type": "code",
   "execution_count": 4,
   "metadata": {},
   "outputs": [],
   "source": [
    "os.makedirs(rtl_sim_path, exist_ok=True)\n",
    "os.makedirs(data_path, exist_ok=True)"
   ]
  },
  {
   "cell_type": "markdown",
   "metadata": {},
   "source": [
    "データセットは PyTorch の torchvision を使います。ミニバッチのサイズも DataLoader で指定しています。\n",
    "BinaryBrainではミニバッチをフレーム数として FrameBufferオブジェクトで扱います。\n",
    "バイナリ変調で計算中にフレーム数が変わるためデータセットの準備観点でのミニバッチと呼び分けています。"
   ]
  },
  {
   "cell_type": "code",
   "execution_count": 5,
   "metadata": {},
   "outputs": [],
   "source": [
    "# dataset\n",
    "dataset_path = './data/'\n",
    "dataset_train = torchvision.datasets.MNIST(root=dataset_path, train=True, transform=transforms.ToTensor(), download=True)\n",
    "dataset_test  = torchvision.datasets.MNIST(root=dataset_path, train=False, transform=transforms.ToTensor(), download=True)\n",
    "loader_train = torch.utils.data.DataLoader(dataset=dataset_train, batch_size=mini_batch_size, shuffle=True, num_workers=2)\n",
    "loader_test  = torch.utils.data.DataLoader(dataset=dataset_test,  batch_size=mini_batch_size, shuffle=False, num_workers=2)"
   ]
  },
  {
   "cell_type": "markdown",
   "metadata": {},
   "source": [
    "## ネットワークの構築\n",
    "\n",
    "DifferentiableLut に特に何もオプションをつけなければOKです。<br>\n",
    "バイナリ変調を施すためにネットの前後に RealToBinary層とBinaryToReal層を入れています。<br>\n",
    "send_command で \"binary true\" を送ることで、DifferentiableLut の内部の重み係数が 0.0-1.0 の間に拘束されます。\n",
    "\n",
    "接続数がLUTの物理構成に合わせて、1ノード当たり6個なので層間で6倍以上ノード数が違うと接続されないノードが発生するので、注意してネットワーク設計が必要です。\n",
    "最終段は各クラス7個の結果を出して Reduce で足し合わせています。こうすることで若干の改善がみられるとともに、加算結果が INT3 相当になるために若干尤度を数値的に見ることができるようです。"
   ]
  },
  {
   "cell_type": "code",
   "execution_count": 6,
   "metadata": {},
   "outputs": [
    {
     "name": "stdout",
     "output_type": "stream",
     "text": [
      "----------------------------------------------------------------------\n",
      "[Sequential] \n",
      " input  shape : [1, 28, 28] output shape : [10]\n",
      "  --------------------------------------------------------------------\n",
      "  [Binarize] \n",
      "   input  shape : {1, 28, 28} output shape : {1, 28, 28}\n",
      "  --------------------------------------------------------------------\n",
      "  [DifferentiableLut6] \n",
      "   input  shape : {1, 28, 28} output shape : {256}\n",
      "   binary : 1   batch_norm : 1\n",
      "  --------------------------------------------------------------------\n",
      "  [DifferentiableLut6] \n",
      "   input  shape : {256} output shape : {10, 32}\n",
      "   binary : 1   batch_norm : 1\n",
      "  --------------------------------------------------------------------\n",
      "  [DepthwiseDenseAffine] \n",
      "   input  shape : {10, 32} output shape : {10}\n",
      "   input(32, 10) output(1, 10)\n",
      "----------------------------------------------------------------------\n",
      "\n"
     ]
    }
   ],
   "source": [
    "# define network\n",
    "net = bb.Sequential([\n",
    "            bb.Binarize(binary_th=0.5, binary_low=0.0, binary_high=1.0),\n",
    "            bb.DifferentiableLut([256]),\n",
    "            bb.DifferentiableLut([10, 32]),\n",
    "            bb.DepthwiseDenseAffineQuantize([10])\n",
    "        ])\n",
    "\n",
    "net.set_input_shape([1, 28, 28])\n",
    "\n",
    "net.send_command(\"binary true\")\n",
    "\n",
    "loss      = bb.LossSoftmaxCrossEntropy()\n",
    "metrics   = bb.MetricsCategoricalAccuracy()\n",
    "optimizer = bb.OptimizerAdam(learning_rate=0.0001)\n",
    "\n",
    "net.print_info()"
   ]
  },
  {
   "cell_type": "code",
   "execution_count": 7,
   "metadata": {},
   "outputs": [
    {
     "data": {
      "text/plain": [
       "True"
      ]
     },
     "execution_count": 7,
     "metadata": {},
     "output_type": "execute_result"
    }
   ],
   "source": [
    "bb.load_networks(data_path, net)"
   ]
  },
  {
   "cell_type": "code",
   "execution_count": 8,
   "metadata": {},
   "outputs": [],
   "source": [
    "epochs=2"
   ]
  },
  {
   "cell_type": "markdown",
   "metadata": {},
   "source": [
    "## 学習の実施\n",
    "\n",
    "load_networks/save_networks で途中結果を保存/復帰可能できます。ネットワークの構造が変わると正常に読み込めなくなるので注意ください。\n",
    "(その場合は新しいネットをsave_networksするまで一度load_networks をコメントアウトください)\n",
    "\n",
    "tqdm などを使うと学習過程のプログレス表示ができて便利です。"
   ]
  },
  {
   "cell_type": "code",
   "execution_count": 9,
   "metadata": {},
   "outputs": [
    {
     "name": "stdout",
     "output_type": "stream",
     "text": [
      "epoch[0] : loss=0.340225 accuracy=0.901600\n"
     ]
    }
   ],
   "source": [
    "#bb.load_networks(data_path, net)\n",
    "\n",
    "# learning\n",
    "optimizer.set_variables(net.get_parameters(), net.get_gradients())\n",
    "for epoch in range(epochs):\n",
    "    # learning\n",
    "    loss.clear()\n",
    "    metrics.clear()\n",
    "#   with tqdm(loader_train) as t:\n",
    "#       for images, labels in t:\n",
    "    for images, labels in loader_train:\n",
    "            x_buf = bb.FrameBuffer.from_numpy(np.array(images).astype(np.float32))\n",
    "            t_buf = bb.FrameBuffer.from_numpy(np.identity(10)[np.array(labels)].astype(np.float32))\n",
    "\n",
    "            y_buf = net.forward(x_buf, train=True)\n",
    "\n",
    "            dy_buf = loss.calculate(y_buf, t_buf)\n",
    "            metrics.calculate(y_buf, t_buf)\n",
    "\n",
    "            net.backward(dy_buf)\n",
    "\n",
    "            optimizer.update()\n",
    "        \n",
    "#           t.set_postfix(loss=loss.get(), acc=metrics.get())\n",
    "\n",
    "    # test\n",
    "    loss.clear()\n",
    "    metrics.clear()\n",
    "    for images, labels in loader_test:\n",
    "        x_buf = bb.FrameBuffer.from_numpy(np.array(images).astype(np.float32))\n",
    "        t_buf = bb.FrameBuffer.from_numpy(np.identity(10)[np.array(labels)].astype(np.float32))\n",
    "\n",
    "        y_buf = net.forward(x_buf, train=False)\n",
    "\n",
    "        loss.calculate(y_buf, t_buf)\n",
    "        metrics.calculate(y_buf, t_buf)\n",
    "    print('epoch[%d] : loss=%f accuracy=%f' % (epoch, loss.get(), metrics.get()))\n",
    "    \n",
    "    bb.save_networks(data_path, net)"
   ]
  },
  {
   "cell_type": "code",
   "execution_count": 10,
   "metadata": {},
   "outputs": [],
   "source": [
    "#----------------"
   ]
  },
  {
   "cell_type": "code",
   "execution_count": null,
   "metadata": {},
   "outputs": [],
   "source": []
  },
  {
   "cell_type": "markdown",
   "metadata": {},
   "source": [
    "## FPGA用HLS(C言語高位合成)で使う為の出力\n",
    "\n",
    "内部データを取得する例としてHSL(C言語高位合成)用の出力を作ってみます"
   ]
  },
  {
   "cell_type": "code",
   "execution_count": 11,
   "metadata": {},
   "outputs": [],
   "source": [
    "def make_lut_func_name(name, node):\n",
    "    return \"%s_%d\"%(name, node)\n",
    "\n",
    "\n",
    "def dump_hls_lut_node5(f, name, lut, node):\n",
    "    n = lut.get_node_connection_size(node)\n",
    "    s = lut.get_lut_table_size(node)\n",
    "    tbl = 0\n",
    "    for i in range(s):\n",
    "        if lut.get_lut_table(node ,i):\n",
    "            tbl += (1 << i)\n",
    "    f.write(\"Q(%s,0x%016xLL)\\n\"%(make_lut_func_name(name, node), tbl))\n",
    "#   f.write(\"LF(%s,0x%016x)\\n\"%(make_lut_func_name(name, node), tbl))\n",
    "\n",
    "def dump_hls_lut_node4(f, name, lut, node):\n",
    "#    f.write(\"\\ninline ap_uint<1> %s(\\n\"%(make_lut_func_name(name, node)))\n",
    "    f.write(\"\\nap_uint<1> %s(\\n\"%(make_lut_func_name(name, node)))\n",
    "    n = lut.get_node_connection_size(node)\n",
    "    s = lut.get_lut_table_size(node)\n",
    "    \n",
    "    tbl = 0\n",
    "    for i in range(s):\n",
    "        if lut.get_lut_table(node ,i):\n",
    "            tbl += (1 << i)\n",
    "    \n",
    "    for i in range(n):\n",
    "        f.write(\"        ap_uint<1> in_data%d\"%(i))\n",
    "        if i < n-1:\n",
    "            f.write(\",\\n\")\n",
    "        else:\n",
    "            f.write(\")\\n\")\n",
    "    f.write(\"{\\n\")\n",
    "#   f.write(\"#pragma HLS inline\\n\")\n",
    "    f.write(\"    ap_uint<%d> index;\\n\"%(n))\n",
    "    for i in range(n):\n",
    "        f.write(\"    index[%d] = in_data%d;\\n\"%(i, i))\n",
    "    f.write(\"    return ((0x%016xLL >> index) & 1);\\n\"%tbl)\n",
    "    f.write(\"}\\n\\n\")\n",
    "\n",
    "def dump_hls_lut_node3(f, name, lut, node):\n",
    "    f.write(\"\\ninline ap_uint<1> %s(\\n\"%(make_lut_func_name(name, node)))\n",
    "#    f.write(\"\\nap_uint<1> %s(\\n\"%(make_lut_func_name(name, node)))\n",
    "    n = lut.get_node_connection_size(node)\n",
    "    s = lut.get_lut_table_size(node)\n",
    "    \n",
    "    tbl = 0\n",
    "    for i in range(s):\n",
    "        if lut.get_lut_table(node ,i):\n",
    "            tbl += (1 << i)\n",
    "    \n",
    "    for i in range(n):\n",
    "        f.write(\"        ap_uint<1> in_data%d\"%(i))\n",
    "        if i < n-1:\n",
    "            f.write(\",\\n\")\n",
    "        else:\n",
    "            f.write(\")\\n\")\n",
    "    f.write(\"{\\n\")\n",
    "#   f.write(\"#pragma HLS inline\\n\")\n",
    "    f.write(\"    ap_uint<%d> index;\\n\"%(n))\n",
    "    for i in range(n):\n",
    "        f.write(\"    index[%d] = in_data%d;\\n\"%(i, i))\n",
    "    f.write(\"    static Lut6Model table(0x%016xLL);\\n\"%(tbl))\n",
    "    f.write(\"    return table.Get(index);\\n\")\n",
    "    f.write(\"}\\n\\n\")\n",
    "\n",
    "def dump_hls_lut_node2(f, name, lut, node):\n",
    "    f.write(\"\\ninline ap_uint<1> %s(\\n\"%(make_lut_func_name(name, node)))\n",
    "    n = lut.get_node_connection_size(node)\n",
    "    s = lut.get_lut_table_size(node)\n",
    "    for i in range(n):\n",
    "        f.write(\"        ap_uint<1> in_data%d\"%(i))\n",
    "        if i < n-1:\n",
    "            f.write(\",\\n\")\n",
    "        else:\n",
    "            f.write(\")\\n\")\n",
    "    f.write(\"{\\n\")\n",
    "    f.write(\"#pragma HLS inline\\n\\n\")\n",
    "    f.write(\"    ap_uint<%d> index;\\n\"%(n))\n",
    "    for i in range(n):\n",
    "        f.write(\"    index[%d] = in_data%d;\\n\"%(i, i))\n",
    "    f.write(\"    \\n\")\n",
    "    f.write(\"    const ap_uint<1> table[%d] = {\"%(s))\n",
    "    for i in range(s):\n",
    "        f.write(\"%d,\"%(lut.get_lut_table(node ,i)))\n",
    "    f.write(\"};\\n\")\n",
    "#    for i in range(s):\n",
    "#        f.write(\"    table[%d] = %d;\\n\"%(i, lut.get_lut_table(node ,i)))\n",
    "#    f.write(\"    \\n\")\n",
    "#   f.write(\"    #pragma HLS resource variable=table core=ROM_1P_LUTRAM\\n\")\n",
    "    f.write(\"    #pragma HLS bind_storage variable=table type=ROM_1P impl=LUTRAM\\n\")\n",
    "    f.write(\"    return table[index];\\n\")\n",
    "    f.write(\"}\\n\\n\")\n",
    "\n",
    "def dump_hls_lut_node1(f, name, lut, node):\n",
    "    f.write(\"\\ninline ap_uint<1> %s(\\n\"%(make_lut_func_name(name, node)))\n",
    "    n = lut.get_node_connection_size(node)\n",
    "    s = lut.get_lut_table_size(node)\n",
    "    \n",
    "    tbl = 0\n",
    "    for i in range(s):\n",
    "        if lut.get_lut_table(node ,i):\n",
    "            tbl += (1 << i)\n",
    "    \n",
    "    for i in range(n):\n",
    "        f.write(\"        ap_uint<1> in_data%d\"%(i))\n",
    "        if i < n-1:\n",
    "            f.write(\",\\n\")\n",
    "        else:\n",
    "            f.write(\")\\n\")\n",
    "    f.write(\"{\\n\")\n",
    "    f.write(\"#pragma HLS inline\\n\")\n",
    "    f.write(\"    ap_uint<%d> index;\\n\"%(n))\n",
    "    for i in range(n):\n",
    "        f.write(\"    index[%d] = in_data%d;\\n\"%(i, i))\n",
    "    f.write(\"    const ap_uint<%d> table= 0x%016xLL;\\n\"%(s, tbl))\n",
    "    f.write(\"    return table[index];\\n\")\n",
    "    f.write(\"}\\n\\n\")\n",
    "\n",
    "def dump_hls_lut(f, name, lut):\n",
    "    ins  = lut.get_input_node_size()\n",
    "    outs = lut.get_output_node_size()\n",
    "    for node in range(outs):\n",
    "        dump_hls_lut_node5(f, name, lut, node)\n",
    "    \n",
    "    f.write(\"\\n\")\n",
    "    f.write(\"inline ap_uint<%d> %s(ap_uint<%d> i)\\n\"%(outs, name, ins))\n",
    "    f.write(\"{\\n\")\n",
    "    f.write(\"ap_uint<%d>  o;\\n\"%(outs))\n",
    "    for node in range(outs):\n",
    "        f.write(\"o[%d]=%s(\"%(node, make_lut_func_name(name, node)))\n",
    "        n = lut.get_node_connection_size(node)\n",
    "        for i in range(n):\n",
    "            f.write(\"i[%d]\"%(lut.get_node_connection_index(node, i)))\n",
    "            if i < n-1: \n",
    "                f.write(\",\")\n",
    "            else:\n",
    "                f.write(\");\\n\")\n",
    "    f.write(\"return o;\\n\")   \n",
    "    f.write(\"}\\n\\n\")\n",
    "\n",
    "# 学習済みを読みなおす\n",
    "#bb.load_networks(data_path, net)\n",
    "with open(\"MnistDifferentiableLutHlsChallengeLut_.h\", \"w\") as f:\n",
    "#   f.write('#include \"ap_int.h\"\\n\\n')\n",
    "    for i in range(1, 3):\n",
    "        dump_hls_lut(f, \"l%d\"%i, net[i])"
   ]
  },
  {
   "cell_type": "code",
   "execution_count": 12,
   "metadata": {},
   "outputs": [],
   "source": [
    "#W = (net[4].W().quantize(16, 1/256).numpy() * 256).astype(np.int32)\n",
    "#b = (net[4].b().quantize(16, 1/256).numpy() * 256).astype(np.int32)\n",
    "W = (net[3].WQ().numpy() * 256).astype(np.int32)\n",
    "b = (net[3].bQ().numpy() * 256).astype(np.int32)"
   ]
  },
  {
   "cell_type": "code",
   "execution_count": 13,
   "metadata": {},
   "outputs": [
    {
     "name": "stdout",
     "output_type": "stream",
     "text": [
      "127\n",
      "-127\n",
      "127\n",
      "-127\n"
     ]
    }
   ],
   "source": [
    "print(np.max(W))\n",
    "print(np.min(W))\n",
    "print(np.max(b))\n",
    "print(np.min(b))"
   ]
  },
  {
   "cell_type": "code",
   "execution_count": 14,
   "metadata": {},
   "outputs": [
    {
     "data": {
      "text/plain": [
       "(10, 1, 32)"
      ]
     },
     "execution_count": 14,
     "metadata": {},
     "output_type": "execute_result"
    }
   ],
   "source": [
    "W.shape"
   ]
  },
  {
   "cell_type": "code",
   "execution_count": 15,
   "metadata": {},
   "outputs": [],
   "source": [
    "with open(\"MnistDifferentiableLutHlsChallengeAffine_.h\", \"w\") as f:\n",
    "    f.write('\\n\\n')\n",
    "    f.write('#define WLEN %d\\n\\n'%W.shape[2])    \n",
    "    f.write('const ap_int<WBITS> W_tbl[10][WLEN] =\\n')\n",
    "    f.write('\\t{\\n')\n",
    "    for i in range(10):\n",
    "        f.write('\\t\\t{')\n",
    "        for j in range(W.shape[2]):\n",
    "            f.write('%5d, '%W[i][0][j])\n",
    "        f.write('\\t\\t},\\n')\n",
    "    f.write('\\t};\\n\\n')\n",
    "    \n",
    "    f.write('const ap_int<BBITS> b_tbl[10] =\\n')\n",
    "    f.write('\\t{')\n",
    "    for i in range(10):\n",
    "        f.write('%5d, '%b[i])\n",
    "    f.write('};\\n\\n')"
   ]
  },
  {
   "cell_type": "code",
   "execution_count": 16,
   "metadata": {},
   "outputs": [],
   "source": [
    "num = 0\n",
    "with open('mnist_hls_test_.txt', 'w') as f:\n",
    "    for images, labels in loader_test:\n",
    "        x_buf = np.array(images).astype(np.float32)\n",
    "        t_buf = np.array(labels)\n",
    "        for i in range(x_buf.shape[0]):\n",
    "            f.write(\"%d\"%t_buf[i])\n",
    "            for y in range(x_buf.shape[2]):\n",
    "                for x in range(x_buf.shape[3]):\n",
    "                    f.write(\" %d\"%(x_buf[i, 0, y, x] > 0.5))\n",
    "            f.write(\"\\n\")\n",
    "            num += 1\n",
    "        if num > 1024:\n",
    "            break"
   ]
  },
  {
   "cell_type": "code",
   "execution_count": 17,
   "metadata": {},
   "outputs": [],
   "source": [
    "!cp MnistDifferentiableLutHlsChallengeLut_.h    ../../../_work/mnist6-free-dw/\n",
    "!cp MnistDifferentiableLutHlsChallengeAffine_.h ../../../_work/mnist6-free-dw/"
   ]
  },
  {
   "cell_type": "code",
   "execution_count": null,
   "metadata": {},
   "outputs": [],
   "source": []
  }
 ],
 "metadata": {
  "kernelspec": {
   "display_name": "Python 3",
   "language": "python",
   "name": "python3"
  },
  "language_info": {
   "codemirror_mode": {
    "name": "ipython",
    "version": 3
   },
   "file_extension": ".py",
   "mimetype": "text/x-python",
   "name": "python",
   "nbconvert_exporter": "python",
   "pygments_lexer": "ipython3",
   "version": "3.9.12"
  },
  "vscode": {
   "interpreter": {
    "hash": "e42ac7cce52f856a953029bf8d6268c151b6ce75ee0dd17c7a9f0cf75b5e0010"
   }
  }
 },
 "nbformat": 4,
 "nbformat_minor": 4
}
