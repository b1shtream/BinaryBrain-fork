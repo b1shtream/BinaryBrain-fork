{
 "cells": [
  {
   "cell_type": "markdown",
   "metadata": {},
   "source": [
    "# 微分可能LUTモデルによるMNIST学習\n",
    "\n",
    "Stochasticモデルに BatchNormalization や Binarize(backward時はHard-Tanh)を加えることで、より一般的なデータに対してLUT回路学習を行います。 "
   ]
  },
  {
   "cell_type": "markdown",
   "metadata": {},
   "source": [
    "## 事前準備"
   ]
  },
  {
   "cell_type": "code",
   "execution_count": 1,
   "metadata": {},
   "outputs": [],
   "source": [
    "import os\n",
    "import shutil\n",
    "import numpy as np\n",
    "from tqdm.notebook import tqdm\n",
    "\n",
    "import torch\n",
    "import torchvision\n",
    "import torchvision.transforms as transforms\n",
    "\n",
    "import binarybrain as bb"
   ]
  },
  {
   "cell_type": "markdown",
   "metadata": {},
   "source": [
    "異なる閾値で2値化した画像でフレーム数を水増ししながら学習させます。この水増しをバイナリ変調と呼んでいます。\n",
    "\n",
    "ここではフレーム方向の水増し量を frame_modulation_size で指定しています。"
   ]
  },
  {
   "cell_type": "code",
   "execution_count": 2,
   "metadata": {},
   "outputs": [],
   "source": [
    "# configuration\n",
    "data_path             = './data/'\n",
    "net_name              = 'MnistDifferentiableLutSimple'\n",
    "data_path             = os.path.join('./data/', net_name)\n",
    "rtl_sim_path          = '../../verilog/mnist'\n",
    "rtl_module_name       = 'MnistLutSimple'\n",
    "output_velilog_file   = os.path.join(data_path, net_name + '.v')\n",
    "sim_velilog_file      = os.path.join(rtl_sim_path, rtl_module_name + '.v')\n",
    "\n",
    "epochs                = 1\n",
    "mini_batch_size       = 64\n",
    "frame_modulation_size = 15"
   ]
  },
  {
   "cell_type": "markdown",
   "metadata": {},
   "source": [
    "データセットは PyTorch の torchvision を使います。ミニバッチのサイズも DataLoader で指定しています。\n",
    "BinaryBrainではミニバッチをフレーム数として FrameBufferオブジェクトで扱います。\n",
    "バイナリ変調で計算中にフレーム数が変わるためデータセットの準備観点でのミニバッチと呼び分けています。"
   ]
  },
  {
   "cell_type": "code",
   "execution_count": 3,
   "metadata": {},
   "outputs": [],
   "source": [
    "# dataset\n",
    "dataset_path = './data/'\n",
    "dataset_train = torchvision.datasets.MNIST(root=dataset_path, train=True, transform=transforms.ToTensor(), download=True)\n",
    "dataset_test  = torchvision.datasets.MNIST(root=dataset_path, train=False, transform=transforms.ToTensor(), download=True)\n",
    "loader_train = torch.utils.data.DataLoader(dataset=dataset_train, batch_size=mini_batch_size, shuffle=True, num_workers=2)\n",
    "loader_test  = torch.utils.data.DataLoader(dataset=dataset_test,  batch_size=mini_batch_size, shuffle=False, num_workers=2)"
   ]
  },
  {
   "cell_type": "markdown",
   "metadata": {},
   "source": [
    "## ネットワークの構築\n",
    "\n",
    "DifferentiableLut に特に何もオプションをつけなければOKです。<br>\n",
    "バイナリ変調を施すためにネットの前後に RealToBinary層とBinaryToReal層を入れています。<br>\n",
    "send_command で \"binary true\" を送ることで、DifferentiableLut の内部の重み係数が 0.0-1.0 の間に拘束されます。\n",
    "\n",
    "接続数がLUTの物理構成に合わせて、1ノード当たり6個なので層間で6倍以上ノード数が違うと接続されないノードが発生するので、注意してネットワーク設計が必要です。\n",
    "最終段は各クラス7個の結果を出して Reduce で足し合わせています。こうすることで若干の改善がみられるとともに、加算結果が INT3 相当になるために若干尤度を数値的に見ることができるようです。"
   ]
  },
  {
   "cell_type": "code",
   "execution_count": 4,
   "metadata": {},
   "outputs": [],
   "source": [
    "# define network\n",
    "net = bb.Sequential([\n",
    "            bb.RealToBinary(frame_modulation_size=frame_modulation_size),\n",
    "            bb.DifferentiableLut([1024]),\n",
    "            bb.DifferentiableLut([420]),\n",
    "            bb.DifferentiableLut([70]),\n",
    "            bb.Reduce(integrate_size=7),\n",
    "            bb.BinaryToReal(frame_modulation_size=frame_modulation_size)\n",
    "        ])\n",
    "net.set_input_shape([1, 28, 28])\n",
    "\n",
    "net.send_command(\"binary true\")\n",
    "\n",
    "loss      = bb.LossSoftmaxCrossEntropy()\n",
    "metrics   = bb.MetricsCategoricalAccuracy()\n",
    "optimizer = bb.OptimizerAdam()\n",
    "\n",
    "optimizer.set_variables(net.get_parameters(), net.get_gradients())"
   ]
  },
  {
   "cell_type": "markdown",
   "metadata": {},
   "source": [
    "## 学習の実施\n",
    "\n",
    "load_networks/save_networks で途中結果を保存/復帰可能できます。ネットワークの構造が変わると正常に読み込めなくなるので注意ください。\n",
    "(その場合は新しいネットをsave_networksするまで一度load_networks をコメントアウトください)\n",
    "\n",
    "tqdm などを使うと学習過程のプログレス表示ができて便利です。"
   ]
  },
  {
   "cell_type": "code",
   "execution_count": 5,
   "metadata": {},
   "outputs": [
    {
     "data": {
      "application/vnd.jupyter.widget-view+json": {
       "model_id": "69d235688dff436cb0c0e68fa98f8add",
       "version_major": 2,
       "version_minor": 0
      },
      "text/plain": [
       "HBox(children=(FloatProgress(value=0.0, max=938.0), HTML(value='')))"
      ]
     },
     "metadata": {},
     "output_type": "display_data"
    },
    {
     "name": "stdout",
     "output_type": "stream",
     "text": [
      "\n",
      "epoch[0] : loss=1.741150 accuracy=0.902600\n"
     ]
    }
   ],
   "source": [
    "#bb.load_networks(data_path, net)\n",
    "\n",
    "# learning\n",
    "for epoch in range(epochs):\n",
    "    # learning\n",
    "    loss.clear()\n",
    "    metrics.clear()\n",
    "    with tqdm(loader_train) as t:\n",
    "        for images, labels in t:\n",
    "            x_buf = bb.FrameBuffer.from_numpy(np.array(images).astype(np.float32))\n",
    "            t_buf = bb.FrameBuffer.from_numpy(np.identity(10)[np.array(labels)].astype(np.float32))\n",
    "\n",
    "            y_buf = net.forward(x_buf, train=True)\n",
    "            \n",
    "            dy_buf = loss.calculate(y_buf, t_buf)\n",
    "            metrics.calculate(y_buf, t_buf)\n",
    "            \n",
    "            net.backward(dy_buf)\n",
    "\n",
    "            optimizer.update()\n",
    "            \n",
    "            t.set_postfix(loss=loss.get(), acc=metrics.get())\n",
    "\n",
    "    # test\n",
    "    loss.clear()\n",
    "    metrics.clear()\n",
    "    for images, labels in loader_test:\n",
    "        x_buf = bb.FrameBuffer.from_numpy(np.array(images).astype(np.float32))\n",
    "        t_buf = bb.FrameBuffer.from_numpy(np.identity(10)[np.array(labels)].astype(np.float32))\n",
    "\n",
    "        y_buf = net.forward(x_buf, train=False)\n",
    "\n",
    "        loss.calculate(y_buf, t_buf)\n",
    "        metrics.calculate(y_buf, t_buf)\n",
    "\n",
    "    print('epoch[%d] : loss=%f accuracy=%f' % (epoch, loss.get(), metrics.get()))\n",
    "\n",
    "    bb.save_networks(data_path, net, keep_olds=3)"
   ]
  },
  {
   "cell_type": "markdown",
   "metadata": {},
   "source": [
    "## FPGA用Verilog出力\n",
    "\n",
    "最後に学習したネットワークを Verilog 出力します。\n",
    "MNISTのサイズである 28x28=784bit の入力を 10bit の分類をして出力するだけのシンプルなモジュールを出力します。"
   ]
  },
  {
   "cell_type": "code",
   "execution_count": 6,
   "metadata": {},
   "outputs": [
    {
     "name": "stdout",
     "output_type": "stream",
     "text": [
      "load : ./data/MnistDifferentiableLutSimple\\20210110_174836\n"
     ]
    },
    {
     "data": {
      "text/plain": [
       "'../../verilog/mnist\\\\MnistLutSimple.v'"
      ]
     },
     "execution_count": 6,
     "metadata": {},
     "output_type": "execute_result"
    }
   ],
   "source": [
    "# export verilog\n",
    "bb.load_networks(data_path, net)\n",
    "\n",
    "# 結果を出力\n",
    "with open(output_velilog_file, 'w') as f:\n",
    "    f.write('`timescale 1ns / 1ps\\n\\n')\n",
    "    bb.dump_verilog_lut_layers(f, module_name=rtl_module_name, net=net)\n",
    "\n",
    "# Simulation用ファイルに上書きコピー\n",
    "shutil.copyfile(output_velilog_file, sim_velilog_file)"
   ]
  },
  {
   "cell_type": "code",
   "execution_count": 7,
   "metadata": {},
   "outputs": [],
   "source": [
    "# シミュレーション用データファイル作成\n",
    "with open(os.path.join(rtl_sim_path, 'mnist_test.txt'), 'w') as f:\n",
    "    bb.dump_verilog_readmemb_image_classification(f ,loader_test)"
   ]
  },
  {
   "cell_type": "markdown",
   "metadata": {},
   "source": [
    "## モデルの内部の値を取得する\n",
    "\n",
    "Verilog以外の言語やFPGA以外に適用したい場合、接続とLUTテーブルの2つが取得できれば同じ計算をするモデルをインプリメントすることが可能です。"
   ]
  },
  {
   "cell_type": "markdown",
   "metadata": {},
   "source": [
    "### 事前準備\n",
    "そのままだと勾配はリセットされているので少しだけ逆伝搬を実施します"
   ]
  },
  {
   "cell_type": "code",
   "execution_count": 8,
   "metadata": {},
   "outputs": [
    {
     "name": "stdout",
     "output_type": "stream",
     "text": [
      "load : ./data/MnistDifferentiableLutSimple\\20210110_174836\n"
     ]
    }
   ],
   "source": [
    "# 最新の保存データ読み込み\n",
    "bb.load_networks(data_path, net)\n",
    "\n",
    "# layer を取り出す\n",
    "layer0 = net[1]\n",
    "layer1 = net[2]\n",
    "layer2 = net[3]"
   ]
  },
  {
   "cell_type": "markdown",
   "metadata": {},
   "source": [
    "### 接続を取得する\n",
    "\n",
    "LUTモデルは get_connection_list() にて接続行列を取得できます。<br>\n",
    "ここでの各出力ノードは、6つの入力と接続されており、layer0 の出力ノードは 1024 個あるので、1024x6 の行列が取得できます。"
   ]
  },
  {
   "cell_type": "code",
   "execution_count": 9,
   "metadata": {},
   "outputs": [
    {
     "name": "stdout",
     "output_type": "stream",
     "text": [
      "(1024, 6)\n"
     ]
    },
    {
     "data": {
      "text/plain": [
       "array([[285, 227, 432, 459, 774, 502],\n",
       "       [246,   4, 148, 633, 287, 638],\n",
       "       [590, 679, 175, 507, 123, 196],\n",
       "       ...,\n",
       "       [652, 689, 385, 238, 444, 693],\n",
       "       [214, 732, 514,  31,  30, 410],\n",
       "       [548, 372, 435, 273,   8, 598]])"
      ]
     },
     "execution_count": 9,
     "metadata": {},
     "output_type": "execute_result"
    }
   ],
   "source": [
    "connection_mat = np.array(layer0.get_connection_list())\n",
    "print(connection_mat.shape)\n",
    "connection_mat"
   ]
  },
  {
   "cell_type": "markdown",
   "metadata": {},
   "source": [
    "### FPGA化する場合のLUTテーブルを取得する\n",
    "\n",
    "LUT化する場合のテーブルを取得します。<br>\n",
    "6入力のLUTモデルなので $ 2^6 = 64 $ 個のテーブルがあります。<br>\n",
    "モデル内に BatchNormalization 等を含む場合はそれらも加味して最終的にバイナリLUTにする場合に適した値を出力します。"
   ]
  },
  {
   "cell_type": "code",
   "execution_count": 10,
   "metadata": {},
   "outputs": [
    {
     "name": "stdout",
     "output_type": "stream",
     "text": [
      "(1024, 64)\n"
     ]
    },
    {
     "data": {
      "text/plain": [
       "array([[ True,  True,  True, ..., False, False, False],\n",
       "       [ True, False,  True, ...,  True,  True,  True],\n",
       "       [False,  True,  True, ...,  True,  True,  True],\n",
       "       ...,\n",
       "       [ True,  True,  True, ..., False, False,  True],\n",
       "       [False, False, False, ...,  True,  True,  True],\n",
       "       [False, False, False, ...,  True, False,  True]])"
      ]
     },
     "execution_count": 10,
     "metadata": {},
     "output_type": "execute_result"
    }
   ],
   "source": [
    "lut_mat = np.array(layer0.get_lut_table_list())\n",
    "print(lut_mat.shape)\n",
    "lut_mat"
   ]
  },
  {
   "cell_type": "markdown",
   "metadata": {},
   "source": [
    "### 重み行列を覗いてみる\n",
    "\n",
    "6入力のLUTモデルなので $ 2^6 = 64 $ 個のテーブルがあります。<br>\n",
    "W() にて bb.Tensor 型で取得可能で、numpy() にて ndarray に変換できます。"
   ]
  },
  {
   "cell_type": "code",
   "execution_count": 11,
   "metadata": {},
   "outputs": [
    {
     "name": "stdout",
     "output_type": "stream",
     "text": [
      "(1024, 64)\n"
     ]
    },
    {
     "data": {
      "text/plain": [
       "array([[0.52673465, 0.4871359 , 0.51701593, ..., 0.49071878, 0.46445772,\n",
       "        0.49906301],\n",
       "       [0.50419724, 0.4626906 , 0.5000362 , ..., 0.5185171 , 0.52558106,\n",
       "        0.50891495],\n",
       "       [0.47036353, 0.4801502 , 0.49258187, ..., 0.54539627, 0.53642666,\n",
       "        0.54357857],\n",
       "       ...,\n",
       "       [0.5136678 , 0.46920788, 0.5341977 , ..., 0.46911353, 0.49426067,\n",
       "        0.4878877 ],\n",
       "       [0.4639551 , 0.49639666, 0.43498743, ..., 0.50456274, 0.5203207 ,\n",
       "        0.52957636],\n",
       "       [0.523955  , 0.48723742, 0.48753798, ..., 0.52356726, 0.47923124,\n",
       "        0.5170121 ]], dtype=float32)"
      ]
     },
     "execution_count": 11,
     "metadata": {},
     "output_type": "execute_result"
    }
   ],
   "source": [
    "W = layer0.W().numpy()\n",
    "print(W.shape)\n",
    "W"
   ]
  },
  {
   "cell_type": "markdown",
   "metadata": {},
   "source": [
    "### 勾配を覗いてみる\n",
    "\n",
    "同様に dW() でW の勾配が取得できます"
   ]
  },
  {
   "cell_type": "code",
   "execution_count": 12,
   "metadata": {},
   "outputs": [
    {
     "name": "stdout",
     "output_type": "stream",
     "text": [
      "(1024, 64)\n"
     ]
    },
    {
     "data": {
      "text/plain": [
       "array([[ 9.6698239e-04, -1.3669550e-03,  3.9427148e-04, ...,\n",
       "        -1.0385497e-05,  1.7828708e-05, -2.9141827e-06],\n",
       "       [ 3.0213865e-03,  1.0511318e-03,  1.0071289e-03, ...,\n",
       "        -5.5897381e-05, -8.0060709e-05, -1.8632458e-05],\n",
       "       [-1.5846919e-05, -5.2819378e-06,  2.1643995e-05, ...,\n",
       "         2.6980979e-07,  1.1088641e-06,  3.6962206e-07],\n",
       "       ...,\n",
       "       [ 2.2795433e-03,  6.6156563e-04,  6.1904988e-04, ...,\n",
       "        -9.2895361e-06, -2.0213771e-05, -4.5025454e-06],\n",
       "       [ 2.8453494e-04,  1.2742218e-03,  9.4844814e-05, ...,\n",
       "         4.0643914e-05, -5.8146943e-06,  1.3547966e-05],\n",
       "       [ 2.6619015e-04,  2.4333212e-04,  5.9101474e-04, ...,\n",
       "         4.7959602e-06, -5.2254698e-05, -3.7841070e-05]], dtype=float32)"
      ]
     },
     "execution_count": 12,
     "metadata": {},
     "output_type": "execute_result"
    }
   ],
   "source": [
    "# そのままだとすべて0なので、1回だけbackward実施\n",
    "for images, labels in loader_test:\n",
    "    x_buf = bb.FrameBuffer.from_numpy(np.array(images).astype(np.float32))\n",
    "    t_buf = bb.FrameBuffer.from_numpy(np.identity(10)[np.array(labels)].astype(np.float32))\n",
    "    y_buf = net.forward(x_buf, train=True)\n",
    "    net.backward(loss.calculate(y_buf, t_buf))\n",
    "    break\n",
    "\n",
    "dW = layer0.dW().numpy()\n",
    "print(dW.shape)\n",
    "dW"
   ]
  },
  {
   "cell_type": "code",
   "execution_count": null,
   "metadata": {},
   "outputs": [],
   "source": []
  },
  {
   "cell_type": "code",
   "execution_count": 13,
   "metadata": {},
   "outputs": [],
   "source": [
    "import pickle"
   ]
  },
  {
   "cell_type": "code",
   "execution_count": 14,
   "metadata": {},
   "outputs": [],
   "source": [
    "data = pickle.dumps(net[0])"
   ]
  },
  {
   "cell_type": "code",
   "execution_count": 15,
   "metadata": {},
   "outputs": [
    {
     "data": {
      "text/plain": [
       "<binarybrain.models.RealToBinary at 0x22454979f08>"
      ]
     },
     "execution_count": 15,
     "metadata": {},
     "output_type": "execute_result"
    }
   ],
   "source": [
    "pickle.loads(data)"
   ]
  },
  {
   "cell_type": "code",
   "execution_count": 16,
   "metadata": {},
   "outputs": [],
   "source": [
    "data = pickle.dumps(net)\n",
    "x_net = pickle.loads(data)"
   ]
  },
  {
   "cell_type": "code",
   "execution_count": 17,
   "metadata": {},
   "outputs": [],
   "source": [
    "net = x_net"
   ]
  },
  {
   "cell_type": "code",
   "execution_count": 18,
   "metadata": {},
   "outputs": [
    {
     "name": "stdout",
     "output_type": "stream",
     "text": [
      "<class 'binarybrain.models.Reduce'>\n"
     ]
    }
   ],
   "source": [
    "data = pickle.dumps(net[4])\n",
    "m = pickle.loads(data)\n",
    "print(type(m))"
   ]
  },
  {
   "cell_type": "code",
   "execution_count": 19,
   "metadata": {},
   "outputs": [
    {
     "name": "stdout",
     "output_type": "stream",
     "text": [
      "<class 'binarybrain.models.Reduce'>\n"
     ]
    }
   ],
   "source": [
    "print(type(net[4]))"
   ]
  },
  {
   "cell_type": "code",
   "execution_count": null,
   "metadata": {},
   "outputs": [],
   "source": []
  }
 ],
 "metadata": {
  "kernelspec": {
   "display_name": "Python 3",
   "language": "python",
   "name": "python3"
  },
  "language_info": {
   "codemirror_mode": {
    "name": "ipython",
    "version": 3
   },
   "file_extension": ".py",
   "mimetype": "text/x-python",
   "name": "python",
   "nbconvert_exporter": "python",
   "pygments_lexer": "ipython3",
   "version": "3.7.4"
  }
 },
 "nbformat": 4,
 "nbformat_minor": 4
}
