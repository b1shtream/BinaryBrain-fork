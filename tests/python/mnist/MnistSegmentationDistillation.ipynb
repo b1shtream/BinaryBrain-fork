{
 "cells": [
  {
   "cell_type": "markdown",
   "metadata": {},
   "source": [
    "# MNISTでセグメンテーションに挑戦\n",
    "\n"
   ]
  },
  {
   "cell_type": "code",
   "execution_count": null,
   "metadata": {},
   "outputs": [],
   "source": [
    "import os\n",
    "import shutil\n",
    "import numpy as np\n",
    "import matplotlib.pyplot as plt\n",
    "from tqdm.notebook import tqdm\n",
    "\n",
    "import torch\n",
    "import torchvision\n",
    "import torchvision.transforms as transforms\n",
    "\n",
    "import binarybrain as bb"
   ]
  },
  {
   "cell_type": "markdown",
   "metadata": {},
   "source": [
    "## 初期設定"
   ]
  },
  {
   "cell_type": "code",
   "execution_count": null,
   "metadata": {},
   "outputs": [],
   "source": [
    "# configuration\n",
    "bb.set_device(0)\n",
    "\n",
    "net_name              = 'MnistSegmentationDistillation'\n",
    "data_path             = os.path.join('./data/', net_name)\n",
    "\n",
    "bin_mode              = True\n",
    "frame_modulation_size = 3\n",
    "epochs                = 0\n",
    "mini_batch_size       = 8"
   ]
  },
  {
   "cell_type": "markdown",
   "metadata": {},
   "source": [
    "## データセット準備\n",
    "\n",
    "データセットを自作する"
   ]
  },
  {
   "cell_type": "code",
   "execution_count": null,
   "metadata": {},
   "outputs": [],
   "source": [
    "# dataset\n",
    "dataset_path = './data/'\n",
    "dataset_train = torchvision.datasets.MNIST(root=dataset_path, train=True, transform=transforms.ToTensor(), download=True)\n",
    "dataset_test  = torchvision.datasets.MNIST(root=dataset_path, train=False, transform=transforms.ToTensor(), download=True)\n",
    "\n",
    "rows=3\n",
    "cols=3\n",
    "\n",
    "# 面積の比率で重みを作っておく\n",
    "areas = np.zeros((11))\n",
    "for img, label in dataset_train:\n",
    "    img = img.numpy()\n",
    "    areas[label] += np.mean(img)\n",
    "    areas[10] += np.mean(1.0-img)\n",
    "areas /= len(dataset_train)\n",
    "\n",
    "wight = 1 / areas\n",
    "wight /= np.max(wight)\n",
    "\n",
    "def make_teacher_image(gen, rows, cols, margin=0):\n",
    "    source_img  = np.zeros((1, rows*28, cols*28), dtype=np.float32)\n",
    "    teaching_img = np.zeros((11, rows*28, cols*28), dtype=np.float32)\n",
    "    for row in range(rows):\n",
    "        for col in range(cols):\n",
    "            x = col*28\n",
    "            y = row*28\n",
    "            img, label = gen.__next__()\n",
    "            source_img[0,y:y+28,x:x+28] = img\n",
    "            teaching_img[label,y:y+28,x:x+28] = img\n",
    "            teaching_img[10,y:y+28,x:x+28] = (1.0-img)\n",
    "    msk1 = teaching_img > 0.5\n",
    "    msk0 = teaching_img <= 0.5\n",
    "    teaching_img[msk1] = 1.0\n",
    "    teaching_img[msk0] = 0.0\n",
    "    \n",
    "    teaching_img[10] *= 0.1\n",
    "#    for i in range(11):\n",
    "#        teaching_img[i] *= wight[i]\n",
    "    \n",
    "    return source_img, teaching_img[:,margin:-margin,margin:-margin]\n",
    "\n",
    "def transform_data(dataset, n, rows, cols, margin):\n",
    "    def data_gen():\n",
    "        l = len(dataset)\n",
    "        i = 0\n",
    "        while True:\n",
    "            yield dataset[i%l]\n",
    "            i += 1\n",
    "    \n",
    "    gen = data_gen()\n",
    "    source_imgs = []\n",
    "    teaching_imgs = []\n",
    "    for _ in range(n):\n",
    "        x, t = make_teacher_image(gen, rows, cols, margin)\n",
    "        source_imgs.append(x)\n",
    "        teaching_imgs.append(t)\n",
    "    return source_imgs, teaching_imgs\n",
    "\n",
    "class MyDatasets(torch.utils.data.Dataset):\n",
    "    def __init__(self, source_imgs, teaching_imgs, transforms=None):\n",
    "        self.transforms = transforms\n",
    "        self.source_imgs = source_imgs\n",
    "        self.teaching_imgs = teaching_imgs\n",
    "        \n",
    "    def __len__(self):\n",
    "        return len(self.source_imgs)\n",
    "\n",
    "    def __getitem__(self, index):\n",
    "        source_img = self.source_imgs[index]\n",
    "        teaching_img = self.teaching_imgs[index]\n",
    "        if self.transforms:\n",
    "            source_img, teaching_img = self.transforms(source_img, teaching_img)\n",
    "        return source_img, teaching_img\n",
    "\n",
    "\n",
    "#source_imgs_train, teaching_imgs_train = transform_data(dataset_train, mini_batch_size*1000, rows, cols, 29)\n",
    "source_imgs_train, teaching_imgs_train = transform_data(dataset_train, mini_batch_size*5, rows, cols, 29)\n",
    "my_dataset_train = MyDatasets(source_imgs_train, teaching_imgs_train)\n",
    "\n",
    "source_imgs_test, teaching_imgs_test = transform_data(dataset_test, mini_batch_size*5, rows, cols, 29)\n",
    "my_dataset_test = MyDatasets(source_imgs_test, teaching_imgs_test)\n",
    "\n",
    "loader_train = torch.utils.data.DataLoader(dataset=my_dataset_train, batch_size=mini_batch_size, shuffle=True)\n",
    "loader_test = torch.utils.data.DataLoader(dataset=my_dataset_test, batch_size=mini_batch_size, shuffle=False)"
   ]
  },
  {
   "cell_type": "code",
   "execution_count": null,
   "metadata": {},
   "outputs": [],
   "source": [
    "def plt_data(x, y):\n",
    "    plt.figure(figsize=(16,8))\n",
    "    plt.subplot(1,12,1)\n",
    "    plt.imshow(x[0], 'gray')\n",
    "    for i in range(11):\n",
    "        plt.subplot(1,12,2+i)\n",
    "        plt.imshow(y[i], 'gray')\n",
    "    plt.show()"
   ]
  },
  {
   "cell_type": "code",
   "execution_count": null,
   "metadata": {},
   "outputs": [],
   "source": [
    "plt.figure(figsize=(16,8))\n",
    "for source_imgs, teaching_imgs in loader_test:\n",
    "    print(source_imgs[0].shape)\n",
    "    print(teaching_imgs[0].shape)\n",
    "    for i in range(min(mini_batch_size, 5)):\n",
    "        plt_data(source_imgs[i], teaching_imgs[i])\n",
    "    break"
   ]
  },
  {
   "cell_type": "markdown",
   "metadata": {},
   "source": [
    "## ネットワーク構築"
   ]
  },
  {
   "cell_type": "code",
   "execution_count": null,
   "metadata": {},
   "outputs": [],
   "source": [
    "# バイナリ時は BIT型を使えばメモリ削減可能\n",
    "bin_dtype = bb.DType.BIT if bin_mode else bb.DType.FP32\n",
    "\n",
    "class DistillationConv(bb.Switcher):\n",
    "    \"\"\"蒸留用クラス\n",
    "\n",
    "    Args:\n",
    "        output_ch (int): 出力チャネル数\n",
    "        hidden_ch (int): LUT-Net側の中間層チャネル数\n",
    "        bin_dtype (DType): バイナリの型を bb.DType.FP32 と bb.DType.BIT から指定\n",
    "    \"\"\"\n",
    "    \n",
    "    def __init__(self, hidden_ch, output_ch, stage, *, filter_size=(3,3), padding='valid', input_shape=None, bin_dtype=bb.DType.FP32):\n",
    "        name = 'DistillationConv_%d' % stage\n",
    "        # Dense\n",
    "        self.dense_conv = bb.Convolution2d(\n",
    "               bb.Sequential([\n",
    "                   bb.DenseAffine([output_ch], name='dense_affine_%d' % stage),\n",
    "                   bb.BatchNormalization(name='dense_bn_%d' % stage),\n",
    "                   bb.ReLU(name='dense_act_%d' % stage, bin_dtype=bin_dtype),\n",
    "               ]),\n",
    "               filter_size=filter_size,\n",
    "               padding=padding,\n",
    "               name='dense_conv_%d' % stage,\n",
    "               fw_dtype=bin_dtype)\n",
    "        \n",
    "        # LUT\n",
    "        self.lut_conv = bb.Sequential([\n",
    "                # pointwise\n",
    "                bb.Convolution2d(\n",
    "                   bb.Sequential([\n",
    "                       bb.DifferentiableLut([hidden_ch*6, 1, 1], connection='random', name='lut_conv0_lut0_%d' % stage, bin_dtype=bin_dtype),\n",
    "                       bb.DifferentiableLut([hidden_ch,   1, 1], connection='serial', name='lut_conv0_lut1_%d' % stage, bin_dtype=bin_dtype),\n",
    "                   ]),\n",
    "                   filter_size=(1, 1),\n",
    "                   name='lut_conv0_%d' % stage,\n",
    "                   fw_dtype=bin_dtype),\n",
    "            \n",
    "                # depthwise\n",
    "                bb.Convolution2d(\n",
    "                   bb.Sequential([\n",
    "                       bb.DifferentiableLut([hidden_ch, 1, 1], connection='depthwise', name='lut_conv1_hidden0_%d' % stage, bin_dtype=bin_dtype),\n",
    "                   ]),\n",
    "                   filter_size=filter_size,\n",
    "                   padding=padding,\n",
    "                   name='lut_conv1_%d' % stage,\n",
    "                   fw_dtype=bin_dtype),\n",
    "\n",
    "                # pointwise\n",
    "                bb.Convolution2d(\n",
    "                   bb.Sequential([\n",
    "                       bb.DifferentiableLut([output_ch*6, 1, 1], connection='random', name='lut_conv2_input0_%d' % stage, bin_dtype=bin_dtype),\n",
    "                       bb.DifferentiableLut([output_ch,   1, 1], connection='serial', name='lut_conv2_input1_%d' % stage, bin_dtype=bin_dtype),\n",
    "                   ]),\n",
    "                   filter_size=(1, 1),\n",
    "                   name='lut_conv2_%d' % stage,\n",
    "                   fw_dtype=bin_dtype),\n",
    "            ])\n",
    "                \n",
    "        model_dict = {}\n",
    "        model_dict['dense'] = self.dense_conv\n",
    "        model_dict['lut'] = self.lut_conv\n",
    "        \n",
    "        super(DistillationConv, self).__init__(model_dict=model_dict, init_model_name='dense', input_shape=input_shape, name=name)\n",
    "        \n",
    "\n",
    "sub_net = bb.Sequential()\n",
    "for i in range(27):\n",
    "    if i < 8:\n",
    "        sub_net.append(DistillationConv(36*2, 36, stage=i, bin_dtype=bin_dtype))\n",
    "    else:\n",
    "        sub_net.append(DistillationConv(72*2, 72, stage=i, bin_dtype=bin_dtype))\n",
    "        \n",
    "sub_net.append(\n",
    "        bb.Convolution2d(\n",
    "            bb.Sequential([\n",
    "                bb.DenseAffine([512], name='dense_affine_fc0'),\n",
    "                bb.BatchNormalization(name='dense_bn_fc0'),\n",
    "                bb.ReLU(bin_dtype=bin_dtype, name='dense_act_fc0'),\n",
    "                bb.DenseAffine([11], name='dense_affine_fc1'),\n",
    "                bb.BatchNormalization(name='dense_bn_fc1'),\n",
    "                bb.ReLU(bin_dtype=bin_dtype, name='dense_act_fc1'),\n",
    "            ]),\n",
    "            filter_size=(5, 5),\n",
    "            name='dense_conv_fc',\n",
    "            fw_dtype=bin_dtype))\n",
    "    \n",
    "# define network\n",
    "if bin_mode:\n",
    "    net = bb.Sequential([\n",
    "                bb.RealToBinary(frame_modulation_size=frame_modulation_size, bin_dtype=bin_dtype),\n",
    "                sub_net,\n",
    "                bb.BinaryToReal(frame_integration_size=frame_modulation_size, bin_dtype=bin_dtype)\n",
    "            ])\n",
    "else:\n",
    "    net = sub_net\n",
    "    \n",
    "net.set_input_shape([1, rows*28, cols*28])\n",
    "\n",
    "net.set_name(net_name)\n",
    "\n",
    "if bin_mode:\n",
    "    net.send_command(\"binary true\")\n",
    "\n",
    "print(net.get_info(1))"
   ]
  },
  {
   "cell_type": "markdown",
   "metadata": {},
   "source": [
    "## 学習実施\n",
    "\n",
    "学習を行います"
   ]
  },
  {
   "cell_type": "code",
   "execution_count": null,
   "metadata": {},
   "outputs": [],
   "source": [
    "def view(net, loader):\n",
    "    num = 0;\n",
    "    for x_imgs, t_imgs in loader:\n",
    "        plt.figure(figsize=(16,8))\n",
    "        x_buf = bb.FrameBuffer.from_numpy(np.array(x_imgs).astype(np.float32))\n",
    "        t_buf = bb.FrameBuffer.from_numpy(np.array(t_imgs).astype(np.float32))\n",
    "        y_buf = net.forward(x_buf, train=False)\n",
    "        result_imgs = y_buf.numpy()\n",
    "        plt_data(x_imgs[0], result_imgs[0])\n",
    "        num += 1\n",
    "        if num >= 2: break"
   ]
  },
  {
   "cell_type": "code",
   "execution_count": null,
   "metadata": {},
   "outputs": [],
   "source": [
    "def learning(epochs=2):\n",
    "    # learning\n",
    "    loss      = bb.LossSoftmaxCrossEntropy() # MyLoss(loss_weight) # \n",
    "    #loss      = bb.LossMeanSquaredError()\n",
    "    metrics   = bb.MetricsCategoricalAccuracy()\n",
    "    optimizer = bb.OptimizerAdam()\n",
    "\n",
    "    optimizer.set_variables(net.get_parameters(), net.get_gradients())\n",
    "\n",
    "    for epoch in range(epochs):\n",
    "#       view(net, loader_test)\n",
    "\n",
    "        # learning\n",
    "        loss.clear()\n",
    "        metrics.clear()\n",
    "        with tqdm(loader_train) as tqdm_loadr:\n",
    "            for x_imgs, t_imgs in tqdm_loadr:\n",
    "                x_buf = bb.FrameBuffer.from_numpy(np.array(x_imgs).astype(np.float32))\n",
    "                t_buf = bb.FrameBuffer.from_numpy(np.array(t_imgs).astype(np.float32))\n",
    "\n",
    "                y_buf = net.forward(x_buf, train=True)\n",
    "\n",
    "                dy_buf = loss.calculate(y_buf, t_buf)\n",
    "                metrics.calculate(y_buf, t_buf)\n",
    "\n",
    "                net.backward(dy_buf)\n",
    "\n",
    "                optimizer.update()\n",
    "\n",
    "                tqdm_loadr.set_postfix(loss=loss.get(), acc=metrics.get())\n",
    "\n",
    "        # test\n",
    "        loss.clear()\n",
    "        metrics.clear()\n",
    "        for x_imgs, t_imgs in loader_test:\n",
    "            x_buf = bb.FrameBuffer.from_numpy(np.array(x_imgs).astype(np.float32))\n",
    "            t_buf = bb.FrameBuffer.from_numpy(np.array(t_imgs).astype(np.float32))\n",
    "\n",
    "            y_buf = net.forward(x_buf, train=False)\n",
    "\n",
    "            loss.calculate(y_buf, t_buf)\n",
    "            metrics.calculate(y_buf, t_buf)\n",
    "\n",
    "        bb.save_networks(data_path, net, force_flatten=True)\n",
    "\n",
    "        print('epoch[%d] : loss=%f acc=%f' % (epoch, loss.get(), metrics.get()))"
   ]
  },
  {
   "cell_type": "markdown",
   "metadata": {},
   "source": [
    "## 保存実験"
   ]
  },
  {
   "cell_type": "code",
   "execution_count": null,
   "metadata": {},
   "outputs": [],
   "source": [
    "if False:\n",
    "    # ベースを読み込む\n",
    "    bb.load_models(os.path.join(data_path, '20210106_185107_base'), net, read_layers=True, file_format='bin')\n",
    "    \n",
    "    if False:\n",
    "        # いろいろな構造で保存\n",
    "        bb.save_models(os.path.join(data_path, 'test_bb_net_layers'), net, write_layers=True, file_format='bb_net')\n",
    "\n",
    "        bb.save_models(os.path.join(data_path, 'test_bb_net'), net, write_layers=False, file_format='bb_net')\n",
    "\n",
    "        bb.save_models(os.path.join(data_path, 'test_pickle'), net, write_layers=False, file_format='pickle')\n",
    "        \n",
    "        bb.save_models(os.path.join(data_path, 'test_pickle_layers'), net, write_layers=True, file_format='pickle')\n",
    "\n",
    "        import pickle\n",
    "        with open(os.path.join(data_path, 'MnistSegmentationDistillation_test.pickle'), 'wb') as f:\n",
    "            pickle.dump(net, f)    "
   ]
  },
  {
   "cell_type": "markdown",
   "metadata": {},
   "source": [
    "## 読出し色々"
   ]
  },
  {
   "cell_type": "code",
   "execution_count": null,
   "metadata": {},
   "outputs": [],
   "source": [
    "#bb.load_networks(data_path, net, read_layers=True, force_flatten=True)\n",
    "## bb.load_networks(data_path, net, read_layers=False, force_flatten=True)"
   ]
  },
  {
   "cell_type": "code",
   "execution_count": null,
   "metadata": {},
   "outputs": [],
   "source": [
    "# bb.save_networks(data_path, net, read_layers=True, backups=-1)\n",
    "# bb.save_networks(data_path, net, read_layers=True, backups=-1, file_format='pickle')"
   ]
  },
  {
   "cell_type": "code",
   "execution_count": null,
   "metadata": {},
   "outputs": [],
   "source": [
    "if False:\n",
    "    bb.load_models(os.path.join(data_path, 'test_bb_net'), net)"
   ]
  },
  {
   "cell_type": "code",
   "execution_count": null,
   "metadata": {},
   "outputs": [],
   "source": [
    "if True:\n",
    "    bb.load_models(os.path.join(data_path, 'test_bb_net_layers'), net, read_layers=True, file_format='bb_net')"
   ]
  },
  {
   "cell_type": "code",
   "execution_count": null,
   "metadata": {},
   "outputs": [],
   "source": [
    "if False:\n",
    "    bb.load_models(os.path.join(data_path, 'test_pickle'), net, file_format='pickle')"
   ]
  },
  {
   "cell_type": "code",
   "execution_count": null,
   "metadata": {},
   "outputs": [],
   "source": [
    "if False:\n",
    "    bb.load_models(os.path.join(data_path, 'test_pickle_layers'), net, read_layers=True, file_format='pickle')"
   ]
  },
  {
   "cell_type": "code",
   "execution_count": null,
   "metadata": {},
   "outputs": [],
   "source": [
    "if False:\n",
    "    import pickle\n",
    "    with open(os.path.join(data_path, 'MnistSegmentationDistillation_test.pickle'), 'rb') as f:\n",
    "        net = pickle.load(f)\n",
    "    sub_net = net[1]"
   ]
  },
  {
   "cell_type": "markdown",
   "metadata": {},
   "source": [
    "## ちゃんと読めてるか確認"
   ]
  },
  {
   "cell_type": "code",
   "execution_count": null,
   "metadata": {},
   "outputs": [],
   "source": [
    "# DenseAffine で学習\n",
    "#learning(32)\n",
    "learning(0)\n",
    "view(net, loader_test)"
   ]
  },
  {
   "cell_type": "code",
   "execution_count": null,
   "metadata": {},
   "outputs": [],
   "source": [
    "# bb.save_networks(data_path, net, backups=3, write_layers=True, force_flatten=True)"
   ]
  },
  {
   "cell_type": "code",
   "execution_count": null,
   "metadata": {},
   "outputs": [],
   "source": [
    "# 下の層から順に切り替えて表示\n",
    "for i in range(27):\n",
    "    print(\"----- layer %d -----\"%i)\n",
    "    sub_net[i].send_command('switch_model lut')\n",
    "    net.send_command('parameter_lock true')\n",
    "    sub_net[i].send_command('parameter_lock false')\n",
    "#   learning(epochs=2)\n",
    "    view(net, loader_test)"
   ]
  },
  {
   "cell_type": "code",
   "execution_count": null,
   "metadata": {},
   "outputs": [],
   "source": [
    "# 下の層から順に蒸留\n",
    "for i in range(27):\n",
    "    sub_net[i].send_command('switch_model lut')\n",
    "    net.send_command('parameter_lock true')\n",
    "    sub_net[i].send_command('parameter_lock false')\n",
    "    learning(epochs=2)\n",
    "    view(net, loader_test)"
   ]
  },
  {
   "cell_type": "code",
   "execution_count": null,
   "metadata": {},
   "outputs": [],
   "source": [
    "a = {1:2, 2:3, 14:111}"
   ]
  },
  {
   "cell_type": "code",
   "execution_count": null,
   "metadata": {},
   "outputs": [],
   "source": [
    "len(a)"
   ]
  },
  {
   "cell_type": "code",
   "execution_count": null,
   "metadata": {},
   "outputs": [],
   "source": [
    "str_b = str_a.encode(encoding='utf-8')"
   ]
  },
  {
   "cell_type": "code",
   "execution_count": null,
   "metadata": {},
   "outputs": [],
   "source": [
    "len(str_b)"
   ]
  },
  {
   "cell_type": "code",
   "execution_count": null,
   "metadata": {},
   "outputs": [],
   "source": [
    "str_b"
   ]
  },
  {
   "cell_type": "code",
   "execution_count": null,
   "metadata": {},
   "outputs": [],
   "source": [
    "str_b.decode(encoding='utf-8')"
   ]
  },
  {
   "cell_type": "code",
   "execution_count": null,
   "metadata": {},
   "outputs": [],
   "source": [
    "a = False"
   ]
  },
  {
   "cell_type": "code",
   "execution_count": null,
   "metadata": {},
   "outputs": [],
   "source": [
    "a.to_bytes(1, 'little')"
   ]
  },
  {
   "cell_type": "code",
   "execution_count": null,
   "metadata": {},
   "outputs": [],
   "source": []
  }
 ],
 "metadata": {
  "kernelspec": {
   "display_name": "Python 3",
   "language": "python",
   "name": "python3"
  },
  "language_info": {
   "codemirror_mode": {
    "name": "ipython",
    "version": 3
   },
   "file_extension": ".py",
   "mimetype": "text/x-python",
   "name": "python",
   "nbconvert_exporter": "python",
   "pygments_lexer": "ipython3",
   "version": "3.7.4"
  }
 },
 "nbformat": 4,
 "nbformat_minor": 4
}
