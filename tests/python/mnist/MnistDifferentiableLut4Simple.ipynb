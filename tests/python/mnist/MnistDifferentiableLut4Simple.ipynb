{
 "cells": [
  {
   "cell_type": "markdown",
   "metadata": {},
   "source": [
    "# 微分可能LUTモデルによるMNIST学習\n",
    "\n",
    "Stochasticモデルに BatchNormalization や Binarize(backward時はHard-Tanh)を加えることで、より一般的なデータに対してLUT回路学習を行います。 "
   ]
  },
  {
   "cell_type": "markdown",
   "metadata": {},
   "source": [
    "## 事前準備"
   ]
  },
  {
   "cell_type": "code",
   "execution_count": 28,
   "metadata": {},
   "outputs": [],
   "source": [
    "import os\n",
    "import shutil\n",
    "import numpy as np\n",
    "from tqdm.notebook import tqdm\n",
    "\n",
    "import torch\n",
    "import torchvision\n",
    "import torchvision.transforms as transforms\n",
    "\n",
    "import binarybrain as bb"
   ]
  },
  {
   "cell_type": "markdown",
   "metadata": {},
   "source": [
    "異なる閾値で2値化した画像でフレーム数を水増ししながら学習させます。この水増しをバイナリ変調と呼んでいます。\n",
    "\n",
    "ここではフレーム方向の水増し量を frame_modulation_size で指定しています。"
   ]
  },
  {
   "cell_type": "code",
   "execution_count": 29,
   "metadata": {},
   "outputs": [],
   "source": [
    "# configuration\n",
    "data_path             = './data/'\n",
    "net_name              = 'MnistDifferentiableLut4Simple'\n",
    "data_path             = os.path.join('./data/', net_name)\n",
    "rtl_sim_path          = '../../verilog/mnist/tb_mnist_lut4_simple'\n",
    "rtl_module_name       = 'MnistLutSimple'\n",
    "output_velilog_file   = os.path.join(data_path, net_name + '.v')\n",
    "sim_velilog_file      = os.path.join(rtl_sim_path, rtl_module_name + '.v')\n",
    "\n",
    "epochs                = 4\n",
    "mini_batch_size       = 64*2\n",
    "frame_modulation_size = 31"
   ]
  },
  {
   "cell_type": "markdown",
   "metadata": {},
   "source": [
    "データセットは PyTorch の torchvision を使います。ミニバッチのサイズも DataLoader で指定しています。\n",
    "BinaryBrainではミニバッチをフレーム数として FrameBufferオブジェクトで扱います。\n",
    "バイナリ変調で計算中にフレーム数が変わるためデータセットの準備観点でのミニバッチと呼び分けています。"
   ]
  },
  {
   "cell_type": "code",
   "execution_count": 30,
   "metadata": {},
   "outputs": [],
   "source": [
    "# dataset\n",
    "dataset_path = './data/'\n",
    "dataset_train = torchvision.datasets.MNIST(root=dataset_path, train=True, transform=transforms.ToTensor(), download=True)\n",
    "dataset_test  = torchvision.datasets.MNIST(root=dataset_path, train=False, transform=transforms.ToTensor(), download=True)\n",
    "loader_train = torch.utils.data.DataLoader(dataset=dataset_train, batch_size=mini_batch_size, shuffle=True, num_workers=2)\n",
    "loader_test  = torch.utils.data.DataLoader(dataset=dataset_test,  batch_size=mini_batch_size, shuffle=False, num_workers=2)"
   ]
  },
  {
   "cell_type": "markdown",
   "metadata": {},
   "source": [
    "## ネットワークの構築\n",
    "\n",
    "DifferentiableLut に特に何もオプションをつけなければOKです。<br>\n",
    "バイナリ変調を施すためにネットの前後に RealToBinary層とBinaryToReal層を入れています。<br>\n",
    "send_command で \"binary true\" を送ることで、DifferentiableLut の内部の重み係数が 0.0-1.0 の間に拘束されます。\n",
    "\n",
    "接続数がLUTの物理構成に合わせて、1ノード当たり6個なので層間で6倍以上ノード数が違うと接続されないノードが発生するので、注意してネットワーク設計が必要です。\n",
    "最終段は各クラス7個の結果を出して Reduce で足し合わせています。こうすることで若干の改善がみられるとともに、加算結果が INT3 相当になるために若干尤度を数値的に見ることができるようです。"
   ]
  },
  {
   "cell_type": "code",
   "execution_count": 31,
   "metadata": {},
   "outputs": [],
   "source": [
    "# define network\n",
    "net = bb.Sequential([\n",
    "            bb.RealToBinary(frame_modulation_size=frame_modulation_size),\n",
    "            bb.DifferentiableLut([64*4*4], N=4),\n",
    "            bb.DifferentiableLut([64*4], N=4, connection='serial'),\n",
    "            bb.DifferentiableLut([64], N=4, connection='serial'),\n",
    "            bb.DifferentiableLut([10*4*4], N=4),\n",
    "            bb.DifferentiableLut([10*4], N=4, connection='serial'),\n",
    "            bb.DifferentiableLut([10], N=4, connection='serial'),\n",
    "            bb.BinaryToReal(frame_integration_size=frame_modulation_size)\n",
    "        ])\n",
    "net.set_input_shape([1, 28, 28])\n",
    "\n",
    "net.send_command(\"binary true\")\n",
    "\n",
    "loss      = bb.LossSoftmaxCrossEntropy()\n",
    "metrics   = bb.MetricsCategoricalAccuracy()\n",
    "optimizer = bb.OptimizerAdam()\n",
    "\n",
    "optimizer.set_variables(net.get_parameters(), net.get_gradients())"
   ]
  },
  {
   "cell_type": "markdown",
   "metadata": {},
   "source": [
    "## 学習の実施\n",
    "\n",
    "load_networks/save_networks で途中結果を保存/復帰可能できます。ネットワークの構造が変わると正常に読み込めなくなるので注意ください。\n",
    "(その場合は新しいネットをsave_networksするまで一度load_networks をコメントアウトください)\n",
    "\n",
    "tqdm などを使うと学習過程のプログレス表示ができて便利です。"
   ]
  },
  {
   "cell_type": "code",
   "execution_count": 32,
   "metadata": {},
   "outputs": [
    {
     "name": "stdout",
     "output_type": "stream",
     "text": [
      "----------------------------------------------------------------------\n",
      "[Sequential] \n",
      " input  shape : [1, 28, 28] output shape : [10]\n",
      "  --------------------------------------------------------------------\n",
      "  [RealToBinary] \n",
      "   input  shape : {1, 28, 28} output shape : {1, 28, 28}\n",
      "  --------------------------------------------------------------------\n",
      "  [DifferentiableLut4] \n",
      "   input  shape : {1, 28, 28} output shape : {1024}\n",
      "   binary : 1   batch_norm : 1\n",
      "  --------------------------------------------------------------------\n",
      "  [DifferentiableLut4] \n",
      "   input  shape : {1024} output shape : {256}\n",
      "   binary : 1   batch_norm : 1\n",
      "  --------------------------------------------------------------------\n",
      "  [DifferentiableLut4] \n",
      "   input  shape : {256} output shape : {64}\n",
      "   binary : 1   batch_norm : 1\n",
      "  --------------------------------------------------------------------\n",
      "  [DifferentiableLut4] \n",
      "   input  shape : {64} output shape : {160}\n",
      "   binary : 1   batch_norm : 1\n",
      "  --------------------------------------------------------------------\n",
      "  [DifferentiableLut4] \n",
      "   input  shape : {160} output shape : {40}\n",
      "   binary : 1   batch_norm : 1\n",
      "  --------------------------------------------------------------------\n",
      "  [DifferentiableLut4] \n",
      "   input  shape : {40} output shape : {10}\n",
      "   binary : 1   batch_norm : 1\n",
      "  --------------------------------------------------------------------\n",
      "  [BinaryToReal] \n",
      "   input  shape : {10} output shape : {10}\n",
      "----------------------------------------------------------------------\n",
      "\n"
     ]
    },
    {
     "data": {
      "application/json": {
       "ascii": false,
       "bar_format": null,
       "colour": null,
       "elapsed": 0.01253366470336914,
       "initial": 0,
       "n": 0,
       "ncols": null,
       "nrows": null,
       "postfix": null,
       "prefix": "",
       "rate": null,
       "total": 469,
       "unit": "it",
       "unit_divisor": 1000,
       "unit_scale": false
      },
      "application/vnd.jupyter.widget-view+json": {
       "model_id": "c74ed91471a44919aaa0537fafc95e12",
       "version_major": 2,
       "version_minor": 0
      },
      "text/plain": [
       "  0%|          | 0/469 [00:00<?, ?it/s]"
      ]
     },
     "metadata": {},
     "output_type": "display_data"
    },
    {
     "name": "stdout",
     "output_type": "stream",
     "text": [
      "epoch[0] : loss=1.696531 accuracy=0.784500\n"
     ]
    },
    {
     "data": {
      "application/json": {
       "ascii": false,
       "bar_format": null,
       "colour": null,
       "elapsed": 0.008740425109863281,
       "initial": 0,
       "n": 0,
       "ncols": null,
       "nrows": null,
       "postfix": null,
       "prefix": "",
       "rate": null,
       "total": 469,
       "unit": "it",
       "unit_divisor": 1000,
       "unit_scale": false
      },
      "application/vnd.jupyter.widget-view+json": {
       "model_id": "0d2d7e464a854c6c9c07f783b5a45798",
       "version_major": 2,
       "version_minor": 0
      },
      "text/plain": [
       "  0%|          | 0/469 [00:00<?, ?it/s]"
      ]
     },
     "metadata": {},
     "output_type": "display_data"
    },
    {
     "name": "stdout",
     "output_type": "stream",
     "text": [
      "epoch[1] : loss=1.670991 accuracy=0.819700\n"
     ]
    },
    {
     "data": {
      "application/json": {
       "ascii": false,
       "bar_format": null,
       "colour": null,
       "elapsed": 0.00861358642578125,
       "initial": 0,
       "n": 0,
       "ncols": null,
       "nrows": null,
       "postfix": null,
       "prefix": "",
       "rate": null,
       "total": 469,
       "unit": "it",
       "unit_divisor": 1000,
       "unit_scale": false
      },
      "application/vnd.jupyter.widget-view+json": {
       "model_id": "cb722c9a3a8e425e92920b5b7e8be639",
       "version_major": 2,
       "version_minor": 0
      },
      "text/plain": [
       "  0%|          | 0/469 [00:00<?, ?it/s]"
      ]
     },
     "metadata": {},
     "output_type": "display_data"
    },
    {
     "name": "stdout",
     "output_type": "stream",
     "text": [
      "epoch[2] : loss=1.725729 accuracy=0.746700\n"
     ]
    },
    {
     "data": {
      "application/json": {
       "ascii": false,
       "bar_format": null,
       "colour": null,
       "elapsed": 0.009035587310791016,
       "initial": 0,
       "n": 0,
       "ncols": null,
       "nrows": null,
       "postfix": null,
       "prefix": "",
       "rate": null,
       "total": 469,
       "unit": "it",
       "unit_divisor": 1000,
       "unit_scale": false
      },
      "application/vnd.jupyter.widget-view+json": {
       "model_id": "b7a30d62979d4489b68b4e6f18e08fed",
       "version_major": 2,
       "version_minor": 0
      },
      "text/plain": [
       "  0%|          | 0/469 [00:00<?, ?it/s]"
      ]
     },
     "metadata": {},
     "output_type": "display_data"
    },
    {
     "name": "stdout",
     "output_type": "stream",
     "text": [
      "epoch[3] : loss=1.697923 accuracy=0.793800\n"
     ]
    }
   ],
   "source": [
    "bb.load_networks(data_path, net)\n",
    "\n",
    "print(net.get_info())\n",
    "\n",
    "# learning\n",
    "for epoch in range(epochs):\n",
    "    # learning\n",
    "    loss.clear()\n",
    "    metrics.clear()\n",
    "    with tqdm(loader_train) as t:\n",
    "        for images, labels in t:\n",
    "            x_buf = bb.FrameBuffer.from_numpy(np.array(images).astype(np.float32))\n",
    "            t_buf = bb.FrameBuffer.from_numpy(np.identity(10)[np.array(labels)].astype(np.float32))\n",
    "\n",
    "            y_buf = net.forward(x_buf, train=True)\n",
    "            \n",
    "            dy_buf = loss.calculate(y_buf, t_buf)\n",
    "            metrics.calculate(y_buf, t_buf)\n",
    "            \n",
    "            net.backward(dy_buf)\n",
    "\n",
    "            optimizer.update()\n",
    "            \n",
    "            t.set_postfix(loss=loss.get(), acc=metrics.get())\n",
    "\n",
    "    # test\n",
    "    loss.clear()\n",
    "    metrics.clear()\n",
    "    for images, labels in loader_test:\n",
    "        x_buf = bb.FrameBuffer.from_numpy(np.array(images).astype(np.float32))\n",
    "        t_buf = bb.FrameBuffer.from_numpy(np.identity(10)[np.array(labels)].astype(np.float32))\n",
    "\n",
    "        y_buf = net.forward(x_buf, train=False)\n",
    "\n",
    "        loss.calculate(y_buf, t_buf)\n",
    "        metrics.calculate(y_buf, t_buf)\n",
    "\n",
    "    print('epoch[%d] : loss=%f accuracy=%f' % (epoch, loss.get(), metrics.get()))\n",
    "\n",
    "    bb.save_networks(data_path, net)"
   ]
  },
  {
   "cell_type": "markdown",
   "metadata": {},
   "source": [
    "## FPGA用Verilog出力\n",
    "\n",
    "最後に学習したネットワークを Verilog 出力します。\n",
    "MNISTのサイズである 28x28=784bit の入力を 10bit の分類をして出力するだけのシンプルなモジュールを出力します。"
   ]
  },
  {
   "cell_type": "code",
   "execution_count": 33,
   "metadata": {},
   "outputs": [
    {
     "data": {
      "text/plain": [
       "'../../verilog/mnist/tb_mnist_lut4_simple/MnistLutSimple.v'"
      ]
     },
     "execution_count": 33,
     "metadata": {},
     "output_type": "execute_result"
    }
   ],
   "source": [
    "# export verilog\n",
    "bb.load_networks(data_path, net)\n",
    "\n",
    "os.makedirs(data_path, exist_ok=True)\n",
    "os.makedirs(rtl_sim_path, exist_ok=True)\n",
    "\n",
    "# 結果を出力\n",
    "with open(output_velilog_file, 'w') as f:\n",
    "    f.write('`timescale 1ns / 1ps\\n\\n')\n",
    "    bb.dump_verilog_lut_layers(f, module_name=rtl_module_name, net=net)\n",
    "\n",
    "# Simulation用ファイルに上書きコピー\n",
    "shutil.copyfile(output_velilog_file, sim_velilog_file)"
   ]
  },
  {
   "cell_type": "code",
   "execution_count": 34,
   "metadata": {},
   "outputs": [],
   "source": [
    "# シミュレーション用データファイル作成\n",
    "with open(os.path.join(rtl_sim_path, 'mnist_test.txt'), 'w') as f:\n",
    "    bb.dump_verilog_readmemb_image_classification(f ,loader_test)"
   ]
  },
  {
   "cell_type": "markdown",
   "metadata": {},
   "source": [
    "## モデルの内部の値を取得する\n",
    "\n",
    "Verilog以外の言語やFPGA以外に適用したい場合、接続とLUTテーブルの2つが取得できれば同じ計算をするモデルをインプリメントすることが可能です。"
   ]
  },
  {
   "cell_type": "markdown",
   "metadata": {},
   "source": [
    "### 事前準備\n",
    "そのままだと勾配はリセットされているので少しだけ逆伝搬を実施します"
   ]
  },
  {
   "cell_type": "code",
   "execution_count": 35,
   "metadata": {},
   "outputs": [],
   "source": [
    "# 最新の保存データ読み込み\n",
    "bb.load_networks(data_path, net)\n",
    "\n",
    "# layer を取り出す\n",
    "layer0 = net[1]\n",
    "layer1 = net[2]\n",
    "layer2 = net[3]"
   ]
  },
  {
   "cell_type": "markdown",
   "metadata": {},
   "source": [
    "### 接続を取得する\n",
    "\n",
    "LUTモデルは get_connection_list() にて接続行列を取得できます。<br>\n",
    "ここでの各出力ノードは、6つの入力と接続されており、layer0 の出力ノードは 1024 個あるので、1024x4 の行列が取得できます。"
   ]
  },
  {
   "cell_type": "code",
   "execution_count": 36,
   "metadata": {},
   "outputs": [
    {
     "name": "stdout",
     "output_type": "stream",
     "text": [
      "(1024, 4)\n"
     ]
    },
    {
     "data": {
      "text/plain": [
       "array([[531, 302, 316, 420],\n",
       "       [736, 111,  73, 191],\n",
       "       [529, 203, 400,  20],\n",
       "       ...,\n",
       "       [ 96, 287, 745, 140],\n",
       "       [ 39,  75, 762,  24],\n",
       "       [730, 179,  33, 337]])"
      ]
     },
     "execution_count": 36,
     "metadata": {},
     "output_type": "execute_result"
    }
   ],
   "source": [
    "connection_mat = np.array(layer0.get_connection_list())\n",
    "print(connection_mat.shape)\n",
    "connection_mat"
   ]
  },
  {
   "cell_type": "markdown",
   "metadata": {},
   "source": [
    "### FPGA化する場合のLUTテーブルを取得する\n",
    "\n",
    "LUT化する場合のテーブルを取得します。<br>\n",
    "6入力のLUTモデルなので $ 2^4 = 16 $ 個のテーブルがあります。<br>\n",
    "モデル内に BatchNormalization 等を含む場合はそれらも加味して最終的にバイナリLUTにする場合に適した値を出力します。"
   ]
  },
  {
   "cell_type": "code",
   "execution_count": 37,
   "metadata": {},
   "outputs": [
    {
     "name": "stdout",
     "output_type": "stream",
     "text": [
      "(1024, 16)\n"
     ]
    },
    {
     "data": {
      "text/plain": [
       "array([[False,  True,  True, ..., False,  True,  True],\n",
       "       [False, False, False, ...,  True,  True,  True],\n",
       "       [ True, False, False, ..., False, False, False],\n",
       "       ...,\n",
       "       [False,  True,  True, ...,  True, False,  True],\n",
       "       [False,  True,  True, ...,  True,  True,  True],\n",
       "       [False, False,  True, ..., False, False, False]])"
      ]
     },
     "execution_count": 37,
     "metadata": {},
     "output_type": "execute_result"
    }
   ],
   "source": [
    "lut_mat = np.array(layer0.get_lut_table_list())\n",
    "print(lut_mat.shape)\n",
    "lut_mat"
   ]
  },
  {
   "cell_type": "markdown",
   "metadata": {},
   "source": [
    "### 重み行列を覗いてみる\n",
    "\n",
    "6入力のLUTモデルなので $ 2^4 = 16 $ 個のテーブルがあります。<br>\n",
    "W() にて bb.Tensor 型で取得可能で、numpy() にて ndarray に変換できます。"
   ]
  },
  {
   "cell_type": "code",
   "execution_count": 44,
   "metadata": {},
   "outputs": [
    {
     "name": "stdout",
     "output_type": "stream",
     "text": [
      "(1024, 16)\n"
     ]
    },
    {
     "data": {
      "text/plain": [
       "array([[0.49162844, 0.5280779 , 0.57371926, ..., 0.34074423, 0.6116431 ,\n",
       "        0.607071  ],\n",
       "       [0.4783129 , 0.19335054, 0.47556198, ..., 0.5076589 , 0.5880844 ,\n",
       "        0.5181765 ],\n",
       "       [0.61731434, 0.4684478 , 0.3765769 , ..., 0.49074215, 0.41823113,\n",
       "        0.3487906 ],\n",
       "       ...,\n",
       "       [0.45175382, 0.6535614 , 0.53194654, ..., 0.6134853 , 0.40244558,\n",
       "        0.52635974],\n",
       "       [0.36481518, 0.50609213, 0.5197173 , ..., 0.54208535, 0.5630838 ,\n",
       "        0.59852237],\n",
       "       [0.49354315, 0.499773  , 0.5950174 , ..., 0.43302473, 0.5230216 ,\n",
       "        0.52889705]], dtype=float32)"
      ]
     },
     "execution_count": 44,
     "metadata": {},
     "output_type": "execute_result"
    }
   ],
   "source": [
    "W = layer0.W().numpy()\n",
    "print(W.shape)\n",
    "W"
   ]
  },
  {
   "cell_type": "markdown",
   "metadata": {},
   "source": [
    "### 勾配を覗いてみる\n",
    "\n",
    "同様に dW() でW の勾配が取得できます"
   ]
  },
  {
   "cell_type": "code",
   "execution_count": 39,
   "metadata": {},
   "outputs": [
    {
     "name": "stdout",
     "output_type": "stream",
     "text": [
      "(1024, 16)\n"
     ]
    },
    {
     "data": {
      "text/plain": [
       "array([[ 7.5323507e-05,  2.5107329e-05, -1.3911631e-07, ...,\n",
       "        -3.6132101e-06, -1.4222352e-05, -4.7407748e-06],\n",
       "       [-5.4312404e-06,  2.4563633e-07, -1.8090359e-06, ...,\n",
       "         6.0351158e-07,  3.7524296e-07,  2.0110929e-07],\n",
       "       [-4.3391756e-04, -1.4515530e-04, -2.1268107e-04, ...,\n",
       "         5.6851361e-05,  4.5495901e-05,  1.3617726e-05],\n",
       "       ...,\n",
       "       [ 2.1891750e-04,  1.4854758e-04, -2.4731923e-04, ...,\n",
       "         1.1613833e-05, -3.3771503e-05, -8.4581043e-06],\n",
       "       [ 1.1175871e-08,  8.3819032e-09,  8.3819032e-09, ...,\n",
       "         6.9849193e-10,  6.9849193e-10,  2.0372681e-10],\n",
       "       [ 3.3061951e-08,  1.1175871e-08, -3.0093361e-08, ...,\n",
       "         1.1568773e-09, -3.2450771e-09, -1.0877557e-09]], dtype=float32)"
      ]
     },
     "execution_count": 39,
     "metadata": {},
     "output_type": "execute_result"
    }
   ],
   "source": [
    "# そのままだとすべて0なので、1回だけbackward実施\n",
    "for images, labels in loader_test:\n",
    "    x_buf = bb.FrameBuffer.from_numpy(np.array(images).astype(np.float32))\n",
    "    t_buf = bb.FrameBuffer.from_numpy(np.identity(10)[np.array(labels)].astype(np.float32))\n",
    "    y_buf = net.forward(x_buf, train=True)\n",
    "    net.backward(loss.calculate(y_buf, t_buf))\n",
    "    break\n",
    "\n",
    "dW = layer0.dW().numpy()\n",
    "print(dW.shape)\n",
    "dW"
   ]
  },
  {
   "cell_type": "markdown",
   "metadata": {},
   "source": [
    "## FPGA用HLS(C言語高位合成)で使う為の出力\n",
    "\n",
    "内部データを取得する例としてHSL(C言語高位合成)用の出力を作ってみます"
   ]
  },
  {
   "cell_type": "code",
   "execution_count": 40,
   "metadata": {},
   "outputs": [],
   "source": [
    "def make_lut_func_name(name, node):\n",
    "    return \"%s_lut_%d\"%(name, node)\n",
    "\n",
    "def dump_hls_lut_node2(f, name, lut, node):\n",
    "    f.write(\"\\ninline ap_uint<1> %s(\\n\"%(make_lut_func_name(name, node)))\n",
    "    n = lut.get_node_connection_size(node)\n",
    "    s = lut.get_lut_table_size(node)\n",
    "    for i in range(n):\n",
    "        f.write(\"        ap_uint<1> in_data%d\"%(i))\n",
    "        if i < n-1:\n",
    "            f.write(\",\\n\")\n",
    "        else:\n",
    "            f.write(\")\\n\")\n",
    "    f.write(\"{\\n\")\n",
    "    f.write(\"#pragma HLS inline\\n\\n\")\n",
    "    f.write(\"    ap_uint<%d> index;\\n\"%(n))\n",
    "    for i in range(n):\n",
    "        f.write(\"    index[%d] = in_data%d;\\n\"%(i, i))\n",
    "    f.write(\"    \\n\")\n",
    "    f.write(\"    ap_uint<1> table[%d] = {\"%(s))\n",
    "    for i in range(s):\n",
    "        f.write(\"%d,\"%(lut.get_lut_table(node ,i)))\n",
    "    f.write(\"};\\n\")\n",
    "#    for i in range(s):\n",
    "#        f.write(\"    table[%d] = %d;\\n\"%(i, lut.get_lut_table(node ,i)))\n",
    "#    f.write(\"    \\n\")\n",
    "#   f.write(\"    #pragma HLS resource variable=table core=ROM_1P_LUTRAM\\n\")\n",
    "    f.write(\"    #pragma HLS bind_storage variable=table type=ROM_1P impl=LUTRAM\\n\")\n",
    "    f.write(\"    return table[index];\\n\")\n",
    "    f.write(\"}\\n\\n\")\n",
    "\n",
    "def dump_hls_lut_node(f, name, lut, node):\n",
    "    f.write(\"\\ninline ap_uint<1> %s(\\n\"%(make_lut_func_name(name, node)))\n",
    "    n = lut.get_node_connection_size(node)\n",
    "    s = lut.get_lut_table_size(node)\n",
    "    \n",
    "    tbl = 0\n",
    "    for i in range(s):\n",
    "        if lut.get_lut_table(node ,i):\n",
    "            tbl += (1 << i)\n",
    "    \n",
    "    for i in range(n):\n",
    "        f.write(\"        ap_uint<1> in_data%d\"%(i))\n",
    "        if i < n-1:\n",
    "            f.write(\",\\n\")\n",
    "        else:\n",
    "            f.write(\")\\n\")\n",
    "    f.write(\"{\\n\")\n",
    "    f.write(\"#pragma HLS inline\\n\")\n",
    "    f.write(\"    ap_uint<%d> index;\\n\"%(n))\n",
    "    for i in range(n):\n",
    "        f.write(\"    index[%d] = in_data%d;\\n\"%(i, i))\n",
    "    f.write(\"    ap_uint<%d> table= 0x%016xLL;\\n\"%(s, tbl))\n",
    "    f.write(\"    return table[index];\\n\")\n",
    "    f.write(\"}\\n\\n\")\n",
    "\n",
    "def dump_hls_lut(f, name, lut):\n",
    "    ins  = lut.get_input_node_size()\n",
    "    outs = lut.get_output_node_size()\n",
    "    for node in range(outs):\n",
    "        dump_hls_lut_node2(f, name, lut, node)\n",
    "    \n",
    "    f.write(\"\\n\")\n",
    "    f.write(\"inline ap_uint<%d> %s(ap_uint<%d> in_data)\\n\"%(outs, name, ins))\n",
    "    f.write(\"{\\n\")\n",
    "    f.write(\"    ap_uint<%d>  out_data;\\n\"%(outs))\n",
    "    for node in range(outs):\n",
    "        f.write(\"    out_data[%d] = %s(\"%(node, make_lut_func_name(name, node)))\n",
    "        n = lut.get_node_connection_size(node)\n",
    "        for i in range(n):\n",
    "            f.write(\"in_data[%d]\"%(lut.get_node_connection_index(node, i)))\n",
    "            if i < n-1: \n",
    "                f.write(\",\")\n",
    "            else:\n",
    "                f.write(\");\\n\")\n",
    "    f.write(\"    return out_data;\\n\")   \n",
    "    f.write(\"}\\n\\n\")\n",
    "\n",
    "# 学習済みを読みなおす    \n",
    "bb.load_networks(data_path, net)\n",
    "with open(\"MnistDifferentiableLutSimpleHls.h\", \"w\") as f:\n",
    "    f.write('#include \"ap_int.h\"\\n\\n')\n",
    "    for i in range(1, 7):\n",
    "        dump_hls_lut(f, \"mnist_layer%d\"%i, net[i])"
   ]
  },
  {
   "cell_type": "code",
   "execution_count": 41,
   "metadata": {},
   "outputs": [],
   "source": [
    "num = 0\n",
    "with open('mnist_hls_test.txt', 'w') as f:\n",
    "    for images, labels in loader_test:\n",
    "        x_buf = np.array(images).astype(np.float32)\n",
    "        t_buf = np.array(labels)\n",
    "        for i in range(x_buf.shape[0]):\n",
    "            f.write(\"%d\"%t_buf[i])\n",
    "            for y in range(x_buf.shape[2]):\n",
    "                for x in range(x_buf.shape[3]):\n",
    "                    f.write(\" %d\"%(x_buf[i, 0, y, x] > 0.5))\n",
    "            f.write(\"\\n\")\n",
    "            num += 1\n",
    "        if num > 1024:\n",
    "            break"
   ]
  },
  {
   "cell_type": "code",
   "execution_count": 42,
   "metadata": {},
   "outputs": [
    {
     "name": "stdout",
     "output_type": "stream",
     "text": [
      "/bin/bash: copy: command not found\n",
      "/bin/bash: copy: command not found\n"
     ]
    }
   ],
   "source": [
    "! copy MnistDifferentiableLutSimpleHls.h \\\\wsl$\\Ubuntu-20.04\\home\\ryuji\\git-work\\jelly_develop\\projects\\ultra96v2_hls_test\\hls_\\src\n",
    "! copy mnist_hls_test.txt \\\\wsl$\\Ubuntu-20.04\\home\\ryuji\\git-work\\jelly_develop\\projects\\ultra96v2_hls_test\\hls_\\testbench\n"
   ]
  },
  {
   "cell_type": "code",
   "execution_count": 43,
   "metadata": {},
   "outputs": [
    {
     "name": "stdout",
     "output_type": "stream",
     "text": [
      "/bin/bash: copy: command not found\n",
      "/bin/bash: copy: command not found\n"
     ]
    }
   ],
   "source": [
    "! copy MnistDifferentiableLutSimpleHls.h ..\\..\\hls\\mnist\\mnist_simple\\src\n",
    "! copy mnist_hls_test.txt                ..\\..\\hls\\mnist\\mnist_simple\\testbench"
   ]
  },
  {
   "cell_type": "code",
   "execution_count": null,
   "metadata": {},
   "outputs": [],
   "source": []
  }
 ],
 "metadata": {
  "kernelspec": {
   "display_name": "Python 3",
   "language": "python",
   "name": "python3"
  },
  "language_info": {
   "codemirror_mode": {
    "name": "ipython",
    "version": 3
   },
   "file_extension": ".py",
   "mimetype": "text/x-python",
   "name": "python",
   "nbconvert_exporter": "python",
   "pygments_lexer": "ipython3",
   "version": "3.9.12"
  }
 },
 "nbformat": 4,
 "nbformat_minor": 4
}
