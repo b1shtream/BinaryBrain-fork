{
 "cells": [
  {
   "cell_type": "markdown",
   "metadata": {},
   "source": [
    "# 微分可能LUTモデルによるCNNでのCIFAR-10学習\n",
    "\n",
    "Differentiable LUTモデルで畳み込み層を形成して、一般的なデータに対してCNNによる回路学習を行います。 "
   ]
  },
  {
   "cell_type": "code",
   "execution_count": 1,
   "metadata": {},
   "outputs": [],
   "source": [
    "import os\n",
    "import numpy as np\n",
    "from tqdm.notebook import tqdm\n",
    "\n",
    "import torch\n",
    "import torchvision\n",
    "import torchvision.transforms as transforms\n",
    "\n",
    "import binarybrain as bb"
   ]
  },
  {
   "cell_type": "markdown",
   "metadata": {},
   "source": [
    "### データセット\n",
    "\n",
    "データセットの準備には torchvision を使います"
   ]
  },
  {
   "cell_type": "code",
   "execution_count": 2,
   "metadata": {},
   "outputs": [
    {
     "name": "stdout",
     "output_type": "stream",
     "text": [
      "Downloading https://www.cs.toronto.edu/~kriz/cifar-10-python.tar.gz to ./data/Cifar10DifferentiableLutCnn\\cifar-10-python.tar.gz\n"
     ]
    },
    {
     "data": {
      "application/vnd.jupyter.widget-view+json": {
       "model_id": "f7dc23b2b2e24019b1607c37b1da9ac2",
       "version_major": 2,
       "version_minor": 0
      },
      "text/plain": [
       "HBox(children=(FloatProgress(value=1.0, bar_style='info', max=1.0), HTML(value='')))"
      ]
     },
     "metadata": {},
     "output_type": "display_data"
    },
    {
     "name": "stdout",
     "output_type": "stream",
     "text": [
      "Extracting ./data/Cifar10DifferentiableLutCnn\\cifar-10-python.tar.gz to ./data/Cifar10DifferentiableLutCnn\n",
      "Files already downloaded and verified\n"
     ]
    }
   ],
   "source": [
    "# configuration\n",
    "net_name              = 'Cifar10DifferentiableLutCnn'\n",
    "data_path             = os.path.join('./data/', net_name)\n",
    "rtl_sim_path          = '../../verilog/cifar10'\n",
    "rtl_module_name       = 'Cifar10LutCnn'\n",
    "output_velilog_file   = os.path.join(data_path, rtl_module_name + '.v')\n",
    "sim_velilog_file      = os.path.join(rtl_sim_path, rtl_module_name + '.v')\n",
    "\n",
    "bin_mode              = True\n",
    "frame_modulation_size = 7\n",
    "epochs                = 8\n",
    "mini_batch_size       = 32\n",
    "\n",
    "# dataset\n",
    "dataset_train = torchvision.datasets.CIFAR10(root=data_path, train=True, transform=transforms.ToTensor(), download=True)\n",
    "dataset_test  = torchvision.datasets.CIFAR10(root=data_path, train=False, transform=transforms.ToTensor(), download=True)\n",
    "loader_train = torch.utils.data.DataLoader(dataset=dataset_train, batch_size=mini_batch_size, shuffle=True, num_workers=2)\n",
    "loader_test  = torch.utils.data.DataLoader(dataset=dataset_test,  batch_size=mini_batch_size, shuffle=False, num_workers=2)"
   ]
  },
  {
   "cell_type": "markdown",
   "metadata": {},
   "source": [
    "## ネットワーク構築\n",
    "\n",
    "Convolution2d を使って畳み込み層を作ります。<br>\n",
    "Convolution2d は指定した層を im2col と col2im で挟み込んで Lowering による畳み込みをサポートします。<br>\n",
    "DenseAffine を Lowering すると一般にCNNで知られる畳み込み層になりますが、LUT-Network では\n",
    "ここに DifferentiableLut を組み合わせて作った層を設定することでDenseAffineとは異なる効率の良い畳み込み層を実現します。"
   ]
  },
  {
   "cell_type": "code",
   "execution_count": 3,
   "metadata": {},
   "outputs": [],
   "source": [
    "# バイナリ時は BIT型を使えばメモリ削減可能\n",
    "bin_dtype = bb.DType.BIT if bin_mode else bb.DType.FP32\n",
    "\n",
    "# define network\n",
    "net = bb.Sequential([\n",
    "            bb.RealToBinary(frame_modulation_size=frame_modulation_size, depth_modulation_size=15, bin_dtype=bin_dtype),\n",
    "            bb.Sequential([\n",
    "                bb.Convolution2d(  # pointwise\n",
    "                    bb.Sequential([\n",
    "                        bb.DifferentiableLut([512], bin_dtype=bin_dtype),\n",
    "                        bb.DifferentiableLut([32*6], bin_dtype=bin_dtype),\n",
    "                        bb.DifferentiableLut([32], bin_dtype=bin_dtype),\n",
    "                    ]),\n",
    "                    filter_size=(1, 1),\n",
    "                    fw_dtype=bin_dtype),\n",
    "\n",
    "                bb.Convolution2d(  # 32x32 -> 30x30\n",
    "                    bb.Sequential([\n",
    "                        bb.DifferentiableLut([512], bin_dtype=bin_dtype),\n",
    "                        bb.DifferentiableLut([32*6], bin_dtype=bin_dtype),\n",
    "                        bb.DifferentiableLut([32], bin_dtype=bin_dtype),\n",
    "                    ]),\n",
    "                    filter_size=(3, 3),\n",
    "                    fw_dtype=bin_dtype),\n",
    "                bb.Convolution2d(  # 30x30 -> 28x28\n",
    "                    bb.Sequential([\n",
    "                        bb.DifferentiableLut([1024], bin_dtype=bin_dtype),\n",
    "                        bb.DifferentiableLut([64*6], bin_dtype=bin_dtype),\n",
    "                        bb.DifferentiableLut([64], bin_dtype=bin_dtype),\n",
    "                    ]),\n",
    "                    filter_size=(3, 3),\n",
    "                    fw_dtype=bin_dtype),\n",
    "                bb.MaxPooling(filter_size=(2, 2), fw_dtype=bin_dtype),  # 28x28-> 14x14\n",
    "            ]),\n",
    "            bb.Sequential([\n",
    "                bb.Convolution2d(  # 14x14-> 12x12\n",
    "                    bb.Sequential([\n",
    "                        bb.DifferentiableLut([1024], bin_dtype=bin_dtype),\n",
    "                        bb.DifferentiableLut([64*6], bin_dtype=bin_dtype),\n",
    "                        bb.DifferentiableLut([64], bin_dtype=bin_dtype),\n",
    "                    ]),\n",
    "                    filter_size=(3, 3),\n",
    "                    fw_dtype=bin_dtype),\n",
    "                bb.Convolution2d(  # 12x12-> 10x10\n",
    "                    bb.Sequential([\n",
    "                        bb.DifferentiableLut([2048], bin_dtype=bin_dtype),\n",
    "                        bb.DifferentiableLut([128*6], bin_dtype=bin_dtype),\n",
    "                        bb.DifferentiableLut([128], bin_dtype=bin_dtype),\n",
    "                    ]),\n",
    "                    filter_size=(3, 3),\n",
    "                    fw_dtype=bin_dtype),\n",
    "                bb.MaxPooling(filter_size=(2, 2), fw_dtype=bin_dtype),  # 10x10-> 5x5\n",
    "            ]),\n",
    "            bb.Sequential([\n",
    "                bb.Convolution2d(  # 5x5-> 1x1\n",
    "                    bb.Sequential([\n",
    "                        bb.DifferentiableLut([1024*6],   bin_dtype=bin_dtype),\n",
    "                        bb.DifferentiableLut([1024],     bin_dtype=bin_dtype),\n",
    "                        bb.DifferentiableLut([10*6*6*6], bin_dtype=bin_dtype),\n",
    "                        bb.DifferentiableLut([10*6*6],   bin_dtype=bin_dtype),\n",
    "                        bb.DifferentiableLut([10*6],     bin_dtype=bin_dtype),\n",
    "                        bb.DifferentiableLut([10],       bin_dtype=bin_dtype),\n",
    "                    ]),\n",
    "                    filter_size=(5, 5),\n",
    "                    fw_dtype=bin_dtype),\n",
    "            ]),\n",
    "            bb.BinaryToReal(frame_modulation_size=frame_modulation_size, bin_dtype=bin_dtype)\n",
    "        ])\n",
    "\n",
    "net.set_input_shape([3, 32, 32])\n",
    "\n",
    "if bin_mode:\n",
    "    net.send_command(\"binary true\")\n",
    "\n",
    "# print(net.get_info()) # ネットを表示"
   ]
  },
  {
   "cell_type": "markdown",
   "metadata": {},
   "source": [
    "## 学習実施\n",
    "\n",
    "学習を行います"
   ]
  },
  {
   "cell_type": "code",
   "execution_count": null,
   "metadata": {},
   "outputs": [
    {
     "data": {
      "application/vnd.jupyter.widget-view+json": {
       "model_id": "d4e68eda528f4065ba2c933f0ac93925",
       "version_major": 2,
       "version_minor": 0
      },
      "text/plain": [
       "HBox(children=(FloatProgress(value=0.0, max=1563.0), HTML(value='')))"
      ]
     },
     "metadata": {},
     "output_type": "display_data"
    }
   ],
   "source": [
    "#bb.load_networks(data_path, net)\n",
    "\n",
    "# learning\n",
    "loss      = bb.LossSoftmaxCrossEntropy()\n",
    "metrics   = bb.MetricsCategoricalAccuracy()\n",
    "optimizer = bb.OptimizerAdam()\n",
    "\n",
    "optimizer.set_variables(net.get_parameters(), net.get_gradients())\n",
    "\n",
    "for epoch in range(epochs):\n",
    "    loss.clear()\n",
    "    metrics.clear()\n",
    "\n",
    "    # learning\n",
    "    with tqdm(loader_train) as t:\n",
    "        for images, labels in t:\n",
    "            x_buf = bb.FrameBuffer.from_numpy(np.array(images).astype(np.float32))\n",
    "            t_buf = bb.FrameBuffer.from_numpy(np.identity(10)[np.array(labels)].astype(np.float32))\n",
    "\n",
    "            y_buf = net.forward(x_buf, train=True)\n",
    "\n",
    "            dy_buf = loss.calculate(y_buf, t_buf)\n",
    "            metrics.calculate(y_buf, t_buf)\n",
    "            net.backward(dy_buf)\n",
    "\n",
    "            optimizer.update()\n",
    "\n",
    "            t.set_postfix(loss=loss.get(), acc=metrics.get())\n",
    "\n",
    "    # test\n",
    "    loss.clear()\n",
    "    metrics.clear()\n",
    "    for images, labels in loader_test:\n",
    "        x_buf = bb.FrameBuffer.from_numpy(np.array(images).astype(np.float32))\n",
    "        t_buf = bb.FrameBuffer.from_numpy(np.identity(10)[np.array(labels)].astype(np.float32))\n",
    "\n",
    "        y_buf = net.forward(x_buf, train=False)\n",
    "\n",
    "        loss.calculate(y_buf, t_buf)\n",
    "        metrics.calculate(y_buf, t_buf)\n",
    "\n",
    "    bb.save_networks(data_path, net)\n",
    "\n",
    "    print('epoch[%d] : loss=%f accuracy=%f' % (epoch, loss.get(), metrics.get()))"
   ]
  },
  {
   "cell_type": "markdown",
   "metadata": {},
   "source": [
    "## RTL(Verilog)変換\n",
    "\n",
    "FPGA化するために Verilog に変換します。インターフェースはXilinx社のAXI4 Stream Video 仕様(フレームスタートでtuserが立つ)となります。\n",
    "MaxPooling の単位で画像サイズが縮小されてしまうので、現状、この単位でしか変換できないため3つに分けて出力しています。"
   ]
  },
  {
   "cell_type": "code",
   "execution_count": null,
   "metadata": {},
   "outputs": [],
   "source": [
    "# export verilog\n",
    "with open(output_velilog_file, 'w') as f:\n",
    "    f.write('`timescale 1ns / 1ps\\n\\n')\n",
    "    bb.dump_verilog_lut_cnv_layers(f, rtl_module_name + 'Cnv0', net[1])\n",
    "    bb.dump_verilog_lut_cnv_layers(f, rtl_module_name + 'Cnv1', net[2])\n",
    "    bb.dump_verilog_lut_cnv_layers(f, rtl_module_name + 'Cnv2', net[3])"
   ]
  }
 ],
 "metadata": {
  "kernelspec": {
   "display_name": "Python 3",
   "language": "python",
   "name": "python3"
  },
  "language_info": {
   "codemirror_mode": {
    "name": "ipython",
    "version": 3
   },
   "file_extension": ".py",
   "mimetype": "text/x-python",
   "name": "python",
   "nbconvert_exporter": "python",
   "pygments_lexer": "ipython3",
   "version": "3.7.4"
  }
 },
 "nbformat": 4,
 "nbformat_minor": 4
}
