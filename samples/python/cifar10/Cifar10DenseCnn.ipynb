{
 "cells": [
  {
   "cell_type": "markdown",
   "metadata": {},
   "source": [
    "# 一般的なDenseAffeneでのCNNのバイナリ化実験(CIFAR-10学習)\n",
    "\n",
    "DenseAffene モデルで畳み込み層を形成して、Binarize 層を入れて実験を行います。 "
   ]
  },
  {
   "cell_type": "code",
   "execution_count": 15,
   "metadata": {},
   "outputs": [],
   "source": [
    "import os\n",
    "import numpy as np\n",
    "import pickle\n",
    "import matplotlib.pyplot as plt\n",
    "from tqdm.notebook import tqdm\n",
    "\n",
    "import torch\n",
    "import torchvision\n",
    "import torchvision.transforms as transforms\n",
    "\n",
    "import binarybrain as bb"
   ]
  },
  {
   "cell_type": "code",
   "execution_count": 16,
   "metadata": {},
   "outputs": [
    {
     "name": "stdout",
     "output_type": "stream",
     "text": [
      "4.0.1\n"
     ]
    }
   ],
   "source": [
    "print(bb.get_version_string())"
   ]
  },
  {
   "cell_type": "markdown",
   "metadata": {},
   "source": [
    "### データセット\n",
    "\n",
    "データセットの準備には torchvision を使います"
   ]
  },
  {
   "cell_type": "code",
   "execution_count": 3,
   "metadata": {},
   "outputs": [
    {
     "name": "stdout",
     "output_type": "stream",
     "text": [
      "Files already downloaded and verified\n",
      "Files already downloaded and verified\n"
     ]
    }
   ],
   "source": [
    "# configuration\n",
    "base_name             = 'Cifar10DenseCnn'\n",
    "result_file           = os.path.join(data_path, base_name + '_result.pickle')\n",
    "data_path             = './data/'\n",
    "epochs                = 8\n",
    "mini_batch_size       = 32\n",
    "\n",
    "# dataset\n",
    "dataset_path = './data/'\n",
    "dataset_train = torchvision.datasets.CIFAR10(root=dataset_path, train=True, transform=transforms.ToTensor(), download=True)\n",
    "dataset_test  = torchvision.datasets.CIFAR10(root=dataset_path, train=False, transform=transforms.ToTensor(), download=True)\n",
    "loader_train = torch.utils.data.DataLoader(dataset=dataset_train, batch_size=mini_batch_size, shuffle=True, num_workers=2)\n",
    "loader_test  = torch.utils.data.DataLoader(dataset=dataset_test,  batch_size=mini_batch_size, shuffle=False, num_workers=2)"
   ]
  },
  {
   "cell_type": "markdown",
   "metadata": {},
   "source": [
    "## パラメータを変えて学習実験できる準備"
   ]
  },
  {
   "cell_type": "code",
   "execution_count": 19,
   "metadata": {},
   "outputs": [],
   "source": [
    "# 叩き込み層生成\n",
    "def make_conv_layer(output_shape, filter_size, bin_dtype):\n",
    "    return bb.Convolution2d(\n",
    "               bb.Sequential([\n",
    "                   bb.DenseAffine(output_shape),\n",
    "                   bb.BatchNormalization(),\n",
    "                   bb.ReLU(bin_dtype=bin_dtype)\n",
    "                ]),\n",
    "                filter_size=filter_size,\n",
    "                fw_dtype=bin_dtype)\n",
    "\n",
    "\n",
    "# 学習実験\n",
    "def learning(net_name, frame_modulation_size, depth_modulation_size=1, epochs=8, bin_mode=True):\n",
    "    save_path = os.path.join(data_path, net_name)\n",
    "    \n",
    "    # バイナリ時は BIT型を使えばメモリ削減可能\n",
    "    bin_dtype = bb.DType.BIT if bin_mode else bb.DType.FP32\n",
    "    \n",
    "    # define network\n",
    "    net = bb.Sequential([\n",
    "                make_conv_layer([32], filter_size=(3, 3), bin_dtype=bin_dtype),  # 32x32 -> 30x30\n",
    "                make_conv_layer([64], filter_size=(3, 3), bin_dtype=bin_dtype),  # 30x30->28x28\n",
    "                bb.MaxPooling(filter_size=(2, 2), fw_dtype=bin_dtype),           # 28x28-> 14x14\n",
    "                make_conv_layer([64], filter_size=(3, 3), bin_dtype=bin_dtype),  # 14x14-> 12x12\n",
    "                make_conv_layer([128], filter_size=(3, 3), bin_dtype=bin_dtype), # 12x12-> 10x10\n",
    "                bb.MaxPooling(filter_size=(2, 2), fw_dtype=bin_dtype),           # 10x10-> 5x5\n",
    "                make_conv_layer([512], filter_size=(5, 5), bin_dtype=bin_dtype), # 5x5-> 1x1\n",
    "                make_conv_layer([10], filter_size=(1, 1), bin_dtype=bin_dtype),  # 5x5-> 1x1\n",
    "            ])\n",
    "\n",
    "    if bin_mode:\n",
    "        net = bb.Sequential([\n",
    "            bb.RealToBinary(frame_modulation_size=frame_modulation_size, depth_modulation_size=depth_modulation_size, bin_dtype=bin_dtype),\n",
    "            net,\n",
    "            bb.BinaryToReal(frame_modulation_size=frame_modulation_size, bin_dtype=bin_dtype)\n",
    "        ])\n",
    "\n",
    "    net.set_input_shape([3, 32, 32])\n",
    "\n",
    "    if bin_mode:\n",
    "        net.send_command(\"binary true\")\n",
    "\n",
    "    # print(net.get_info()) # ネットを表示\n",
    "    # learning\n",
    "    loss      = bb.LossSoftmaxCrossEntropy()\n",
    "    metrics   = bb.MetricsCategoricalAccuracy()\n",
    "    optimizer = bb.OptimizerAdam()\n",
    "\n",
    "    optimizer.set_variables(net.get_parameters(), net.get_gradients())\n",
    "    \n",
    "    train_loss = []\n",
    "    train_acc  = []\n",
    "    test_loss = []\n",
    "    test_acc  = []\n",
    "    \n",
    "    with tqdm(range(epochs)) as t:\n",
    "        for epoch in t:\n",
    "            loss.clear()\n",
    "            metrics.clear()\n",
    "            \n",
    "            # training\n",
    "            for images, labels in loader_train:\n",
    "                x_buf = bb.FrameBuffer.from_numpy(np.array(images).astype(np.float32))\n",
    "                t_buf = bb.FrameBuffer.from_numpy(np.identity(10)[np.array(labels)].astype(np.float32))\n",
    "\n",
    "                y_buf = net.forward(x_buf, train=True)\n",
    "\n",
    "                dy_buf = loss.calculate(y_buf, t_buf)\n",
    "                metrics.calculate(y_buf, t_buf)\n",
    "                net.backward(dy_buf)\n",
    "\n",
    "                optimizer.update()\n",
    "\n",
    "        train_loss.append(loss.get())\n",
    "        train_acc.append(metrics.get())\n",
    "        \n",
    "        # test\n",
    "        loss.clear()\n",
    "        metrics.clear()\n",
    "        for images, labels in loader_test:\n",
    "            x_buf = bb.FrameBuffer.from_numpy(np.array(images).astype(np.float32))\n",
    "            t_buf = bb.FrameBuffer.from_numpy(np.identity(10)[np.array(labels)].astype(np.float32))\n",
    "\n",
    "            y_buf = net.forward(x_buf, train=False)\n",
    "\n",
    "            loss.calculate(y_buf, t_buf)\n",
    "            metrics.calculate(y_buf, t_buf)\n",
    "\n",
    "        test_loss.append(loss.get())\n",
    "        test_acc.append(metrics.get())\n",
    "        \n",
    "        bb.save_networks(save_path, net)        \n",
    "        t.set_postfix(loss=loss.get(), acc=metrics.get())\n",
    "    return train_loss, train_acc, test_loss, test_acc"
   ]
  },
  {
   "cell_type": "markdown",
   "metadata": {},
   "source": [
    "## フレーム方向の変調数を変えて学習実験を行う"
   ]
  },
  {
   "cell_type": "code",
   "execution_count": 20,
   "metadata": {},
   "outputs": [
    {
     "data": {
      "application/vnd.jupyter.widget-view+json": {
       "model_id": "a0c310f742804619bb8a6f352de5a208",
       "version_major": 2,
       "version_minor": 0
      },
      "text/plain": [
       "HBox(children=(FloatProgress(value=0.0, max=8.0), HTML(value='')))"
      ]
     },
     "metadata": {},
     "output_type": "display_data"
    },
    {
     "name": "stdout",
     "output_type": "stream",
     "text": [
      "\n"
     ]
    },
    {
     "data": {
      "application/vnd.jupyter.widget-view+json": {
       "model_id": "9082a99c75a343899dbaf624f92ede50",
       "version_major": 2,
       "version_minor": 0
      },
      "text/plain": [
       "HBox(children=(FloatProgress(value=0.0, max=8.0), HTML(value='')))"
      ]
     },
     "metadata": {},
     "output_type": "display_data"
    },
    {
     "name": "stdout",
     "output_type": "stream",
     "text": [
      "\n"
     ]
    },
    {
     "data": {
      "application/vnd.jupyter.widget-view+json": {
       "model_id": "5c4ef1bd1c8642f3a879d9ea6618f58b",
       "version_major": 2,
       "version_minor": 0
      },
      "text/plain": [
       "HBox(children=(FloatProgress(value=0.0, max=8.0), HTML(value='')))"
      ]
     },
     "metadata": {},
     "output_type": "display_data"
    },
    {
     "name": "stdout",
     "output_type": "stream",
     "text": [
      "\n"
     ]
    }
   ],
   "source": [
    "learning_pattern = [\n",
    "    {'net_name': 'real(no binary)', 'frame_modulation_size':1, 'epochs': epochs, 'bin_mode':False},\n",
    "    {'net_name': 'frame=1',         'frame_modulation_size':1, 'epochs': epochs, 'bin_mode':True},\n",
    "    {'net_name': 'frame=3',         'frame_modulation_size':3, 'epochs': epochs, 'bin_mode':True},\n",
    "    {'net_name': 'frame=7',         'frame_modulation_size':7, 'epochs': epochs, 'bin_mode':True},\n",
    "]\n",
    "\n",
    "result_set = {}\n",
    "\n",
    "# 前のものがあれば読み込む\n",
    "if os.path.exists(result_file):\n",
    "    with open(result_file, 'rb') as f:\n",
    "        result_set = pickle.load(f)\n",
    "\n",
    "for ptn in learning_pattern:\n",
    "    if ptn['net_name'] not in result_set:\n",
    "        # 学習実験\n",
    "        print(ptn['net_name'])\n",
    "        train_loss, train_lossm, test_loss, test_acc = learning(**ptn)\n",
    "        result_set[ptn['net_name']] = [train_loss, train_lossm, test_loss, test_acc]\n",
    "\n",
    "        # 保存\n",
    "        with open(result_file, 'wb') as f:\n",
    "            pickle.dump(result_set, f)"
   ]
  },
  {
   "cell_type": "code",
   "execution_count": 18,
   "metadata": {},
   "outputs": [
    {
     "data": {
      "text/plain": [
       "<matplotlib.legend.Legend at 0x27c3c226188>"
      ]
     },
     "execution_count": 18,
     "metadata": {},
     "output_type": "execute_result"
    },
    {
     "data": {
      "image/png": "[encoded data removed]",
      "text/plain": [
       "<Figure size 432x288 with 1 Axes>"
      ]
     },
     "metadata": {
      "needs_background": "light"
     },
     "output_type": "display_data"
    }
   ],
   "source": [
    "for i in range(4):\n",
    "    plt.title(['train loss', 'train accuracy', 'test loss', 'train accuracy'][i])\n",
    "    for name in result_set:\n",
    "        plt.plot(result_set[name][i], label=name)\n",
    "    plt.legend()\n",
    "    plt.show()"
   ]
  },
  {
   "cell_type": "code",
   "execution_count": null,
   "metadata": {},
   "outputs": [],
   "source": []
  }
 ],
 "metadata": {
  "kernelspec": {
   "display_name": "Python 3",
   "language": "python",
   "name": "python3"
  },
  "language_info": {
   "codemirror_mode": {
    "name": "ipython",
    "version": 3
   },
   "file_extension": ".py",
   "mimetype": "text/x-python",
   "name": "python",
   "nbconvert_exporter": "python",
   "pygments_lexer": "ipython3",
   "version": "3.7.4"
  }
 },
 "nbformat": 4,
 "nbformat_minor": 4
}
