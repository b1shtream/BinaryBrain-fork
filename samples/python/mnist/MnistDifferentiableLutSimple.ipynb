{
 "cells": [
  {
   "cell_type": "markdown",
   "metadata": {},
   "source": [
    "# 微分可能LUTモデルによるMNIST学習\n",
    "\n",
    "Stochasticモデルに BatchNormalization や Binarize(backward時はHard-Tanh)を加えることで、より一般的なデータに対してLUT回路学習を行います。 "
   ]
  },
  {
   "cell_type": "markdown",
   "metadata": {},
   "source": [
    "## 事前準備"
   ]
  },
  {
   "cell_type": "code",
   "execution_count": 1,
   "metadata": {},
   "outputs": [],
   "source": [
    "import os\n",
    "import shutil\n",
    "import numpy as np\n",
    "from tqdm.notebook import tqdm\n",
    "\n",
    "import torch\n",
    "import torchvision\n",
    "import torchvision.transforms as transforms\n",
    "\n",
    "import binarybrain as bb"
   ]
  },
  {
   "cell_type": "markdown",
   "metadata": {},
   "source": [
    "異なる閾値で2値化した画像でフレーム数を水増ししながら学習させます。この水増しをバイナリ変調と呼んでいます。\n",
    "\n",
    "ここではフレーム方向の水増し量を frame_modulation_size で指定しています。"
   ]
  },
  {
   "cell_type": "code",
   "execution_count": 2,
   "metadata": {},
   "outputs": [],
   "source": [
    "# configuration\n",
    "data_path             = './data/'\n",
    "net_name              = 'MnistDifferentiableLutSimple'\n",
    "data_path             = os.path.join('./data/', net_name)\n",
    "rtl_sim_path          = '../../verilog/mnist'\n",
    "rtl_module_name       = 'MnistLutSimple'\n",
    "output_velilog_file   = os.path.join(data_path, net_name + '.v')\n",
    "sim_velilog_file      = os.path.join(rtl_sim_path, rtl_module_name + '.v')\n",
    "\n",
    "epochs                = 4\n",
    "mini_batch_size       = 64\n",
    "frame_modulation_size = 15"
   ]
  },
  {
   "cell_type": "markdown",
   "metadata": {},
   "source": [
    "データセットは PyTorch の torchvision を使います。ミニバッチのサイズも DataLoader で指定しています。\n",
    "BinaryBrainではミニバッチをフレーム数として FrameBufferオブジェクトで扱います。\n",
    "バイナリ変調で計算中にフレーム数が変わるためデータセットの準備観点でのミニバッチと呼び分けています。"
   ]
  },
  {
   "cell_type": "code",
   "execution_count": 3,
   "metadata": {},
   "outputs": [],
   "source": [
    "# dataset\n",
    "dataset_path = './data/'\n",
    "dataset_train = torchvision.datasets.MNIST(root=dataset_path, train=True, transform=transforms.ToTensor(), download=True)\n",
    "dataset_test  = torchvision.datasets.MNIST(root=dataset_path, train=False, transform=transforms.ToTensor(), download=True)\n",
    "loader_train = torch.utils.data.DataLoader(dataset=dataset_train, batch_size=mini_batch_size, shuffle=True, num_workers=2)\n",
    "loader_test  = torch.utils.data.DataLoader(dataset=dataset_test,  batch_size=mini_batch_size, shuffle=False, num_workers=2)"
   ]
  },
  {
   "cell_type": "markdown",
   "metadata": {},
   "source": [
    "## ネットワークの構築\n",
    "\n",
    "DifferentiableLut に特に何もオプションをつけなければOKです。<br>\n",
    "バイナリ変調を施すためにネットの前後に RealToBinary層とBinaryToReal層を入れています。<br>\n",
    "send_command で \"binary true\" を送ることで、DifferentiableLut の内部の重み係数が 0.0-1.0 の間に拘束されます。\n",
    "\n",
    "接続数がLUTの物理構成に合わせて、1ノード当たり6個なので層間で6倍以上ノード数が違うと接続されないノードが発生するので、注意してネットワーク設計が必要です。\n",
    "最終段は各クラス7個の結果を出して Reduce で足し合わせています。こうすることで若干の改善がみられるとともに、加算結果が INT3 相当になるために若干尤度を数値的に見ることができるようです。"
   ]
  },
  {
   "cell_type": "code",
   "execution_count": 4,
   "metadata": {},
   "outputs": [],
   "source": [
    "# define network\n",
    "net = bb.Sequential([\n",
    "            bb.RealToBinary(frame_modulation_size=frame_modulation_size),\n",
    "            bb.DifferentiableLut([6*6*64]),\n",
    "            bb.DifferentiableLut([6*64]),\n",
    "            bb.DifferentiableLut([64]),\n",
    "            bb.DifferentiableLut([6*6*10]),\n",
    "            bb.DifferentiableLut([6*10]),\n",
    "            bb.DifferentiableLut([10]),\n",
    "            bb.BinaryToReal(frame_integration_size=frame_modulation_size)\n",
    "        ])\n",
    "net.set_input_shape([1, 28, 28])\n",
    "\n",
    "net.send_command(\"binary true\")\n",
    "\n",
    "loss      = bb.LossSoftmaxCrossEntropy()\n",
    "metrics   = bb.MetricsCategoricalAccuracy()\n",
    "optimizer = bb.OptimizerAdam()\n",
    "\n",
    "optimizer.set_variables(net.get_parameters(), net.get_gradients())"
   ]
  },
  {
   "cell_type": "markdown",
   "metadata": {},
   "source": [
    "## 学習の実施\n",
    "\n",
    "load_networks/save_networks で途中結果を保存/復帰可能できます。ネットワークの構造が変わると正常に読み込めなくなるので注意ください。\n",
    "(その場合は新しいネットをsave_networksするまで一度load_networks をコメントアウトください)\n",
    "\n",
    "tqdm などを使うと学習過程のプログレス表示ができて便利です。"
   ]
  },
  {
   "cell_type": "code",
   "execution_count": 5,
   "metadata": {},
   "outputs": [
    {
     "data": {
      "application/vnd.jupyter.widget-view+json": {
       "model_id": "b05653e83a144bd2b21aefe8cb7f591d",
       "version_major": 2,
       "version_minor": 0
      },
      "text/plain": [
       "  0%|          | 0/938 [00:00<?, ?it/s]"
      ]
     },
     "metadata": {},
     "output_type": "display_data"
    },
    {
     "name": "stdout",
     "output_type": "stream",
     "text": [
      "epoch[0] : loss=1.640124 accuracy=0.893237\n"
     ]
    },
    {
     "data": {
      "application/vnd.jupyter.widget-view+json": {
       "model_id": "b893352ea5ce410892a568f51f524d91",
       "version_major": 2,
       "version_minor": 0
      },
      "text/plain": [
       "  0%|          | 0/938 [00:00<?, ?it/s]"
      ]
     },
     "metadata": {},
     "output_type": "display_data"
    },
    {
     "name": "stdout",
     "output_type": "stream",
     "text": [
      "epoch[1] : loss=1.630475 accuracy=0.886142\n"
     ]
    },
    {
     "data": {
      "application/vnd.jupyter.widget-view+json": {
       "model_id": "a5c6e13e93634a9e8c5e6f03c1d8c1a9",
       "version_major": 2,
       "version_minor": 0
      },
      "text/plain": [
       "  0%|          | 0/938 [00:00<?, ?it/s]"
      ]
     },
     "metadata": {},
     "output_type": "display_data"
    },
    {
     "name": "stdout",
     "output_type": "stream",
     "text": [
      "epoch[2] : loss=1.615871 accuracy=0.899224\n"
     ]
    },
    {
     "data": {
      "application/vnd.jupyter.widget-view+json": {
       "model_id": "fb6943b3bff2436b9a99f1ac70675dbb",
       "version_major": 2,
       "version_minor": 0
      },
      "text/plain": [
       "  0%|          | 0/938 [00:00<?, ?it/s]"
      ]
     },
     "metadata": {},
     "output_type": "display_data"
    },
    {
     "name": "stdout",
     "output_type": "stream",
     "text": [
      "epoch[3] : loss=1.616489 accuracy=0.892905\n"
     ]
    }
   ],
   "source": [
    "#bb.load_networks(data_path, net)\n",
    "\n",
    "# learning\n",
    "for epoch in range(epochs):\n",
    "    # learning\n",
    "    loss.clear()\n",
    "    metrics.clear()\n",
    "    with tqdm(loader_train) as t:\n",
    "        for images, labels in t:\n",
    "            x_buf = bb.FrameBuffer.from_numpy(np.array(images).astype(np.float32))\n",
    "            t_buf = bb.FrameBuffer.from_numpy(np.identity(10)[np.array(labels)].astype(np.float32))\n",
    "\n",
    "            y_buf = net.forward(x_buf, train=True)\n",
    "            \n",
    "            dy_buf = loss.calculate(y_buf, t_buf)\n",
    "            metrics.calculate(y_buf, t_buf)\n",
    "            \n",
    "            net.backward(dy_buf)\n",
    "\n",
    "            optimizer.update()\n",
    "            \n",
    "            t.set_postfix(loss=loss.get(), acc=metrics.get())\n",
    "\n",
    "    # test\n",
    "    loss.clear()\n",
    "    metrics.clear()\n",
    "    for images, labels in loader_test:\n",
    "        x_buf = bb.FrameBuffer.from_numpy(np.array(images).astype(np.float32))\n",
    "        t_buf = bb.FrameBuffer.from_numpy(np.identity(10)[np.array(labels)].astype(np.float32))\n",
    "\n",
    "        y_buf = net.forward(x_buf, train=False)\n",
    "\n",
    "        loss.calculate(y_buf, t_buf)\n",
    "        metrics.calculate(y_buf, t_buf)\n",
    "\n",
    "    print('epoch[%d] : loss=%f accuracy=%f' % (epoch, loss.get(), metrics.get()))\n",
    "\n",
    "    bb.save_networks(data_path, net)"
   ]
  },
  {
   "cell_type": "markdown",
   "metadata": {},
   "source": [
    "## FPGA用Verilog出力\n",
    "\n",
    "最後に学習したネットワークを Verilog 出力します。\n",
    "MNISTのサイズである 28x28=784bit の入力を 10bit の分類をして出力するだけのシンプルなモジュールを出力します。"
   ]
  },
  {
   "cell_type": "code",
   "execution_count": 6,
   "metadata": {},
   "outputs": [
    {
     "data": {
      "text/plain": [
       "'../../verilog/mnist\\\\MnistLutSimple.v'"
      ]
     },
     "execution_count": 6,
     "metadata": {},
     "output_type": "execute_result"
    }
   ],
   "source": [
    "# export verilog\n",
    "bb.load_networks(data_path, net)\n",
    "\n",
    "# 結果を出力\n",
    "with open(output_velilog_file, 'w') as f:\n",
    "    f.write('`timescale 1ns / 1ps\\n\\n')\n",
    "    bb.dump_verilog_lut_layers(f, module_name=rtl_module_name, net=net)\n",
    "\n",
    "# Simulation用ファイルに上書きコピー\n",
    "shutil.copyfile(output_velilog_file, sim_velilog_file)"
   ]
  },
  {
   "cell_type": "code",
   "execution_count": 7,
   "metadata": {},
   "outputs": [],
   "source": [
    "# シミュレーション用データファイル作成\n",
    "with open(os.path.join(rtl_sim_path, 'mnist_test.txt'), 'w') as f:\n",
    "    bb.dump_verilog_readmemb_image_classification(f ,loader_test)"
   ]
  },
  {
   "cell_type": "markdown",
   "metadata": {},
   "source": [
    "## モデルの内部の値を取得する\n",
    "\n",
    "Verilog以外の言語やFPGA以外に適用したい場合、接続とLUTテーブルの2つが取得できれば同じ計算をするモデルをインプリメントすることが可能です。"
   ]
  },
  {
   "cell_type": "markdown",
   "metadata": {},
   "source": [
    "### 事前準備\n",
    "そのままだと勾配はリセットされているので少しだけ逆伝搬を実施します"
   ]
  },
  {
   "cell_type": "code",
   "execution_count": 8,
   "metadata": {},
   "outputs": [],
   "source": [
    "# 最新の保存データ読み込み\n",
    "bb.load_networks(data_path, net)\n",
    "\n",
    "# layer を取り出す\n",
    "layer0 = net[1]\n",
    "layer1 = net[2]\n",
    "layer2 = net[3]"
   ]
  },
  {
   "cell_type": "markdown",
   "metadata": {},
   "source": [
    "### 接続を取得する\n",
    "\n",
    "LUTモデルは get_connection_list() にて接続行列を取得できます。<br>\n",
    "ここでの各出力ノードは、6つの入力と接続されており、layer0 の出力ノードは 1024 個あるので、1024x6 の行列が取得できます。"
   ]
  },
  {
   "cell_type": "code",
   "execution_count": 9,
   "metadata": {},
   "outputs": [
    {
     "name": "stdout",
     "output_type": "stream",
     "text": [
      "(2304, 6)\n"
     ]
    },
    {
     "data": {
      "text/plain": [
       "array([[285, 227, 432, 459, 774, 502],\n",
       "       [246,   4, 148, 633, 287, 638],\n",
       "       [590, 679, 175, 507, 123, 196],\n",
       "       ...,\n",
       "       [191, 275,  73, 770, 129, 143],\n",
       "       [188, 251, 686, 736, 607, 751],\n",
       "       [414, 130, 670, 459, 210, 578]])"
      ]
     },
     "execution_count": 9,
     "metadata": {},
     "output_type": "execute_result"
    }
   ],
   "source": [
    "connection_mat = np.array(layer0.get_connection_list())\n",
    "print(connection_mat.shape)\n",
    "connection_mat"
   ]
  },
  {
   "cell_type": "markdown",
   "metadata": {},
   "source": [
    "### FPGA化する場合のLUTテーブルを取得する\n",
    "\n",
    "LUT化する場合のテーブルを取得します。<br>\n",
    "6入力のLUTモデルなので $ 2^6 = 64 $ 個のテーブルがあります。<br>\n",
    "モデル内に BatchNormalization 等を含む場合はそれらも加味して最終的にバイナリLUTにする場合に適した値を出力します。"
   ]
  },
  {
   "cell_type": "code",
   "execution_count": 10,
   "metadata": {},
   "outputs": [
    {
     "name": "stdout",
     "output_type": "stream",
     "text": [
      "(2304, 64)\n"
     ]
    },
    {
     "data": {
      "text/plain": [
       "array([[False,  True, False, ...,  True,  True,  True],\n",
       "       [ True,  True,  True, ..., False, False, False],\n",
       "       [False,  True, False, ...,  True,  True,  True],\n",
       "       ...,\n",
       "       [False,  True, False, ...,  True, False, False],\n",
       "       [ True, False, False, ..., False, False, False],\n",
       "       [False, False,  True, ...,  True, False, False]])"
      ]
     },
     "execution_count": 10,
     "metadata": {},
     "output_type": "execute_result"
    }
   ],
   "source": [
    "lut_mat = np.array(layer0.get_lut_table_list())\n",
    "print(lut_mat.shape)\n",
    "lut_mat"
   ]
  },
  {
   "cell_type": "markdown",
   "metadata": {},
   "source": [
    "### 重み行列を覗いてみる\n",
    "\n",
    "6入力のLUTモデルなので $ 2^6 = 64 $ 個のテーブルがあります。<br>\n",
    "W() にて bb.Tensor 型で取得可能で、numpy() にて ndarray に変換できます。"
   ]
  },
  {
   "cell_type": "code",
   "execution_count": 11,
   "metadata": {},
   "outputs": [
    {
     "name": "stdout",
     "output_type": "stream",
     "text": [
      "(2304, 64)\n"
     ]
    },
    {
     "data": {
      "text/plain": [
       "array([[0.46053913, 0.48969   , 0.43049288, ..., 0.55340844, 0.54644394,\n",
       "        0.54634225],\n",
       "       [0.5031644 , 0.49801937, 0.4990038 , ..., 0.47459334, 0.44045565,\n",
       "        0.46549785],\n",
       "       [0.4600248 , 0.48103702, 0.4552786 , ..., 0.5398099 , 0.5427659 ,\n",
       "        0.55870146],\n",
       "       ...,\n",
       "       [0.4812582 , 0.52008146, 0.45319328, ..., 0.54473335, 0.51105785,\n",
       "        0.49067914],\n",
       "       [0.47382542, 0.45093644, 0.4833005 , ..., 0.4593086 , 0.43164894,\n",
       "        0.44412497],\n",
       "       [0.49397233, 0.49554572, 0.51608425, ..., 0.54779464, 0.50517625,\n",
       "        0.50927866]], dtype=float32)"
      ]
     },
     "execution_count": 11,
     "metadata": {},
     "output_type": "execute_result"
    }
   ],
   "source": [
    "W = layer0.W().numpy()\n",
    "print(W.shape)\n",
    "W"
   ]
  },
  {
   "cell_type": "markdown",
   "metadata": {},
   "source": [
    "### 勾配を覗いてみる\n",
    "\n",
    "同様に dW() でW の勾配が取得できます"
   ]
  },
  {
   "cell_type": "code",
   "execution_count": 12,
   "metadata": {},
   "outputs": [
    {
     "name": "stdout",
     "output_type": "stream",
     "text": [
      "(2304, 64)\n"
     ]
    },
    {
     "data": {
      "text/plain": [
       "array([[-6.1715138e-05, -5.8559817e-07, -1.5615504e-05, ...,\n",
       "        -8.0421364e-07, -9.7475481e-07, -2.1820463e-07],\n",
       "       [-3.7336437e-04, -4.7944486e-05, -1.2445479e-04, ...,\n",
       "         4.6901969e-06, -3.0441993e-06,  1.5633991e-06],\n",
       "       [ 4.2195839e-05,  1.4065794e-05, -1.6487029e-05, ...,\n",
       "         3.6926622e-08, -6.8869122e-07, -2.2956237e-07],\n",
       "       ...,\n",
       "       [ 1.3722657e-04,  3.6448604e-05, -1.9422005e-06, ...,\n",
       "        -8.5242846e-07, -1.9303056e-06, -8.5227316e-07],\n",
       "       [-7.0320442e-04,  4.1594882e-03, -2.3440144e-04, ...,\n",
       "        -2.9756280e-05, -8.3830491e-05, -9.9187655e-06],\n",
       "       [-7.9892622e-04, -3.3449021e-04, -3.1547446e-04, ...,\n",
       "         2.8128541e-04,  3.5469886e-04,  1.1414266e-04]], dtype=float32)"
      ]
     },
     "execution_count": 12,
     "metadata": {},
     "output_type": "execute_result"
    }
   ],
   "source": [
    "# そのままだとすべて0なので、1回だけbackward実施\n",
    "for images, labels in loader_test:\n",
    "    x_buf = bb.FrameBuffer.from_numpy(np.array(images).astype(np.float32))\n",
    "    t_buf = bb.FrameBuffer.from_numpy(np.identity(10)[np.array(labels)].astype(np.float32))\n",
    "    y_buf = net.forward(x_buf, train=True)\n",
    "    net.backward(loss.calculate(y_buf, t_buf))\n",
    "    break\n",
    "\n",
    "dW = layer0.dW().numpy()\n",
    "print(dW.shape)\n",
    "dW"
   ]
  }
 ],
 "metadata": {
  "kernelspec": {
   "display_name": "Python 3",
   "language": "python",
   "name": "python3"
  },
  "language_info": {
   "codemirror_mode": {
    "name": "ipython",
    "version": 3
   },
   "file_extension": ".py",
   "mimetype": "text/x-python",
   "name": "python",
   "nbconvert_exporter": "python",
   "pygments_lexer": "ipython3",
   "version": "3.7.9"
  }
 },
 "nbformat": 4,
 "nbformat_minor": 4
}
