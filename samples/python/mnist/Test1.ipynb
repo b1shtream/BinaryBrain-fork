{
 "cells": [
  {
   "cell_type": "code",
   "execution_count": 1,
   "id": "f92c545a-6b4b-462d-ba61-202c8dec9970",
   "metadata": {},
   "outputs": [],
   "source": [
    "import os\n",
    "import shutil\n",
    "import torch\n",
    "import torch.nn as nn\n",
    "import numpy as np\n",
    "import binarybrain\n",
    "import binarybrain as bb\n",
    "import torchvision\n",
    "import torchvision.transforms as transforms\n",
    "from binarybrain.frame_buffer import FrameBuffer\n"
   ]
  },
  {
   "cell_type": "code",
   "execution_count": 2,
   "id": "687d4cd3-8370-47f4-a56d-88845f98ac33",
   "metadata": {},
   "outputs": [],
   "source": [
    "# configuration\n",
    "net_name              = 'MnistStochasticLutResnet'\n",
    "data_path             = os.path.join('./data/', net_name)\n",
    "rtl_sim_path          = '../../verilog/mnist'\n",
    "rtl_module_name       = 'MnistLutResnet'\n",
    "output_velilog_file   = os.path.join(data_path, net_name + '.v')\n",
    "sim_velilog_file      = os.path.join(rtl_sim_path, rtl_module_name + '.v')\n",
    "epochs                = 4\n",
    "mini_batch_size       = 32\n",
    "bin_mode              = True\n",
    "frame_modulation_size = 3\n",
    "\n",
    "\n",
    "# dataset\n",
    "dataset_path = './data/'\n",
    "dataset_train = torchvision.datasets.MNIST(root=dataset_path, train=True, transform=transforms.ToTensor(), download=True)\n",
    "dataset_test  = torchvision.datasets.MNIST(root=dataset_path, train=False, transform=transforms.ToTensor(), download=True)\n",
    "loader_train = torch.utils.data.DataLoader(dataset=dataset_train, batch_size=mini_batch_size, shuffle=True, num_workers=2)\n",
    "loader_test  = torch.utils.data.DataLoader(dataset=dataset_test,  batch_size=mini_batch_size, shuffle=False, num_workers=2)\n"
   ]
  },
  {
   "cell_type": "code",
   "execution_count": 3,
   "id": "701073a4-2298-4569-b620-85a7b93e6329",
   "metadata": {},
   "outputs": [],
   "source": [
    "bin_dtype = bb.DType.BIT if bin_mode else bb.DType.FP32\n",
    "\n",
    "\n",
    "def ResidualXorBlock(lut1, lut2, input_buf):\n",
    "    b1 = bb.RealToBinary(frame_modulation_size=frame_modulation_size, bin_dtype=bin_dtype)\n",
    "    b1.send_command(\"device cuda false\")\n",
    "    conv_block = bb.Sequential([\n",
    "        bb.Convolution2d(lut1, filter_size=(3, 3), padding='same'),\n",
    "        bb.Convolution2d(lut2, filter_size=(3, 3), padding='same'),\n",
    "        b1\n",
    "    ])\n",
    "\n",
    "    \n",
    "   \n",
    "    conv_block.set_input_shape([1, 28, 28])\n",
    "    conv_block.send_command(\"device cuda false\")\n",
    "    \n",
    "    print(conv_block.get_info())\n",
    "\n",
    "    # if bin_mode:\n",
    "    #     conv_block.send_command(\"binary true\")\n",
    "    # else:\n",
    "    #     conv_block.send_command(\"binary false\")\n",
    "    \n",
    "    #print(\"conv_block.get_model_list(): \", conv_block.get_model_list())\n",
    "    #print(\"get_parameters: ............................  \")\n",
    "    #a= conv_block.dumps()\n",
    "    #print(a)\n",
    "    #print(type(bb.Identity()))\n",
    "    #print(type(bb.RealToBinary()))\n",
    "    \n",
    "    b2= bb.RealToBinary(frame_modulation_size=frame_modulation_size, bin_dtype=bin_dtype)\n",
    "    b2.send_command(\"device cuda false\")\n",
    "\n",
    "    identity_block = bb.Sequential([\n",
    "        bb.Identity(),\n",
    "        bb.Convolution2d(lut2, filter_size=(3,3), padding='same'),\n",
    "        b2\n",
    "    ])\n",
    "\n",
    "    identity_block.set_input_shape([1, 28, 28])\n",
    "    identity_block.send_command(\"device cuda false\")\n",
    "    print(identity_block.get_info())\n",
    "\n",
    "    # if bin_mode:\n",
    "    #     identity_block.send_command(\"binary true\")\n",
    "    # else:\n",
    "    #     identity_block.send_command(\"binary false\")\n",
    "\n",
    "    #print(\"conv_block type: \", type(conv_block))\n",
    "    #print(\"identity_block type: \", type(identity_block))\n",
    "\n",
    "    #a=conv_block.get_core()\n",
    "    #print(\"core_mode:\", a)\n",
    "    \n",
    "    print(\"type(input_buf)): \", type(input_buf))\n",
    "    \n",
    "    conv_input_buffer = conv_block.forward(input_buf)      # FrameBuffer\n",
    "    print(\"conv_input_buffer: \", type(conv_input_buffer))\n",
    "\n",
    "    #conv_output_buffer = bb.FrameBuffer.from_core(conv_input_buffer)\n",
    "    #print(type(conv_output_buffer))\n",
    "    identity_input_buffer = identity_block.forward(input_buf)  # FrameBuffer\n",
    "    print(\"identity_input_buffer: \", type(identity_input_buffer))\n",
    "    \n",
    "    #identity_output_buffer = bb.FrameBuffer.from_core(identity_input_buffer)\n",
    "    #print(type(identity_output_buffer))\n",
    "    print(bb.XorPrintBuffer(conv_input_buffer,identity_input_buffer))\n",
    "    return bb.Xor(conv_input_buffer,identity_input_buffer)\n",
    "    "
   ]
  },
  {
   "cell_type": "code",
   "execution_count": null,
   "id": "c34ea5d2-bd70-4144-bd01-7fc6cbdec5da",
   "metadata": {},
   "outputs": [
    {
     "name": "stdout",
     "output_type": "stream",
     "text": [
      "----------------------------------------------------------------------\n",
      "[DifferentiableLut6] \n",
      " input  shape : {} output shape : {192}\n",
      " connection : random\n",
      " binary : 0 batch_norm : 0\n",
      "----------------------------------------------------------------------\n",
      "\n",
      "----------------------------------------------------------------------\n",
      "[DifferentiableLut6] \n",
      " input  shape : {} output shape : {32}\n",
      " connection : random\n",
      " binary : 0 batch_norm : 0\n",
      "----------------------------------------------------------------------\n",
      "\n"
     ]
    }
   ],
   "source": [
    "# define residual network(resnet)\n",
    "\n",
    "lut_layer0_0 = bb.DifferentiableLut([192], batch_norm=False, binarize=False)\n",
    "print(lut_layer0_0)\n",
    "\n",
    "lut_layer0_0.send_command(\"device cuda false\")\n",
    "\n",
    "lut_layer0_1 = bb.DifferentiableLut([32], batch_norm=False, binarize=False)\n",
    "print(lut_layer0_1)\n",
    "lut_layer0_1.send_command(\"device cuda false\")\n",
    "\n",
    "\n",
    "#out1 = lut_layer0_0.forward(in1, train=True)\n",
    "# img, label= loader_train[0]\n",
    "# print(img, label)\n",
    "for images, labels in loader_train:\n",
    "    # x_buf = bb.FrameBuffer.from_numpy(np.array(images).astype(np.float32))\n",
    "    #np_img = np_img.reshape(( 1, 28, 28)) # 1 sample, 1 channel, 28x28\n",
    "    input_buf = bb.FrameBuffer.from_numpy(np.array(images).astype(np.float32))\n",
    "    print(\"input_buf node shape: \", input_buf.get_node_shape())\n",
    "\n",
    "\n",
    "    xor_result = ResidualXorBlock(lut_layer0_0, lut_layer0_1, input_buf)\n",
    "    print(\"xor_result: \", xor_result)\n",
    "\n",
    "    # Check type\n",
    "    print(\"XOR buffer dtype (should be BIT):\", xor_result.get_type())\n",
    "    \n",
    "    # Get numpy array and print first frame's first 10 node values\n",
    "    xor_numpy = xor_result.numpy()\n",
    "    print(\"XOR numpy shape:\", xor_numpy.shape)\n",
    "    print(\"Sample XOR output values (frame 0):\", xor_numpy[0, :10])\n",
    "\n",
    " \n",
    "#net.set_input_shape([1, 28, 28])\n",
    "\n",
    "# net.send_command(\"binary false\")      \n",
    "# net.send_command(\"lut_binarize true\")  \n",
    "\n",
    "#print(net.get_info())\n"
   ]
  },
  {
   "cell_type": "code",
   "execution_count": null,
   "id": "e73da473-cff7-4978-8250-0658856139d4",
   "metadata": {},
   "outputs": [],
   "source": [
    "image, label= dataset_train[0]\n",
    "\n",
    "lut_layer= bb.DifferentiableLut([192],batch_norm=False, binarize=False)\n",
    "lut_layer.set_input_shape([1,28,28])\n",
    "out = lut_layer.forward(image, train=True)\n",
    "print(out.get_type())\n",
    "\n",
    "\n",
    "\n"
   ]
  },
  {
   "cell_type": "code",
   "execution_count": 35,
   "id": "d8a07e61-5e9c-4f76-ad9a-43ae260243c9",
   "metadata": {},
   "outputs": [
    {
     "name": "stdout",
     "output_type": "stream",
     "text": [
      "torch.Size([1, 28, 28])\n"
     ]
    }
   ],
   "source": [
    "print(image.shape)\n"
   ]
  },
  {
   "cell_type": "code",
   "execution_count": 10,
   "id": "6296020f-1e0e-4881-8382-924569eb57ee",
   "metadata": {},
   "outputs": [
    {
     "ename": "SyntaxError",
     "evalue": "can't use starred expression here (2172759255.py, line 1)",
     "output_type": "error",
     "traceback": [
      "\u001b[0;36m  Cell \u001b[0;32mIn[10], line 1\u001b[0;36m\u001b[0m\n\u001b[0;31m    *()\u001b[0m\n\u001b[0m    ^\u001b[0m\n\u001b[0;31mSyntaxError\u001b[0m\u001b[0;31m:\u001b[0m can't use starred expression here\n"
     ]
    }
   ],
   "source": [
    "# 534 template<> class DataType<float>\n",
    "# 535 {\n",
    "# 536 public:\n",
    "# 537     typedef float value_type;\n",
    "# 538     enum {\n",
    "# 539         type = BB_TYPE_FP32,\n",
    "# 540         size = 4,\n",
    "# 541         bit_size = 32,\n",
    "# 542     };\n",
    "# 543     static inline std::string Name(void) { return \"fp32\"; }\n",
    "# 544 };\n"
   ]
  },
  {
   "cell_type": "code",
   "execution_count": 8,
   "id": "17dec3b5-8a28-4d54-aca9-fd26ddb5d3f3",
   "metadata": {},
   "outputs": [
    {
     "name": "stdout",
     "output_type": "stream",
     "text": [
      "----------------------------------------------------------------------\n",
      "[Sequential] \n",
      " input  shape : [] output shape : []\n",
      "  --------------------------------------------------------------------\n",
      "  [PassThrough] \n",
      "   input  shape : {} output shape : {}\n",
      "----------------------------------------------------------------------\n",
      "\n"
     ]
    }
   ],
   "source": [
    "net = bb.Sequential([\n",
    "    bb.Identity()\n",
    "])\n",
    "\n",
    "print(net.get_info())\n",
    "# net.save('identity_test.bb')\n",
    "\n",
    "# net2 = bb.Sequential()\n",
    "# net2.load('identity_test.bb')\n",
    "# print(net2.get_info())\n"
   ]
  },
  {
   "cell_type": "code",
   "execution_count": null,
   "id": "e6147cd8-d257-4965-9580-602dc46fb3ce",
   "metadata": {},
   "outputs": [],
   "source": []
  }
 ],
 "metadata": {
  "kernelspec": {
   "display_name": "Python 3 (ipykernel)",
   "language": "python",
   "name": "python3"
  },
  "language_info": {
   "codemirror_mode": {
    "name": "ipython",
    "version": 3
   },
   "file_extension": ".py",
   "mimetype": "text/x-python",
   "name": "python",
   "nbconvert_exporter": "python",
   "pygments_lexer": "ipython3",
   "version": "3.10.16"
  }
 },
 "nbformat": 4,
 "nbformat_minor": 5
}
