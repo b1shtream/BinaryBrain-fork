{
 "cells": [
  {
   "cell_type": "code",
   "execution_count": 6,
   "id": "dae74155-e1bc-4fc7-92bb-488333250323",
   "metadata": {},
   "outputs": [],
   "source": [
    "import os\n",
    "import shutil\n",
    "import numpy as np\n",
    "from tqdm.notebook import tqdm\n",
    "\n",
    "import torch\n",
    "import torchvision\n",
    "import torchvision.transforms as transforms\n",
    "\n",
    "import binarybrain as bb\n"
   ]
  },
  {
   "cell_type": "code",
   "execution_count": 9,
   "id": "47708732-9ae0-4841-b6ef-9ceef74d7af1",
   "metadata": {},
   "outputs": [],
   "source": [
    "# config\n",
    "net_name= 'MnistStochasticLutSimple'\n",
    "data_path= os.path.join('./data/', net_name)\n",
    "rtl_sim_path= '../../verilog/mnist/tb_mnist_lut_simple'\n",
    "rtl_module_name='MnistLutSimple'\n",
    "output_velilog_file=os.path.join(data_path, net_name + '.v')\n",
    "sim_velilog_file=os.path.join(rtl_sim_path, rtl_module_name + '.v')\n",
    "epochs=4\n",
    "mini_batch_size=32\n",
    "\n",
    "\n",
    "##dataset\n",
    "\n",
    "dataset_path='./data/'\n",
    "dataset_train=torchvision.datasets.MNIST(root=dataset_path, train=True, transform=transforms.ToTensor(),download=True)\n",
    "dataset_test=torchvision.datasets.MNIST(root=dataset_path, train=False, transform=transforms.ToTensor(), download=True)\n",
    "loader_train=torch.utils.data.DataLoader(dataset=dataset_train, batch_size=mini_batch_size, shuffle=True, num_workers=2)\n",
    "loader_test=torch.utils.data.DataLoader(dataset=dataset_test, batch_size=mini_batch_size, shuffle=False, num_workers=2)\n",
    "\n",
    "\n",
    "\n",
    "\n"
   ]
  },
  {
   "cell_type": "code",
   "execution_count": 72,
   "id": "92115bf3-7e4f-4186-8128-3b84627ca492",
   "metadata": {},
   "outputs": [
    {
     "name": "stdout",
     "output_type": "stream",
     "text": [
      "----------------------------------------------------------------------\n",
      "[DifferentiableLut6] \n",
      " input  shape : {} output shape : {216}\n",
      " connection : random\n",
      " binary : 0 batch_norm : 0\n",
      "----------------------------------------------------------------------\n",
      "\n",
      "----------------------------------------------------------------------\n",
      "[DifferentiableLut6] \n",
      " input  shape : {} output shape : {36}\n",
      " connection : random\n",
      " binary : 0 batch_norm : 0\n",
      "----------------------------------------------------------------------\n",
      "\n",
      "----------------------------------------------------------------------\n",
      "[DifferentiableLut6] \n",
      " input  shape : {} output shape : {432}\n",
      " connection : random\n",
      " binary : 0 batch_norm : 0\n",
      "----------------------------------------------------------------------\n",
      "\n",
      "----------------------------------------------------------------------\n",
      "[DifferentiableLut6] \n",
      " input  shape : {} output shape : {72}\n",
      " connection : random\n",
      " binary : 0 batch_norm : 0\n",
      "----------------------------------------------------------------------\n",
      "\n",
      "----------------------------------------------------------------------\n",
      "[DifferentiableLut6] \n",
      " input  shape : {} output shape : {432}\n",
      " connection : random\n",
      " binary : 0 batch_norm : 0\n",
      "----------------------------------------------------------------------\n",
      "\n",
      "----------------------------------------------------------------------\n",
      "[DifferentiableLut6] \n",
      " input  shape : {} output shape : {72}\n",
      " connection : random\n",
      " binary : 0 batch_norm : 0\n",
      "----------------------------------------------------------------------\n",
      "\n",
      "----------------------------------------------------------------------\n",
      "[DifferentiableLut6] \n",
      " input  shape : {} output shape : {864}\n",
      " connection : random\n",
      " binary : 0 batch_norm : 0\n",
      "----------------------------------------------------------------------\n",
      "\n",
      "----------------------------------------------------------------------\n",
      "[DifferentiableLut6] \n",
      " input  shape : {} output shape : {10}\n",
      " connection : random\n",
      " binary : 0 batch_norm : 0\n",
      "----------------------------------------------------------------------\n",
      "\n",
      "----------------------------------------------------------------------\n",
      "[Sequential] \n",
      " input  shape : [] output shape : [10]\n",
      "  --------------------------------------------------------------------\n",
      "  [DifferentiableLut6] \n",
      "   input  shape : {} output shape : {216}\n",
      "   connection : random\n",
      "   binary : 0   batch_norm : 0\n",
      "  --------------------------------------------------------------------\n",
      "  [DifferentiableLut6] \n",
      "   input  shape : {} output shape : {36}\n",
      "   connection : random\n",
      "   binary : 0   batch_norm : 0\n",
      "  --------------------------------------------------------------------\n",
      "  [DifferentiableLut6] \n",
      "   input  shape : {} output shape : {432}\n",
      "   connection : random\n",
      "   binary : 0   batch_norm : 0\n",
      "  --------------------------------------------------------------------\n",
      "  [DifferentiableLut6] \n",
      "   input  shape : {} output shape : {72}\n",
      "   connection : random\n",
      "   binary : 0   batch_norm : 0\n",
      "  --------------------------------------------------------------------\n",
      "  [DifferentiableLut6] \n",
      "   input  shape : {} output shape : {432}\n",
      "   connection : random\n",
      "   binary : 0   batch_norm : 0\n",
      "  --------------------------------------------------------------------\n",
      "  [DifferentiableLut6] \n",
      "   input  shape : {} output shape : {72}\n",
      "   connection : random\n",
      "   binary : 0   batch_norm : 0\n",
      "  --------------------------------------------------------------------\n",
      "  [DifferentiableLut6] \n",
      "   input  shape : {} output shape : {864}\n",
      "   connection : random\n",
      "   binary : 0   batch_norm : 0\n",
      "  --------------------------------------------------------------------\n",
      "  [DifferentiableLut6] \n",
      "   input  shape : {} output shape : {10}\n",
      "   connection : random\n",
      "   binary : 0   batch_norm : 0\n",
      "----------------------------------------------------------------------\n",
      "\n"
     ]
    }
   ],
   "source": [
    "#define network\n",
    "\n",
    "lut_layer0_0 = bb.DifferentiableLut([6*36], batch_norm=False, binarize=False)\n",
    "lut_layer0_1 = bb.DifferentiableLut([36], batch_norm=False, binarize=False)\n",
    "lut_layer1_0 = bb.DifferentiableLut([2*6*36], batch_norm=False, binarize=False)\n",
    "lut_layer1_1 = bb.DifferentiableLut([2*36], batch_norm=False, binarize=False)\n",
    "lut_layer2_0 = bb.DifferentiableLut([2*6*36], batch_norm=False, binarize=False)\n",
    "lut_layer2_1 = bb.DifferentiableLut([2*36], batch_norm=False, binarize=False)\n",
    "\n",
    "lut_layer3_0 = bb.DifferentiableLut([4*6*36], batch_norm=False, binarize=False)\n",
    "lut_layer3_1 = bb.DifferentiableLut([10], batch_norm=False, binarize=False)\n",
    "\n",
    "print(lut_layer0_0)\n",
    "print(lut_layer0_1)\n",
    "print(lut_layer1_0)\n",
    "print(lut_layer1_1)\n",
    "print(lut_layer2_0)\n",
    "print(lut_layer2_1)\n",
    "print(lut_layer3_0)\n",
    "print(lut_layer3_1)\n",
    "\n",
    "net = bb.Sequential([\n",
    "       lut_layer0_0, lut_layer0_1,\n",
    "       lut_layer1_0, lut_layer1_1,\n",
    "       lut_layer2_0, lut_layer2_1,\n",
    "        lut_layer3_0, lut_layer3_1,\n",
    "      \n",
    "])\n",
    "\n",
    "print(net.get_info())\n",
    "\n",
    "\n",
    "\n"
   ]
  },
  {
   "cell_type": "code",
   "execution_count": 73,
   "id": "7010a0cf-0055-4961-ae8f-35181a6e3159",
   "metadata": {},
   "outputs": [
    {
     "name": "stdout",
     "output_type": "stream",
     "text": [
      "[1, 28, 28]\n",
      "784\n",
      "864\n",
      "[10]\n",
      "----------------------------------------------------------------------\n",
      "[Sequential] \n",
      " input  shape : [1, 28, 28] output shape : [10]\n",
      "  --------------------------------------------------------------------\n",
      "  [DifferentiableLut6] \n",
      "   input  shape : {1, 28, 28} output shape : {216}\n",
      "   connection : random\n",
      "   binary : 0   batch_norm : 0\n",
      "  --------------------------------------------------------------------\n",
      "  [DifferentiableLut6] \n",
      "   input  shape : {216} output shape : {36}\n",
      "   connection : random\n",
      "   binary : 0   batch_norm : 0\n",
      "  --------------------------------------------------------------------\n",
      "  [DifferentiableLut6] \n",
      "   input  shape : {36} output shape : {432}\n",
      "   connection : random\n",
      "   binary : 0   batch_norm : 0\n",
      "  --------------------------------------------------------------------\n",
      "  [DifferentiableLut6] \n",
      "   input  shape : {432} output shape : {72}\n",
      "   connection : random\n",
      "   binary : 0   batch_norm : 0\n",
      "  --------------------------------------------------------------------\n",
      "  [DifferentiableLut6] \n",
      "   input  shape : {72} output shape : {432}\n",
      "   connection : random\n",
      "   binary : 0   batch_norm : 0\n",
      "  --------------------------------------------------------------------\n",
      "  [DifferentiableLut6] \n",
      "   input  shape : {432} output shape : {72}\n",
      "   connection : random\n",
      "   binary : 0   batch_norm : 0\n",
      "  --------------------------------------------------------------------\n",
      "  [DifferentiableLut6] \n",
      "   input  shape : {72} output shape : {864}\n",
      "   connection : random\n",
      "   binary : 0   batch_norm : 0\n",
      "  --------------------------------------------------------------------\n",
      "  [DifferentiableLut6] \n",
      "   input  shape : {864} output shape : {10}\n",
      "   connection : random\n",
      "   binary : 0   batch_norm : 0\n",
      "----------------------------------------------------------------------\n",
      "\n"
     ]
    }
   ],
   "source": [
    "net.set_input_shape([1, 28, 28])\n",
    "print(net.get_input_shape())\n",
    "print(net.get_input_node_size())\n",
    "print(net.get_output_node_size())\n",
    "print(net.get_output_shape())\n",
    "\n",
    "net.send_command(\"binary false\")  \n",
    "net.send_command(\"lut_binarize true\")\n",
    "print(net.get_info())\n"
   ]
  },
  {
   "cell_type": "code",
   "execution_count": 77,
   "id": "0fc2dab3-c775-4467-98ab-1ccaad13e991",
   "metadata": {},
   "outputs": [
    {
     "name": "stdout",
     "output_type": "stream",
     "text": [
      "<binarybrain.losses.LossSoftmaxCrossEntropy object at 0x7f7034808e80>\n",
      "<binarybrain.metrics.MetricsBinaryCategoricalAccuracy object at 0x7f703480b910>\n",
      "<binarybrain.optimizer.OptimizerAdam object at 0x7f703480b8b0>\n",
      "<binarybrain.variables.Variables object at 0x7f6f19b329e0>\n",
      "<binarybrain.variables.Variables object at 0x7f6f222d88b0>\n"
     ]
    },
    {
     "data": {
      "application/vnd.jupyter.widget-view+json": {
       "model_id": "5ba00ae5f6ad41e18770088eb5a42803",
       "version_major": 2,
       "version_minor": 0
      },
      "text/plain": [
       "  0%|          | 0/1875 [00:00<?, ?it/s]"
      ]
     },
     "metadata": {},
     "output_type": "display_data"
    },
    {
     "name": "stderr",
     "output_type": "stream",
     "text": [
      "/tmp/ipykernel_7780/2834121285.py:24: DeprecationWarning: __array__ implementation doesn't accept a copy keyword, so passing copy=False failed. __array__ must implement 'dtype' and 'copy' keyword arguments. To learn more, see the migration guide https://numpy.org/devdocs/numpy_2_0_migration_guide.html#adapting-to-changes-in-the-copy-keyword\n",
      "  x_buf = bb.FrameBuffer.from_numpy(np.array(images).astype(np.float32))\n",
      "/tmp/ipykernel_7780/2834121285.py:25: DeprecationWarning: __array__ implementation doesn't accept a copy keyword, so passing copy=False failed. __array__ must implement 'dtype' and 'copy' keyword arguments. To learn more, see the migration guide https://numpy.org/devdocs/numpy_2_0_migration_guide.html#adapting-to-changes-in-the-copy-keyword\n",
      "  t_buf= bb.FrameBuffer.from_numpy(np.identity(10)[np.array(labels)].astype(np.float32))\n",
      "/tmp/ipykernel_7780/2834121285.py:37: DeprecationWarning: __array__ implementation doesn't accept a copy keyword, so passing copy=False failed. __array__ must implement 'dtype' and 'copy' keyword arguments. To learn more, see the migration guide https://numpy.org/devdocs/numpy_2_0_migration_guide.html#adapting-to-changes-in-the-copy-keyword\n",
      "  x_buf = bb.FrameBuffer.from_numpy(np.array(images).astype(np.float32))\n",
      "/tmp/ipykernel_7780/2834121285.py:38: DeprecationWarning: __array__ implementation doesn't accept a copy keyword, so passing copy=False failed. __array__ must implement 'dtype' and 'copy' keyword arguments. To learn more, see the migration guide https://numpy.org/devdocs/numpy_2_0_migration_guide.html#adapting-to-changes-in-the-copy-keyword\n",
      "  t_buf = bb.FrameBuffer.from_numpy(np.identity(10)[np.array(labels)].astype(np.float32))\n"
     ]
    },
    {
     "name": "stdout",
     "output_type": "stream",
     "text": [
      "epoch[0] : loss=1.559163 accuracy=0.964700\n"
     ]
    },
    {
     "data": {
      "application/vnd.jupyter.widget-view+json": {
       "model_id": "3b85a05c8d9344a28a8d7865a5f0c027",
       "version_major": 2,
       "version_minor": 0
      },
      "text/plain": [
       "  0%|          | 0/1875 [00:00<?, ?it/s]"
      ]
     },
     "metadata": {},
     "output_type": "display_data"
    },
    {
     "name": "stdout",
     "output_type": "stream",
     "text": [
      "epoch[1] : loss=1.560958 accuracy=0.964510\n"
     ]
    },
    {
     "data": {
      "application/vnd.jupyter.widget-view+json": {
       "model_id": "cc5b6f10baa3450f897ec649981d04e3",
       "version_major": 2,
       "version_minor": 0
      },
      "text/plain": [
       "  0%|          | 0/1875 [00:00<?, ?it/s]"
      ]
     },
     "metadata": {},
     "output_type": "display_data"
    },
    {
     "name": "stdout",
     "output_type": "stream",
     "text": [
      "epoch[2] : loss=1.559725 accuracy=0.963130\n"
     ]
    },
    {
     "data": {
      "application/vnd.jupyter.widget-view+json": {
       "model_id": "1a235c1e455f469fba961d09d019a395",
       "version_major": 2,
       "version_minor": 0
      },
      "text/plain": [
       "  0%|          | 0/1875 [00:00<?, ?it/s]"
      ]
     },
     "metadata": {},
     "output_type": "display_data"
    },
    {
     "name": "stdout",
     "output_type": "stream",
     "text": [
      "epoch[3] : loss=1.552849 accuracy=0.967690\n"
     ]
    },
    {
     "data": {
      "application/vnd.jupyter.widget-view+json": {
       "model_id": "c5271d964534430e8980852ea4e78da9",
       "version_major": 2,
       "version_minor": 0
      },
      "text/plain": [
       "  0%|          | 0/1875 [00:00<?, ?it/s]"
      ]
     },
     "metadata": {},
     "output_type": "display_data"
    },
    {
     "name": "stdout",
     "output_type": "stream",
     "text": [
      "epoch[4] : loss=1.555471 accuracy=0.965400\n"
     ]
    },
    {
     "data": {
      "application/vnd.jupyter.widget-view+json": {
       "model_id": "10e7eaa6fa14449b8f81167bb61b360a",
       "version_major": 2,
       "version_minor": 0
      },
      "text/plain": [
       "  0%|          | 0/1875 [00:00<?, ?it/s]"
      ]
     },
     "metadata": {},
     "output_type": "display_data"
    },
    {
     "name": "stdout",
     "output_type": "stream",
     "text": [
      "epoch[5] : loss=1.550608 accuracy=0.966080\n"
     ]
    },
    {
     "data": {
      "application/vnd.jupyter.widget-view+json": {
       "model_id": "4222180fd1c146cab13fff689be3ee6f",
       "version_major": 2,
       "version_minor": 0
      },
      "text/plain": [
       "  0%|          | 0/1875 [00:00<?, ?it/s]"
      ]
     },
     "metadata": {},
     "output_type": "display_data"
    },
    {
     "name": "stdout",
     "output_type": "stream",
     "text": [
      "epoch[6] : loss=1.549486 accuracy=0.967360\n"
     ]
    },
    {
     "data": {
      "application/vnd.jupyter.widget-view+json": {
       "model_id": "322c655a38b34cf2b5ad5820c040eaa8",
       "version_major": 2,
       "version_minor": 0
      },
      "text/plain": [
       "  0%|          | 0/1875 [00:00<?, ?it/s]"
      ]
     },
     "metadata": {},
     "output_type": "display_data"
    },
    {
     "name": "stdout",
     "output_type": "stream",
     "text": [
      "epoch[7] : loss=1.547668 accuracy=0.968090\n"
     ]
    },
    {
     "data": {
      "application/vnd.jupyter.widget-view+json": {
       "model_id": "6f6dcee1cb1048e58e2a719d2b4403a3",
       "version_major": 2,
       "version_minor": 0
      },
      "text/plain": [
       "  0%|          | 0/1875 [00:00<?, ?it/s]"
      ]
     },
     "metadata": {},
     "output_type": "display_data"
    },
    {
     "name": "stdout",
     "output_type": "stream",
     "text": [
      "epoch[8] : loss=1.544050 accuracy=0.970890\n"
     ]
    },
    {
     "data": {
      "application/vnd.jupyter.widget-view+json": {
       "model_id": "ed958eb9e71948018569d5f361b46cad",
       "version_major": 2,
       "version_minor": 0
      },
      "text/plain": [
       "  0%|          | 0/1875 [00:00<?, ?it/s]"
      ]
     },
     "metadata": {},
     "output_type": "display_data"
    },
    {
     "name": "stdout",
     "output_type": "stream",
     "text": [
      "epoch[9] : loss=1.548690 accuracy=0.969390\n"
     ]
    },
    {
     "data": {
      "application/vnd.jupyter.widget-view+json": {
       "model_id": "3ab296d6ae6f44dbb47ef4c49a37dea2",
       "version_major": 2,
       "version_minor": 0
      },
      "text/plain": [
       "  0%|          | 0/1875 [00:00<?, ?it/s]"
      ]
     },
     "metadata": {},
     "output_type": "display_data"
    },
    {
     "name": "stdout",
     "output_type": "stream",
     "text": [
      "epoch[10] : loss=1.547224 accuracy=0.970100\n"
     ]
    },
    {
     "data": {
      "application/vnd.jupyter.widget-view+json": {
       "model_id": "4d8abf90b411490298c2d5e149123d0a",
       "version_major": 2,
       "version_minor": 0
      },
      "text/plain": [
       "  0%|          | 0/1875 [00:00<?, ?it/s]"
      ]
     },
     "metadata": {},
     "output_type": "display_data"
    },
    {
     "name": "stdout",
     "output_type": "stream",
     "text": [
      "epoch[11] : loss=1.543706 accuracy=0.970970\n"
     ]
    },
    {
     "data": {
      "application/vnd.jupyter.widget-view+json": {
       "model_id": "a93f975feec949baab1359a468024e91",
       "version_major": 2,
       "version_minor": 0
      },
      "text/plain": [
       "  0%|          | 0/1875 [00:00<?, ?it/s]"
      ]
     },
     "metadata": {},
     "output_type": "display_data"
    },
    {
     "name": "stdout",
     "output_type": "stream",
     "text": [
      "epoch[12] : loss=1.544134 accuracy=0.971620\n"
     ]
    },
    {
     "data": {
      "application/vnd.jupyter.widget-view+json": {
       "model_id": "5f73d239352344ce946a0ae622dfd29a",
       "version_major": 2,
       "version_minor": 0
      },
      "text/plain": [
       "  0%|          | 0/1875 [00:00<?, ?it/s]"
      ]
     },
     "metadata": {},
     "output_type": "display_data"
    },
    {
     "name": "stdout",
     "output_type": "stream",
     "text": [
      "epoch[13] : loss=1.542414 accuracy=0.972110\n"
     ]
    },
    {
     "data": {
      "application/vnd.jupyter.widget-view+json": {
       "model_id": "6990280161944334b3596f423de58ded",
       "version_major": 2,
       "version_minor": 0
      },
      "text/plain": [
       "  0%|          | 0/1875 [00:00<?, ?it/s]"
      ]
     },
     "metadata": {},
     "output_type": "display_data"
    },
    {
     "name": "stdout",
     "output_type": "stream",
     "text": [
      "epoch[14] : loss=1.542337 accuracy=0.972400\n"
     ]
    },
    {
     "data": {
      "application/vnd.jupyter.widget-view+json": {
       "model_id": "ee9f1ae40b33409094466a1a3413f47a",
       "version_major": 2,
       "version_minor": 0
      },
      "text/plain": [
       "  0%|          | 0/1875 [00:00<?, ?it/s]"
      ]
     },
     "metadata": {},
     "output_type": "display_data"
    },
    {
     "name": "stdout",
     "output_type": "stream",
     "text": [
      "epoch[15] : loss=1.540827 accuracy=0.973360\n"
     ]
    },
    {
     "data": {
      "application/vnd.jupyter.widget-view+json": {
       "model_id": "b2a79827ef6745b7b0eaf7959322d60f",
       "version_major": 2,
       "version_minor": 0
      },
      "text/plain": [
       "  0%|          | 0/1875 [00:00<?, ?it/s]"
      ]
     },
     "metadata": {},
     "output_type": "display_data"
    },
    {
     "name": "stdout",
     "output_type": "stream",
     "text": [
      "epoch[16] : loss=1.540165 accuracy=0.972300\n"
     ]
    },
    {
     "data": {
      "application/vnd.jupyter.widget-view+json": {
       "model_id": "cd4a818d5f9f44f1bc0ccf87cbe18660",
       "version_major": 2,
       "version_minor": 0
      },
      "text/plain": [
       "  0%|          | 0/1875 [00:00<?, ?it/s]"
      ]
     },
     "metadata": {},
     "output_type": "display_data"
    },
    {
     "name": "stdout",
     "output_type": "stream",
     "text": [
      "epoch[17] : loss=1.542743 accuracy=0.971910\n"
     ]
    },
    {
     "data": {
      "application/vnd.jupyter.widget-view+json": {
       "model_id": "b82bce3c9481476493a7969c882542ec",
       "version_major": 2,
       "version_minor": 0
      },
      "text/plain": [
       "  0%|          | 0/1875 [00:00<?, ?it/s]"
      ]
     },
     "metadata": {},
     "output_type": "display_data"
    },
    {
     "name": "stdout",
     "output_type": "stream",
     "text": [
      "epoch[18] : loss=1.538157 accuracy=0.973610\n"
     ]
    },
    {
     "data": {
      "application/vnd.jupyter.widget-view+json": {
       "model_id": "f25126a3da2342ec8c9f6e3dafc48bf5",
       "version_major": 2,
       "version_minor": 0
      },
      "text/plain": [
       "  0%|          | 0/1875 [00:00<?, ?it/s]"
      ]
     },
     "metadata": {},
     "output_type": "display_data"
    },
    {
     "name": "stdout",
     "output_type": "stream",
     "text": [
      "epoch[19] : loss=1.542132 accuracy=0.972810\n"
     ]
    }
   ],
   "source": [
    "# learning\n",
    "\n",
    "loss= bb.LossSoftmaxCrossEntropy()\n",
    "print(loss)\n",
    "\n",
    "metrics =bb.MetricsBinaryCategoricalAccuracy()\n",
    "print(metrics)\n",
    "\n",
    "optimizer=bb.OptimizerAdam()\n",
    "print(optimizer)\n",
    "\n",
    "optimizer.set_variables(net.get_parameters(), net.get_gradients())\n",
    "print(net.get_parameters())\n",
    "print(net.get_gradients())\n",
    "epochs=20\n",
    "for epoch in range(epochs):\n",
    "    loss.clear()\n",
    "    metrics.clear()\n",
    "\n",
    "    #learning\n",
    "\n",
    "    with tqdm(loader_train) as t:\n",
    "        for images, labels in t:\n",
    "            x_buf = bb.FrameBuffer.from_numpy(np.array(images).astype(np.float32))\n",
    "            t_buf= bb.FrameBuffer.from_numpy(np.identity(10)[np.array(labels)].astype(np.float32))\n",
    "            y_buf= net.forward(x_buf, train=True)\n",
    "            dy_buf= loss.calculate(y_buf, t_buf)\n",
    "            metrics.calculate(y_buf, t_buf)\n",
    "            net.backward(dy_buf)\n",
    "            optimizer.update()\n",
    "\n",
    "            t.set_postfix(loss=loss.get(), acc=metrics.get())\n",
    "\n",
    "    loss.clear()\n",
    "    metrics.clear()\n",
    "    for images, labels in loader_test:\n",
    "        x_buf = bb.FrameBuffer.from_numpy(np.array(images).astype(np.float32))\n",
    "        t_buf = bb.FrameBuffer.from_numpy(np.identity(10)[np.array(labels)].astype(np.float32))\n",
    "        y_buf = net.forward(x_buf, train=False)    \n",
    "        loss.calculate(y_buf, t_buf)\n",
    "        metrics.calculate(y_buf, t_buf)\n",
    "\n",
    "    bb.save_networks(data_path, net)\n",
    "    print('epoch[%d] : loss=%f accuracy=%f' % (epoch, loss.get(), metrics.get()))\n",
    "\n",
    "            \n",
    "\n",
    "            \n",
    "\n",
    "    \n",
    "\n",
    "    "
   ]
  },
  {
   "cell_type": "code",
   "execution_count": 78,
   "id": "9210d6f6-fc27-451c-82b7-7285ac51bb01",
   "metadata": {},
   "outputs": [],
   "source": [
    "# export verilog\n",
    "with open(output_velilog_file, 'w') as f:\n",
    "    f.write('\\n`timescale 1ns / 1ps\\n\\n\\n')\n",
    "    f.write(bb.make_verilog_lut_layers(rtl_module_name + 'Simple' , net[0]))\n",
    "    f.write(bb.make_verilog_lut_layers(rtl_module_name + 'Simple' , net[1]))\n",
    "    f.write(bb.make_verilog_lut_layers(rtl_module_name + 'Simple' , net[2]))\n",
    "\n",
    "# Simulation用ファイルに上書きコピー\n",
    "shutil.copyfile(output_velilog_file, sim_velilog_file)\n",
    "\n",
    "# Simulationで使う画像の生成\n",
    "def img_geneator():\n",
    "    for data in dataset_test:\n",
    "        yield data[0] # 画像とラベルの画像の方を返す\n",
    "\n",
    "img = (bb.make_image_tile(480//28+1, 640//28+1, img_geneator())*255).astype(np.uint8)\n",
    "bb.write_ppm(os.path.join(rtl_sim_path, 'mnist_test_160x120.ppm'), img[:,:120,:160])\n",
    "bb.write_ppm(os.path.join(rtl_sim_path, 'mnist_test_640x480.ppm'), img[:,:480,:640])"
   ]
  },
  {
   "cell_type": "code",
   "execution_count": 104,
   "id": "534934a7-c279-48c2-ab86-80fd9cb1594f",
   "metadata": {},
   "outputs": [
    {
     "name": "stdout",
     "output_type": "stream",
     "text": [
      "----------------------------------------------------------------------\n",
      "[BinaryLut6] \n",
      " input  shape : {1, 28, 28} output shape : {216}\n",
      " connection : random\n",
      "----------------------------------------------------------------------\n",
      "\n",
      "----------------------------------------------------------------------\n",
      "[BinaryLut6] \n",
      " input  shape : {216} output shape : {36}\n",
      " connection : random\n",
      "----------------------------------------------------------------------\n",
      "\n",
      "----------------------------------------------------------------------\n",
      "[Sequential] \n",
      " input  shape : [1, 28, 28] output shape : [10]\n",
      "  --------------------------------------------------------------------\n",
      "  [Sequential] \n",
      "   input  shape : [1, 28, 28]   output shape : [36]\n",
      "    ------------------------------------------------------------------\n",
      "    [BinaryLut6] \n",
      "     input  shape : {1, 28, 28} output shape : {216}\n",
      "     connection : random\n",
      "    ------------------------------------------------------------------\n",
      "    [BinaryLut6] \n",
      "     input  shape : {216} output shape : {36}\n",
      "     connection : random\n",
      "  --------------------------------------------------------------------\n",
      "  [Sequential] \n",
      "   input  shape : [36]   output shape : [72]\n",
      "    ------------------------------------------------------------------\n",
      "    [BinaryLut6] \n",
      "     input  shape : {36} output shape : {432}\n",
      "     connection : random\n",
      "    ------------------------------------------------------------------\n",
      "    [BinaryLut6] \n",
      "     input  shape : {432} output shape : {72}\n",
      "     connection : random\n",
      "  --------------------------------------------------------------------\n",
      "  [Sequential] \n",
      "   input  shape : [72]   output shape : [72]\n",
      "    ------------------------------------------------------------------\n",
      "    [BinaryLut6] \n",
      "     input  shape : {72} output shape : {432}\n",
      "     connection : random\n",
      "    ------------------------------------------------------------------\n",
      "    [BinaryLut6] \n",
      "     input  shape : {432} output shape : {72}\n",
      "     connection : random\n",
      "  --------------------------------------------------------------------\n",
      "  [Sequential] \n",
      "   input  shape : [72]   output shape : [10]\n",
      "    ------------------------------------------------------------------\n",
      "    [BinaryLut6] \n",
      "     input  shape : {72} output shape : {864}\n",
      "     connection : random\n",
      "    ------------------------------------------------------------------\n",
      "    [BinaryLut6] \n",
      "     input  shape : {864} output shape : {10}\n",
      "     connection : random\n",
      "----------------------------------------------------------------------\n",
      "\n"
     ]
    },
    {
     "data": {
      "application/vnd.jupyter.widget-view+json": {
       "model_id": "c3a31b17d720472ba3b136a5acdcfed7",
       "version_major": 2,
       "version_minor": 0
      },
      "text/plain": [
       "  0%|          | 0/313 [00:00<?, ?it/s]"
      ]
     },
     "metadata": {},
     "output_type": "display_data"
    },
    {
     "name": "stderr",
     "output_type": "stream",
     "text": [
      "/tmp/ipykernel_7780/4124388131.py:36: DeprecationWarning: __array__ implementation doesn't accept a copy keyword, so passing copy=False failed. __array__ must implement 'dtype' and 'copy' keyword arguments. To learn more, see the migration guide https://numpy.org/devdocs/numpy_2_0_migration_guide.html#adapting-to-changes-in-the-copy-keyword\n",
      "  x_buf = bb.FrameBuffer.from_numpy(np.array(images).astype(np.float32))\n",
      "/tmp/ipykernel_7780/4124388131.py:39: DeprecationWarning: __array__ implementation doesn't accept a copy keyword, so passing copy=False failed. __array__ must implement 'dtype' and 'copy' keyword arguments. To learn more, see the migration guide https://numpy.org/devdocs/numpy_2_0_migration_guide.html#adapting-to-changes-in-the-copy-keyword\n",
      "  t_buf = bb.FrameBuffer.from_numpy(np.identity(10)[np.array(labels)].astype(np.float32))\n"
     ]
    },
    {
     "name": "stdout",
     "output_type": "stream",
     "text": [
      "Binary LUT test : loss=1.583333 accuracy=0.810200\n"
     ]
    }
   ],
   "source": [
    "bb.load_networks(data_path, net)\n",
    "\n",
    "# LUTモデルは BIT型を使ってメモリ節約が可能\n",
    "bin_dtype = bb.DType.BIT  # bb.DType.BIT or bb.DType.FP32\n",
    "\n",
    "# 同一形状のバイナリLUTを生成\n",
    "bin_lut0_0 = bb.BinaryLut.from_sparse_model(lut_layer0_0)\n",
    "bin_lut0_1 = bb.BinaryLut.from_sparse_model(lut_layer0_1)\n",
    "bin_lut1_0 = bb.BinaryLut.from_sparse_model(lut_layer1_0)\n",
    "bin_lut1_1 = bb.BinaryLut.from_sparse_model(lut_layer1_1)\n",
    "bin_lut2_0 = bb.BinaryLut.from_sparse_model(lut_layer2_0)\n",
    "bin_lut2_1 = bb.BinaryLut.from_sparse_model(lut_layer2_1)\n",
    "bin_lut3_0 = bb.BinaryLut.from_sparse_model(lut_layer3_0)\n",
    "bin_lut3_1 = bb.BinaryLut.from_sparse_model(lut_layer3_1)\n",
    "\n",
    "print(bin_lut0_0)\n",
    "print(bin_lut0_1)\n",
    "frame_modulation_size = 7\n",
    "\n",
    "test_net= bb.Sequential([\n",
    "           #     bb.RealToBinary(frame_modulation_size=frame_modulation_size, bin_dtype=bin_dtype),\n",
    "                bb.Sequential([bin_lut0_0, bin_lut0_1]), bb.Sequential([bin_lut1_0, bin_lut1_1]),  \n",
    "                bb.Sequential([bin_lut2_0, bin_lut2_1]), bb.Sequential([bin_lut3_0, bin_lut3_1]),\n",
    "         #       bb.BinaryToReal(frame_integration_size=frame_modulation_size)\n",
    "])\n",
    "print(test_net.get_info())\n",
    "\n",
    "test_net.set_input_shape([1, 28, 28])\n",
    "\n",
    "test_loss    = bb.LossSoftmaxCrossEntropy()\n",
    "test_metrics = bb.MetricsCategoricalAccuracy()\n",
    "\n",
    "loss.clear()\n",
    "metrics.clear()\n",
    "for images, labels in tqdm(loader_test):\n",
    "    x_buf = bb.FrameBuffer.from_numpy(np.array(images).astype(np.float32))\n",
    "   # print(x_buf.get_type())\n",
    "    \n",
    "    t_buf = bb.FrameBuffer.from_numpy(np.identity(10)[np.array(labels)].astype(np.float32))\n",
    "    y_buf = test_net.forward(x_buf, train=False)\n",
    "    #print(y_buf.get_type())\n",
    "    test_loss.calculate(y_buf, t_buf)\n",
    "    test_metrics.calculate(y_buf, t_buf)\n",
    "\n",
    "print('Binary LUT test : loss=%f accuracy=%f' % (test_loss.get(), test_metrics.get()))\n"
   ]
  },
  {
   "cell_type": "code",
   "execution_count": null,
   "id": "5b486ceb-5379-4230-8131-3e290a89cbe3",
   "metadata": {},
   "outputs": [],
   "source": []
  },
  {
   "cell_type": "code",
   "execution_count": null,
   "id": "1c440117-4adf-4048-85f4-e35eaded060a",
   "metadata": {},
   "outputs": [],
   "source": []
  }
 ],
 "metadata": {
  "kernelspec": {
   "display_name": "Python 3 (ipykernel)",
   "language": "python",
   "name": "python3"
  },
  "language_info": {
   "codemirror_mode": {
    "name": "ipython",
    "version": 3
   },
   "file_extension": ".py",
   "mimetype": "text/x-python",
   "name": "python",
   "nbconvert_exporter": "python",
   "pygments_lexer": "ipython3",
   "version": "3.10.16"
  }
 },
 "nbformat": 4,
 "nbformat_minor": 5
}
