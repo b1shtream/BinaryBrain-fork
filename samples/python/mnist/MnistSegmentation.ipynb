{
 "cells": [
  {
   "cell_type": "markdown",
   "metadata": {},
   "source": [
    "# MNISTでセグメンテーションに挑戦\n",
    "\n"
   ]
  },
  {
   "cell_type": "code",
   "execution_count": 1,
   "metadata": {},
   "outputs": [],
   "source": [
    "import os\n",
    "import shutil\n",
    "import numpy as np\n",
    "import matplotlib.pyplot as plt\n",
    "from tqdm.notebook import tqdm\n",
    "\n",
    "import torch\n",
    "import torchvision\n",
    "import torchvision.transforms as transforms\n",
    "\n",
    "import binarybrain as bb"
   ]
  },
  {
   "cell_type": "markdown",
   "metadata": {},
   "source": [
    "## 初期設定"
   ]
  },
  {
   "cell_type": "code",
   "execution_count": 2,
   "metadata": {},
   "outputs": [],
   "source": [
    "# configuration\n",
    "net_name              = 'MnistSegmentation'\n",
    "data_path             = os.path.join('./data/', net_name)\n",
    "rtl_sim_path          = '../../verilog/mnist'\n",
    "rtl_module_name       = 'MnistSegmentation'\n",
    "output_velilog_file   = os.path.join(data_path, rtl_module_name + '.v')\n",
    "sim_velilog_file      = os.path.join(rtl_sim_path, rtl_module_name + '.v')\n",
    "\n",
    "bin_mode              = True\n",
    "frame_modulation_size = 1\n",
    "epochs                = 4\n",
    "mini_batch_size       = 32"
   ]
  },
  {
   "cell_type": "markdown",
   "metadata": {},
   "source": [
    "## データセット準備\n",
    "\n",
    "データセットを自作する"
   ]
  },
  {
   "cell_type": "code",
   "execution_count": 3,
   "metadata": {},
   "outputs": [],
   "source": [
    "def make_teacher_image(gen, rows, cols, margin=0):\n",
    "    source_img  = np.zeros((1, rows*28, cols*28), dtype=np.float32)\n",
    "    teaching_img = np.zeros((11, rows*28, cols*28), dtype=np.float32)\n",
    "    for row in range(rows):\n",
    "        for col in range(cols):\n",
    "            x = col*28\n",
    "            y = row*28\n",
    "            img, label = gen.__next__()\n",
    "            source_img[0,y:y+28,x:x+28] = img\n",
    "            teaching_img[label,y:y+28,x:x+28] = img\n",
    "            teaching_img[10,y:y+28,x:x+28] = 1.0-img\n",
    "    return source_img, teaching_img[:,margin:-margin,margin:-margin]\n",
    "\n",
    "def transform_data(dataset, n, rows, cols, margin):\n",
    "    def data_gen():\n",
    "        l = len(dataset)\n",
    "        i = 0\n",
    "        while True:\n",
    "            yield dataset[i%l]\n",
    "            i +=1\n",
    "    \n",
    "    source_imgs = []\n",
    "    teaching_imgs = []\n",
    "    for _ in range(n):\n",
    "        x, t = make_teacher_image(data_gen(), rows, cols, margin)\n",
    "        source_imgs.append(x)\n",
    "        teaching_imgs.append(t)\n",
    "    return source_imgs, teaching_imgs\n",
    "\n",
    "class MyDatasets(torch.utils.data.Dataset):\n",
    "    def __init__(self, source_imgs, teaching_imgs, transforms=None):\n",
    "        self.transforms = transforms\n",
    "        self.source_imgs = source_imgs\n",
    "        self.teaching_imgs = teaching_imgs\n",
    "        \n",
    "    def __len__(self):\n",
    "        return len(self.source_imgs)\n",
    "\n",
    "    def __getitem__(self, index):\n",
    "        source_img = self.source_imgs[index]\n",
    "        teaching_img = self.teaching_imgs[index]\n",
    "        if self.transforms:\n",
    "            source_img, teaching_img = self.transforms(source_img, teaching_img)\n",
    "        return source_img, teaching_img\n",
    "\n",
    "# dataset\n",
    "dataset_path = './data/'\n",
    "dataset_train = torchvision.datasets.MNIST(root=dataset_path, train=True, transform=transforms.ToTensor(), download=True)\n",
    "dataset_test  = torchvision.datasets.MNIST(root=dataset_path, train=False, transform=transforms.ToTensor(), download=True)\n",
    "\n",
    "source_imgs_train, teaching_imgs_train = transform_data(dataset_train, mini_batch_size*100, 4, 4, 28)\n",
    "my_dataset_train = MyDatasets(source_imgs_train, teaching_imgs_train)\n",
    "\n",
    "source_imgs_test, teaching_imgs_test = transform_data(dataset_test, mini_batch_size*20, 4, 4, 28)\n",
    "my_dataset_test = MyDatasets(source_imgs_test, teaching_imgs_test)\n",
    "\n",
    "loader_train = torch.utils.data.DataLoader(dataset=my_dataset_train, batch_size=mini_batch_size, shuffle=True)\n",
    "loader_test = torch.utils.data.DataLoader(dataset=my_dataset_test, batch_size=mini_batch_size, shuffle=False)"
   ]
  },
  {
   "cell_type": "code",
   "execution_count": null,
   "metadata": {},
   "outputs": [],
   "source": [
    "# 面積の比率で重みを作っておく\n",
    "areas = np.zeros((11))\n",
    "for img, label in dataset_train:\n",
    "    img = img.numpy()\n",
    "    areas[label] += np.mean(img)\n",
    "    areas[10] += np.mean(1.0-img)\n",
    "areas /= len(dataset_train)\n",
    "\n",
    "wight = 1 / areas\n",
    "wight /= np.max(wight)\n",
    "\n",
    "loss_weight = np.ones((11, 56, 56), dtype=np.float32)\n",
    "for i, w in enumerate(wight):\n",
    "    loss_weight[i,:,:] *= w"
   ]
  },
  {
   "cell_type": "code",
   "execution_count": 5,
   "metadata": {},
   "outputs": [
    {
     "name": "stdout",
     "output_type": "stream",
     "text": [
      "torch.Size([1, 112, 112])\n",
      "torch.Size([11, 56, 56])\n"
     ]
    },
    {
     "data": {
      "image/png": "[encoded data removed]",
      "text/plain": [
       "<Figure size 1152x576 with 12 Axes>"
      ]
     },
     "metadata": {
      "needs_background": "light"
     },
     "output_type": "display_data"
    }
   ],
   "source": [
    "plt.figure(figsize=(16,8))\n",
    "for source_imgs, teaching_imgs in loader_test:\n",
    "    print(source_imgs[0].shape)\n",
    "    print(teaching_imgs[0].shape)\n",
    "    plt.subplot(1,12,1)\n",
    "    plt.imshow(source_imgs[0][0], 'gray')\n",
    "    for i in range(11):\n",
    "        plt.subplot(1,12,2+i)\n",
    "        plt.imshow(teaching_imgs[0][i], 'gray')\n",
    "    break"
   ]
  },
  {
   "cell_type": "markdown",
   "metadata": {},
   "source": [
    "## ネットワーク構築"
   ]
  },
  {
   "cell_type": "code",
   "execution_count": 6,
   "metadata": {},
   "outputs": [
    {
     "name": "stdout",
     "output_type": "stream",
     "text": [
      "----------------------------------------------------------------------\n",
      "[Sequential] \n",
      "  --------------------------------------------------------------------\n",
      "  [RealToBinary] \n",
      "   input  shape : {1, 112, 112}   output shape : {1, 112, 112}\n",
      "  --------------------------------------------------------------------\n",
      "  [Sequential] \n",
      "   input  shape : {1, 112, 112}   output shape : {32, 56, 56}\n",
      "  --------------------------------------------------------------------\n",
      "  [BinaryToReal] \n",
      "   input  shape : {11, 56, 56}   output shape : {11, 56, 56}\n",
      "----------------------------------------------------------------------\n",
      "\n"
     ]
    }
   ],
   "source": [
    "# バイナリ時は BIT型を使えばメモリ削減可能\n",
    "bin_dtype = bb.DType.BIT if bin_mode else bb.DType.FP32\n",
    "\n",
    "def make_conv_layer(hidden_ch, output_ch, padding='valid', bin_dtype=bb.DType.BIT):\n",
    "    return bb.Sequential([\n",
    "                # input(pointwise)\n",
    "                bb.Convolution2d(\n",
    "                    bb.Sequential([\n",
    "                        bb.DifferentiableLut([hidden_ch*6, 1, 1], bin_dtype=bin_dtype),\n",
    "                        bb.DifferentiableLut([hidden_ch,   1, 1], connection='serial', bin_dtype=bin_dtype),\n",
    "                    ]),\n",
    "                    filter_size=(1, 1),\n",
    "                    fw_dtype=bin_dtype),\n",
    "\n",
    "                # hidden(depthwise)\n",
    "                bb.Convolution2d(\n",
    "                    bb.Sequential([\n",
    "                        bb.DifferentiableLut([hidden_ch, 1, 1], connection='depthwise', bin_dtype=bin_dtype),\n",
    "                    ]),\n",
    "                    filter_size=(3, 3), padding=padding,\n",
    "                    fw_dtype=bin_dtype),\n",
    "                \n",
    "                # output(pointwise)\n",
    "                bb.Convolution2d(\n",
    "                    bb.Sequential([\n",
    "                        bb.DifferentiableLut([output_ch*6, 1, 1], connection='serial', bin_dtype=bin_dtype),\n",
    "                        bb.DifferentiableLut([output_ch,   1, 1], connection='serial', bin_dtype=bin_dtype),\n",
    "                    ]),\n",
    "                    filter_size=(1, 1),\n",
    "                    fw_dtype=bin_dtype),\n",
    "            ])\n",
    "\n",
    "\n",
    "sub_net = bb.Sequential()\n",
    "for i in range(28):\n",
    "    sub_net.append(make_conv_layer(36, 32, bin_dtype=bin_dtype))\n",
    "    sub_net.append(\n",
    "                bb.Convolution2d(\n",
    "                    bb.Sequential([\n",
    "                        bb.DifferentiableLut([256],    connection='serial', batch_norm=True, bin_dtype=bin_dtype),\n",
    "                        bb.DifferentiableLut([11*6*6], connection='random', batch_norm=False, bin_dtype=bin_dtype),\n",
    "                        bb.DifferentiableLut([11*6],   connection='serial', batch_norm=False, bin_dtype=bin_dtype),\n",
    "                        bb.DifferentiableLut([11],     connection='serial', batch_norm=False, bin_dtype=bin_dtype),\n",
    "                    ]),\n",
    "                    filter_size=(1, 1),\n",
    "                    fw_dtype=bin_dtype))\n",
    "    \n",
    "# define network\n",
    "net = bb.Sequential([\n",
    "            bb.RealToBinary(frame_modulation_size=frame_modulation_size, bin_dtype=bin_dtype),\n",
    "            sub_net,\n",
    "            bb.BinaryToReal(frame_modulation_size=frame_modulation_size, bin_dtype=bin_dtype)\n",
    "        ])\n",
    "\n",
    "net.set_input_shape([1, 4*28, 4*28])\n",
    "\n",
    "if bin_mode:\n",
    "    net.send_command(\"binary true\")\n",
    "\n",
    "print(net.get_info(2))"
   ]
  },
  {
   "cell_type": "markdown",
   "metadata": {},
   "source": [
    "## 学習実施\n",
    "\n",
    "学習を行います"
   ]
  },
  {
   "cell_type": "code",
   "execution_count": null,
   "metadata": {},
   "outputs": [],
   "source": [
    "# 重み付きの損失関数を自作する\n",
    "class MyLoss(bb.LossFunction):\n",
    "    def __init__(self, weight):\n",
    "        super(MyLoss, self).__init__(self)\n",
    "        self.weight = weight\n",
    "        self.clear()\n",
    "        \n",
    "    def clear(self):\n",
    "        self.loss = 0.\n",
    "        self.n    = 0\n",
    "        \n",
    "    def get(self):\n",
    "        if self.n == 0:\n",
    "            return 0\n",
    "        return self.loss / self.n\n",
    "                \n",
    "    def calculate(self, y_buf, t_buf):\n",
    "        grad = y_buf.numpy() - t_buf.numpy();\n",
    "        grad *= self.weight\n",
    "        err  = grad * grad\n",
    "        self.loss += np.mean(err) * y_buf.get_frame_size()\n",
    "        self.n += y_buf.get_frame_size()\n",
    "        return bb.FrameBuffer.from_numpy(grad)"
   ]
  },
  {
   "cell_type": "code",
   "execution_count": null,
   "metadata": {},
   "outputs": [
    {
     "data": {
      "application/vnd.jupyter.widget-view+json": {
       "model_id": "e36df6dcc56041e7901dc0632925d5fa",
       "version_major": 2,
       "version_minor": 0
      },
      "text/plain": [
       "HBox(children=(FloatProgress(value=0.0), HTML(value='')))"
      ]
     },
     "metadata": {},
     "output_type": "display_data"
    },
    {
     "name": "stdout",
     "output_type": "stream",
     "text": [
      "\n",
      "epoch[0] : loss=0.004593\n"
     ]
    },
    {
     "data": {
      "application/vnd.jupyter.widget-view+json": {
       "model_id": "e730c4e123a44ee7b287d379fdd46006",
       "version_major": 2,
       "version_minor": 0
      },
      "text/plain": [
       "HBox(children=(FloatProgress(value=0.0), HTML(value='')))"
      ]
     },
     "metadata": {},
     "output_type": "display_data"
    }
   ],
   "source": [
    "# bb.load_networks(data_path, net)\n",
    "\n",
    "# learning\n",
    "loss      = MyLoss(loss_weight) # bb.LossMeanSquaredError()\n",
    "optimizer = bb.OptimizerAdam()\n",
    "\n",
    "optimizer.set_variables(net.get_parameters(), net.get_gradients())\n",
    "\n",
    "for epoch in range(epochs):\n",
    "    loss.clear()\n",
    "\n",
    "    # learning\n",
    "    with tqdm(loader_train) as tqdm_loadr:\n",
    "        for x_imgs, t_imgs in tqdm_loadr:\n",
    "            x_buf = bb.FrameBuffer.from_numpy(np.array(x_imgs).astype(np.float32))\n",
    "            t_buf = bb.FrameBuffer.from_numpy(np.array(t_imgs).astype(np.float32))\n",
    "            \n",
    "            y_buf = net.forward(x_buf, train=True)\n",
    "\n",
    "            dy_buf = loss.calculate(y_buf, t_buf)\n",
    "            \n",
    "            net.backward(dy_buf)\n",
    "\n",
    "            optimizer.update()\n",
    "\n",
    "            tqdm_loadr.set_postfix(loss=loss.get())\n",
    "    \n",
    "    # test\n",
    "    loss.clear()\n",
    "    for x_imgs, t_imgs in loader_test:\n",
    "        x_buf = bb.FrameBuffer.from_numpy(np.array(x_imgs).astype(np.float32))\n",
    "        t_buf = bb.FrameBuffer.from_numpy(np.array(t_imgs).astype(np.float32))\n",
    "\n",
    "        y_buf = net.forward(x_buf, train=False)\n",
    "\n",
    "        loss.calculate(y_buf, t_buf)\n",
    "\n",
    "    bb.save_networks(data_path, net)\n",
    "\n",
    "    print('epoch[%d] : loss=%f' % (epoch, loss.get()))"
   ]
  },
  {
   "cell_type": "code",
   "execution_count": null,
   "metadata": {},
   "outputs": [],
   "source": [
    "plt.figure(figsize=(16,8))\n",
    "for source_imgs, teaching_imgs in loader_test:\n",
    "    x_buf = bb.FrameBuffer.from_numpy(np.array(x_imgs).astype(np.float32))\n",
    "    t_buf = bb.FrameBuffer.from_numpy(np.array(t_imgs).astype(np.float32))\n",
    "    y_buf = net.forward(x_buf, train=False)\n",
    "    result_imgs = y_buf.numpy()\n",
    "        \n",
    "    plt.subplot(1,12,1)\n",
    "    plt.imshow(source_imgs[0][0], 'gray')\n",
    "    for i in range(11):\n",
    "        plt.subplot(1,12,2+i)\n",
    "        plt.imshow(result_imgs[0][i], 'gray')\n",
    "    break"
   ]
  },
  {
   "cell_type": "markdown",
   "metadata": {},
   "source": [
    "## RTL(Verilog)変換\n",
    "\n",
    "FPGA化するために Verilog に変換します。インターフェースはXilinx社のAXI4 Stream Video 仕様(フレームスタートでtuserが立つ)となります。\n",
    "MaxPooling の単位で画像サイズが縮小されてしまうので、現状、この単位でしか変換できないため3つに分けて出力しています。"
   ]
  },
  {
   "cell_type": "code",
   "execution_count": null,
   "metadata": {},
   "outputs": [],
   "source": [
    "# export verilog\n",
    "with open(output_velilog_file, 'w') as f:\n",
    "    f.write('`timescale 1ns / 1ps\\n\\n')\n",
    "    bb.dump_verilog_lut_cnv_layers(f, rtl_module_name, sub_net)\n",
    "\n",
    "# Simulation用ファイルに上書きコピー\n",
    "shutil.copyfile(output_velilog_file, sim_velilog_file)"
   ]
  }
 ],
 "metadata": {
  "kernelspec": {
   "display_name": "Python 3",
   "language": "python",
   "name": "python3"
  },
  "language_info": {
   "codemirror_mode": {
    "name": "ipython",
    "version": 3
   },
   "file_extension": ".py",
   "mimetype": "text/x-python",
   "name": "python",
   "nbconvert_exporter": "python",
   "pygments_lexer": "ipython3",
   "version": "3.7.4"
  }
 },
 "nbformat": 4,
 "nbformat_minor": 4
}
