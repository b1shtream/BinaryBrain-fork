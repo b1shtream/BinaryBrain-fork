{
 "cells": [
  {
   "cell_type": "markdown",
   "metadata": {},
   "source": [
    "# 微分可能LUTモデルによるMNISTでの Auto Encoder 学習\n",
    "\n",
    "Differentiable LUTモデルを用いて MNIST 画像の Auto Encoder を作成してみます。<br>\n",
    "ネットワークモデルにはCNNを用いています。\n",
    "バイナリであっても今のところある程度機能しており、一度 32ch まで圧縮した後に復元させています。"
   ]
  },
  {
   "cell_type": "markdown",
   "metadata": {},
   "source": [
    "## 事前準備"
   ]
  },
  {
   "cell_type": "code",
   "execution_count": 1,
   "metadata": {},
   "outputs": [],
   "source": [
    "import os\n",
    "import numpy as np\n",
    "import matplotlib.pyplot as plt\n",
    "from tqdm.notebook import tqdm\n",
    "\n",
    "import torch\n",
    "import torchvision\n",
    "import torchvision.transforms as transforms\n",
    "\n",
    "import binarybrain as bb"
   ]
  },
  {
   "cell_type": "markdown",
   "metadata": {},
   "source": [
    "異なる閾値で2値化した画像でフレーム数を水増ししながら学習させます。この水増しをバイナリ変調と呼んでいます。<br>\n",
    "ここではフレーム方向の水増し量を frame_modulation_size で指定しています。<br>\n",
    "別途 CIFAR-10などでも実験していますが、変調によりバイナリであってもある程度の階調表現の復元が行えるようです。"
   ]
  },
  {
   "cell_type": "code",
   "execution_count": 2,
   "metadata": {},
   "outputs": [],
   "source": [
    "# configuration\n",
    "net_name              = 'MnistAeDifferentiableLutCnn'\n",
    "data_path             = os.path.join('./data/', net_name)\n",
    "\n",
    "bin_mode              = True\n",
    "epochs                = 4\n",
    "mini_batch_size       = 32\n",
    "frame_modulation_size = 7"
   ]
  },
  {
   "cell_type": "markdown",
   "metadata": {},
   "source": [
    "データセットは PyTorch の torchvision を使います。<br>\n",
    "BinaryBrainではミニバッチをフレーム数として FrameBufferオブジェクトで扱います。<br>\n",
    "バイナリ変調で計算中にフレーム数が変わるためデータセットの準備観点でのミニバッチと呼び分けています。"
   ]
  },
  {
   "cell_type": "code",
   "execution_count": 3,
   "metadata": {},
   "outputs": [],
   "source": [
    "# dataset\n",
    "dataset_path = './data/'\n",
    "dataset_train = torchvision.datasets.MNIST(root=dataset_path, train=True, transform=transforms.ToTensor(), download=True)\n",
    "dataset_test  = torchvision.datasets.MNIST(root=dataset_path, train=False, transform=transforms.ToTensor(), download=True)\n",
    "loader_train = torch.utils.data.DataLoader(dataset=dataset_train, batch_size=mini_batch_size, shuffle=True, num_workers=2)\n",
    "loader_test  = torch.utils.data.DataLoader(dataset=dataset_test,  batch_size=mini_batch_size, shuffle=False, num_workers=2)"
   ]
  },
  {
   "cell_type": "markdown",
   "metadata": {},
   "source": [
    "## ネットワークの構築\n",
    "\n",
    "畳み込みを行い 1x1x32ch (バイナリなので32bit)まで圧縮した後に復元するネットワークを作ります。\n",
    "なお、最後の方の層で batch_norm=False としています。\n",
    "扱う画像自体が正規化されたものではないので、BatchNormalization を取り外しています。"
   ]
  },
  {
   "cell_type": "code",
   "execution_count": 4,
   "metadata": {},
   "outputs": [],
   "source": [
    "# バイナリ時は BIT型を使えばメモリ削減可能\n",
    "bin_dtype = bb.DType.BIT if bin_mode else bb.DType.FP32\n",
    "#bin_dtype = bb.DType.FP32\n",
    "\n",
    "# define network\n",
    "net = bb.Sequential([\n",
    "        bb.RealToBinary(frame_modulation_size=frame_modulation_size, bin_dtype=bin_dtype),\n",
    "        \n",
    "        # Encoder\n",
    "        bb.Sequential([\n",
    "            bb.Convolution2d(\n",
    "                bb.Sequential([\n",
    "                    bb.DifferentiableLut([192], bin_dtype=bin_dtype),\n",
    "                    bb.DifferentiableLut([32],  bin_dtype=bin_dtype),\n",
    "                ]),\n",
    "                filter_size=(3, 3), padding=\"same\", fw_dtype=bin_dtype),\n",
    "\n",
    "            bb.Convolution2d(\n",
    "                bb.Sequential([\n",
    "                    bb.DifferentiableLut([192], bin_dtype=bin_dtype),\n",
    "                    bb.DifferentiableLut([32],  bin_dtype=bin_dtype),\n",
    "                ]),\n",
    "                filter_size=(3, 3), padding=\"same\", fw_dtype=bin_dtype),\n",
    "\n",
    "            bb.MaxPooling(filter_size=(2, 2), fw_dtype=bin_dtype),\n",
    "\n",
    "            bb.Convolution2d(\n",
    "                bb.Sequential([\n",
    "                    bb.DifferentiableLut([384], bin_dtype=bin_dtype),\n",
    "                    bb.DifferentiableLut([64],  bin_dtype=bin_dtype),\n",
    "                ]),\n",
    "                filter_size=(3, 3), padding=\"same\", fw_dtype=bin_dtype),\n",
    "\n",
    "            bb.Convolution2d(\n",
    "                bb.Sequential([\n",
    "                    bb.DifferentiableLut([384], bin_dtype=bin_dtype),\n",
    "                    bb.DifferentiableLut([64],  bin_dtype=bin_dtype),\n",
    "                ]),\n",
    "                filter_size=(3, 3), padding=\"same\", fw_dtype=bin_dtype),\n",
    "\n",
    "            bb.MaxPooling(filter_size=(2, 2), fw_dtype=bin_dtype),\n",
    "\n",
    "            bb.DifferentiableLut([1152], bin_dtype=bin_dtype),\n",
    "            bb.DifferentiableLut([192],  bin_dtype=bin_dtype),\n",
    "            bb.DifferentiableLut([32],   bin_dtype=bin_dtype),\n",
    "        ]),\n",
    "        \n",
    "        # Decoder\n",
    "        bb.Sequential([\n",
    "            bb.DifferentiableLut([125],      bin_dtype=bin_dtype),\n",
    "            bb.DifferentiableLut([1024],     bin_dtype=bin_dtype),\n",
    "            bb.DifferentiableLut([64, 7, 7], bin_dtype=bin_dtype),\n",
    "            \n",
    "            bb.UpSampling(filter_size=(2, 2), fw_dtype=bin_dtype),\n",
    "            \n",
    "            bb.Convolution2d(\n",
    "                bb.Sequential([\n",
    "                    bb.DifferentiableLut([384], bin_dtype=bin_dtype),\n",
    "                    bb.DifferentiableLut([64],  bin_dtype=bin_dtype),\n",
    "                ]),\n",
    "                filter_size=(3, 3), padding=\"same\", fw_dtype=bin_dtype),\n",
    "\n",
    "            bb.Convolution2d(\n",
    "                bb.Sequential([\n",
    "                    bb.DifferentiableLut([384], bin_dtype=bin_dtype),\n",
    "                    bb.DifferentiableLut([64],  bin_dtype=bin_dtype),\n",
    "                ]),\n",
    "                filter_size=(3, 3), padding=\"same\", fw_dtype=bin_dtype),\n",
    "\n",
    "            bb.UpSampling(filter_size=(2, 2), fw_dtype=bin_dtype),\n",
    "\n",
    "            bb.Convolution2d(\n",
    "                bb.Sequential([\n",
    "                    bb.DifferentiableLut([192], bin_dtype=bin_dtype),\n",
    "                    bb.DifferentiableLut([32],  bin_dtype=bin_dtype),\n",
    "                ]),\n",
    "                filter_size=(3, 3), padding=\"same\", fw_dtype=bin_dtype),\n",
    "\n",
    "            bb.Convolution2d(\n",
    "                bb.Sequential([\n",
    "                    bb.DifferentiableLut([216], bin_dtype=bin_dtype),\n",
    "                    bb.DifferentiableLut([36],  batch_norm=True, bin_dtype=bin_dtype),\n",
    "                    bb.DifferentiableLut([6],   batch_norm=False, bin_dtype=bin_dtype),\n",
    "                    bb.DifferentiableLut([1],   batch_norm=False, bin_dtype=bin_dtype),\n",
    "                ]),\n",
    "                filter_size=(3, 3), padding=\"same\", fw_dtype=bin_dtype),\n",
    "        ]),\n",
    "    \n",
    "        bb.BinaryToReal(frame_integration_size=frame_modulation_size, bin_dtype=bin_dtype),\n",
    "    ])\n",
    "\n",
    "net.set_input_shape([1, 28, 28])\n",
    "\n",
    "if bin_mode:\n",
    "    net.send_command(\"binary true\")\n",
    "else:\n",
    "    net.send_command(\"binary false\")\n",
    "\n",
    "# print(net.get_info(3))"
   ]
  },
  {
   "cell_type": "markdown",
   "metadata": {},
   "source": [
    "## 学習の実施\n",
    "\n",
    "入力画像そのものを期待値として、損失関数には平均二乗誤差(MSE)を使います。"
   ]
  },
  {
   "cell_type": "code",
   "execution_count": 5,
   "metadata": {},
   "outputs": [],
   "source": [
    "loss      = bb.LossMeanSquaredError()\n",
    "metrics   = bb.MetricsMeanSquaredError()\n",
    "optimizer = bb.OptimizerAdam()\n",
    "\n",
    "optimizer.set_variables(net.get_parameters(), net.get_gradients())"
   ]
  },
  {
   "cell_type": "code",
   "execution_count": 6,
   "metadata": {},
   "outputs": [
    {
     "data": {
      "application/vnd.jupyter.widget-view+json": {
       "model_id": "fb65f2c4cdc34ef5823556b0cfb7ed3b",
       "version_major": 2,
       "version_minor": 0
      },
      "text/plain": [
       "  0%|          | 0/1875 [00:00<?, ?it/s]"
      ]
     },
     "metadata": {},
     "output_type": "display_data"
    },
    {
     "name": "stdout",
     "output_type": "stream",
     "text": [
      "epoch[0] : loss(MSE)=0.040271\n"
     ]
    },
    {
     "data": {
      "application/vnd.jupyter.widget-view+json": {
       "model_id": "05ccadf0bf5d413d93c061d62b3fad48",
       "version_major": 2,
       "version_minor": 0
      },
      "text/plain": [
       "  0%|          | 0/1875 [00:00<?, ?it/s]"
      ]
     },
     "metadata": {},
     "output_type": "display_data"
    },
    {
     "name": "stdout",
     "output_type": "stream",
     "text": [
      "epoch[1] : loss(MSE)=0.036402\n"
     ]
    },
    {
     "data": {
      "application/vnd.jupyter.widget-view+json": {
       "model_id": "570835c47c2547a8be47c57eae11e2e5",
       "version_major": 2,
       "version_minor": 0
      },
      "text/plain": [
       "  0%|          | 0/1875 [00:00<?, ?it/s]"
      ]
     },
     "metadata": {},
     "output_type": "display_data"
    },
    {
     "name": "stdout",
     "output_type": "stream",
     "text": [
      "epoch[2] : loss(MSE)=0.035642\n"
     ]
    },
    {
     "data": {
      "application/vnd.jupyter.widget-view+json": {
       "model_id": "4813dd5a2f7a4571a1811724c502c882",
       "version_major": 2,
       "version_minor": 0
      },
      "text/plain": [
       "  0%|          | 0/1875 [00:00<?, ?it/s]"
      ]
     },
     "metadata": {},
     "output_type": "display_data"
    },
    {
     "name": "stdout",
     "output_type": "stream",
     "text": [
      "epoch[3] : loss(MSE)=0.035144\n"
     ]
    }
   ],
   "source": [
    "#bb.load_networks(data_path, net)\n",
    "\n",
    "# learning\n",
    "for epoch in range(epochs):\n",
    "    # learning\n",
    "    loss.clear()\n",
    "    metrics.clear()\n",
    "    with tqdm(loader_train) as t:\n",
    "        for images, labels in t:\n",
    "            x_buf = bb.FrameBuffer.from_numpy(np.array(images).astype(np.float32))\n",
    "            y_buf = net.forward(x_buf, train=True)\n",
    "            dy_buf = loss.calculate(y_buf, x_buf)\n",
    "            net.backward(dy_buf)\n",
    "            optimizer.update()\n",
    "            t.set_postfix(loss=loss.get())\n",
    "\n",
    "    # test\n",
    "    loss.clear()\n",
    "    metrics.clear()\n",
    "    for images, labels in loader_test:\n",
    "        x_buf = bb.FrameBuffer.from_numpy(np.array(images).astype(np.float32))\n",
    "        y_buf = net.forward(x_buf, train=False)\n",
    "        loss.calculate(y_buf, x_buf)\n",
    "        metrics.calculate(y_buf, x_buf)\n",
    "\n",
    "    print('epoch[%d] : loss(MSE)=%f' % (epoch, loss.get()))\n",
    "\n",
    "    bb.save_networks(data_path, net)"
   ]
  },
  {
   "cell_type": "markdown",
   "metadata": {},
   "source": [
    "## 結果を表示してみる\n",
    "\n",
    "入力画像(x)と、一度圧縮して縮小した画像(y)の２つを10個表示してみます。"
   ]
  },
  {
   "cell_type": "code",
   "execution_count": 7,
   "metadata": {},
   "outputs": [
    {
     "data": {
      "text/plain": [
       "True"
      ]
     },
     "execution_count": 7,
     "metadata": {},
     "output_type": "execute_result"
    }
   ],
   "source": [
    "# 最新の保存データ読み込み\n",
    "bb.load_networks(data_path, net)"
   ]
  },
  {
   "cell_type": "code",
   "execution_count": 8,
   "metadata": {},
   "outputs": [],
   "source": [
    "for images, labels in loader_test:\n",
    "    x_buf = bb.FrameBuffer.from_numpy(np.array(images).astype(np.float32))\n",
    "    y_buf = net.forward(x_buf, train=True)\n",
    "    break"
   ]
  },
  {
   "cell_type": "code",
   "execution_count": 9,
   "metadata": {},
   "outputs": [],
   "source": [
    "x = x_buf.numpy()\n",
    "y = y_buf.numpy()"
   ]
  },
  {
   "cell_type": "code",
   "execution_count": 10,
   "metadata": {},
   "outputs": [
    {
     "data": {
      "image/png": "[encoded data removed]",
      "text/plain": [
       "<Figure size 864x288 with 20 Axes>"
      ]
     },
     "metadata": {
      "needs_background": "light"
     },
     "output_type": "display_data"
    }
   ],
   "source": [
    "plt.figure(figsize=(12,4))\n",
    "for i in range(10):\n",
    "    plt.subplot(2, 10, i+1)\n",
    "    plt.title('x[%d]'%i)\n",
    "    plt.imshow(x[i][0], 'gray')\n",
    "    plt.subplot(2, 10, i+11)\n",
    "    plt.title('y[%d]'%i)\n",
    "    plt.imshow(y[i][0], 'gray')\n",
    "plt.tight_layout()"
   ]
  },
  {
   "cell_type": "code",
   "execution_count": null,
   "metadata": {},
   "outputs": [],
   "source": []
  }
 ],
 "metadata": {
  "kernelspec": {
   "display_name": "Python 3",
   "language": "python",
   "name": "python3"
  },
  "language_info": {
   "codemirror_mode": {
    "name": "ipython",
    "version": 3
   },
   "file_extension": ".py",
   "mimetype": "text/x-python",
   "name": "python",
   "nbconvert_exporter": "python",
   "pygments_lexer": "ipython3",
   "version": "3.7.9"
  }
 },
 "nbformat": 4,
 "nbformat_minor": 4
}
