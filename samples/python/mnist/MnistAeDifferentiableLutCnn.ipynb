{
 "cells": [
  {
   "cell_type": "markdown",
   "metadata": {},
   "source": [
    "# 微分可能LUTモデルによるMNISTでの Auto Encoder 学習\n",
    "\n",
    "Differentiable LUTモデルを用いて MNIST 画像の Auto Encoder を作成してみます。<br>\n",
    "ネットワークモデルにはCNNを用いています。\n",
    "バイナリであっても今のところある程度機能しており、一度 32ch まで圧縮した後に復元させています。"
   ]
  },
  {
   "cell_type": "markdown",
   "metadata": {},
   "source": [
    "## 事前準備"
   ]
  },
  {
   "cell_type": "code",
   "execution_count": 1,
   "metadata": {},
   "outputs": [],
   "source": [
    "import os\n",
    "import numpy as np\n",
    "import matplotlib.pyplot as plt\n",
    "from tqdm.notebook import tqdm\n",
    "\n",
    "import torch\n",
    "import torchvision\n",
    "import torchvision.transforms as transforms\n",
    "\n",
    "import binarybrain as bb"
   ]
  },
  {
   "cell_type": "markdown",
   "metadata": {},
   "source": [
    "異なる閾値で2値化した画像でフレーム数を水増ししながら学習させます。この水増しをバイナリ変調と呼んでいます。<br>\n",
    "ここではフレーム方向の水増し量を frame_modulation_size で指定しています。<br>\n",
    "別途 CIFAR-10などでも実験していますが、変調によりバイナリであってもある程度の階調表現の復元が行えるようです。"
   ]
  },
  {
   "cell_type": "code",
   "execution_count": 2,
   "metadata": {},
   "outputs": [],
   "source": [
    "# configuration\n",
    "net_name              = 'MnistAeDifferentiableLutCnn'\n",
    "data_path             = os.path.join('./data/', net_name)\n",
    "\n",
    "bin_mode              = True\n",
    "epochs                = 4\n",
    "mini_batch_size       = 32\n",
    "frame_modulation_size = 7"
   ]
  },
  {
   "cell_type": "markdown",
   "metadata": {},
   "source": [
    "データセットは PyTorch の torchvision を使います。<br>\n",
    "BinaryBrainではミニバッチをフレーム数として FrameBufferオブジェクトで扱います。<br>\n",
    "バイナリ変調で計算中にフレーム数が変わるためデータセットの準備観点でのミニバッチと呼び分けています。"
   ]
  },
  {
   "cell_type": "code",
   "execution_count": 3,
   "metadata": {},
   "outputs": [],
   "source": [
    "# dataset\n",
    "dataset_path = './data/'\n",
    "dataset_train = torchvision.datasets.MNIST(root=dataset_path, train=True, transform=transforms.ToTensor(), download=True)\n",
    "dataset_test  = torchvision.datasets.MNIST(root=dataset_path, train=False, transform=transforms.ToTensor(), download=True)\n",
    "loader_train = torch.utils.data.DataLoader(dataset=dataset_train, batch_size=mini_batch_size, shuffle=True, num_workers=2)\n",
    "loader_test  = torch.utils.data.DataLoader(dataset=dataset_test,  batch_size=mini_batch_size, shuffle=False, num_workers=2)"
   ]
  },
  {
   "cell_type": "markdown",
   "metadata": {},
   "source": [
    "## ネットワークの構築\n",
    "\n",
    "畳み込みを行い 1x1x32ch (バイナリなので32bit)まで圧縮した後に復元するネットワークを作ります。\n",
    "なお、最後の方の層で batch_norm=False としています。\n",
    "扱う画像自体が正規化されたものではないので、BatchNormalization を取り外しています。"
   ]
  },
  {
   "cell_type": "code",
   "execution_count": 4,
   "metadata": {},
   "outputs": [],
   "source": [
    "# バイナリ時は BIT型を使えばメモリ削減可能\n",
    "bin_dtype = bb.DType.BIT if bin_mode else bb.DType.FP32\n",
    "#bin_dtype = bb.DType.FP32\n",
    "\n",
    "# define network\n",
    "net = bb.Sequential([\n",
    "        bb.RealToBinary(frame_modulation_size=frame_modulation_size, bin_dtype=bin_dtype),\n",
    "        \n",
    "        # Encoder\n",
    "        bb.Sequential([\n",
    "            bb.Convolution2d(\n",
    "                bb.Sequential([\n",
    "                    bb.DifferentiableLut([192], bin_dtype=bin_dtype),\n",
    "                    bb.DifferentiableLut([32],  bin_dtype=bin_dtype),\n",
    "                ]),\n",
    "                filter_size=(3, 3), padding=\"same\", fw_dtype=bin_dtype),\n",
    "\n",
    "            bb.Convolution2d(\n",
    "                bb.Sequential([\n",
    "                    bb.DifferentiableLut([192], bin_dtype=bin_dtype),\n",
    "                    bb.DifferentiableLut([32],  bin_dtype=bin_dtype),\n",
    "                ]),\n",
    "                filter_size=(3, 3), padding=\"same\", fw_dtype=bin_dtype),\n",
    "\n",
    "            bb.MaxPooling(filter_size=(2, 2), fw_dtype=bin_dtype),\n",
    "\n",
    "            bb.Convolution2d(\n",
    "                bb.Sequential([\n",
    "                    bb.DifferentiableLut([384], bin_dtype=bin_dtype),\n",
    "                    bb.DifferentiableLut([64],  bin_dtype=bin_dtype),\n",
    "                ]),\n",
    "                filter_size=(3, 3), padding=\"same\", fw_dtype=bin_dtype),\n",
    "\n",
    "            bb.Convolution2d(\n",
    "                bb.Sequential([\n",
    "                    bb.DifferentiableLut([384], bin_dtype=bin_dtype),\n",
    "                    bb.DifferentiableLut([64],  bin_dtype=bin_dtype),\n",
    "                ]),\n",
    "                filter_size=(3, 3), padding=\"same\", fw_dtype=bin_dtype),\n",
    "\n",
    "            bb.MaxPooling(filter_size=(2, 2), fw_dtype=bin_dtype),\n",
    "\n",
    "            bb.DifferentiableLut([1152], bin_dtype=bin_dtype),\n",
    "            bb.DifferentiableLut([192],  bin_dtype=bin_dtype),\n",
    "            bb.DifferentiableLut([32],   bin_dtype=bin_dtype),\n",
    "        ]),\n",
    "        \n",
    "        # Decoder\n",
    "        bb.Sequential([\n",
    "            bb.DifferentiableLut([125],      bin_dtype=bin_dtype),\n",
    "            bb.DifferentiableLut([1024],     bin_dtype=bin_dtype),\n",
    "            bb.DifferentiableLut([64, 7, 7], bin_dtype=bin_dtype),\n",
    "            \n",
    "            bb.UpSampling(filter_size=(2, 2), fw_dtype=bin_dtype),\n",
    "            \n",
    "            bb.Convolution2d(\n",
    "                bb.Sequential([\n",
    "                    bb.DifferentiableLut([384], bin_dtype=bin_dtype),\n",
    "                    bb.DifferentiableLut([64],  bin_dtype=bin_dtype),\n",
    "                ]),\n",
    "                filter_size=(3, 3), padding=\"same\", fw_dtype=bin_dtype),\n",
    "\n",
    "            bb.Convolution2d(\n",
    "                bb.Sequential([\n",
    "                    bb.DifferentiableLut([384], bin_dtype=bin_dtype),\n",
    "                    bb.DifferentiableLut([64],  bin_dtype=bin_dtype),\n",
    "                ]),\n",
    "                filter_size=(3, 3), padding=\"same\", fw_dtype=bin_dtype),\n",
    "\n",
    "            bb.UpSampling(filter_size=(2, 2), fw_dtype=bin_dtype),\n",
    "\n",
    "            bb.Convolution2d(\n",
    "                bb.Sequential([\n",
    "                    bb.DifferentiableLut([192], bin_dtype=bin_dtype),\n",
    "                    bb.DifferentiableLut([32],  bin_dtype=bin_dtype),\n",
    "                ]),\n",
    "                filter_size=(3, 3), padding=\"same\", fw_dtype=bin_dtype),\n",
    "\n",
    "            bb.Convolution2d(\n",
    "                bb.Sequential([\n",
    "                    bb.DifferentiableLut([216], bin_dtype=bin_dtype),\n",
    "                    bb.DifferentiableLut([36],  batch_norm=False, bin_dtype=bin_dtype),\n",
    "                    bb.DifferentiableLut([6],   batch_norm=False, bin_dtype=bin_dtype),\n",
    "                    bb.DifferentiableLut([1],   batch_norm=False, bin_dtype=bin_dtype),\n",
    "                ]),\n",
    "                filter_size=(3, 3), padding=\"same\", fw_dtype=bin_dtype),\n",
    "        ]),\n",
    "    \n",
    "        bb.BinaryToReal(frame_integration_size=frame_modulation_size, bin_dtype=bin_dtype),\n",
    "    ])\n",
    "\n",
    "net.set_input_shape([1, 28, 28])\n",
    "\n",
    "if bin_mode:\n",
    "    net.send_command(\"binary true\")\n",
    "else:\n",
    "    net.send_command(\"binary false\")\n",
    "\n",
    "loss      = bb.LossMeanSquaredError()\n",
    "metrics   = bb.MetricsMeanSquaredError()\n",
    "optimizer = bb.OptimizerAdam()\n",
    "\n",
    "optimizer.set_variables(net.get_parameters(), net.get_gradients())\n",
    "\n",
    "# print(net.get_info(3))"
   ]
  },
  {
   "cell_type": "markdown",
   "metadata": {},
   "source": [
    "## 学習の実施\n",
    "\n",
    "入力画像そのものを期待値として、損失関数には平均二乗誤差(MSE)を使います。"
   ]
  },
  {
   "cell_type": "code",
   "execution_count": 5,
   "metadata": {},
   "outputs": [
    {
     "data": {
      "application/vnd.jupyter.widget-view+json": {
       "model_id": "3e71b05429db4f78a6c9823a55de3d81",
       "version_major": 2,
       "version_minor": 0
      },
      "text/plain": [
       "HBox(children=(FloatProgress(value=0.0, max=1875.0), HTML(value='')))"
      ]
     },
     "metadata": {},
     "output_type": "display_data"
    },
    {
     "name": "stdout",
     "output_type": "stream",
     "text": [
      "\n"
     ]
    },
    {
     "ename": "KeyboardInterrupt",
     "evalue": "",
     "output_type": "error",
     "traceback": [
      "\u001b[1;31m---------------------------------------------------------------------------\u001b[0m",
      "\u001b[1;31mKeyboardInterrupt\u001b[0m                         Traceback (most recent call last)",
      "\u001b[1;32m<ipython-input-5-5497992e4b36>\u001b[0m in \u001b[0;36m<module>\u001b[1;34m\u001b[0m\n\u001b[0;32m     11\u001b[0m             \u001b[0my_buf\u001b[0m \u001b[1;33m=\u001b[0m \u001b[0mnet\u001b[0m\u001b[1;33m.\u001b[0m\u001b[0mforward\u001b[0m\u001b[1;33m(\u001b[0m\u001b[0mx_buf\u001b[0m\u001b[1;33m,\u001b[0m \u001b[0mtrain\u001b[0m\u001b[1;33m=\u001b[0m\u001b[1;32mTrue\u001b[0m\u001b[1;33m)\u001b[0m\u001b[1;33m\u001b[0m\u001b[1;33m\u001b[0m\u001b[0m\n\u001b[0;32m     12\u001b[0m             \u001b[0mdy_buf\u001b[0m \u001b[1;33m=\u001b[0m \u001b[0mloss\u001b[0m\u001b[1;33m.\u001b[0m\u001b[0mcalculate\u001b[0m\u001b[1;33m(\u001b[0m\u001b[0my_buf\u001b[0m\u001b[1;33m,\u001b[0m \u001b[0mx_buf\u001b[0m\u001b[1;33m)\u001b[0m\u001b[1;33m\u001b[0m\u001b[1;33m\u001b[0m\u001b[0m\n\u001b[1;32m---> 13\u001b[1;33m             \u001b[0mnet\u001b[0m\u001b[1;33m.\u001b[0m\u001b[0mbackward\u001b[0m\u001b[1;33m(\u001b[0m\u001b[0mdy_buf\u001b[0m\u001b[1;33m)\u001b[0m\u001b[1;33m\u001b[0m\u001b[1;33m\u001b[0m\u001b[0m\n\u001b[0m\u001b[0;32m     14\u001b[0m             \u001b[0moptimizer\u001b[0m\u001b[1;33m.\u001b[0m\u001b[0mupdate\u001b[0m\u001b[1;33m(\u001b[0m\u001b[1;33m)\u001b[0m\u001b[1;33m\u001b[0m\u001b[1;33m\u001b[0m\u001b[0m\n\u001b[0;32m     15\u001b[0m             \u001b[0mt\u001b[0m\u001b[1;33m.\u001b[0m\u001b[0mset_postfix\u001b[0m\u001b[1;33m(\u001b[0m\u001b[0mloss\u001b[0m\u001b[1;33m=\u001b[0m\u001b[0mloss\u001b[0m\u001b[1;33m.\u001b[0m\u001b[0mget\u001b[0m\u001b[1;33m(\u001b[0m\u001b[1;33m)\u001b[0m\u001b[1;33m)\u001b[0m\u001b[1;33m\u001b[0m\u001b[1;33m\u001b[0m\u001b[0m\n",
      "\u001b[1;32md:\\home\\ryuji\\git_work\\github\\binarybrain_ver4_develop\\python\\binarybrain\\models.py\u001b[0m in \u001b[0;36mbackward\u001b[1;34m(self, dy_buf)\u001b[0m\n\u001b[0;32m    428\u001b[0m     \u001b[1;32mdef\u001b[0m \u001b[0mbackward\u001b[0m\u001b[1;33m(\u001b[0m\u001b[0mself\u001b[0m\u001b[1;33m,\u001b[0m \u001b[0mdy_buf\u001b[0m\u001b[1;33m)\u001b[0m\u001b[1;33m:\u001b[0m\u001b[1;33m\u001b[0m\u001b[1;33m\u001b[0m\u001b[0m\n\u001b[0;32m    429\u001b[0m         \u001b[1;32mfor\u001b[0m \u001b[0mmodel\u001b[0m \u001b[1;32min\u001b[0m \u001b[0mreversed\u001b[0m\u001b[1;33m(\u001b[0m\u001b[0mself\u001b[0m\u001b[1;33m.\u001b[0m\u001b[0mmodel_list\u001b[0m\u001b[1;33m)\u001b[0m\u001b[1;33m:\u001b[0m\u001b[1;33m\u001b[0m\u001b[1;33m\u001b[0m\u001b[0m\n\u001b[1;32m--> 430\u001b[1;33m             \u001b[0mdy_buf\u001b[0m \u001b[1;33m=\u001b[0m \u001b[0mmodel\u001b[0m\u001b[1;33m.\u001b[0m\u001b[0mbackward\u001b[0m\u001b[1;33m(\u001b[0m\u001b[0mdy_buf\u001b[0m\u001b[1;33m)\u001b[0m\u001b[1;33m\u001b[0m\u001b[1;33m\u001b[0m\u001b[0m\n\u001b[0m\u001b[0;32m    431\u001b[0m         \u001b[1;32mreturn\u001b[0m \u001b[0mdy_buf\u001b[0m\u001b[1;33m\u001b[0m\u001b[1;33m\u001b[0m\u001b[0m\n\u001b[0;32m    432\u001b[0m \u001b[1;33m\u001b[0m\u001b[0m\n",
      "\u001b[1;32md:\\home\\ryuji\\git_work\\github\\binarybrain_ver4_develop\\python\\binarybrain\\models.py\u001b[0m in \u001b[0;36mbackward\u001b[1;34m(self, dy_buf)\u001b[0m\n\u001b[0;32m    428\u001b[0m     \u001b[1;32mdef\u001b[0m \u001b[0mbackward\u001b[0m\u001b[1;33m(\u001b[0m\u001b[0mself\u001b[0m\u001b[1;33m,\u001b[0m \u001b[0mdy_buf\u001b[0m\u001b[1;33m)\u001b[0m\u001b[1;33m:\u001b[0m\u001b[1;33m\u001b[0m\u001b[1;33m\u001b[0m\u001b[0m\n\u001b[0;32m    429\u001b[0m         \u001b[1;32mfor\u001b[0m \u001b[0mmodel\u001b[0m \u001b[1;32min\u001b[0m \u001b[0mreversed\u001b[0m\u001b[1;33m(\u001b[0m\u001b[0mself\u001b[0m\u001b[1;33m.\u001b[0m\u001b[0mmodel_list\u001b[0m\u001b[1;33m)\u001b[0m\u001b[1;33m:\u001b[0m\u001b[1;33m\u001b[0m\u001b[1;33m\u001b[0m\u001b[0m\n\u001b[1;32m--> 430\u001b[1;33m             \u001b[0mdy_buf\u001b[0m \u001b[1;33m=\u001b[0m \u001b[0mmodel\u001b[0m\u001b[1;33m.\u001b[0m\u001b[0mbackward\u001b[0m\u001b[1;33m(\u001b[0m\u001b[0mdy_buf\u001b[0m\u001b[1;33m)\u001b[0m\u001b[1;33m\u001b[0m\u001b[1;33m\u001b[0m\u001b[0m\n\u001b[0m\u001b[0;32m    431\u001b[0m         \u001b[1;32mreturn\u001b[0m \u001b[0mdy_buf\u001b[0m\u001b[1;33m\u001b[0m\u001b[1;33m\u001b[0m\u001b[0m\n\u001b[0;32m    432\u001b[0m \u001b[1;33m\u001b[0m\u001b[0m\n",
      "\u001b[1;32md:\\home\\ryuji\\git_work\\github\\binarybrain_ver4_develop\\python\\binarybrain\\models.py\u001b[0m in \u001b[0;36mbackward\u001b[1;34m(self, dy_buf)\u001b[0m\n\u001b[0;32m    428\u001b[0m     \u001b[1;32mdef\u001b[0m \u001b[0mbackward\u001b[0m\u001b[1;33m(\u001b[0m\u001b[0mself\u001b[0m\u001b[1;33m,\u001b[0m \u001b[0mdy_buf\u001b[0m\u001b[1;33m)\u001b[0m\u001b[1;33m:\u001b[0m\u001b[1;33m\u001b[0m\u001b[1;33m\u001b[0m\u001b[0m\n\u001b[0;32m    429\u001b[0m         \u001b[1;32mfor\u001b[0m \u001b[0mmodel\u001b[0m \u001b[1;32min\u001b[0m \u001b[0mreversed\u001b[0m\u001b[1;33m(\u001b[0m\u001b[0mself\u001b[0m\u001b[1;33m.\u001b[0m\u001b[0mmodel_list\u001b[0m\u001b[1;33m)\u001b[0m\u001b[1;33m:\u001b[0m\u001b[1;33m\u001b[0m\u001b[1;33m\u001b[0m\u001b[0m\n\u001b[1;32m--> 430\u001b[1;33m             \u001b[0mdy_buf\u001b[0m \u001b[1;33m=\u001b[0m \u001b[0mmodel\u001b[0m\u001b[1;33m.\u001b[0m\u001b[0mbackward\u001b[0m\u001b[1;33m(\u001b[0m\u001b[0mdy_buf\u001b[0m\u001b[1;33m)\u001b[0m\u001b[1;33m\u001b[0m\u001b[1;33m\u001b[0m\u001b[0m\n\u001b[0m\u001b[0;32m    431\u001b[0m         \u001b[1;32mreturn\u001b[0m \u001b[0mdy_buf\u001b[0m\u001b[1;33m\u001b[0m\u001b[1;33m\u001b[0m\u001b[0m\n\u001b[0;32m    432\u001b[0m \u001b[1;33m\u001b[0m\u001b[0m\n",
      "\u001b[1;32md:\\home\\ryuji\\git_work\\github\\binarybrain_ver4_develop\\python\\binarybrain\\models.py\u001b[0m in \u001b[0;36mbackward\u001b[1;34m(self, dy_buf)\u001b[0m\n\u001b[0;32m    428\u001b[0m     \u001b[1;32mdef\u001b[0m \u001b[0mbackward\u001b[0m\u001b[1;33m(\u001b[0m\u001b[0mself\u001b[0m\u001b[1;33m,\u001b[0m \u001b[0mdy_buf\u001b[0m\u001b[1;33m)\u001b[0m\u001b[1;33m:\u001b[0m\u001b[1;33m\u001b[0m\u001b[1;33m\u001b[0m\u001b[0m\n\u001b[0;32m    429\u001b[0m         \u001b[1;32mfor\u001b[0m \u001b[0mmodel\u001b[0m \u001b[1;32min\u001b[0m \u001b[0mreversed\u001b[0m\u001b[1;33m(\u001b[0m\u001b[0mself\u001b[0m\u001b[1;33m.\u001b[0m\u001b[0mmodel_list\u001b[0m\u001b[1;33m)\u001b[0m\u001b[1;33m:\u001b[0m\u001b[1;33m\u001b[0m\u001b[1;33m\u001b[0m\u001b[0m\n\u001b[1;32m--> 430\u001b[1;33m             \u001b[0mdy_buf\u001b[0m \u001b[1;33m=\u001b[0m \u001b[0mmodel\u001b[0m\u001b[1;33m.\u001b[0m\u001b[0mbackward\u001b[0m\u001b[1;33m(\u001b[0m\u001b[0mdy_buf\u001b[0m\u001b[1;33m)\u001b[0m\u001b[1;33m\u001b[0m\u001b[1;33m\u001b[0m\u001b[0m\n\u001b[0m\u001b[0;32m    431\u001b[0m         \u001b[1;32mreturn\u001b[0m \u001b[0mdy_buf\u001b[0m\u001b[1;33m\u001b[0m\u001b[1;33m\u001b[0m\u001b[0m\n\u001b[0;32m    432\u001b[0m \u001b[1;33m\u001b[0m\u001b[0m\n",
      "\u001b[1;32md:\\home\\ryuji\\git_work\\github\\binarybrain_ver4_develop\\python\\binarybrain\\models.py\u001b[0m in \u001b[0;36mbackward\u001b[1;34m(self, dy_buf)\u001b[0m\n\u001b[0;32m    287\u001b[0m         \u001b[0mcore_model\u001b[0m \u001b[1;33m=\u001b[0m \u001b[0mself\u001b[0m\u001b[1;33m.\u001b[0m\u001b[0mget_core\u001b[0m\u001b[1;33m(\u001b[0m\u001b[1;33m)\u001b[0m\u001b[1;33m\u001b[0m\u001b[1;33m\u001b[0m\u001b[0m\n\u001b[0;32m    288\u001b[0m         \u001b[1;32mif\u001b[0m \u001b[0mcore_model\u001b[0m \u001b[1;32mis\u001b[0m \u001b[1;32mnot\u001b[0m \u001b[1;32mNone\u001b[0m\u001b[1;33m:\u001b[0m\u001b[1;33m\u001b[0m\u001b[1;33m\u001b[0m\u001b[0m\n\u001b[1;32m--> 289\u001b[1;33m             \u001b[1;32mreturn\u001b[0m \u001b[0mbb\u001b[0m\u001b[1;33m.\u001b[0m\u001b[0mFrameBuffer\u001b[0m\u001b[1;33m.\u001b[0m\u001b[0mfrom_core\u001b[0m\u001b[1;33m(\u001b[0m\u001b[0mcore_model\u001b[0m\u001b[1;33m.\u001b[0m\u001b[0mbackward\u001b[0m\u001b[1;33m(\u001b[0m\u001b[0mdy_buf\u001b[0m\u001b[1;33m.\u001b[0m\u001b[0mget_core\u001b[0m\u001b[1;33m(\u001b[0m\u001b[1;33m)\u001b[0m\u001b[1;33m)\u001b[0m\u001b[1;33m)\u001b[0m\u001b[1;33m\u001b[0m\u001b[1;33m\u001b[0m\u001b[0m\n\u001b[0m\u001b[0;32m    290\u001b[0m         \u001b[1;32mreturn\u001b[0m \u001b[0mdy_buf\u001b[0m\u001b[1;33m\u001b[0m\u001b[1;33m\u001b[0m\u001b[0m\n\u001b[0;32m    291\u001b[0m \u001b[1;33m\u001b[0m\u001b[0m\n",
      "\u001b[1;32md:\\home\\ryuji\\git_work\\github\\binarybrain_ver4_develop\\python\\binarybrain\\frame_buffer.py\u001b[0m in \u001b[0;36mfrom_core\u001b[1;34m(core_buf)\u001b[0m\n\u001b[0;32m     36\u001b[0m         \u001b[0mself\u001b[0m\u001b[1;33m.\u001b[0m\u001b[0mcore_buf\u001b[0m \u001b[1;33m=\u001b[0m \u001b[0mcore\u001b[0m\u001b[1;33m.\u001b[0m\u001b[0mFrameBuffer\u001b[0m\u001b[1;33m(\u001b[0m\u001b[0mframe_size\u001b[0m\u001b[1;33m,\u001b[0m \u001b[0mshape\u001b[0m\u001b[1;33m,\u001b[0m \u001b[0mdtype\u001b[0m\u001b[1;33m.\u001b[0m\u001b[0mvalue\u001b[0m\u001b[1;33m,\u001b[0m \u001b[0mhost_only\u001b[0m\u001b[1;33m)\u001b[0m\u001b[1;33m\u001b[0m\u001b[1;33m\u001b[0m\u001b[0m\n\u001b[0;32m     37\u001b[0m \u001b[1;33m\u001b[0m\u001b[0m\n\u001b[1;32m---> 38\u001b[1;33m     \u001b[1;33m@\u001b[0m\u001b[0mstaticmethod\u001b[0m\u001b[1;33m\u001b[0m\u001b[1;33m\u001b[0m\u001b[0m\n\u001b[0m\u001b[0;32m     39\u001b[0m     \u001b[1;32mdef\u001b[0m \u001b[0mfrom_core\u001b[0m\u001b[1;33m(\u001b[0m\u001b[0mcore_buf\u001b[0m\u001b[1;33m)\u001b[0m\u001b[1;33m:\u001b[0m\u001b[1;33m\u001b[0m\u001b[1;33m\u001b[0m\u001b[0m\n\u001b[0;32m     40\u001b[0m         \u001b[0mnew_buf\u001b[0m \u001b[1;33m=\u001b[0m \u001b[0mFrameBuffer\u001b[0m\u001b[1;33m(\u001b[0m\u001b[1;33m)\u001b[0m\u001b[1;33m\u001b[0m\u001b[1;33m\u001b[0m\u001b[0m\n",
      "\u001b[1;31mKeyboardInterrupt\u001b[0m: "
     ]
    }
   ],
   "source": [
    "# bb.load_networks(data_path, net)\n",
    "\n",
    "# learning\n",
    "for epoch in range(epochs):\n",
    "    # learning\n",
    "    loss.clear()\n",
    "    metrics.clear()\n",
    "    with tqdm(loader_train) as t:\n",
    "        for images, labels in t:\n",
    "            x_buf = bb.FrameBuffer.from_numpy(np.array(images).astype(np.float32))\n",
    "            y_buf = net.forward(x_buf, train=True)\n",
    "            dy_buf = loss.calculate(y_buf, x_buf)\n",
    "            net.backward(dy_buf)\n",
    "            optimizer.update()\n",
    "            t.set_postfix(loss=loss.get())\n",
    "\n",
    "    # test\n",
    "    loss.clear()\n",
    "    metrics.clear()\n",
    "    for images, labels in loader_test:\n",
    "        x_buf = bb.FrameBuffer.from_numpy(np.array(images).astype(np.float32))\n",
    "        y_buf = net.forward(x_buf, train=False)\n",
    "        loss.calculate(y_buf, x_buf)\n",
    "        metrics.calculate(y_buf, x_buf)\n",
    "\n",
    "    print('epoch[%d] : loss(MSE)=%f' % (epoch, loss.get()))\n",
    "\n",
    "    bb.save_networks(data_path, net)"
   ]
  },
  {
   "cell_type": "markdown",
   "metadata": {},
   "source": [
    "## 結果を表示してみる\n",
    "\n",
    "入力画像(x)と、一度圧縮して縮小した画像(y)の２つを10個表示してみます。"
   ]
  },
  {
   "cell_type": "code",
   "execution_count": null,
   "metadata": {},
   "outputs": [],
   "source": [
    "# 最新の保存データ読み込み\n",
    "bb.load_networks(data_path, net)"
   ]
  },
  {
   "cell_type": "code",
   "execution_count": null,
   "metadata": {},
   "outputs": [],
   "source": [
    "for images, labels in loader_test:\n",
    "    x_buf = bb.FrameBuffer.from_numpy(np.array(images).astype(np.float32))\n",
    "    y_buf = net.forward(x_buf, train=False)\n",
    "    break"
   ]
  },
  {
   "cell_type": "code",
   "execution_count": null,
   "metadata": {},
   "outputs": [],
   "source": [
    "x = x_buf.numpy()\n",
    "y = y_buf.numpy()"
   ]
  },
  {
   "cell_type": "code",
   "execution_count": null,
   "metadata": {},
   "outputs": [],
   "source": [
    "plt.figure(figsize=(12,4))\n",
    "for i in range(10):\n",
    "    plt.subplot(2, 10, i+1)\n",
    "    plt.title('x[%d]'%i)\n",
    "    plt.imshow(x[i][0], 'gray')\n",
    "    plt.subplot(2, 10, i+11)\n",
    "    plt.title('y[%d]'%i)\n",
    "    plt.imshow(y[i][0], 'gray')\n",
    "plt.tight_layout()"
   ]
  }
 ],
 "metadata": {
  "kernelspec": {
   "display_name": "Python 3",
   "language": "python",
   "name": "python3"
  },
  "language_info": {
   "codemirror_mode": {
    "name": "ipython",
    "version": 3
   },
   "file_extension": ".py",
   "mimetype": "text/x-python",
   "name": "python",
   "nbconvert_exporter": "python",
   "pygments_lexer": "ipython3",
   "version": "3.7.4"
  }
 },
 "nbformat": 4,
 "nbformat_minor": 4
}
