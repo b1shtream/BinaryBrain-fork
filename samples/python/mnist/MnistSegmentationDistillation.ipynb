{
 "cells": [
  {
   "cell_type": "markdown",
   "metadata": {},
   "source": [
    "# MNISTでセグメンテーションに挑戦\n",
    "\n"
   ]
  },
  {
   "cell_type": "code",
   "execution_count": 1,
   "metadata": {},
   "outputs": [],
   "source": [
    "import os\n",
    "import shutil\n",
    "import numpy as np\n",
    "import matplotlib.pyplot as plt\n",
    "#from tqdm.notebook import tqdm\n",
    "from tqdm import tqdm\n",
    "\n",
    "import torch\n",
    "import torchvision\n",
    "import torchvision.transforms as transforms\n",
    "\n",
    "import binarybrain as bb"
   ]
  },
  {
   "cell_type": "markdown",
   "metadata": {},
   "source": [
    "## 初期設定"
   ]
  },
  {
   "cell_type": "code",
   "execution_count": 2,
   "metadata": {},
   "outputs": [],
   "source": [
    "# configuration\n",
    "bb.set_device(0)\n",
    "\n",
    "net_name              = 'MnistSegmentationDistillation'\n",
    "data_path             = os.path.join('./data/', net_name)\n",
    "rtl_sim_path          = '../../verilog/mnist'\n",
    "rtl_module_name       = 'MnistSegmentation'\n",
    "output_velilog_file   = os.path.join(data_path, net_name + '.v')\n",
    "sim_velilog_file      = os.path.join(rtl_sim_path, rtl_module_name + '.v')\n",
    "\n",
    "bin_mode              = True\n",
    "frame_modulation_size = 3\n",
    "epochs                = 0\n",
    "mini_batch_size       = 8"
   ]
  },
  {
   "cell_type": "markdown",
   "metadata": {},
   "source": [
    "## データセット準備\n",
    "\n",
    "データセットを自作する"
   ]
  },
  {
   "cell_type": "code",
   "execution_count": 3,
   "metadata": {},
   "outputs": [],
   "source": [
    "# dataset\n",
    "dataset_path = './data/'\n",
    "dataset_train = torchvision.datasets.MNIST(root=dataset_path, train=True, transform=transforms.ToTensor(), download=True)\n",
    "dataset_test  = torchvision.datasets.MNIST(root=dataset_path, train=False, transform=transforms.ToTensor(), download=True)\n",
    "\n",
    "rows=3\n",
    "cols=3\n",
    "\n",
    "# 面積の比率で重みを作っておく\n",
    "areas = np.zeros((11))\n",
    "for img, label in dataset_train:\n",
    "    img = img.numpy()\n",
    "    areas[label] += np.mean(img)\n",
    "    areas[10] += np.mean(1.0-img)\n",
    "areas /= len(dataset_train)\n",
    "\n",
    "wight = 1 / areas\n",
    "wight /= np.max(wight)\n",
    "\n",
    "def make_teacher_image(gen, rows, cols, margin=0):\n",
    "    source_img  = np.zeros((1, rows*28, cols*28), dtype=np.float32)\n",
    "    teaching_img = np.zeros((11, rows*28, cols*28), dtype=np.float32)\n",
    "    for row in range(rows):\n",
    "        for col in range(cols):\n",
    "            x = col*28\n",
    "            y = row*28\n",
    "            img, label = gen.__next__()\n",
    "            source_img[0,y:y+28,x:x+28] = img\n",
    "            teaching_img[label,y:y+28,x:x+28] = img\n",
    "            teaching_img[10,y:y+28,x:x+28] = (1.0-img)\n",
    "    msk1 = teaching_img > 0.5\n",
    "    msk0 = teaching_img <= 0.5\n",
    "    teaching_img[msk1] = 1.0\n",
    "    teaching_img[msk0] = 0.0\n",
    "    \n",
    "    teaching_img[10] *= 0.1\n",
    "    \n",
    "    return source_img, teaching_img[:,margin:-margin,margin:-margin]\n",
    "\n",
    "def transform_data(dataset, n, rows, cols, margin):\n",
    "    def data_gen():\n",
    "        l = len(dataset)\n",
    "        i = 0\n",
    "        while True:\n",
    "            yield dataset[i%l]\n",
    "            i += 1\n",
    "    \n",
    "    gen = data_gen()\n",
    "    source_imgs = []\n",
    "    teaching_imgs = []\n",
    "    for _ in range(n):\n",
    "        x, t = make_teacher_image(gen, rows, cols, margin)\n",
    "        source_imgs.append(x)\n",
    "        teaching_imgs.append(t)\n",
    "    return source_imgs, teaching_imgs\n",
    "\n",
    "class MyDatasets(torch.utils.data.Dataset):\n",
    "    def __init__(self, source_imgs, teaching_imgs, transforms=None):\n",
    "        self.transforms = transforms\n",
    "        self.source_imgs = source_imgs\n",
    "        self.teaching_imgs = teaching_imgs\n",
    "        \n",
    "    def __len__(self):\n",
    "        return len(self.source_imgs)\n",
    "\n",
    "    def __getitem__(self, index):\n",
    "        source_img = self.source_imgs[index]\n",
    "        teaching_img = self.teaching_imgs[index]\n",
    "        if self.transforms:\n",
    "            source_img, teaching_img = self.transforms(source_img, teaching_img)\n",
    "        return source_img, teaching_img\n",
    "\n",
    "\n",
    "source_imgs_train, teaching_imgs_train = transform_data(dataset_train, mini_batch_size*1000, rows, cols, 29)\n",
    "my_dataset_train = MyDatasets(source_imgs_train, teaching_imgs_train)\n",
    "\n",
    "source_imgs_test, teaching_imgs_test = transform_data(dataset_test, mini_batch_size*5, rows, cols, 29)\n",
    "my_dataset_test = MyDatasets(source_imgs_test, teaching_imgs_test)\n",
    "\n",
    "loader_train = torch.utils.data.DataLoader(dataset=my_dataset_train, batch_size=mini_batch_size, shuffle=True)\n",
    "loader_test = torch.utils.data.DataLoader(dataset=my_dataset_test, batch_size=mini_batch_size, shuffle=False)"
   ]
  },
  {
   "cell_type": "code",
   "execution_count": 4,
   "metadata": {},
   "outputs": [],
   "source": [
    "def plt_data(x, y):\n",
    "    plt.figure(figsize=(16,8))\n",
    "    plt.subplot(1,12,1)\n",
    "    plt.imshow(x[0], 'gray')\n",
    "    for i in range(11):\n",
    "        plt.subplot(1,12,2+i)\n",
    "        plt.imshow(y[i], 'gray')\n",
    "    plt.show()"
   ]
  },
  {
   "cell_type": "code",
   "execution_count": 5,
   "metadata": {},
   "outputs": [],
   "source": [
    "def view(net, loader):\n",
    "    num = 0;\n",
    "    for x_imgs, t_imgs in loader:\n",
    "        plt.figure(figsize=(16,8))\n",
    "        x_buf = bb.FrameBuffer.from_numpy(np.array(x_imgs).astype(np.float32))\n",
    "        t_buf = bb.FrameBuffer.from_numpy(np.array(t_imgs).astype(np.float32))\n",
    "        y_buf = net.forward(x_buf, train=False)\n",
    "        result_imgs = y_buf.numpy()\n",
    "        plt_data(x_imgs[0], result_imgs[0])\n",
    "        num += 1\n",
    "        if num >= 2: break"
   ]
  },
  {
   "cell_type": "code",
   "execution_count": 6,
   "metadata": {},
   "outputs": [
    {
     "name": "stdout",
     "output_type": "stream",
     "text": [
      "torch.Size([1, 84, 84])\n",
      "torch.Size([11, 26, 26])\n"
     ]
    },
    {
     "data": {
      "text/plain": [
       "<Figure size 1152x576 with 0 Axes>"
      ]
     },
     "metadata": {},
     "output_type": "display_data"
    },
    {
     "data": {
      "image/png": "[encoded data removed]",
      "text/plain": [
       "<Figure size 1152x576 with 12 Axes>"
      ]
     },
     "metadata": {
      "needs_background": "light"
     },
     "output_type": "display_data"
    },
    {
     "data": {
      "image/png": "[encoded data removed]",
      "text/plain": [
       "<Figure size 1152x576 with 12 Axes>"
      ]
     },
     "metadata": {
      "needs_background": "light"
     },
     "output_type": "display_data"
    },
    {
     "data": {
      "image/png": "[encoded data removed]",
      "text/plain": [
       "<Figure size 1152x576 with 12 Axes>"
      ]
     },
     "metadata": {
      "needs_background": "light"
     },
     "output_type": "display_data"
    },
    {
     "data": {
      "image/png": "[encoded data removed]",
      "text/plain": [
       "<Figure size 1152x576 with 12 Axes>"
      ]
     },
     "metadata": {
      "needs_background": "light"
     },
     "output_type": "display_data"
    },
    {
     "data": {
      "image/png": "[encoded data removed]",
      "text/plain": [
       "<Figure size 1152x576 with 12 Axes>"
      ]
     },
     "metadata": {
      "needs_background": "light"
     },
     "output_type": "display_data"
    }
   ],
   "source": [
    "plt.figure(figsize=(16,8))\n",
    "for source_imgs, teaching_imgs in loader_test:\n",
    "    print(source_imgs[0].shape)\n",
    "    print(teaching_imgs[0].shape)\n",
    "    for i in range(min(mini_batch_size, 5)):\n",
    "        plt_data(source_imgs[i], teaching_imgs[i])\n",
    "    break"
   ]
  },
  {
   "cell_type": "markdown",
   "metadata": {},
   "source": [
    "## ネットワーク構築"
   ]
  },
  {
   "cell_type": "code",
   "execution_count": 7,
   "metadata": {},
   "outputs": [],
   "source": [
    "# バイナリ時は BIT型を使えばメモリ削減可能\n",
    "bin_dtype = bb.DType.BIT if bin_mode else bb.DType.FP32\n",
    "\n",
    "class DistillationConv(bb.Switcher):\n",
    "    \"\"\"蒸留用Conv層クラス\n",
    "\n",
    "    Args:\n",
    "        output_ch (int): 出力チャネル数\n",
    "        hidden_ch (int): LUT-Net側の中間層チャネル数\n",
    "        bin_dtype (DType): バイナリの型を bb.DType.FP32 と bb.DType.BIT から指定\n",
    "    \"\"\"\n",
    "    \n",
    "    def __init__(self, hidden_ch, output_ch, stage, *, filter_size=(3,3), padding='valid', input_shape=None, bin_dtype=bb.DType.FP32):\n",
    "        name = 'DistillationConv_%d' % stage\n",
    "        # Dense\n",
    "        self.dense_conv = bb.Convolution2d(\n",
    "               bb.Sequential([\n",
    "                   bb.DenseAffine([output_ch], name='dense_affine_%d' % stage),\n",
    "                   bb.BatchNormalization(name='dense_bn_%d' % stage),\n",
    "                   bb.ReLU(name='dense_act_%d' % stage, bin_dtype=bin_dtype),\n",
    "               ]),\n",
    "               filter_size=filter_size,\n",
    "               padding=padding,\n",
    "               name='dense_conv_%d' % stage,\n",
    "               fw_dtype=bin_dtype)\n",
    "        \n",
    "        # LUT\n",
    "        self.lut_conv = bb.Sequential([\n",
    "                # pointwise\n",
    "                bb.Convolution2d(\n",
    "                   bb.Sequential([\n",
    "                       bb.DifferentiableLut([hidden_ch*6, 1, 1], connection='random', name='lut_conv0_lut0_%d' % stage, bin_dtype=bin_dtype),\n",
    "                       bb.DifferentiableLut([hidden_ch,   1, 1], connection='serial', name='lut_conv0_lut1_%d' % stage, bin_dtype=bin_dtype),\n",
    "                   ]),\n",
    "                   filter_size=(1, 1),\n",
    "                   name='lut_conv0_%d' % stage,\n",
    "                   fw_dtype=bin_dtype),\n",
    "            \n",
    "                # depthwise\n",
    "                bb.Convolution2d(\n",
    "                   bb.Sequential([\n",
    "                       bb.DifferentiableLut([hidden_ch, 1, 1], connection='depthwise', name='lut_conv1_hidden0_%d' % stage, bin_dtype=bin_dtype),\n",
    "                   ]),\n",
    "                   filter_size=filter_size,\n",
    "                   padding=padding,\n",
    "                   name='lut_conv1_%d' % stage,\n",
    "                   fw_dtype=bin_dtype),\n",
    "\n",
    "                # pointwise\n",
    "                bb.Convolution2d(\n",
    "                   bb.Sequential([\n",
    "                       bb.DifferentiableLut([output_ch*6, 1, 1], connection='random', name='lut_conv2_input0_%d' % stage, bin_dtype=bin_dtype),\n",
    "                       bb.DifferentiableLut([output_ch,   1, 1], connection='serial', name='lut_conv2_input1_%d' % stage, bin_dtype=bin_dtype),\n",
    "                   ]),\n",
    "                   filter_size=(1, 1),\n",
    "                   name='lut_conv2_%d' % stage,\n",
    "                   fw_dtype=bin_dtype),\n",
    "            ])\n",
    "                \n",
    "        model_dict = {}\n",
    "        model_dict['dense'] = self.dense_conv\n",
    "        model_dict['lut'] = self.lut_conv\n",
    "        \n",
    "        super(DistillationConv, self).__init__(model_dict=model_dict, init_model_name='dense', input_shape=input_shape, name=name)\n",
    "       \n",
    "     \n",
    "\n",
    "sub_net = bb.Sequential([])\n",
    "for i in range(27):\n",
    "    if i < 8:\n",
    "        sub_net.append(DistillationConv(36*2, 36, stage=i, bin_dtype=bin_dtype))\n",
    "    else:\n",
    "        sub_net.append(DistillationConv(72*2, 72, stage=i, bin_dtype=bin_dtype))\n",
    "\n",
    "\n",
    "sub_net.append(\n",
    "    bb.Switcher({'dense':\n",
    "                     bb.Convolution2d(\n",
    "                        bb.Sequential([\n",
    "                            bb.DenseAffine([512], name='dense_affine_fc0'),\n",
    "                            bb.BatchNormalization(name='dense_bn_fc0'),\n",
    "                            bb.ReLU(bin_dtype=bin_dtype, name='dense_act_fc0'),\n",
    "                            bb.DenseAffine([11], name='dense_affine_fc1'),\n",
    "                            bb.BatchNormalization(name='dense_bn_fc1'),\n",
    "                            bb.ReLU(bin_dtype=bin_dtype, name='dense_act_fc1'),\n",
    "                        ]),\n",
    "                        filter_size=(5, 5),\n",
    "                        name='dense_conv_fc',\n",
    "                        fw_dtype=bin_dtype),\n",
    "                 'lut':\n",
    "                     bb.Convolution2d(\n",
    "                        bb.Sequential([\n",
    "                            bb.DifferentiableLut([512*6],    connection='random', name='lut_fc_lut0_0', bin_dtype=bin_dtype),\n",
    "                            bb.DifferentiableLut([512],      connection='serial', name='lut_fc_lut0_1', bin_dtype=bin_dtype),\n",
    "                            bb.DifferentiableLut([11*6*6*6], connection='random', name='lut_fc_lut1_0', bin_dtype=bin_dtype),\n",
    "                            bb.DifferentiableLut([11*6*6],   connection='serial', name='lut_fc_lut1_1', bin_dtype=bin_dtype),\n",
    "                            bb.DifferentiableLut([11*6],     connection='serial', name='lut_fc_lut1_2', batch_norm=False, bin_dtype=bin_dtype),\n",
    "                            bb.DifferentiableLut([11],       connection='serial', name='lut_fc_lut1_3', batch_norm=False, bin_dtype=bin_dtype),\n",
    "                        ]),\n",
    "                    filter_size=(5, 5),\n",
    "                    name='lut_conv_fc',\n",
    "                    fw_dtype=bin_dtype)\n",
    "                },\n",
    "                init_model_name='dense'))\n",
    "\n",
    "# define network\n",
    "if bin_mode:\n",
    "    net = bb.Sequential([\n",
    "                bb.RealToBinary(frame_modulation_size=frame_modulation_size, bin_dtype=bin_dtype),\n",
    "                sub_net,\n",
    "                bb.BinaryToReal(frame_integration_size=frame_modulation_size, bin_dtype=bin_dtype)\n",
    "            ])\n",
    "else:\n",
    "    net = sub_net\n",
    "    \n",
    "net.set_input_shape([1, rows*28, cols*28])\n",
    "\n",
    "net.set_name(net_name)\n",
    "\n",
    "if bin_mode:\n",
    "    net.send_command(\"binary true\")"
   ]
  },
  {
   "cell_type": "markdown",
   "metadata": {},
   "source": [
    "## 学習実施\n",
    "\n",
    "学習を行います"
   ]
  },
  {
   "cell_type": "code",
   "execution_count": 8,
   "metadata": {},
   "outputs": [],
   "source": [
    "def learning(net, epochs=2):\n",
    "    # learning\n",
    "    loss      = bb.LossSoftmaxCrossEntropy()\n",
    "    metrics   = bb.MetricsCategoricalAccuracy()\n",
    "    optimizer = bb.OptimizerAdam()\n",
    "\n",
    "    optimizer.set_variables(net.get_parameters(), net.get_gradients())\n",
    "\n",
    "    for epoch in range(epochs):\n",
    "        # learning\n",
    "        loss.clear()\n",
    "        metrics.clear()\n",
    "        with tqdm(loader_train) as tqdm_loadr:\n",
    "            for x_imgs, t_imgs in tqdm_loadr:\n",
    "                x_buf = bb.FrameBuffer.from_numpy(np.array(x_imgs).astype(np.float32))\n",
    "                t_buf = bb.FrameBuffer.from_numpy(np.array(t_imgs).astype(np.float32))\n",
    "\n",
    "                y_buf = net.forward(x_buf, train=True)\n",
    "\n",
    "                dy_buf = loss.calculate(y_buf, t_buf)\n",
    "                metrics.calculate(y_buf, t_buf)\n",
    "\n",
    "                net.backward(dy_buf)\n",
    "\n",
    "                optimizer.update()\n",
    "\n",
    "                tqdm_loadr.set_postfix(loss=loss.get(), acc=metrics.get())\n",
    "\n",
    "        # test\n",
    "        loss.clear()\n",
    "        metrics.clear()\n",
    "        for x_imgs, t_imgs in loader_test:\n",
    "            x_buf = bb.FrameBuffer.from_numpy(np.array(x_imgs).astype(np.float32))\n",
    "            t_buf = bb.FrameBuffer.from_numpy(np.array(t_imgs).astype(np.float32))\n",
    "\n",
    "            y_buf = net.forward(x_buf, train=False)\n",
    "\n",
    "            loss.calculate(y_buf, t_buf)\n",
    "            metrics.calculate(y_buf, t_buf)\n",
    "\n",
    "        bb.save_networks(data_path, net)\n",
    "\n",
    "        print('epoch[%d] : loss=%f acc=%f' % (epoch, loss.get(), metrics.get()))"
   ]
  },
  {
   "cell_type": "code",
   "execution_count": null,
   "metadata": {},
   "outputs": [],
   "source": [
    "# DenseAffine で学習\n",
    "if not bb.load_networks(data_path, net, 'learn_dense'):\n",
    "    bb.load_networks(data_path, net)\n",
    "    net.send_command('switch_model dense')  # 全体を Denseモデルに切り替え\n",
    "    learning(net, 32)\n",
    "    bb.save_networks(data_path, net, 'learn_dense')\n",
    "    view(net, loader_test)    "
   ]
  },
  {
   "cell_type": "code",
   "execution_count": null,
   "metadata": {},
   "outputs": [],
   "source": [
    "# 下の層から順に蒸留\n",
    "for i in range(28):\n",
    "    if not bb.load_networks(data_path, net, 'distilation%d'%i):\n",
    "        print(\"----- layer %d -----\"%i)\n",
    "        net[1][i].send_command('switch_model lut')  # 1層だけLUTに切り替え\n",
    "        net.send_command('parameter_lock true')\n",
    "        net[1][i].send_command('parameter_lock false')\n",
    "        learning(epochs=2)\n",
    "        view(net, loader_test)\n",
    "        bb.save_networks(data_path, net, 'distilation%d'%i):\n",
    "\n",
    "bb.save_networks(data_path, net, 'final'):"
   ]
  },
  {
   "cell_type": "markdown",
   "metadata": {},
   "source": [
    "## RTL出力\n",
    "\n",
    "Verilog 変換を行います"
   ]
  },
  {
   "cell_type": "code",
   "execution_count": 10,
   "metadata": {},
   "outputs": [
    {
     "data": {
      "text/plain": [
       "True"
      ]
     },
     "execution_count": 10,
     "metadata": {},
     "output_type": "execute_result"
    }
   ],
   "source": [
    "bb.load_networks(data_path, net, 'final')"
   ]
  },
  {
   "cell_type": "code",
   "execution_count": 11,
   "metadata": {},
   "outputs": [
    {
     "data": {
      "text/plain": [
       "'../../verilog/mnist\\\\MnistSegmentation.v'"
      ]
     },
     "execution_count": 11,
     "metadata": {},
     "output_type": "execute_result"
    }
   ],
   "source": [
    "# export verilog\n",
    "with open(output_velilog_file, 'w') as f:\n",
    "    f.write('`timescale 1ns / 1ps\\n\\n')\n",
    "    bb.dump_verilog_lut_cnv_layers(f, rtl_module_name, net)\n",
    "\n",
    "# Simulation用ファイルに上書きコピー\n",
    "shutil.copyfile(output_velilog_file, sim_velilog_file)"
   ]
  },
  {
   "cell_type": "code",
   "execution_count": null,
   "metadata": {},
   "outputs": [],
   "source": []
  }
 ],
 "metadata": {
  "kernelspec": {
   "display_name": "Python 3",
   "language": "python",
   "name": "python3"
  },
  "language_info": {
   "codemirror_mode": {
    "name": "ipython",
    "version": 3
   },
   "file_extension": ".py",
   "mimetype": "text/x-python",
   "name": "python",
   "nbconvert_exporter": "python",
   "pygments_lexer": "ipython3",
   "version": "3.7.9"
  }
 },
 "nbformat": 4,
 "nbformat_minor": 4
}
