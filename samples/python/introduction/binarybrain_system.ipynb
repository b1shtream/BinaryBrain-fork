{
 "cells": [
  {
   "cell_type": "markdown",
   "metadata": {},
   "source": [
    "# BinaryBrain のシステム操作\n",
    "\n",
    "## 概要\n",
    "BinaryBrain のシステム操作についての説明です。"
   ]
  },
  {
   "cell_type": "code",
   "execution_count": 1,
   "metadata": {},
   "outputs": [],
   "source": [
    "import numpy as np\n",
    "\n",
    "import binarybrain as bb"
   ]
  },
  {
   "cell_type": "markdown",
   "metadata": {},
   "source": [
    "## バージョン番号取得"
   ]
  },
  {
   "cell_type": "code",
   "execution_count": 2,
   "metadata": {},
   "outputs": [
    {
     "data": {
      "text/plain": [
       "'4.2.4'"
      ]
     },
     "execution_count": 2,
     "metadata": {},
     "output_type": "execute_result"
    }
   ],
   "source": [
    "bb.get_version_string()"
   ]
  },
  {
   "cell_type": "markdown",
   "metadata": {},
   "source": [
    "## OpenMP 利用\n",
    "\n",
    "OpenMPで使用するスレッド数を制限できます。"
   ]
  },
  {
   "cell_type": "code",
   "execution_count": 3,
   "metadata": {},
   "outputs": [],
   "source": [
    "bb.omp_set_num_threads(4)"
   ]
  },
  {
   "cell_type": "markdown",
   "metadata": {},
   "source": [
    "## CUDA 利用\n",
    "\n",
    "CUDAを利用できる環境でビルドに成功していればGPUが利用可能です。"
   ]
  },
  {
   "cell_type": "markdown",
   "metadata": {},
   "source": [
    "### GPUの情報取得"
   ]
  },
  {
   "cell_type": "code",
   "execution_count": 4,
   "metadata": {},
   "outputs": [
    {
     "name": "stdout",
     "output_type": "stream",
     "text": [
      "True\n"
     ]
    }
   ],
   "source": [
    "# GPUが利用可能な状態か調べる\n",
    "print(bb.is_device_available())"
   ]
  },
  {
   "cell_type": "code",
   "execution_count": 5,
   "metadata": {},
   "outputs": [
    {
     "name": "stdout",
     "output_type": "stream",
     "text": [
      "11.8\n"
     ]
    }
   ],
   "source": [
    "# CUDAのバージョンを調べる\n",
    "print(bb.get_cuda_driver_version_string())"
   ]
  },
  {
   "cell_type": "code",
   "execution_count": 6,
   "metadata": {},
   "outputs": [
    {
     "name": "stdout",
     "output_type": "stream",
     "text": [
      "利用可能なGPUは 2 個\n"
     ]
    }
   ],
   "source": [
    "# 利用可能なGPUの個数\n",
    "device_count = bb.get_device_count()\n",
    "print('利用可能なGPUは %d 個' % device_count)"
   ]
  },
  {
   "cell_type": "code",
   "execution_count": 7,
   "metadata": {},
   "outputs": [
    {
     "name": "stdout",
     "output_type": "stream",
     "text": [
      "------------------------------------------\n",
      "GPU[0]\n",
      "\n",
      "name                     : NVIDIA GeForce GTX 1660 SUPER\n",
      "totalGlobalMem           : 6442123264\n",
      "sharedMemPerBlock        : 49152\n",
      "regsPerBlock             : 65536\n",
      "warpSize                 : 32\n",
      "memPitch                 : 2147483647\n",
      "maxThreadsPerBlock       : 1024\n",
      "maxThreadsDim[0]         : 1024\n",
      "maxThreadsDim[1]         : 1024\n",
      "maxThreadsDim[2]         : 64\n",
      "maxGridSize[0]           : 2147483647\n",
      "maxGridSize[1]           : 65535\n",
      "maxGridSize[2]           : 65535\n",
      "clockRate                : 1800000\n",
      "totalConstMem            : 65536\n",
      "major                    : 7\n",
      "minor                    : 5\n",
      "textureAlignment         : 512\n",
      "deviceOverlap            : 1\n",
      "multiProcessorCount      : 22\n",
      "kernelExecTimeoutEnabled : 1\n",
      "integrated               : 0\n",
      "canMapHostMemory         : 1\n",
      "computeMode              : 0\n",
      "\n",
      "------------------------------------------\n",
      "GPU[1]\n",
      "\n",
      "name                     : NVIDIA GeForce GT 1030\n",
      "totalGlobalMem           : 2147352576\n",
      "sharedMemPerBlock        : 49152\n",
      "regsPerBlock             : 65536\n",
      "warpSize                 : 32\n",
      "memPitch                 : 2147483647\n",
      "maxThreadsPerBlock       : 1024\n",
      "maxThreadsDim[0]         : 1024\n",
      "maxThreadsDim[1]         : 1024\n",
      "maxThreadsDim[2]         : 64\n",
      "maxGridSize[0]           : 2147483647\n",
      "maxGridSize[1]           : 65535\n",
      "maxGridSize[2]           : 65535\n",
      "clockRate                : 1468000\n",
      "totalConstMem            : 65536\n",
      "major                    : 6\n",
      "minor                    : 1\n",
      "textureAlignment         : 512\n",
      "deviceOverlap            : 1\n",
      "multiProcessorCount      : 3\n",
      "kernelExecTimeoutEnabled : 1\n",
      "integrated               : 0\n",
      "canMapHostMemory         : 1\n",
      "computeMode              : 0\n",
      "\n"
     ]
    }
   ],
   "source": [
    "# GPUの情報表示\n",
    "for i in range(device_count):\n",
    "    print('------------------------------------------')\n",
    "    print('GPU[%d]\\n'%i)\n",
    "    print(bb.get_device_properties_string(i))"
   ]
  },
  {
   "cell_type": "markdown",
   "metadata": {},
   "source": [
    "### GPUの選択\n",
    "set_device()で利用するGPUボードを切り替えできます"
   ]
  },
  {
   "cell_type": "code",
   "execution_count": 8,
   "metadata": {},
   "outputs": [],
   "source": [
    "# 利用するGPUの選択\n",
    "bb.set_device(0)"
   ]
  },
  {
   "cell_type": "markdown",
   "metadata": {},
   "source": [
    "### GPUを使用しない\n",
    "set_host_only() で GPU を利用せずにホストCPUでのみ計算するように指定することができます。"
   ]
  },
  {
   "cell_type": "code",
   "execution_count": 9,
   "metadata": {},
   "outputs": [
    {
     "name": "stdout",
     "output_type": "stream",
     "text": [
      "False\n"
     ]
    }
   ],
   "source": [
    "# GPUを使用しない場合\n",
    "bb.set_host_only(True)\n",
    "print(bb.is_device_available())"
   ]
  },
  {
   "cell_type": "code",
   "execution_count": 10,
   "metadata": {},
   "outputs": [
    {
     "name": "stdout",
     "output_type": "stream",
     "text": [
      "True\n"
     ]
    }
   ],
   "source": [
    "# GPUを使用する場合\n",
    "bb.set_host_only(False)\n",
    "print(bb.is_device_available())"
   ]
  },
  {
   "cell_type": "code",
   "execution_count": null,
   "metadata": {},
   "outputs": [],
   "source": []
  }
 ],
 "metadata": {
  "kernelspec": {
   "display_name": "Python 3",
   "language": "python",
   "name": "python3"
  },
  "language_info": {
   "codemirror_mode": {
    "name": "ipython",
    "version": 3
   },
   "file_extension": ".py",
   "mimetype": "text/x-python",
   "name": "python",
   "nbconvert_exporter": "python",
   "pygments_lexer": "ipython3",
   "version": "3.9.12"
  }
 },
 "nbformat": 4,
 "nbformat_minor": 4
}
