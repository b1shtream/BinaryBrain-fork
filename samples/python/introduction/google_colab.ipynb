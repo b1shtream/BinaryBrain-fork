{
 "cells": [
  {
   "cell_type": "markdown",
   "metadata": {
    "id": "L4dvQ0arJ1kq"
   },
   "source": [
    "# Google Colaboratory で使う方法"
   ]
  },
  {
   "cell_type": "markdown",
   "metadata": {
    "id": "p-pBgpWYJ1kt"
   },
   "source": [
    "## ランタイムでGPUを選択\n",
    "\n",
    "まず、「ランタイム」→ 「ランタイムのタイプを変更」のハードウェアアクセラレーターで「GPU」を選びます"
   ]
  },
  {
   "cell_type": "markdown",
   "metadata": {
    "id": "IaE-AXdWJ1ku"
   },
   "source": [
    "## BinaryBrain のインストール\n",
    "\n",
    "下記の実行でインストール可能<br>\n",
    "インストール後に、一度「ランタイム」→「ランタイムの再起動」を選んで再起動が必要"
   ]
  },
  {
   "cell_type": "code",
   "execution_count": 1,
   "metadata": {
    "id": "GznyLpHBJ1kw"
   },
   "outputs": [],
   "source": [
    "import sys\n",
    "\n",
    "try:\n",
    "  import binarybrain\n",
    "except ModuleNotFoundError:\n",
    "  !pip install pybind11\n",
    "  !git clone -b ver4_release  https://github.com/ryuz/BinaryBrain.git\n",
    "  %cd BinaryBrain\n",
    "  !python3 setup.py install --user\n",
    "  sys.exit()  # please reboot runtime"
   ]
  },
  {
   "cell_type": "markdown",
   "metadata": {
    "id": "8fisP-KxJ1kw"
   },
   "source": [
    "## インストール確認"
   ]
  },
  {
   "cell_type": "code",
   "execution_count": 3,
   "metadata": {
    "colab": {
     "base_uri": "https://localhost:8080/"
    },
    "id": "E-XfiMelJ1ky",
    "outputId": "a3bcf0a7-20e9-430b-ca92-88fc9137541b"
   },
   "outputs": [
    {
     "name": "stdout",
     "output_type": "stream",
     "text": [
      "BinaryBrain ver : 4.0.0\n",
      "GPU count : 1\n",
      "\n",
      "[GPU<0> Properties]\n",
      "name                     : Tesla T4\n",
      "totalGlobalMem           : 15812263936\n",
      "sharedMemPerBlock        : 49152\n",
      "regsPerBlock             : 65536\n",
      "warpSize                 : 32\n",
      "memPitch                 : 2147483647\n",
      "maxThreadsPerBlock       : 1024\n",
      "maxThreadsDim[0]         : 1024\n",
      "maxThreadsDim[1]         : 1024\n",
      "maxThreadsDim[2]         : 64\n",
      "maxGridSize[0]           : 2147483647\n",
      "maxGridSize[1]           : 65535\n",
      "maxGridSize[2]           : 65535\n",
      "clockRate                : 1590000\n",
      "totalConstMem            : 65536\n",
      "major                    : 7\n",
      "minor                    : 5\n",
      "textureAlignment         : 512\n",
      "deviceOverlap            : 1\n",
      "multiProcessorCount      : 40\n",
      "kernelExecTimeoutEnabled : 0\n",
      "integrated               : 0\n",
      "canMapHostMemory         : 1\n",
      "computeMode              : 0\n",
      "\n"
     ]
    }
   ],
   "source": [
    "# import\n",
    "import binarybrain as bb\n",
    "\n",
    "# バージョン表示\n",
    "bb_version = bb.get_version_string()\n",
    "print('BinaryBrain ver : %s'%bb_version)\n",
    "\n",
    "# 利用可能なGPUの個数\n",
    "device_count = bb.get_device_count()\n",
    "print('GPU count : %d\\n' % device_count)\n",
    "\n",
    "# GPU情報の表示\n",
    "for i in range(device_count):\n",
    "  print('[GPU<%d> Properties]'%i)\n",
    "  print(bb.get_device_properties_string(i))"
   ]
  },
  {
   "cell_type": "code",
   "execution_count": null,
   "metadata": {
    "id": "mXYgjPK7J1kz"
   },
   "outputs": [],
   "source": []
  }
 ],
 "metadata": {
  "accelerator": "GPU",
  "colab": {
   "collapsed_sections": [],
   "name": "google_colab.ipynb",
   "provenance": []
  },
  "kernelspec": {
   "display_name": "Python 3",
   "language": "python",
   "name": "python3"
  },
  "language_info": {
   "codemirror_mode": {
    "name": "ipython",
    "version": 3
   },
   "file_extension": ".py",
   "mimetype": "text/x-python",
   "name": "python",
   "nbconvert_exporter": "python",
   "pygments_lexer": "ipython3",
   "version": "3.7.4"
  }
 },
 "nbformat": 4,
 "nbformat_minor": 4
}
