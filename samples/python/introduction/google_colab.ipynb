{
 "cells": [
  {
   "cell_type": "markdown",
   "metadata": {
    "id": "L4dvQ0arJ1kq"
   },
   "source": [
    "# Google Colaboratory で使う方法"
   ]
  },
  {
   "cell_type": "markdown",
   "metadata": {
    "id": "p-pBgpWYJ1kt"
   },
   "source": [
    "## ランタイムでGPUを選択\n",
    "\n",
    "まず、「ランタイム」→ 「ランタイムのタイプを変更」のハードウェアアクセラレーターで「GPU」を選びます"
   ]
  },
  {
   "cell_type": "markdown",
   "metadata": {
    "id": "Db215AqQykL6"
   },
   "source": [
    "## BinaryBrain のインストールと Google Drive のマウント\r\n",
    "各種のサンプルで下記のような処理を追加すると、Googleドライブ上で作業が可能\r\n",
    "\r\n",
    "from google.colab import drive が通れば Google Colab と判定できるのでそのまま pip で  binarybrain をインストール後にドライブをマウントしている。"
   ]
  },
  {
   "cell_type": "code",
   "execution_count": 3,
   "metadata": {
    "id": "pIu3rdrfIMsq"
   },
   "outputs": [],
   "source": [
    "try:\r\n",
    "  import binarybrain as bb\r\n",
    "except ModuleNotFoundError:\r\n",
    "  from google.colab import drive\r\n",
    "  !pip install pybind11\r\n",
    "  !pip install binarybrain\r\n",
    "  import binarybrain as bb\r\n",
    "  import os\r\n",
    "  drive.mount('/content/drive')\r\n",
    "  work_directory = '/content/drive/My Drive/BinaryBrain'\r\n",
    "  os.makedirs(work_directory, exist_ok=True)\r\n",
    "  os.chdir(work_directory)"
   ]
  },
  {
   "cell_type": "markdown",
   "metadata": {
    "id": "8fisP-KxJ1kw"
   },
   "source": [
    "## インストール確認"
   ]
  },
  {
   "cell_type": "code",
   "execution_count": 2,
   "metadata": {
    "colab": {
     "base_uri": "https://localhost:8080/"
    },
    "id": "E-XfiMelJ1ky",
    "outputId": "f56175cb-1f90-4290-8382-ec984381c7a2"
   },
   "outputs": [
    {
     "name": "stdout",
     "output_type": "stream",
     "text": [
      "BinaryBrain ver : 4.1.0\n",
      "GPU count : 1\n",
      "\n",
      "[GPU<0> Properties]\n",
      "name                     : Tesla T4\n",
      "totalGlobalMem           : 15812263936\n",
      "sharedMemPerBlock        : 49152\n",
      "regsPerBlock             : 65536\n",
      "warpSize                 : 32\n",
      "memPitch                 : 2147483647\n",
      "maxThreadsPerBlock       : 1024\n",
      "maxThreadsDim[0]         : 1024\n",
      "maxThreadsDim[1]         : 1024\n",
      "maxThreadsDim[2]         : 64\n",
      "maxGridSize[0]           : 2147483647\n",
      "maxGridSize[1]           : 65535\n",
      "maxGridSize[2]           : 65535\n",
      "clockRate                : 1590000\n",
      "totalConstMem            : 65536\n",
      "major                    : 7\n",
      "minor                    : 5\n",
      "textureAlignment         : 512\n",
      "deviceOverlap            : 1\n",
      "multiProcessorCount      : 40\n",
      "kernelExecTimeoutEnabled : 0\n",
      "integrated               : 0\n",
      "canMapHostMemory         : 1\n",
      "computeMode              : 0\n",
      "\n"
     ]
    }
   ],
   "source": [
    "# import\n",
    "import binarybrain as bb\n",
    "\n",
    "# バージョン表示\n",
    "bb_version = bb.get_version_string()\n",
    "print('BinaryBrain ver : %s'%bb_version)\n",
    "\n",
    "# 利用可能なGPUの個数\n",
    "device_count = bb.get_device_count()\n",
    "print('GPU count : %d\\n' % device_count)\n",
    "\n",
    "# GPU情報の表示\n",
    "for i in range(device_count):\n",
    "  print('[GPU<%d> Properties]'%i)\n",
    "  print(bb.get_device_properties_string(i))"
   ]
  }
 ],
 "metadata": {
  "accelerator": "GPU",
  "colab": {
   "collapsed_sections": [],
   "name": "google_colab.ipynb",
   "provenance": []
  },
  "kernelspec": {
   "display_name": "Python 3",
   "language": "python",
   "name": "python3"
  },
  "language_info": {
   "codemirror_mode": {
    "name": "ipython",
    "version": 3
   },
   "file_extension": ".py",
   "mimetype": "text/x-python",
   "name": "python",
   "nbconvert_exporter": "python",
   "pygments_lexer": "ipython3",
   "version": "3.7.9"
  }
 },
 "nbformat": 4,
 "nbformat_minor": 4
}
